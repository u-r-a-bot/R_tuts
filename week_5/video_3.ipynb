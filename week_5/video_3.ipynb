{
 "cells": [
  {
   "cell_type": "markdown",
   "metadata": {},
   "source": [
    "## Setting Up"
   ]
  },
  {
   "cell_type": "code",
   "execution_count": 1,
   "metadata": {
    "vscode": {
     "languageId": "r"
    }
   },
   "outputs": [
    {
     "data": {
      "text/html": [
       "'C:/Users/death-star/Documents/R programs'"
      ],
      "text/latex": [
       "'C:/Users/death-star/Documents/R programs'"
      ],
      "text/markdown": [
       "'C:/Users/death-star/Documents/R programs'"
      ],
      "text/plain": [
       "[1] \"C:/Users/death-star/Documents/R programs\""
      ]
     },
     "metadata": {},
     "output_type": "display_data"
    }
   ],
   "source": [
    "home_dir = normalizePath(\"~\")\n",
    "relative_path = file.path(\"R programs\")\n",
    "full_path = file.path(home_dir, relative_path)\n",
    "setwd(full_path)\n",
    "getwd()"
   ]
  },
  {
   "cell_type": "markdown",
   "metadata": {},
   "source": [
    "## Sentiment problem\n",
    "### High sentiment referes to bullish mindset of Investors\n",
    "\n",
    "\n",
    "* Data visualizaton\n",
    "* Training the model\n",
    "* Testing the model \n",
    "* Evaluate out-of-sample performance model\n",
    "\n",
    "**ABC** case study problem"
   ]
  },
  {
   "cell_type": "code",
   "execution_count": 2,
   "metadata": {
    "vscode": {
     "languageId": "r"
    }
   },
   "outputs": [
    {
     "name": "stderr",
     "output_type": "stream",
     "text": [
      "Loading required package: carData\n",
      "\n",
      "Loading required package: zoo\n",
      "\n",
      "\n",
      "Attaching package: 'zoo'\n",
      "\n",
      "\n",
      "The following objects are masked from 'package:base':\n",
      "\n",
      "    as.Date, as.Date.numeric\n",
      "\n",
      "\n",
      "\n",
      "Attaching package: 'lubridate'\n",
      "\n",
      "\n",
      "The following objects are masked from 'package:base':\n",
      "\n",
      "    date, intersect, setdiff, union\n",
      "\n",
      "\n"
     ]
    }
   ],
   "source": [
    "library(car)\n",
    "library(lmtest)\n",
    "library(readxl)\n",
    "library(sandwich)\n",
    "library(moments)\n",
    "library(lubridate)"
   ]
  },
  {
   "cell_type": "code",
   "execution_count": 3,
   "metadata": {
    "vscode": {
     "languageId": "r"
    }
   },
   "outputs": [
    {
     "data": {
      "text/html": [
       "<table class=\"dataframe\">\n",
       "<caption>A tibble: 6 × 7</caption>\n",
       "<thead>\n",
       "\t<tr><th scope=col>Date</th><th scope=col>Price</th><th scope=col>ABC</th><th scope=col>Sensex</th><th scope=col>DividendAnnounced</th><th scope=col>Sentiment</th><th scope=col>Nifty</th></tr>\n",
       "\t<tr><th scope=col>&lt;dttm&gt;</th><th scope=col>&lt;dbl&gt;</th><th scope=col>&lt;dbl&gt;</th><th scope=col>&lt;dbl&gt;</th><th scope=col>&lt;dbl&gt;</th><th scope=col>&lt;dbl&gt;</th><th scope=col>&lt;dbl&gt;</th></tr>\n",
       "</thead>\n",
       "<tbody>\n",
       "\t<tr><td>2000-01-03</td><td>718.15</td><td> 0.07992481</td><td> 0.073772129</td><td>0</td><td> 0.04893645</td><td> 0.095816410</td></tr>\n",
       "\t<tr><td>2000-01-04</td><td>712.90</td><td>-0.00731045</td><td> 0.021562349</td><td>0</td><td>-0.05503706</td><td> 0.009706008</td></tr>\n",
       "\t<tr><td>2000-01-05</td><td>730.00</td><td> 0.02398653</td><td>-0.024405346</td><td>0</td><td> 0.01913459</td><td>-0.032213609</td></tr>\n",
       "\t<tr><td>2000-01-06</td><td>788.35</td><td> 0.07993151</td><td> 0.012045921</td><td>0</td><td> 0.08035507</td><td> 0.011204936</td></tr>\n",
       "\t<tr><td>2000-01-07</td><td>851.40</td><td> 0.07997717</td><td>-0.001300371</td><td>0</td><td> 0.09403754</td><td>-0.000397248</td></tr>\n",
       "\t<tr><td>2000-01-10</td><td>919.50</td><td> 0.07998591</td><td> 0.019191132</td><td>1</td><td> 0.01522908</td><td> 0.030167565</td></tr>\n",
       "</tbody>\n",
       "</table>\n"
      ],
      "text/latex": [
       "A tibble: 6 × 7\n",
       "\\begin{tabular}{lllllll}\n",
       " Date & Price & ABC & Sensex & DividendAnnounced & Sentiment & Nifty\\\\\n",
       " <dttm> & <dbl> & <dbl> & <dbl> & <dbl> & <dbl> & <dbl>\\\\\n",
       "\\hline\n",
       "\t 2000-01-03 & 718.15 &  0.07992481 &  0.073772129 & 0 &  0.04893645 &  0.095816410\\\\\n",
       "\t 2000-01-04 & 712.90 & -0.00731045 &  0.021562349 & 0 & -0.05503706 &  0.009706008\\\\\n",
       "\t 2000-01-05 & 730.00 &  0.02398653 & -0.024405346 & 0 &  0.01913459 & -0.032213609\\\\\n",
       "\t 2000-01-06 & 788.35 &  0.07993151 &  0.012045921 & 0 &  0.08035507 &  0.011204936\\\\\n",
       "\t 2000-01-07 & 851.40 &  0.07997717 & -0.001300371 & 0 &  0.09403754 & -0.000397248\\\\\n",
       "\t 2000-01-10 & 919.50 &  0.07998591 &  0.019191132 & 1 &  0.01522908 &  0.030167565\\\\\n",
       "\\end{tabular}\n"
      ],
      "text/markdown": [
       "\n",
       "A tibble: 6 × 7\n",
       "\n",
       "| Date &lt;dttm&gt; | Price &lt;dbl&gt; | ABC &lt;dbl&gt; | Sensex &lt;dbl&gt; | DividendAnnounced &lt;dbl&gt; | Sentiment &lt;dbl&gt; | Nifty &lt;dbl&gt; |\n",
       "|---|---|---|---|---|---|---|\n",
       "| 2000-01-03 | 718.15 |  0.07992481 |  0.073772129 | 0 |  0.04893645 |  0.095816410 |\n",
       "| 2000-01-04 | 712.90 | -0.00731045 |  0.021562349 | 0 | -0.05503706 |  0.009706008 |\n",
       "| 2000-01-05 | 730.00 |  0.02398653 | -0.024405346 | 0 |  0.01913459 | -0.032213609 |\n",
       "| 2000-01-06 | 788.35 |  0.07993151 |  0.012045921 | 0 |  0.08035507 |  0.011204936 |\n",
       "| 2000-01-07 | 851.40 |  0.07997717 | -0.001300371 | 0 |  0.09403754 | -0.000397248 |\n",
       "| 2000-01-10 | 919.50 |  0.07998591 |  0.019191132 | 1 |  0.01522908 |  0.030167565 |\n",
       "\n"
      ],
      "text/plain": [
       "  Date       Price  ABC         Sensex       DividendAnnounced Sentiment  \n",
       "1 2000-01-03 718.15  0.07992481  0.073772129 0                  0.04893645\n",
       "2 2000-01-04 712.90 -0.00731045  0.021562349 0                 -0.05503706\n",
       "3 2000-01-05 730.00  0.02398653 -0.024405346 0                  0.01913459\n",
       "4 2000-01-06 788.35  0.07993151  0.012045921 0                  0.08035507\n",
       "5 2000-01-07 851.40  0.07997717 -0.001300371 0                  0.09403754\n",
       "6 2000-01-10 919.50  0.07998591  0.019191132 1                  0.01522908\n",
       "  Nifty       \n",
       "1  0.095816410\n",
       "2  0.009706008\n",
       "3 -0.032213609\n",
       "4  0.011204936\n",
       "5 -0.000397248\n",
       "6  0.030167565"
      ]
     },
     "metadata": {},
     "output_type": "display_data"
    },
    {
     "data": {
      "text/html": [
       "<style>\n",
       ".list-inline {list-style: none; margin:0; padding: 0}\n",
       ".list-inline>li {display: inline-block}\n",
       ".list-inline>li:not(:last-child)::after {content: \"\\00b7\"; padding: 0 .5ex}\n",
       "</style>\n",
       "<ol class=list-inline><li>5153</li><li>7</li></ol>\n"
      ],
      "text/latex": [
       "\\begin{enumerate*}\n",
       "\\item 5153\n",
       "\\item 7\n",
       "\\end{enumerate*}\n"
      ],
      "text/markdown": [
       "1. 5153\n",
       "2. 7\n",
       "\n",
       "\n"
      ],
      "text/plain": [
       "[1] 5153    7"
      ]
     },
     "metadata": {},
     "output_type": "display_data"
    }
   ],
   "source": [
    "Data = read_excel('week_5/ABC.xlsx')\n",
    "head(Data)\n",
    "dim(Data)\n"
   ]
  },
  {
   "cell_type": "code",
   "execution_count": 4,
   "metadata": {
    "vscode": {
     "languageId": "r"
    }
   },
   "outputs": [
    {
     "data": {
      "text/html": [
       "<style>\n",
       ".list-inline {list-style: none; margin:0; padding: 0}\n",
       ".list-inline>li {display: inline-block}\n",
       ".list-inline>li:not(:last-child)::after {content: \"\\00b7\"; padding: 0 .5ex}\n",
       "</style>\n",
       "<ol class=list-inline><li>'POSIXct'</li><li>'POSIXt'</li></ol>\n"
      ],
      "text/latex": [
       "\\begin{enumerate*}\n",
       "\\item 'POSIXct'\n",
       "\\item 'POSIXt'\n",
       "\\end{enumerate*}\n"
      ],
      "text/markdown": [
       "1. 'POSIXct'\n",
       "2. 'POSIXt'\n",
       "\n",
       "\n"
      ],
      "text/plain": [
       "[1] \"POSIXct\" \"POSIXt\" "
      ]
     },
     "metadata": {},
     "output_type": "display_data"
    }
   ],
   "source": [
    "class(Data$Date)"
   ]
  },
  {
   "cell_type": "markdown",
   "metadata": {},
   "source": [
    "Converting this POSIX to normal date variable"
   ]
  },
  {
   "cell_type": "code",
   "execution_count": 5,
   "metadata": {
    "vscode": {
     "languageId": "r"
    }
   },
   "outputs": [
    {
     "data": {
      "text/html": [
       "'Date'"
      ],
      "text/latex": [
       "'Date'"
      ],
      "text/markdown": [
       "'Date'"
      ],
      "text/plain": [
       "[1] \"Date\""
      ]
     },
     "metadata": {},
     "output_type": "display_data"
    }
   ],
   "source": [
    "Data$Date = as.Date(Data$Date)\n",
    "class(Data$Date)"
   ]
  },
  {
   "cell_type": "code",
   "execution_count": 6,
   "metadata": {
    "vscode": {
     "languageId": "r"
    }
   },
   "outputs": [
    {
     "data": {
      "image/png": "[encoded data removed]",
      "text/plain": [
       "Plot with title \"ABC Returns\""
      ]
     },
     "metadata": {
      "image/png": {
       "height": 420,
       "width": 420
      }
     },
     "output_type": "display_data"
    }
   ],
   "source": [
    "plot(Data$Date, Data$ABC , xlab=\"Data\", ylab = \"\", main = \"ABC Returns\", type = 'l')"
   ]
  },
  {
   "cell_type": "code",
   "execution_count": 7,
   "metadata": {
    "vscode": {
     "languageId": "r"
    }
   },
   "outputs": [
    {
     "data": {
      "image/png": "[encoded data removed]",
      "text/plain": [
       "Plot with title \"Cumulative returns Returns\""
      ]
     },
     "metadata": {
      "image/png": {
       "height": 420,
       "width": 420
      }
     },
     "output_type": "display_data"
    }
   ],
   "source": [
    "Data$CUM_Ret = Data$Price / Data$Price[1]-1\n",
    "plot(Data$Date, Data$CUM_Ret , xlab=\"Data\", ylab = \"\", main = \"Cumulative returns Returns\", type = 'l')"
   ]
  },
  {
   "cell_type": "code",
   "execution_count": 8,
   "metadata": {
    "vscode": {
     "languageId": "r"
    }
   },
   "outputs": [
    {
     "data": {
      "image/png": "[encoded data removed]",
      "text/plain": [
       "Plot with title \"Cumulative returns Returns\""
      ]
     },
     "metadata": {
      "image/png": {
       "height": 420,
       "width": 420
      }
     },
     "output_type": "display_data"
    }
   ],
   "source": [
    "# Market or Nifty returns\n",
    "plot(Data$Date, Data$Nifty , xlab=\"Data\", ylab = \"\", main = \"Cumulative returns Returns\", type = 'l')"
   ]
  },
  {
   "cell_type": "code",
   "execution_count": 9,
   "metadata": {
    "vscode": {
     "languageId": "r"
    }
   },
   "outputs": [
    {
     "data": {
      "image/png": "[encoded data removed]",
      "text/plain": [
       "Plot with title \"Cumulative returns Returns\""
      ]
     },
     "metadata": {
      "image/png": {
       "height": 420,
       "width": 420
      }
     },
     "output_type": "display_data"
    }
   ],
   "source": [
    "#Cumulative market returns\n",
    "Data$Cum_Ret_Nifty = cumsum(Data$Nifty)\n",
    "plot(Data$Date, Data$Cum_Ret_Nifty , xlab=\"Data\", ylab = \"\", main = \"Cumulative returns Returns\", type = 'l')"
   ]
  },
  {
   "cell_type": "markdown",
   "metadata": {},
   "source": [
    "### Basic Properties of data"
   ]
  },
  {
   "cell_type": "code",
   "execution_count": 10,
   "metadata": {
    "vscode": {
     "languageId": "r"
    }
   },
   "outputs": [
    {
     "data": {
      "text/plain": [
       "      Min.    1st Qu.     Median       Mean    3rd Qu.       Max. \n",
       "-0.9273627 -0.0090724  0.0001761  0.0003167  0.0100360  0.1108470 "
      ]
     },
     "metadata": {},
     "output_type": "display_data"
    }
   ],
   "source": [
    "summary(Data$ABC)"
   ]
  },
  {
   "cell_type": "code",
   "execution_count": 11,
   "metadata": {
    "vscode": {
     "languageId": "r"
    }
   },
   "outputs": [
    {
     "data": {
      "text/plain": [
       "      Min.    1st Qu.     Median       Mean    3rd Qu.       Max. \n",
       "-0.1458446 -0.0096267  0.0005979  0.0004322  0.0107338  0.1597033 "
      ]
     },
     "metadata": {},
     "output_type": "display_data"
    }
   ],
   "source": [
    "summary(Data$Nifty)"
   ]
  },
  {
   "cell_type": "code",
   "execution_count": 12,
   "metadata": {
    "vscode": {
     "languageId": "r"
    }
   },
   "outputs": [
    {
     "data": {
      "image/png": "[encoded data removed]",
      "text/plain": [
       "Plot with title \"Density-Graph\""
      ]
     },
     "metadata": {
      "image/png": {
       "height": 420,
       "width": 420
      }
     },
     "output_type": "display_data"
    }
   ],
   "source": [
    "plot(density(Data$ABC), main= \"Density-Graph\", xlab = \"Data\", col = 'red', lwd = 2, lty =1, xlim =c(-0.6,0.6))\n",
    "lines(density(Data$Nifty), col =\"blue\", lwd = 2)\n",
    "legend(\"topleft\",c(\"ABC\", \"NIFTY\"), fill = c(\"red\",\"blue\"))\n",
    "## ABS returns are skewed towards the left as we can see in the figure meanwhile NIFTY returns are Normal"
   ]
  },
  {
   "cell_type": "markdown",
   "metadata": {},
   "source": [
    "### Normality and Stationerity of the data\n",
    "\n",
    "Stationerity Refers to change of mean/ variance of the data w.r.t time"
   ]
  },
  {
   "cell_type": "code",
   "execution_count": 13,
   "metadata": {
    "vscode": {
     "languageId": "r"
    }
   },
   "outputs": [
    {
     "data": {
      "text/html": [
       "-11.9966899716744"
      ],
      "text/latex": [
       "-11.9966899716744"
      ],
      "text/markdown": [
       "-11.9966899716744"
      ],
      "text/plain": [
       "[1] -11.99669"
      ]
     },
     "metadata": {},
     "output_type": "display_data"
    },
    {
     "data": {
      "text/html": [
       "-0.177594537128568"
      ],
      "text/latex": [
       "-0.177594537128568"
      ],
      "text/markdown": [
       "-0.177594537128568"
      ],
      "text/plain": [
       "[1] -0.1775945"
      ]
     },
     "metadata": {},
     "output_type": "display_data"
    }
   ],
   "source": [
    "skewness(Data$ABC)\n",
    "skewness(Data$Nifty)"
   ]
  },
  {
   "cell_type": "code",
   "execution_count": 14,
   "metadata": {
    "vscode": {
     "languageId": "r"
    }
   },
   "outputs": [
    {
     "data": {
      "text/plain": [
       "\n",
       "\tD'Agostino skewness test\n",
       "\n",
       "data:  Data$ABC\n",
       "skew = -11.997, z = -81.159, p-value < 2.2e-16\n",
       "alternative hypothesis: data have a skewness\n"
      ]
     },
     "metadata": {},
     "output_type": "display_data"
    },
    {
     "data": {
      "text/plain": [
       "\n",
       "\tD'Agostino skewness test\n",
       "\n",
       "data:  Data$Nifty\n",
       "skew = -0.17759, z = -5.17203, p-value = 2.316e-07\n",
       "alternative hypothesis: data have a skewness\n"
      ]
     },
     "metadata": {},
     "output_type": "display_data"
    }
   ],
   "source": [
    "agostino.test(Data$ABC)\n",
    "agostino.test(Data$Nifty)"
   ]
  },
  {
   "cell_type": "code",
   "execution_count": 15,
   "metadata": {
    "vscode": {
     "languageId": "r"
    }
   },
   "outputs": [
    {
     "data": {
      "text/html": [
       "415.194530996606"
      ],
      "text/latex": [
       "415.194530996606"
      ],
      "text/markdown": [
       "415.194530996606"
      ],
      "text/plain": [
       "[1] 415.1945"
      ]
     },
     "metadata": {},
     "output_type": "display_data"
    },
    {
     "data": {
      "text/html": [
       "7.31955072939815"
      ],
      "text/latex": [
       "7.31955072939815"
      ],
      "text/markdown": [
       "7.31955072939815"
      ],
      "text/plain": [
       "[1] 7.319551"
      ]
     },
     "metadata": {},
     "output_type": "display_data"
    }
   ],
   "source": [
    "kurtosis(Data$ABC)\n",
    "kurtosis(Data$Nifty)"
   ]
  },
  {
   "cell_type": "code",
   "execution_count": 16,
   "metadata": {
    "vscode": {
     "languageId": "r"
    }
   },
   "outputs": [
    {
     "data": {
      "text/plain": [
       "\n",
       "\tAnscombe-Glynn kurtosis test\n",
       "\n",
       "data:  Data$ABC\n",
       "kurt = 415.195, z = 50.333, p-value < 2.2e-16\n",
       "alternative hypothesis: kurtosis is not equal to 3\n"
      ]
     },
     "metadata": {},
     "output_type": "display_data"
    },
    {
     "data": {
      "text/plain": [
       "\n",
       "\tAnscombe-Glynn kurtosis test\n",
       "\n",
       "data:  Data$Nifty\n",
       "kurt = 7.3196, z = 22.5579, p-value < 2.2e-16\n",
       "alternative hypothesis: kurtosis is not equal to 3\n"
      ]
     },
     "metadata": {},
     "output_type": "display_data"
    }
   ],
   "source": [
    "anscombe.test(Data$ABC)\n",
    "anscombe.test(Data$Nifty)"
   ]
  },
  {
   "cell_type": "code",
   "execution_count": 17,
   "metadata": {
    "vscode": {
     "languageId": "r"
    }
   },
   "outputs": [
    {
     "data": {
      "text/plain": [
       "\n",
       "\tJarque-Bera Normality Test\n",
       "\n",
       "data:  Data$ABC\n",
       "JB = 36603480, p-value < 2.2e-16\n",
       "alternative hypothesis: greater\n"
      ]
     },
     "metadata": {},
     "output_type": "display_data"
    },
    {
     "data": {
      "text/plain": [
       "\n",
       "\tJarque-Bera Normality Test\n",
       "\n",
       "data:  Data$Nifty\n",
       "JB = 4033.2, p-value < 2.2e-16\n",
       "alternative hypothesis: greater\n"
      ]
     },
     "metadata": {},
     "output_type": "display_data"
    }
   ],
   "source": [
    "jarque.test(Data$ABC)\n",
    "jarque.test(Data$Nifty)"
   ]
  },
  {
   "cell_type": "code",
   "execution_count": 18,
   "metadata": {
    "vscode": {
     "languageId": "r"
    }
   },
   "outputs": [],
   "source": [
    "## Now doing Stationerity tests\n",
    "library(urca)"
   ]
  },
  {
   "cell_type": "code",
   "execution_count": 19,
   "metadata": {
    "vscode": {
     "languageId": "r"
    }
   },
   "outputs": [
    {
     "data": {
      "text/plain": [
       "\n",
       "############################################### \n",
       "# Augmented Dickey-Fuller Test Unit Root Test # \n",
       "############################################### \n",
       "\n",
       "Test regression none \n",
       "\n",
       "\n",
       "Call:\n",
       "lm(formula = z.diff ~ z.lag.1 - 1 + z.diff.lag)\n",
       "\n",
       "Residuals:\n",
       "     Min       1Q   Median       3Q      Max \n",
       "-0.92671 -0.00912  0.00013  0.00999  0.11103 \n",
       "\n",
       "Coefficients:\n",
       "           Estimate Std. Error t value Pr(>|t|)    \n",
       "z.lag.1    -1.02004    0.01970 -51.786   <2e-16 ***\n",
       "z.diff.lag  0.02003    0.01392   1.439     0.15    \n",
       "---\n",
       "Signif. codes:  0 '***' 0.001 '**' 0.01 '*' 0.05 '.' 0.1 ' ' 1\n",
       "\n",
       "Residual standard error: 0.02488 on 5149 degrees of freedom\n",
       "Multiple R-squared:  0.5002,\tAdjusted R-squared:    0.5 \n",
       "F-statistic:  2577 on 2 and 5149 DF,  p-value: < 2.2e-16\n",
       "\n",
       "\n",
       "Value of test-statistic is: -51.7863 \n",
       "\n",
       "Critical values for test statistics: \n",
       "      1pct  5pct 10pct\n",
       "tau1 -2.58 -1.95 -1.62\n"
      ]
     },
     "metadata": {},
     "output_type": "display_data"
    },
    {
     "data": {
      "text/plain": [
       "\n",
       "############################################### \n",
       "# Augmented Dickey-Fuller Test Unit Root Test # \n",
       "############################################### \n",
       "\n",
       "Test regression none \n",
       "\n",
       "\n",
       "Call:\n",
       "lm(formula = z.diff ~ z.lag.1 - 1 + z.diff.lag)\n",
       "\n",
       "Residuals:\n",
       "      Min        1Q    Median        3Q       Max \n",
       "-0.147411 -0.009582  0.000652  0.010714  0.158660 \n",
       "\n",
       "Coefficients:\n",
       "            Estimate Std. Error t value Pr(>|t|)    \n",
       "z.lag.1    -0.980741   0.019405  -50.54   <2e-16 ***\n",
       "z.diff.lag  0.008194   0.013896    0.59    0.555    \n",
       "---\n",
       "Signif. codes:  0 '***' 0.001 '**' 0.01 '*' 0.05 '.' 0.1 ' ' 1\n",
       "\n",
       "Residual standard error: 0.01779 on 5149 degrees of freedom\n",
       "Multiple R-squared:  0.4864,\tAdjusted R-squared:  0.4862 \n",
       "F-statistic:  2439 on 2 and 5149 DF,  p-value: < 2.2e-16\n",
       "\n",
       "\n",
       "Value of test-statistic is: -50.5395 \n",
       "\n",
       "Critical values for test statistics: \n",
       "      1pct  5pct 10pct\n",
       "tau1 -2.58 -1.95 -1.62\n"
      ]
     },
     "metadata": {},
     "output_type": "display_data"
    }
   ],
   "source": [
    "# Here null hypotheisis is data is non-stationary\n",
    "summary(ur.df(Data$ABC))\n",
    "summary(ur.df(Data$Nifty))"
   ]
  },
  {
   "cell_type": "code",
   "execution_count": 20,
   "metadata": {
    "vscode": {
     "languageId": "r"
    }
   },
   "outputs": [
    {
     "data": {
      "text/plain": [
       "\n",
       "################################## \n",
       "# Phillips-Perron Unit Root Test # \n",
       "################################## \n",
       "\n",
       "Test regression with intercept \n",
       "\n",
       "\n",
       "Call:\n",
       "lm(formula = y ~ y.l1)\n",
       "\n",
       "Residuals:\n",
       "     Min       1Q   Median       3Q      Max \n",
       "-0.92767 -0.00938 -0.00013  0.00971  0.11054 \n",
       "\n",
       "Coefficients:\n",
       "              Estimate Std. Error t value Pr(>|t|)\n",
       "(Intercept)  0.0003014  0.0003467   0.869    0.385\n",
       "y.l1        -0.0003372  0.0139211  -0.024    0.981\n",
       "\n",
       "Residual standard error: 0.02488 on 5150 degrees of freedom\n",
       "Multiple R-squared:  1.139e-07,\tAdjusted R-squared:  -0.0001941 \n",
       "F-statistic: 0.0005867 on 1 and 5150 DF,  p-value: 0.9807\n",
       "\n",
       "\n",
       "Value of test-statistic, type: Z-alpha  is: -4925.525 \n",
       "\n",
       "         aux. Z statistics\n",
       "Z-tau-mu            0.8703\n"
      ]
     },
     "metadata": {},
     "output_type": "display_data"
    },
    {
     "data": {
      "text/plain": [
       "\n",
       "################################## \n",
       "# Phillips-Perron Unit Root Test # \n",
       "################################## \n",
       "\n",
       "Test regression with intercept \n",
       "\n",
       "\n",
       "Call:\n",
       "lm(formula = y ~ y.l1)\n",
       "\n",
       "Residuals:\n",
       "      Min        1Q    Median        3Q       Max \n",
       "-0.147539 -0.009986  0.000217  0.010282  0.158352 \n",
       "\n",
       "Coefficients:\n",
       "             Estimate Std. Error t value Pr(>|t|)  \n",
       "(Intercept) 0.0004020  0.0002478   1.622   0.1048  \n",
       "y.l1        0.0270940  0.0138908   1.951   0.0512 .\n",
       "---\n",
       "Signif. codes:  0 '***' 0.001 '**' 0.01 '*' 0.05 '.' 0.1 ' ' 1\n",
       "\n",
       "Residual standard error: 0.01778 on 5150 degrees of freedom\n",
       "Multiple R-squared:  0.0007382,\tAdjusted R-squared:  0.0005442 \n",
       "F-statistic: 3.804 on 1 and 5150 DF,  p-value: 0.05117\n",
       "\n",
       "\n",
       "Value of test-statistic, type: Z-alpha  is: -5013.452 \n",
       "\n",
       "         aux. Z statistics\n",
       "Z-tau-mu            1.6221\n"
      ]
     },
     "metadata": {},
     "output_type": "display_data"
    }
   ],
   "source": [
    "# Here null hypotheisis is data is non-stationary\n",
    "summary(ur.pp(Data$ABC))\n",
    "summary(ur.pp(Data$Nifty))"
   ]
  },
  {
   "cell_type": "code",
   "execution_count": 21,
   "metadata": {
    "vscode": {
     "languageId": "r"
    }
   },
   "outputs": [
    {
     "data": {
      "text/plain": [
       "\n",
       "####################### \n",
       "# KPSS Unit Root Test # \n",
       "####################### \n",
       "\n",
       "Test is of type: mu with 10 lags. \n",
       "\n",
       "Value of test-statistic is: 0.0887 \n",
       "\n",
       "Critical value for a significance level of: \n",
       "                10pct  5pct 2.5pct  1pct\n",
       "critical values 0.347 0.463  0.574 0.739\n"
      ]
     },
     "metadata": {},
     "output_type": "display_data"
    },
    {
     "data": {
      "text/plain": [
       "\n",
       "####################### \n",
       "# KPSS Unit Root Test # \n",
       "####################### \n",
       "\n",
       "Test is of type: mu with 10 lags. \n",
       "\n",
       "Value of test-statistic is: 0.1303 \n",
       "\n",
       "Critical value for a significance level of: \n",
       "                10pct  5pct 2.5pct  1pct\n",
       "critical values 0.347 0.463  0.574 0.739\n"
      ]
     },
     "metadata": {},
     "output_type": "display_data"
    }
   ],
   "source": [
    "# Here null hypotheisis is data is stationary\n",
    "summary(ur.kpss(Data$ABC))\n",
    "summary(ur.kpss(Data$Nifty))"
   ]
  },
  {
   "cell_type": "code",
   "execution_count": 22,
   "metadata": {
    "vscode": {
     "languageId": "r"
    }
   },
   "outputs": [
    {
     "data": {
      "text/html": [
       "<table class=\"dataframe\">\n",
       "<caption>A tibble: 6 × 9</caption>\n",
       "<thead>\n",
       "\t<tr><th scope=col>Date</th><th scope=col>Price</th><th scope=col>ABC</th><th scope=col>Sensex</th><th scope=col>DividendAnnounced</th><th scope=col>Sentiment</th><th scope=col>Nifty</th><th scope=col>CUM_Ret</th><th scope=col>Cum_Ret_Nifty</th></tr>\n",
       "\t<tr><th scope=col>&lt;date&gt;</th><th scope=col>&lt;dbl&gt;</th><th scope=col>&lt;dbl&gt;</th><th scope=col>&lt;dbl&gt;</th><th scope=col>&lt;dbl&gt;</th><th scope=col>&lt;dbl&gt;</th><th scope=col>&lt;dbl&gt;</th><th scope=col>&lt;dbl&gt;</th><th scope=col>&lt;dbl&gt;</th></tr>\n",
       "</thead>\n",
       "<tbody>\n",
       "\t<tr><td>2007-01-01</td><td>153.20</td><td>-0.018577835</td><td> 0.020609571</td><td>0</td><td>-0.054241830</td><td> 0.002635723</td><td>-0.7866741</td><td>1.283683</td></tr>\n",
       "\t<tr><td>2007-01-02</td><td>158.65</td><td> 0.035574413</td><td> 0.023273919</td><td>0</td><td> 0.008467111</td><td> 0.010307882</td><td>-0.7790851</td><td>1.293991</td></tr>\n",
       "\t<tr><td>2007-01-03</td><td>156.10</td><td>-0.016073117</td><td>-0.006464859</td><td>0</td><td> 0.004034366</td><td>-0.010663054</td><td>-0.7826359</td><td>1.283328</td></tr>\n",
       "\t<tr><td>2007-01-04</td><td>157.05</td><td> 0.006085842</td><td> 0.004787963</td><td>0</td><td> 0.097575403</td><td> 0.020007297</td><td>-0.7813131</td><td>1.303335</td></tr>\n",
       "\t<tr><td>2007-01-05</td><td>159.00</td><td> 0.012416428</td><td>-0.003839180</td><td>0</td><td>-0.056319409</td><td> 0.003910649</td><td>-0.7785978</td><td>1.307246</td></tr>\n",
       "\t<tr><td>2007-01-08</td><td>160.60</td><td> 0.010062893</td><td> 0.020390317</td><td>0</td><td> 0.079457951</td><td> 0.014303838</td><td>-0.7763698</td><td>1.321550</td></tr>\n",
       "</tbody>\n",
       "</table>\n"
      ],
      "text/latex": [
       "A tibble: 6 × 9\n",
       "\\begin{tabular}{lllllllll}\n",
       " Date & Price & ABC & Sensex & DividendAnnounced & Sentiment & Nifty & CUM\\_Ret & Cum\\_Ret\\_Nifty\\\\\n",
       " <date> & <dbl> & <dbl> & <dbl> & <dbl> & <dbl> & <dbl> & <dbl> & <dbl>\\\\\n",
       "\\hline\n",
       "\t 2007-01-01 & 153.20 & -0.018577835 &  0.020609571 & 0 & -0.054241830 &  0.002635723 & -0.7866741 & 1.283683\\\\\n",
       "\t 2007-01-02 & 158.65 &  0.035574413 &  0.023273919 & 0 &  0.008467111 &  0.010307882 & -0.7790851 & 1.293991\\\\\n",
       "\t 2007-01-03 & 156.10 & -0.016073117 & -0.006464859 & 0 &  0.004034366 & -0.010663054 & -0.7826359 & 1.283328\\\\\n",
       "\t 2007-01-04 & 157.05 &  0.006085842 &  0.004787963 & 0 &  0.097575403 &  0.020007297 & -0.7813131 & 1.303335\\\\\n",
       "\t 2007-01-05 & 159.00 &  0.012416428 & -0.003839180 & 0 & -0.056319409 &  0.003910649 & -0.7785978 & 1.307246\\\\\n",
       "\t 2007-01-08 & 160.60 &  0.010062893 &  0.020390317 & 0 &  0.079457951 &  0.014303838 & -0.7763698 & 1.321550\\\\\n",
       "\\end{tabular}\n"
      ],
      "text/markdown": [
       "\n",
       "A tibble: 6 × 9\n",
       "\n",
       "| Date &lt;date&gt; | Price &lt;dbl&gt; | ABC &lt;dbl&gt; | Sensex &lt;dbl&gt; | DividendAnnounced &lt;dbl&gt; | Sentiment &lt;dbl&gt; | Nifty &lt;dbl&gt; | CUM_Ret &lt;dbl&gt; | Cum_Ret_Nifty &lt;dbl&gt; |\n",
       "|---|---|---|---|---|---|---|---|---|\n",
       "| 2007-01-01 | 153.20 | -0.018577835 |  0.020609571 | 0 | -0.054241830 |  0.002635723 | -0.7866741 | 1.283683 |\n",
       "| 2007-01-02 | 158.65 |  0.035574413 |  0.023273919 | 0 |  0.008467111 |  0.010307882 | -0.7790851 | 1.293991 |\n",
       "| 2007-01-03 | 156.10 | -0.016073117 | -0.006464859 | 0 |  0.004034366 | -0.010663054 | -0.7826359 | 1.283328 |\n",
       "| 2007-01-04 | 157.05 |  0.006085842 |  0.004787963 | 0 |  0.097575403 |  0.020007297 | -0.7813131 | 1.303335 |\n",
       "| 2007-01-05 | 159.00 |  0.012416428 | -0.003839180 | 0 | -0.056319409 |  0.003910649 | -0.7785978 | 1.307246 |\n",
       "| 2007-01-08 | 160.60 |  0.010062893 |  0.020390317 | 0 |  0.079457951 |  0.014303838 | -0.7763698 | 1.321550 |\n",
       "\n"
      ],
      "text/plain": [
       "  Date       Price  ABC          Sensex       DividendAnnounced Sentiment   \n",
       "1 2007-01-01 153.20 -0.018577835  0.020609571 0                 -0.054241830\n",
       "2 2007-01-02 158.65  0.035574413  0.023273919 0                  0.008467111\n",
       "3 2007-01-03 156.10 -0.016073117 -0.006464859 0                  0.004034366\n",
       "4 2007-01-04 157.05  0.006085842  0.004787963 0                  0.097575403\n",
       "5 2007-01-05 159.00  0.012416428 -0.003839180 0                 -0.056319409\n",
       "6 2007-01-08 160.60  0.010062893  0.020390317 0                  0.079457951\n",
       "  Nifty        CUM_Ret    Cum_Ret_Nifty\n",
       "1  0.002635723 -0.7866741 1.283683     \n",
       "2  0.010307882 -0.7790851 1.293991     \n",
       "3 -0.010663054 -0.7826359 1.283328     \n",
       "4  0.020007297 -0.7813131 1.303335     \n",
       "5  0.003910649 -0.7785978 1.307246     \n",
       "6  0.014303838 -0.7763698 1.321550     "
      ]
     },
     "metadata": {},
     "output_type": "display_data"
    },
    {
     "data": {
      "text/html": [
       "<table class=\"dataframe\">\n",
       "<caption>A tibble: 6 × 9</caption>\n",
       "<thead>\n",
       "\t<tr><th scope=col>Date</th><th scope=col>Price</th><th scope=col>ABC</th><th scope=col>Sensex</th><th scope=col>DividendAnnounced</th><th scope=col>Sentiment</th><th scope=col>Nifty</th><th scope=col>CUM_Ret</th><th scope=col>Cum_Ret_Nifty</th></tr>\n",
       "\t<tr><th scope=col>&lt;date&gt;</th><th scope=col>&lt;dbl&gt;</th><th scope=col>&lt;dbl&gt;</th><th scope=col>&lt;dbl&gt;</th><th scope=col>&lt;dbl&gt;</th><th scope=col>&lt;dbl&gt;</th><th scope=col>&lt;dbl&gt;</th><th scope=col>&lt;dbl&gt;</th><th scope=col>&lt;dbl&gt;</th></tr>\n",
       "</thead>\n",
       "<tbody>\n",
       "\t<tr><td>2017-11-24</td><td>287.25</td><td>-0.024949084</td><td>-0.022417120</td><td>0</td><td>-0.001194387</td><td>-0.019017503</td><td>-0.6000139</td><td>1.892317</td></tr>\n",
       "\t<tr><td>2017-11-27</td><td>277.15</td><td>-0.035161010</td><td>-0.022524564</td><td>0</td><td>-0.059760413</td><td>-0.028207524</td><td>-0.6140778</td><td>1.864110</td></tr>\n",
       "\t<tr><td>2017-11-28</td><td>273.45</td><td>-0.013350171</td><td> 0.002833000</td><td>0</td><td>-0.044380771</td><td> 0.008668805</td><td>-0.6192300</td><td>1.872778</td></tr>\n",
       "\t<tr><td>2017-11-29</td><td>268.50</td><td>-0.018102030</td><td>-0.005073623</td><td>0</td><td> 0.050690359</td><td> 0.004191729</td><td>-0.6261227</td><td>1.876970</td></tr>\n",
       "\t<tr><td>2017-11-30</td><td>270.05</td><td> 0.005772812</td><td> 0.013452686</td><td>0</td><td>-0.016352190</td><td> 0.001435196</td><td>-0.6239644</td><td>1.878405</td></tr>\n",
       "\t<tr><td>2017-12-01</td><td>265.20</td><td>-0.017959637</td><td>-0.021856172</td><td>0</td><td>-0.012042034</td><td>-0.011454561</td><td>-0.6307178</td><td>1.866951</td></tr>\n",
       "</tbody>\n",
       "</table>\n"
      ],
      "text/latex": [
       "A tibble: 6 × 9\n",
       "\\begin{tabular}{lllllllll}\n",
       " Date & Price & ABC & Sensex & DividendAnnounced & Sentiment & Nifty & CUM\\_Ret & Cum\\_Ret\\_Nifty\\\\\n",
       " <date> & <dbl> & <dbl> & <dbl> & <dbl> & <dbl> & <dbl> & <dbl> & <dbl>\\\\\n",
       "\\hline\n",
       "\t 2017-11-24 & 287.25 & -0.024949084 & -0.022417120 & 0 & -0.001194387 & -0.019017503 & -0.6000139 & 1.892317\\\\\n",
       "\t 2017-11-27 & 277.15 & -0.035161010 & -0.022524564 & 0 & -0.059760413 & -0.028207524 & -0.6140778 & 1.864110\\\\\n",
       "\t 2017-11-28 & 273.45 & -0.013350171 &  0.002833000 & 0 & -0.044380771 &  0.008668805 & -0.6192300 & 1.872778\\\\\n",
       "\t 2017-11-29 & 268.50 & -0.018102030 & -0.005073623 & 0 &  0.050690359 &  0.004191729 & -0.6261227 & 1.876970\\\\\n",
       "\t 2017-11-30 & 270.05 &  0.005772812 &  0.013452686 & 0 & -0.016352190 &  0.001435196 & -0.6239644 & 1.878405\\\\\n",
       "\t 2017-12-01 & 265.20 & -0.017959637 & -0.021856172 & 0 & -0.012042034 & -0.011454561 & -0.6307178 & 1.866951\\\\\n",
       "\\end{tabular}\n"
      ],
      "text/markdown": [
       "\n",
       "A tibble: 6 × 9\n",
       "\n",
       "| Date &lt;date&gt; | Price &lt;dbl&gt; | ABC &lt;dbl&gt; | Sensex &lt;dbl&gt; | DividendAnnounced &lt;dbl&gt; | Sentiment &lt;dbl&gt; | Nifty &lt;dbl&gt; | CUM_Ret &lt;dbl&gt; | Cum_Ret_Nifty &lt;dbl&gt; |\n",
       "|---|---|---|---|---|---|---|---|---|\n",
       "| 2017-11-24 | 287.25 | -0.024949084 | -0.022417120 | 0 | -0.001194387 | -0.019017503 | -0.6000139 | 1.892317 |\n",
       "| 2017-11-27 | 277.15 | -0.035161010 | -0.022524564 | 0 | -0.059760413 | -0.028207524 | -0.6140778 | 1.864110 |\n",
       "| 2017-11-28 | 273.45 | -0.013350171 |  0.002833000 | 0 | -0.044380771 |  0.008668805 | -0.6192300 | 1.872778 |\n",
       "| 2017-11-29 | 268.50 | -0.018102030 | -0.005073623 | 0 |  0.050690359 |  0.004191729 | -0.6261227 | 1.876970 |\n",
       "| 2017-11-30 | 270.05 |  0.005772812 |  0.013452686 | 0 | -0.016352190 |  0.001435196 | -0.6239644 | 1.878405 |\n",
       "| 2017-12-01 | 265.20 | -0.017959637 | -0.021856172 | 0 | -0.012042034 | -0.011454561 | -0.6307178 | 1.866951 |\n",
       "\n"
      ],
      "text/plain": [
       "  Date       Price  ABC          Sensex       DividendAnnounced Sentiment   \n",
       "1 2017-11-24 287.25 -0.024949084 -0.022417120 0                 -0.001194387\n",
       "2 2017-11-27 277.15 -0.035161010 -0.022524564 0                 -0.059760413\n",
       "3 2017-11-28 273.45 -0.013350171  0.002833000 0                 -0.044380771\n",
       "4 2017-11-29 268.50 -0.018102030 -0.005073623 0                  0.050690359\n",
       "5 2017-11-30 270.05  0.005772812  0.013452686 0                 -0.016352190\n",
       "6 2017-12-01 265.20 -0.017959637 -0.021856172 0                 -0.012042034\n",
       "  Nifty        CUM_Ret    Cum_Ret_Nifty\n",
       "1 -0.019017503 -0.6000139 1.892317     \n",
       "2 -0.028207524 -0.6140778 1.864110     \n",
       "3  0.008668805 -0.6192300 1.872778     \n",
       "4  0.004191729 -0.6261227 1.876970     \n",
       "5  0.001435196 -0.6239644 1.878405     \n",
       "6 -0.011454561 -0.6307178 1.866951     "
      ]
     },
     "metadata": {},
     "output_type": "display_data"
    }
   ],
   "source": [
    "train= Data[Data$Date<= as.Date(\"2017-12-01\") & year(Data$Date)> 2006,]\n",
    "head(train)\n",
    "tail(train)\n"
   ]
  },
  {
   "cell_type": "code",
   "execution_count": 23,
   "metadata": {
    "vscode": {
     "languageId": "r"
    }
   },
   "outputs": [
    {
     "data": {
      "text/html": [
       "<style>\n",
       ".list-inline {list-style: none; margin:0; padding: 0}\n",
       ".list-inline>li {display: inline-block}\n",
       ".list-inline>li:not(:last-child)::after {content: \"\\00b7\"; padding: 0 .5ex}\n",
       "</style>\n",
       "<ol class=list-inline><li>2850</li><li>9</li></ol>\n"
      ],
      "text/latex": [
       "\\begin{enumerate*}\n",
       "\\item 2850\n",
       "\\item 9\n",
       "\\end{enumerate*}\n"
      ],
      "text/markdown": [
       "1. 2850\n",
       "2. 9\n",
       "\n",
       "\n"
      ],
      "text/plain": [
       "[1] 2850    9"
      ]
     },
     "metadata": {},
     "output_type": "display_data"
    }
   ],
   "source": [
    "dim(train)"
   ]
  },
  {
   "cell_type": "code",
   "execution_count": 24,
   "metadata": {
    "vscode": {
     "languageId": "r"
    }
   },
   "outputs": [
    {
     "data": {
      "text/html": [
       "<table class=\"dataframe\">\n",
       "<caption>A tibble: 6 × 9</caption>\n",
       "<thead>\n",
       "\t<tr><th scope=col>Date</th><th scope=col>Price</th><th scope=col>ABC</th><th scope=col>Sensex</th><th scope=col>DividendAnnounced</th><th scope=col>Sentiment</th><th scope=col>Nifty</th><th scope=col>CUM_Ret</th><th scope=col>Cum_Ret_Nifty</th></tr>\n",
       "\t<tr><th scope=col>&lt;date&gt;</th><th scope=col>&lt;dbl&gt;</th><th scope=col>&lt;dbl&gt;</th><th scope=col>&lt;dbl&gt;</th><th scope=col>&lt;dbl&gt;</th><th scope=col>&lt;dbl&gt;</th><th scope=col>&lt;dbl&gt;</th><th scope=col>&lt;dbl&gt;</th><th scope=col>&lt;dbl&gt;</th></tr>\n",
       "</thead>\n",
       "<tbody>\n",
       "\t<tr><td>2017-12-04</td><td>274.70</td><td> 0.035822021</td><td> 0.021541330</td><td>0</td><td> 0.039150988</td><td> 0.008118141</td><td>-0.6174894</td><td>1.875069</td></tr>\n",
       "\t<tr><td>2017-12-05</td><td>281.60</td><td> 0.025118311</td><td> 0.003786537</td><td>0</td><td> 0.021276597</td><td>-0.005825725</td><td>-0.6078814</td><td>1.869243</td></tr>\n",
       "\t<tr><td>2017-12-06</td><td>282.55</td><td> 0.003373580</td><td> 0.008529446</td><td>0</td><td> 0.000310532</td><td>-0.001443591</td><td>-0.6065585</td><td>1.867800</td></tr>\n",
       "\t<tr><td>2017-12-07</td><td>286.35</td><td> 0.013448947</td><td>-0.010889448</td><td>0</td><td> 0.025279343</td><td>-0.006046919</td><td>-0.6012671</td><td>1.861753</td></tr>\n",
       "\t<tr><td>2017-12-08</td><td>288.45</td><td> 0.007333683</td><td>-0.013339724</td><td>0</td><td>-0.009402877</td><td>-0.008137000</td><td>-0.5983430</td><td>1.853616</td></tr>\n",
       "\t<tr><td>2017-12-11</td><td>288.25</td><td>-0.000693361</td><td>-0.005281850</td><td>0</td><td>-0.066309074</td><td>-0.005774682</td><td>-0.5986215</td><td>1.847841</td></tr>\n",
       "</tbody>\n",
       "</table>\n"
      ],
      "text/latex": [
       "A tibble: 6 × 9\n",
       "\\begin{tabular}{lllllllll}\n",
       " Date & Price & ABC & Sensex & DividendAnnounced & Sentiment & Nifty & CUM\\_Ret & Cum\\_Ret\\_Nifty\\\\\n",
       " <date> & <dbl> & <dbl> & <dbl> & <dbl> & <dbl> & <dbl> & <dbl> & <dbl>\\\\\n",
       "\\hline\n",
       "\t 2017-12-04 & 274.70 &  0.035822021 &  0.021541330 & 0 &  0.039150988 &  0.008118141 & -0.6174894 & 1.875069\\\\\n",
       "\t 2017-12-05 & 281.60 &  0.025118311 &  0.003786537 & 0 &  0.021276597 & -0.005825725 & -0.6078814 & 1.869243\\\\\n",
       "\t 2017-12-06 & 282.55 &  0.003373580 &  0.008529446 & 0 &  0.000310532 & -0.001443591 & -0.6065585 & 1.867800\\\\\n",
       "\t 2017-12-07 & 286.35 &  0.013448947 & -0.010889448 & 0 &  0.025279343 & -0.006046919 & -0.6012671 & 1.861753\\\\\n",
       "\t 2017-12-08 & 288.45 &  0.007333683 & -0.013339724 & 0 & -0.009402877 & -0.008137000 & -0.5983430 & 1.853616\\\\\n",
       "\t 2017-12-11 & 288.25 & -0.000693361 & -0.005281850 & 0 & -0.066309074 & -0.005774682 & -0.5986215 & 1.847841\\\\\n",
       "\\end{tabular}\n"
      ],
      "text/markdown": [
       "\n",
       "A tibble: 6 × 9\n",
       "\n",
       "| Date &lt;date&gt; | Price &lt;dbl&gt; | ABC &lt;dbl&gt; | Sensex &lt;dbl&gt; | DividendAnnounced &lt;dbl&gt; | Sentiment &lt;dbl&gt; | Nifty &lt;dbl&gt; | CUM_Ret &lt;dbl&gt; | Cum_Ret_Nifty &lt;dbl&gt; |\n",
       "|---|---|---|---|---|---|---|---|---|\n",
       "| 2017-12-04 | 274.70 |  0.035822021 |  0.021541330 | 0 |  0.039150988 |  0.008118141 | -0.6174894 | 1.875069 |\n",
       "| 2017-12-05 | 281.60 |  0.025118311 |  0.003786537 | 0 |  0.021276597 | -0.005825725 | -0.6078814 | 1.869243 |\n",
       "| 2017-12-06 | 282.55 |  0.003373580 |  0.008529446 | 0 |  0.000310532 | -0.001443591 | -0.6065585 | 1.867800 |\n",
       "| 2017-12-07 | 286.35 |  0.013448947 | -0.010889448 | 0 |  0.025279343 | -0.006046919 | -0.6012671 | 1.861753 |\n",
       "| 2017-12-08 | 288.45 |  0.007333683 | -0.013339724 | 0 | -0.009402877 | -0.008137000 | -0.5983430 | 1.853616 |\n",
       "| 2017-12-11 | 288.25 | -0.000693361 | -0.005281850 | 0 | -0.066309074 | -0.005774682 | -0.5986215 | 1.847841 |\n",
       "\n"
      ],
      "text/plain": [
       "  Date       Price  ABC          Sensex       DividendAnnounced Sentiment   \n",
       "1 2017-12-04 274.70  0.035822021  0.021541330 0                  0.039150988\n",
       "2 2017-12-05 281.60  0.025118311  0.003786537 0                  0.021276597\n",
       "3 2017-12-06 282.55  0.003373580  0.008529446 0                  0.000310532\n",
       "4 2017-12-07 286.35  0.013448947 -0.010889448 0                  0.025279343\n",
       "5 2017-12-08 288.45  0.007333683 -0.013339724 0                 -0.009402877\n",
       "6 2017-12-11 288.25 -0.000693361 -0.005281850 0                 -0.066309074\n",
       "  Nifty        CUM_Ret    Cum_Ret_Nifty\n",
       "1  0.008118141 -0.6174894 1.875069     \n",
       "2 -0.005825725 -0.6078814 1.869243     \n",
       "3 -0.001443591 -0.6065585 1.867800     \n",
       "4 -0.006046919 -0.6012671 1.861753     \n",
       "5 -0.008137000 -0.5983430 1.853616     \n",
       "6 -0.005774682 -0.5986215 1.847841     "
      ]
     },
     "metadata": {},
     "output_type": "display_data"
    },
    {
     "data": {
      "text/html": [
       "<table class=\"dataframe\">\n",
       "<caption>A tibble: 6 × 9</caption>\n",
       "<thead>\n",
       "\t<tr><th scope=col>Date</th><th scope=col>Price</th><th scope=col>ABC</th><th scope=col>Sensex</th><th scope=col>DividendAnnounced</th><th scope=col>Sentiment</th><th scope=col>Nifty</th><th scope=col>CUM_Ret</th><th scope=col>Cum_Ret_Nifty</th></tr>\n",
       "\t<tr><th scope=col>&lt;date&gt;</th><th scope=col>&lt;dbl&gt;</th><th scope=col>&lt;dbl&gt;</th><th scope=col>&lt;dbl&gt;</th><th scope=col>&lt;dbl&gt;</th><th scope=col>&lt;dbl&gt;</th><th scope=col>&lt;dbl&gt;</th><th scope=col>&lt;dbl&gt;</th><th scope=col>&lt;dbl&gt;</th></tr>\n",
       "</thead>\n",
       "<tbody>\n",
       "\t<tr><td>2019-09-25</td><td>184.95</td><td> 0.005436260</td><td> 0.016924160</td><td>0</td><td>-0.049778358</td><td> 0.024913576</td><td>-0.7424633</td><td>2.195402</td></tr>\n",
       "\t<tr><td>2019-09-26</td><td>183.90</td><td>-0.005677210</td><td> 0.000366372</td><td>0</td><td>-0.008365814</td><td> 0.006269552</td><td>-0.7439254</td><td>2.201672</td></tr>\n",
       "\t<tr><td>2019-09-27</td><td>183.35</td><td>-0.002990756</td><td>-0.002520168</td><td>0</td><td>-0.009011816</td><td> 0.001843369</td><td>-0.7446912</td><td>2.203515</td></tr>\n",
       "\t<tr><td>2019-09-30</td><td>181.80</td><td>-0.008453777</td><td> 0.007423762</td><td>0</td><td>-0.057237310</td><td> 0.031277553</td><td>-0.7468495</td><td>2.234793</td></tr>\n",
       "\t<tr><td>2019-10-01</td><td>180.65</td><td>-0.006325633</td><td> 0.006620676</td><td>0</td><td>-0.096255086</td><td>-0.006477505</td><td>-0.7484509</td><td>2.228315</td></tr>\n",
       "\t<tr><td>2019-10-02</td><td>178.55</td><td>-0.011624689</td><td>-0.008218234</td><td>0</td><td>-0.027268226</td><td>-0.001123344</td><td>-0.7513751</td><td>2.227192</td></tr>\n",
       "</tbody>\n",
       "</table>\n"
      ],
      "text/latex": [
       "A tibble: 6 × 9\n",
       "\\begin{tabular}{lllllllll}\n",
       " Date & Price & ABC & Sensex & DividendAnnounced & Sentiment & Nifty & CUM\\_Ret & Cum\\_Ret\\_Nifty\\\\\n",
       " <date> & <dbl> & <dbl> & <dbl> & <dbl> & <dbl> & <dbl> & <dbl> & <dbl>\\\\\n",
       "\\hline\n",
       "\t 2019-09-25 & 184.95 &  0.005436260 &  0.016924160 & 0 & -0.049778358 &  0.024913576 & -0.7424633 & 2.195402\\\\\n",
       "\t 2019-09-26 & 183.90 & -0.005677210 &  0.000366372 & 0 & -0.008365814 &  0.006269552 & -0.7439254 & 2.201672\\\\\n",
       "\t 2019-09-27 & 183.35 & -0.002990756 & -0.002520168 & 0 & -0.009011816 &  0.001843369 & -0.7446912 & 2.203515\\\\\n",
       "\t 2019-09-30 & 181.80 & -0.008453777 &  0.007423762 & 0 & -0.057237310 &  0.031277553 & -0.7468495 & 2.234793\\\\\n",
       "\t 2019-10-01 & 180.65 & -0.006325633 &  0.006620676 & 0 & -0.096255086 & -0.006477505 & -0.7484509 & 2.228315\\\\\n",
       "\t 2019-10-02 & 178.55 & -0.011624689 & -0.008218234 & 0 & -0.027268226 & -0.001123344 & -0.7513751 & 2.227192\\\\\n",
       "\\end{tabular}\n"
      ],
      "text/markdown": [
       "\n",
       "A tibble: 6 × 9\n",
       "\n",
       "| Date &lt;date&gt; | Price &lt;dbl&gt; | ABC &lt;dbl&gt; | Sensex &lt;dbl&gt; | DividendAnnounced &lt;dbl&gt; | Sentiment &lt;dbl&gt; | Nifty &lt;dbl&gt; | CUM_Ret &lt;dbl&gt; | Cum_Ret_Nifty &lt;dbl&gt; |\n",
       "|---|---|---|---|---|---|---|---|---|\n",
       "| 2019-09-25 | 184.95 |  0.005436260 |  0.016924160 | 0 | -0.049778358 |  0.024913576 | -0.7424633 | 2.195402 |\n",
       "| 2019-09-26 | 183.90 | -0.005677210 |  0.000366372 | 0 | -0.008365814 |  0.006269552 | -0.7439254 | 2.201672 |\n",
       "| 2019-09-27 | 183.35 | -0.002990756 | -0.002520168 | 0 | -0.009011816 |  0.001843369 | -0.7446912 | 2.203515 |\n",
       "| 2019-09-30 | 181.80 | -0.008453777 |  0.007423762 | 0 | -0.057237310 |  0.031277553 | -0.7468495 | 2.234793 |\n",
       "| 2019-10-01 | 180.65 | -0.006325633 |  0.006620676 | 0 | -0.096255086 | -0.006477505 | -0.7484509 | 2.228315 |\n",
       "| 2019-10-02 | 178.55 | -0.011624689 | -0.008218234 | 0 | -0.027268226 | -0.001123344 | -0.7513751 | 2.227192 |\n",
       "\n"
      ],
      "text/plain": [
       "  Date       Price  ABC          Sensex       DividendAnnounced Sentiment   \n",
       "1 2019-09-25 184.95  0.005436260  0.016924160 0                 -0.049778358\n",
       "2 2019-09-26 183.90 -0.005677210  0.000366372 0                 -0.008365814\n",
       "3 2019-09-27 183.35 -0.002990756 -0.002520168 0                 -0.009011816\n",
       "4 2019-09-30 181.80 -0.008453777  0.007423762 0                 -0.057237310\n",
       "5 2019-10-01 180.65 -0.006325633  0.006620676 0                 -0.096255086\n",
       "6 2019-10-02 178.55 -0.011624689 -0.008218234 0                 -0.027268226\n",
       "  Nifty        CUM_Ret    Cum_Ret_Nifty\n",
       "1  0.024913576 -0.7424633 2.195402     \n",
       "2  0.006269552 -0.7439254 2.201672     \n",
       "3  0.001843369 -0.7446912 2.203515     \n",
       "4  0.031277553 -0.7468495 2.234793     \n",
       "5 -0.006477505 -0.7484509 2.228315     \n",
       "6 -0.001123344 -0.7513751 2.227192     "
      ]
     },
     "metadata": {},
     "output_type": "display_data"
    },
    {
     "data": {
      "text/html": [
       "<style>\n",
       ".list-inline {list-style: none; margin:0; padding: 0}\n",
       ".list-inline>li {display: inline-block}\n",
       ".list-inline>li:not(:last-child)::after {content: \"\\00b7\"; padding: 0 .5ex}\n",
       "</style>\n",
       "<ol class=list-inline><li>478</li><li>9</li></ol>\n"
      ],
      "text/latex": [
       "\\begin{enumerate*}\n",
       "\\item 478\n",
       "\\item 9\n",
       "\\end{enumerate*}\n"
      ],
      "text/markdown": [
       "1. 478\n",
       "2. 9\n",
       "\n",
       "\n"
      ],
      "text/plain": [
       "[1] 478   9"
      ]
     },
     "metadata": {},
     "output_type": "display_data"
    }
   ],
   "source": [
    "test = Data[Data$Date > as.Date(\"2017-12-01\"),]\n",
    "head(test)\n",
    "tail(test)\n",
    "dim(test)"
   ]
  },
  {
   "cell_type": "markdown",
   "metadata": {},
   "source": [
    "## Modeling a simple Linear regression model"
   ]
  },
  {
   "cell_type": "code",
   "execution_count": 25,
   "metadata": {
    "vscode": {
     "languageId": "r"
    }
   },
   "outputs": [
    {
     "data": {
      "text/plain": [
       "\n",
       "Call:\n",
       "lm(formula = ABC ~ Nifty, data = train)\n",
       "\n",
       "Residuals:\n",
       "     Min       1Q   Median       3Q      Max \n",
       "-0.50649 -0.00859 -0.00014  0.00893  0.08568 \n",
       "\n",
       "Coefficients:\n",
       "             Estimate Std. Error t value Pr(>|t|)    \n",
       "(Intercept) 0.0003458  0.0003638    0.95    0.342    \n",
       "Nifty       0.3972054  0.0212795   18.67   <2e-16 ***\n",
       "---\n",
       "Signif. codes:  0 '***' 0.001 '**' 0.01 '*' 0.05 '.' 0.1 ' ' 1\n",
       "\n",
       "Residual standard error: 0.01942 on 2848 degrees of freedom\n",
       "Multiple R-squared:  0.109,\tAdjusted R-squared:  0.1087 \n",
       "F-statistic: 348.4 on 1 and 2848 DF,  p-value: < 2.2e-16\n"
      ]
     },
     "metadata": {},
     "output_type": "display_data"
    }
   ],
   "source": [
    "slr = lm(ABC ~ Nifty, data = train)\n",
    "model = summary(slr)\n",
    "model\n"
   ]
  },
  {
   "cell_type": "markdown",
   "metadata": {},
   "source": [
    "Based on the Above output we can say\n",
    "* Coeff of nifty(estimate) which means if market(Nifty) moves by 1% then ABC stock move by 0.39%. This relationship is statistically\n",
    "significant at one percent level of significance\n",
    "* The three (***) indicates at even 1% level of significance which is very high.\n",
    "* Null hypothesis that nifty doesnt affect ABC, however the result obtained makes us reject null hypothesis because Nifty movement affects ABC\n",
    "* Adjusted R-squared- Almost 10.87% of the overall movement in the ABC stock is affected by Nifty"
   ]
  },
  {
   "cell_type": "markdown",
   "metadata": {},
   "source": [
    "Residual Diagnostics"
   ]
  },
  {
   "cell_type": "code",
   "execution_count": 26,
   "metadata": {
    "vscode": {
     "languageId": "r"
    }
   },
   "outputs": [
    {
     "data": {
      "image/png": "[encoded data removed]",
      "text/plain": [
       "Plot with title \"\""
      ]
     },
     "metadata": {
      "image/png": {
       "height": 420,
       "width": 420
      }
     },
     "output_type": "display_data"
    }
   ],
   "source": [
    "densityPlot(model$residuals)\n",
    "## Left tail is long meaning plot is left skewed"
   ]
  },
  {
   "cell_type": "code",
   "execution_count": 27,
   "metadata": {
    "vscode": {
     "languageId": "r"
    }
   },
   "outputs": [
    {
     "data": {
      "image/png": "[encoded data removed]",
      "text/plain": [
       "Plot with title \"\""
      ]
     },
     "metadata": {
      "image/png": {
       "height": 420,
       "width": 420
      }
     },
     "output_type": "display_data"
    }
   ],
   "source": [
    "densityPlot(rstudent(slr))"
   ]
  },
  {
   "cell_type": "code",
   "execution_count": 28,
   "metadata": {
    "vscode": {
     "languageId": "r"
    }
   },
   "outputs": [
    {
     "data": {
      "text/html": [
       "<style>\n",
       ".list-inline {list-style: none; margin:0; padding: 0}\n",
       ".list-inline>li {display: inline-block}\n",
       ".list-inline>li:not(:last-child)::after {content: \"\\00b7\"; padding: 0 .5ex}\n",
       "</style>\n",
       "<ol class=list-inline><li>72</li><li>152</li><li>197</li><li>817</li><li>962</li><li>1955</li><li>2145</li><li>2204</li><li>2286</li><li>2544</li></ol>\n"
      ],
      "text/latex": [
       "\\begin{enumerate*}\n",
       "\\item 72\n",
       "\\item 152\n",
       "\\item 197\n",
       "\\item 817\n",
       "\\item 962\n",
       "\\item 1955\n",
       "\\item 2145\n",
       "\\item 2204\n",
       "\\item 2286\n",
       "\\item 2544\n",
       "\\end{enumerate*}\n"
      ],
      "text/markdown": [
       "1. 72\n",
       "2. 152\n",
       "3. 197\n",
       "4. 817\n",
       "5. 962\n",
       "6. 1955\n",
       "7. 2145\n",
       "8. 2204\n",
       "9. 2286\n",
       "10. 2544\n",
       "\n",
       "\n"
      ],
      "text/plain": [
       " [1]   72  152  197  817  962 1955 2145 2204 2286 2544"
      ]
     },
     "metadata": {},
     "output_type": "display_data"
    },
    {
     "data": {
      "image/png": "[encoded data removed]",
      "text/plain": [
       "plot without title"
      ]
     },
     "metadata": {
      "image/png": {
       "height": 420,
       "width": 420
      }
     },
     "output_type": "display_data"
    }
   ],
   "source": [
    "qqPlot(slr , id = list(n=10))"
   ]
  },
  {
   "cell_type": "code",
   "execution_count": 29,
   "metadata": {
    "vscode": {
     "languageId": "r"
    }
   },
   "outputs": [
    {
     "data": {
      "text/plain": [
       "Non-constant Variance Score Test \n",
       "Variance formula: ~ fitted.values \n",
       "Chisquare = 7.326678, Df = 1, p = 0.0067938"
      ]
     },
     "metadata": {},
     "output_type": "display_data"
    }
   ],
   "source": [
    "ncvTest(slr, studentize = F)"
   ]
  },
  {
   "cell_type": "code",
   "execution_count": 30,
   "metadata": {
    "vscode": {
     "languageId": "r"
    }
   },
   "outputs": [
    {
     "data": {
      "text/plain": [
       "Non-constant Variance Score Test \n",
       "Variance formula: ~ Nifty \n",
       "Chisquare = 7.326678, Df = 1, p = 0.0067938"
      ]
     },
     "metadata": {},
     "output_type": "display_data"
    }
   ],
   "source": [
    "ncvTest(slr, var.formula = ~Nifty)"
   ]
  },
  {
   "cell_type": "markdown",
   "metadata": {},
   "source": [
    "### Autocorrelation"
   ]
  },
  {
   "cell_type": "code",
   "execution_count": 32,
   "metadata": {
    "vscode": {
     "languageId": "r"
    }
   },
   "outputs": [
    {
     "data": {
      "text/plain": [
       "\n",
       "\tDurbin-Watson test\n",
       "\n",
       "data:  slr\n",
       "DW = 2.0278, p-value = 0.7705\n",
       "alternative hypothesis: true autocorrelation is greater than 0\n"
      ]
     },
     "metadata": {},
     "output_type": "display_data"
    }
   ],
   "source": [
    "dwtest(slr, )\n",
    "\n",
    "# If DW value is close to 2 then no autocorrelation  \n",
    "# if close to zero then positive correlation and \n",
    "# if greater than 2 then negative autocorrelation"
   ]
  },
  {
   "cell_type": "code",
   "execution_count": 33,
   "metadata": {
    "vscode": {
     "languageId": "r"
    }
   },
   "outputs": [
    {
     "data": {
      "text/plain": [
       "\n",
       "\tBreusch-Godfrey test for serial correlation of order up to 1\n",
       "\n",
       "data:  model\n",
       "LM test = 0.57115, df = 1, p-value = 0.4498\n"
      ]
     },
     "metadata": {},
     "output_type": "display_data"
    }
   ],
   "source": [
    "bgtest(model)"
   ]
  },
  {
   "cell_type": "code",
   "execution_count": 34,
   "metadata": {
    "vscode": {
     "languageId": "r"
    }
   },
   "outputs": [
    {
     "data": {
      "text/plain": [
       "\n",
       "\tBreusch-Godfrey test for serial correlation of order up to 4\n",
       "\n",
       "data:  model\n",
       "LM test = 17.775, df = 4, p-value = 0.001365\n"
      ]
     },
     "metadata": {},
     "output_type": "display_data"
    }
   ],
   "source": [
    "bgtest(model , order = 4) ## At higher order lags we find some correletaion"
   ]
  },
  {
   "cell_type": "markdown",
   "metadata": {},
   "source": [
    "### Roubust Standard Errors"
   ]
  },
  {
   "cell_type": "code",
   "execution_count": 35,
   "metadata": {
    "vscode": {
     "languageId": "r"
    }
   },
   "outputs": [
    {
     "data": {
      "text/plain": [
       "\n",
       "t test of coefficients:\n",
       "\n",
       "              Estimate Std. Error t value Pr(>|t|)    \n",
       "(Intercept) 0.00034578 0.00036429  0.9492   0.3426    \n",
       "Nifty       0.39720543 0.02222509 17.8719   <2e-16 ***\n",
       "---\n",
       "Signif. codes:  0 '***' 0.001 '**' 0.01 '*' 0.05 '.' 0.1 ' ' 1\n"
      ]
     },
     "metadata": {},
     "output_type": "display_data"
    }
   ],
   "source": [
    "coeftest(slr, vcov.=hccm)"
   ]
  },
  {
   "cell_type": "code",
   "execution_count": 37,
   "metadata": {
    "vscode": {
     "languageId": "r"
    }
   },
   "outputs": [
    {
     "data": {
      "text/plain": [
       "\n",
       "t test of coefficients:\n",
       "\n",
       "              Estimate Std. Error t value Pr(>|t|)    \n",
       "(Intercept) 0.00034578 0.00036398   0.950   0.3422    \n",
       "Nifty       0.39720543 0.02218545  17.904   <2e-16 ***\n",
       "---\n",
       "Signif. codes:  0 '***' 0.001 '**' 0.01 '*' 0.05 '.' 0.1 ' ' 1\n"
      ]
     },
     "metadata": {},
     "output_type": "display_data"
    }
   ],
   "source": [
    "coeftest(slr, vcov.=vcovHAC)"
   ]
  },
  {
   "cell_type": "code",
   "execution_count": 38,
   "metadata": {
    "vscode": {
     "languageId": "r"
    }
   },
   "outputs": [],
   "source": [
    "Pred =predict(slr, test)"
   ]
  },
  {
   "cell_type": "code",
   "execution_count": 39,
   "metadata": {
    "vscode": {
     "languageId": "r"
    }
   },
   "outputs": [
    {
     "ename": "ERROR",
     "evalue": "Error in legend(\"topright\"): argument \"legend\" is missing, with no default\n",
     "output_type": "error",
     "traceback": [
      "Error in legend(\"topright\"): argument \"legend\" is missing, with no default\nTraceback:\n",
      "1. as.graphicsAnnot(legend)",
      "2. .handleSimpleError(function (cnd) \n . {\n .     watcher$capture_plot_and_output()\n .     cnd <- sanitize_call(cnd)\n .     watcher$push(cnd)\n .     switch(on_error, continue = invokeRestart(\"eval_continue\"), \n .         stop = invokeRestart(\"eval_stop\"), error = invokeRestart(\"eval_error\", \n .             cnd))\n . }, \"argument \\\"legend\\\" is missing, with no default\", base::quote(legend(\"topright\")))"
     ]
    },
    {
     "data": {
      "image/png": "[encoded data removed]",
      "text/plain": [
       "Plot with title \"Prediceted retuns vs Actual Returns\""
      ]
     },
     "metadata": {
      "image/png": {
       "height": 420,
       "width": 420
      }
     },
     "output_type": "display_data"
    }
   ],
   "source": [
    "plot(test$Date, test$ABC, xlab =\"Date\", ylab = \"Returns\", main = \"Prediceted retuns vs Actual Returns\",ylim=c(-0.2,0.2), \n",
    "    pch = 20, col = \"red\", type = 'l')\n",
    "lines(test$Date, Pred, lwd = 1,col = \"green\", type = \"l\")\n",
    "legend(\"topright\")"
   ]
  },
  {
   "cell_type": "code",
   "execution_count": 40,
   "metadata": {
    "vscode": {
     "languageId": "r"
    }
   },
   "outputs": [
    {
     "data": {
      "text/html": [
       "0.437818741698208"
      ],
      "text/latex": [
       "0.437818741698208"
      ],
      "text/markdown": [
       "0.437818741698208"
      ],
      "text/plain": [
       "[1] 0.4378187"
      ]
     },
     "metadata": {},
     "output_type": "display_data"
    }
   ],
   "source": [
    "cor(test$ABC, Pred)"
   ]
  },
  {
   "cell_type": "markdown",
   "metadata": {},
   "source": [
    "### Need cost and error functions to evaluate models"
   ]
  },
  {
   "cell_type": "code",
   "execution_count": 41,
   "metadata": {
    "vscode": {
     "languageId": "r"
    }
   },
   "outputs": [
    {
     "data": {
      "text/html": [
       "0.00030908564677057"
      ],
      "text/latex": [
       "0.00030908564677057"
      ],
      "text/markdown": [
       "0.00030908564677057"
      ],
      "text/plain": [
       "[1] 0.0003090856"
      ]
     },
     "metadata": {},
     "output_type": "display_data"
    }
   ],
   "source": [
    "library(Metrics)\n",
    "mse(test$ABC, Pred)\n"
   ]
  },
  {
   "cell_type": "code",
   "execution_count": 42,
   "metadata": {
    "vscode": {
     "languageId": "r"
    }
   },
   "outputs": [
    {
     "data": {
      "text/html": [
       "0.0175808317997349"
      ],
      "text/latex": [
       "0.0175808317997349"
      ],
      "text/markdown": [
       "0.0175808317997349"
      ],
      "text/plain": [
       "[1] 0.01758083"
      ]
     },
     "metadata": {},
     "output_type": "display_data"
    }
   ],
   "source": [
    "rmse(test$ABC, Pred)"
   ]
  },
  {
   "cell_type": "code",
   "execution_count": 43,
   "metadata": {
    "vscode": {
     "languageId": "r"
    }
   },
   "outputs": [
    {
     "data": {
      "text/html": [
       "0.947685340764517"
      ],
      "text/latex": [
       "0.947685340764517"
      ],
      "text/markdown": [
       "0.947685340764517"
      ],
      "text/plain": [
       "[1] 0.9476853"
      ]
     },
     "metadata": {},
     "output_type": "display_data"
    }
   ],
   "source": [
    "rae(test$ABC, Pred)"
   ]
  },
  {
   "cell_type": "code",
   "execution_count": 44,
   "metadata": {
    "vscode": {
     "languageId": "r"
    }
   },
   "outputs": [
    {
     "data": {
      "text/html": [
       "0.0120263091957719"
      ],
      "text/latex": [
       "0.0120263091957719"
      ],
      "text/markdown": [
       "0.0120263091957719"
      ],
      "text/plain": [
       "[1] 0.01202631"
      ]
     },
     "metadata": {},
     "output_type": "display_data"
    }
   ],
   "source": [
    "mae(test$ABC, Pred)"
   ]
  },
  {
   "cell_type": "code",
   "execution_count": 45,
   "metadata": {
    "vscode": {
     "languageId": "r"
    }
   },
   "outputs": [
    {
     "data": {
      "text/html": [
       "Inf"
      ],
      "text/latex": [
       "Inf"
      ],
      "text/markdown": [
       "Inf"
      ],
      "text/plain": [
       "[1] Inf"
      ]
     },
     "metadata": {},
     "output_type": "display_data"
    }
   ],
   "source": [
    "mape(test$ABC, Pred)"
   ]
  },
  {
   "cell_type": "code",
   "execution_count": 46,
   "metadata": {
    "vscode": {
     "languageId": "r"
    }
   },
   "outputs": [
    {
     "data": {
      "text/html": [
       "1.41613828908916"
      ],
      "text/latex": [
       "1.41613828908916"
      ],
      "text/markdown": [
       "1.41613828908916"
      ],
      "text/plain": [
       "[1] 1.416138"
      ]
     },
     "metadata": {},
     "output_type": "display_data"
    }
   ],
   "source": [
    "smape(test$ABC, Pred)"
   ]
  },
  {
   "cell_type": "code",
   "execution_count": 47,
   "metadata": {
    "vscode": {
     "languageId": "r"
    }
   },
   "outputs": [
    {
     "data": {
      "text/html": [
       "0.000310230020848964"
      ],
      "text/latex": [
       "0.000310230020848964"
      ],
      "text/markdown": [
       "0.000310230020848964"
      ],
      "text/plain": [
       "[1] 0.00031023"
      ]
     },
     "metadata": {},
     "output_type": "display_data"
    }
   ],
   "source": [
    "msle(test$ABC, Pred)"
   ]
  },
  {
   "cell_type": "code",
   "execution_count": 48,
   "metadata": {
    "vscode": {
     "languageId": "r"
    }
   },
   "outputs": [],
   "source": [
    "#rmsle\n",
    "#rse\n",
    "#bias\n",
    "#rrse"
   ]
  },
  {
   "cell_type": "markdown",
   "metadata": {},
   "source": [
    "## MultipleLinear Regression Model"
   ]
  },
  {
   "cell_type": "code",
   "execution_count": 49,
   "metadata": {
    "vscode": {
     "languageId": "r"
    }
   },
   "outputs": [
    {
     "data": {
      "text/plain": [
       "\n",
       "Call:\n",
       "lm(formula = ABC ~ Sensex + Sentiment + Nifty + DividendAnnounced, \n",
       "    data = train)\n",
       "\n",
       "Residuals:\n",
       "     Min       1Q   Median       3Q      Max \n",
       "-0.43603 -0.00843  0.00016  0.00812  0.08422 \n",
       "\n",
       "Coefficients:\n",
       "                    Estimate Std. Error t value Pr(>|t|)    \n",
       "(Intercept)       -9.793e-05  3.361e-04  -0.291   0.7708    \n",
       "Sensex             5.791e-01  3.988e-02  14.522   <2e-16 ***\n",
       "Sentiment          1.217e-01  6.211e-03  19.587   <2e-16 ***\n",
       "Nifty             -2.646e-02  3.265e-02  -0.810   0.4178    \n",
       "DividendAnnounced  3.757e-03  1.492e-03   2.519   0.0118 *  \n",
       "---\n",
       "Signif. codes:  0 '***' 0.001 '**' 0.01 '*' 0.05 '.' 0.1 ' ' 1\n",
       "\n",
       "Residual standard error: 0.01748 on 2845 degrees of freedom\n",
       "Multiple R-squared:  0.2795,\tAdjusted R-squared:  0.2784 \n",
       "F-statistic: 275.8 on 4 and 2845 DF,  p-value: < 2.2e-16\n"
      ]
     },
     "metadata": {},
     "output_type": "display_data"
    }
   ],
   "source": [
    "Mlr =lm(ABC~ Sensex+ Sentiment+ Nifty+DividendAnnounced, data = train)\n",
    "model = summary(Mlr)\n",
    "model"
   ]
  },
  {
   "cell_type": "markdown",
   "metadata": {},
   "source": [
    "### Multicollinearity\n",
    "In above output we can see the Sensex, Nifty, Sentiment and DividendAnnounced are all the four variables which can have different level significance"
   ]
  },
  {
   "cell_type": "code",
   "execution_count": 50,
   "metadata": {
    "vscode": {
     "languageId": "r"
    }
   },
   "outputs": [
    {
     "data": {
      "text/html": [
       "<table class=\"dataframe\">\n",
       "<caption>A matrix: 4 × 4 of type dbl</caption>\n",
       "<thead>\n",
       "\t<tr><th></th><th scope=col>ABC</th><th scope=col>Sensex</th><th scope=col>Nifty</th><th scope=col>Sentiment</th></tr>\n",
       "</thead>\n",
       "<tbody>\n",
       "\t<tr><th scope=row>ABC</th><td>1.0000000</td><td>0.4235848</td><td>0.33015781</td><td>0.36929214</td></tr>\n",
       "\t<tr><th scope=row>Sensex</th><td>0.4235848</td><td>1.0000000</td><td>0.80965155</td><td>0.13914023</td></tr>\n",
       "\t<tr><th scope=row>Nifty</th><td>0.3301578</td><td>0.8096516</td><td>1.00000000</td><td>0.09830017</td></tr>\n",
       "\t<tr><th scope=row>Sentiment</th><td>0.3692921</td><td>0.1391402</td><td>0.09830017</td><td>1.00000000</td></tr>\n",
       "</tbody>\n",
       "</table>\n"
      ],
      "text/latex": [
       "A matrix: 4 × 4 of type dbl\n",
       "\\begin{tabular}{r|llll}\n",
       "  & ABC & Sensex & Nifty & Sentiment\\\\\n",
       "\\hline\n",
       "\tABC & 1.0000000 & 0.4235848 & 0.33015781 & 0.36929214\\\\\n",
       "\tSensex & 0.4235848 & 1.0000000 & 0.80965155 & 0.13914023\\\\\n",
       "\tNifty & 0.3301578 & 0.8096516 & 1.00000000 & 0.09830017\\\\\n",
       "\tSentiment & 0.3692921 & 0.1391402 & 0.09830017 & 1.00000000\\\\\n",
       "\\end{tabular}\n"
      ],
      "text/markdown": [
       "\n",
       "A matrix: 4 × 4 of type dbl\n",
       "\n",
       "| <!--/--> | ABC | Sensex | Nifty | Sentiment |\n",
       "|---|---|---|---|---|\n",
       "| ABC | 1.0000000 | 0.4235848 | 0.33015781 | 0.36929214 |\n",
       "| Sensex | 0.4235848 | 1.0000000 | 0.80965155 | 0.13914023 |\n",
       "| Nifty | 0.3301578 | 0.8096516 | 1.00000000 | 0.09830017 |\n",
       "| Sentiment | 0.3692921 | 0.1391402 | 0.09830017 | 1.00000000 |\n",
       "\n"
      ],
      "text/plain": [
       "          ABC       Sensex    Nifty      Sentiment \n",
       "ABC       1.0000000 0.4235848 0.33015781 0.36929214\n",
       "Sensex    0.4235848 1.0000000 0.80965155 0.13914023\n",
       "Nifty     0.3301578 0.8096516 1.00000000 0.09830017\n",
       "Sentiment 0.3692921 0.1391402 0.09830017 1.00000000"
      ]
     },
     "metadata": {},
     "output_type": "display_data"
    }
   ],
   "source": [
    "cor(train[, c(\"ABC\", \"Sensex\", \"Nifty\", \"Sentiment\")])"
   ]
  },
  {
   "cell_type": "markdown",
   "metadata": {},
   "source": [
    "### Variance Inflation Factor (Used to measure multicollinearity)\n",
    "if number is around 1, if higher than 2 then moderate, and if higher than 5 then actually high"
   ]
  },
  {
   "cell_type": "code",
   "execution_count": 51,
   "metadata": {
    "vscode": {
     "languageId": "r"
    }
   },
   "outputs": [
    {
     "data": {
      "text/html": [
       "<style>\n",
       ".dl-inline {width: auto; margin:0; padding: 0}\n",
       ".dl-inline>dt, .dl-inline>dd {float: none; width: auto; display: inline-block}\n",
       ".dl-inline>dt::after {content: \":\\0020\"; padding-right: .5ex}\n",
       ".dl-inline>dt:not(:first-of-type) {padding-left: .5ex}\n",
       "</style><dl class=dl-inline><dt>Sensex</dt><dd>2.93858176691339</dd><dt>Sentiment</dt><dd>1.02115927706993</dd><dt>Nifty</dt><dd>2.90729411578798</dd><dt>DividendAnnounced</dt><dd>1.00286778719444</dd></dl>\n"
      ],
      "text/latex": [
       "\\begin{description*}\n",
       "\\item[Sensex] 2.93858176691339\n",
       "\\item[Sentiment] 1.02115927706993\n",
       "\\item[Nifty] 2.90729411578798\n",
       "\\item[DividendAnnounced] 1.00286778719444\n",
       "\\end{description*}\n"
      ],
      "text/markdown": [
       "Sensex\n",
       ":   2.93858176691339Sentiment\n",
       ":   1.02115927706993Nifty\n",
       ":   2.90729411578798DividendAnnounced\n",
       ":   1.00286778719444\n",
       "\n"
      ],
      "text/plain": [
       "           Sensex         Sentiment             Nifty DividendAnnounced \n",
       "         2.938582          1.021159          2.907294          1.002868 "
      ]
     },
     "metadata": {},
     "output_type": "display_data"
    }
   ],
   "source": [
    "vif(Mlr)"
   ]
  },
  {
   "cell_type": "code",
   "execution_count": 52,
   "metadata": {
    "vscode": {
     "languageId": "r"
    }
   },
   "outputs": [
    {
     "data": {
      "text/plain": [
       "\n",
       "Call:\n",
       "lm(formula = ABC ~ Sensex + Sentiment + DividendAnnounced, data = train)\n",
       "\n",
       "Residuals:\n",
       "     Min       1Q   Median       3Q      Max \n",
       "-0.43584 -0.00844  0.00034  0.00818  0.08380 \n",
       "\n",
       "Coefficients:\n",
       "                    Estimate Std. Error t value Pr(>|t|)    \n",
       "(Intercept)       -9.394e-05  3.361e-04  -0.280    0.780    \n",
       "Sensex             5.530e-01  2.350e-02  23.531   <2e-16 ***\n",
       "Sentiment          1.218e-01  6.209e-03  19.613   <2e-16 ***\n",
       "DividendAnnounced  3.792e-03  1.491e-03   2.543    0.011 *  \n",
       "---\n",
       "Signif. codes:  0 '***' 0.001 '**' 0.01 '*' 0.05 '.' 0.1 ' ' 1\n",
       "\n",
       "Residual standard error: 0.01747 on 2846 degrees of freedom\n",
       "Multiple R-squared:  0.2793,\tAdjusted R-squared:  0.2785 \n",
       "F-statistic: 367.6 on 3 and 2846 DF,  p-value: < 2.2e-16\n"
      ]
     },
     "metadata": {},
     "output_type": "display_data"
    }
   ],
   "source": [
    "Mlr = lm(ABC~Sensex+Sentiment+DividendAnnounced,data = train)\n",
    "model= summary(Mlr)\n",
    "model"
   ]
  },
  {
   "cell_type": "code",
   "execution_count": 54,
   "metadata": {
    "vscode": {
     "languageId": "r"
    }
   },
   "outputs": [
    {
     "data": {
      "text/html": [
       "0.577107575334127"
      ],
      "text/latex": [
       "0.577107575334127"
      ],
      "text/markdown": [
       "0.577107575334127"
      ],
      "text/plain": [
       "[1] 0.5771076"
      ]
     },
     "metadata": {},
     "output_type": "display_data"
    }
   ],
   "source": [
    "Pred = predict(Mlr,  test)\n",
    "cor(Pred ,test$ABC)"
   ]
  },
  {
   "cell_type": "code",
   "execution_count": 55,
   "metadata": {
    "vscode": {
     "languageId": "r"
    }
   },
   "outputs": [
    {
     "data": {
      "image/png": "[encoded data removed]",
      "text/plain": [
       "Plot with title \"Actual vs Predicted Returns\""
      ]
     },
     "metadata": {
      "image/png": {
       "height": 420,
       "width": 420
      }
     },
     "output_type": "display_data"
    }
   ],
   "source": [
    "plot(test$Date, test$ABC, xlab =\"Date\", ylab = \"Returns\", main = \"Actual vs Predicted Returns\", \n",
    "        ylim = c(-0.2, 0.2), col =\"red\" , type = \"l\")\n",
    "lines(test$Date, Pred, col =\"green\", type= \"l\")\n",
    "legend(\"topright\", c(\"Actual Returns\", \"Predicted Returns\"))"
   ]
  },
  {
   "cell_type": "code",
   "execution_count": null,
   "metadata": {
    "vscode": {
     "languageId": "r"
    }
   },
   "outputs": [],
   "source": []
  }
 ],
 "metadata": {
  "kernelspec": {
   "display_name": "R",
   "language": "R",
   "name": "ir"
  },
  "language_info": {
   "codemirror_mode": "r",
   "file_extension": ".r",
   "mimetype": "text/x-r-source",
   "name": "R",
   "pygments_lexer": "r",
   "version": "4.4.1"
  }
 },
 "nbformat": 4,
 "nbformat_minor": 2
}
