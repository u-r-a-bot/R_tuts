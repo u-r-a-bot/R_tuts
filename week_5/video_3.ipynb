{
 "cells": [
  {
   "cell_type": "markdown",
   "metadata": {},
   "source": [
    "## Setting Up"
   ]
  },
  {
   "cell_type": "code",
   "execution_count": 1,
   "metadata": {
    "vscode": {
     "languageId": "r"
    }
   },
   "outputs": [
    {
     "data": {
      "text/html": [
       "'C:/Users/death-star/Documents/R programs'"
      ],
      "text/latex": [
       "'C:/Users/death-star/Documents/R programs'"
      ],
      "text/markdown": [
       "'C:/Users/death-star/Documents/R programs'"
      ],
      "text/plain": [
       "[1] \"C:/Users/death-star/Documents/R programs\""
      ]
     },
     "metadata": {},
     "output_type": "display_data"
    }
   ],
   "source": [
    "home_dir = normalizePath(\"~\")\n",
    "relative_path = file.path(\"R programs\")\n",
    "full_path = file.path(home_dir, relative_path)\n",
    "setwd(full_path)\n",
    "getwd()"
   ]
  },
  {
   "cell_type": "markdown",
   "metadata": {},
   "source": [
    "## Sentiment problem\n",
    "### High sentiment referes to bullish mindset of Investors\n",
    "\n",
    "\n",
    "* Data visualizaton\n",
    "* Training the model\n",
    "* Testing the model \n",
    "* Evaluate out-of-sample performance model\n",
    "\n",
    "**ABC** case study problem"
   ]
  },
  {
   "cell_type": "code",
   "execution_count": 3,
   "metadata": {
    "vscode": {
     "languageId": "r"
    }
   },
   "outputs": [],
   "source": [
    "library(car)\n",
    "library(lmtest)\n",
    "library(readxl)\n",
    "library(sandwich)\n",
    "library(moments)\n"
   ]
  },
  {
   "cell_type": "code",
   "execution_count": 4,
   "metadata": {
    "vscode": {
     "languageId": "r"
    }
   },
   "outputs": [
    {
     "data": {
      "text/html": [
       "<table class=\"dataframe\">\n",
       "<caption>A tibble: 6 × 7</caption>\n",
       "<thead>\n",
       "\t<tr><th scope=col>Date</th><th scope=col>Price</th><th scope=col>ABC</th><th scope=col>Sensex</th><th scope=col>DividendAnnounced</th><th scope=col>Sentiment</th><th scope=col>Nifty</th></tr>\n",
       "\t<tr><th scope=col>&lt;dttm&gt;</th><th scope=col>&lt;dbl&gt;</th><th scope=col>&lt;dbl&gt;</th><th scope=col>&lt;dbl&gt;</th><th scope=col>&lt;dbl&gt;</th><th scope=col>&lt;dbl&gt;</th><th scope=col>&lt;dbl&gt;</th></tr>\n",
       "</thead>\n",
       "<tbody>\n",
       "\t<tr><td>2000-01-03</td><td>718.15</td><td> 0.07992481</td><td> 0.073772129</td><td>0</td><td> 0.04893645</td><td> 0.095816410</td></tr>\n",
       "\t<tr><td>2000-01-04</td><td>712.90</td><td>-0.00731045</td><td> 0.021562349</td><td>0</td><td>-0.05503706</td><td> 0.009706008</td></tr>\n",
       "\t<tr><td>2000-01-05</td><td>730.00</td><td> 0.02398653</td><td>-0.024405346</td><td>0</td><td> 0.01913459</td><td>-0.032213609</td></tr>\n",
       "\t<tr><td>2000-01-06</td><td>788.35</td><td> 0.07993151</td><td> 0.012045921</td><td>0</td><td> 0.08035507</td><td> 0.011204936</td></tr>\n",
       "\t<tr><td>2000-01-07</td><td>851.40</td><td> 0.07997717</td><td>-0.001300371</td><td>0</td><td> 0.09403754</td><td>-0.000397248</td></tr>\n",
       "\t<tr><td>2000-01-10</td><td>919.50</td><td> 0.07998591</td><td> 0.019191132</td><td>1</td><td> 0.01522908</td><td> 0.030167565</td></tr>\n",
       "</tbody>\n",
       "</table>\n"
      ],
      "text/latex": [
       "A tibble: 6 × 7\n",
       "\\begin{tabular}{lllllll}\n",
       " Date & Price & ABC & Sensex & DividendAnnounced & Sentiment & Nifty\\\\\n",
       " <dttm> & <dbl> & <dbl> & <dbl> & <dbl> & <dbl> & <dbl>\\\\\n",
       "\\hline\n",
       "\t 2000-01-03 & 718.15 &  0.07992481 &  0.073772129 & 0 &  0.04893645 &  0.095816410\\\\\n",
       "\t 2000-01-04 & 712.90 & -0.00731045 &  0.021562349 & 0 & -0.05503706 &  0.009706008\\\\\n",
       "\t 2000-01-05 & 730.00 &  0.02398653 & -0.024405346 & 0 &  0.01913459 & -0.032213609\\\\\n",
       "\t 2000-01-06 & 788.35 &  0.07993151 &  0.012045921 & 0 &  0.08035507 &  0.011204936\\\\\n",
       "\t 2000-01-07 & 851.40 &  0.07997717 & -0.001300371 & 0 &  0.09403754 & -0.000397248\\\\\n",
       "\t 2000-01-10 & 919.50 &  0.07998591 &  0.019191132 & 1 &  0.01522908 &  0.030167565\\\\\n",
       "\\end{tabular}\n"
      ],
      "text/markdown": [
       "\n",
       "A tibble: 6 × 7\n",
       "\n",
       "| Date &lt;dttm&gt; | Price &lt;dbl&gt; | ABC &lt;dbl&gt; | Sensex &lt;dbl&gt; | DividendAnnounced &lt;dbl&gt; | Sentiment &lt;dbl&gt; | Nifty &lt;dbl&gt; |\n",
       "|---|---|---|---|---|---|---|\n",
       "| 2000-01-03 | 718.15 |  0.07992481 |  0.073772129 | 0 |  0.04893645 |  0.095816410 |\n",
       "| 2000-01-04 | 712.90 | -0.00731045 |  0.021562349 | 0 | -0.05503706 |  0.009706008 |\n",
       "| 2000-01-05 | 730.00 |  0.02398653 | -0.024405346 | 0 |  0.01913459 | -0.032213609 |\n",
       "| 2000-01-06 | 788.35 |  0.07993151 |  0.012045921 | 0 |  0.08035507 |  0.011204936 |\n",
       "| 2000-01-07 | 851.40 |  0.07997717 | -0.001300371 | 0 |  0.09403754 | -0.000397248 |\n",
       "| 2000-01-10 | 919.50 |  0.07998591 |  0.019191132 | 1 |  0.01522908 |  0.030167565 |\n",
       "\n"
      ],
      "text/plain": [
       "  Date       Price  ABC         Sensex       DividendAnnounced Sentiment  \n",
       "1 2000-01-03 718.15  0.07992481  0.073772129 0                  0.04893645\n",
       "2 2000-01-04 712.90 -0.00731045  0.021562349 0                 -0.05503706\n",
       "3 2000-01-05 730.00  0.02398653 -0.024405346 0                  0.01913459\n",
       "4 2000-01-06 788.35  0.07993151  0.012045921 0                  0.08035507\n",
       "5 2000-01-07 851.40  0.07997717 -0.001300371 0                  0.09403754\n",
       "6 2000-01-10 919.50  0.07998591  0.019191132 1                  0.01522908\n",
       "  Nifty       \n",
       "1  0.095816410\n",
       "2  0.009706008\n",
       "3 -0.032213609\n",
       "4  0.011204936\n",
       "5 -0.000397248\n",
       "6  0.030167565"
      ]
     },
     "metadata": {},
     "output_type": "display_data"
    },
    {
     "data": {
      "text/html": [
       "<style>\n",
       ".list-inline {list-style: none; margin:0; padding: 0}\n",
       ".list-inline>li {display: inline-block}\n",
       ".list-inline>li:not(:last-child)::after {content: \"\\00b7\"; padding: 0 .5ex}\n",
       "</style>\n",
       "<ol class=list-inline><li>5153</li><li>7</li></ol>\n"
      ],
      "text/latex": [
       "\\begin{enumerate*}\n",
       "\\item 5153\n",
       "\\item 7\n",
       "\\end{enumerate*}\n"
      ],
      "text/markdown": [
       "1. 5153\n",
       "2. 7\n",
       "\n",
       "\n"
      ],
      "text/plain": [
       "[1] 5153    7"
      ]
     },
     "metadata": {},
     "output_type": "display_data"
    }
   ],
   "source": [
    "Data = read_excel('week_5/ABC.xlsx')\n",
    "head(Data)\n",
    "dim(Data)\n"
   ]
  },
  {
   "cell_type": "code",
   "execution_count": 5,
   "metadata": {
    "vscode": {
     "languageId": "r"
    }
   },
   "outputs": [
    {
     "data": {
      "text/html": [
       "<style>\n",
       ".list-inline {list-style: none; margin:0; padding: 0}\n",
       ".list-inline>li {display: inline-block}\n",
       ".list-inline>li:not(:last-child)::after {content: \"\\00b7\"; padding: 0 .5ex}\n",
       "</style>\n",
       "<ol class=list-inline><li>'POSIXct'</li><li>'POSIXt'</li></ol>\n"
      ],
      "text/latex": [
       "\\begin{enumerate*}\n",
       "\\item 'POSIXct'\n",
       "\\item 'POSIXt'\n",
       "\\end{enumerate*}\n"
      ],
      "text/markdown": [
       "1. 'POSIXct'\n",
       "2. 'POSIXt'\n",
       "\n",
       "\n"
      ],
      "text/plain": [
       "[1] \"POSIXct\" \"POSIXt\" "
      ]
     },
     "metadata": {},
     "output_type": "display_data"
    }
   ],
   "source": [
    "class(Data$Date)"
   ]
  },
  {
   "cell_type": "markdown",
   "metadata": {},
   "source": [
    "Converting this POSIX to normal date variable"
   ]
  },
  {
   "cell_type": "code",
   "execution_count": 6,
   "metadata": {
    "vscode": {
     "languageId": "r"
    }
   },
   "outputs": [
    {
     "data": {
      "text/html": [
       "'Date'"
      ],
      "text/latex": [
       "'Date'"
      ],
      "text/markdown": [
       "'Date'"
      ],
      "text/plain": [
       "[1] \"Date\""
      ]
     },
     "metadata": {},
     "output_type": "display_data"
    }
   ],
   "source": [
    "Data$Date = as.Date(Data$Date)\n",
    "class(Data$Date)"
   ]
  },
  {
   "cell_type": "code",
   "execution_count": 7,
   "metadata": {
    "vscode": {
     "languageId": "r"
    }
   },
   "outputs": [
    {
     "data": {
      "image/png": "[encoded data removed]",
      "text/plain": [
       "Plot with title \"ABC Returns\""
      ]
     },
     "metadata": {
      "image/png": {
       "height": 420,
       "width": 420
      }
     },
     "output_type": "display_data"
    }
   ],
   "source": [
    "plot(Data$Date, Data$ABC , xlab=\"Data\", ylab = \"\", main = \"ABC Returns\", type = 'l')"
   ]
  },
  {
   "cell_type": "code",
   "execution_count": 9,
   "metadata": {
    "vscode": {
     "languageId": "r"
    }
   },
   "outputs": [
    {
     "data": {
      "image/png": "[encoded data removed]",
      "text/plain": [
       "Plot with title \"Cumulative returns Returns\""
      ]
     },
     "metadata": {
      "image/png": {
       "height": 420,
       "width": 420
      }
     },
     "output_type": "display_data"
    }
   ],
   "source": [
    "Data$CUM_Ret = Data$Price / Data$Price[1]-1\n",
    "plot(Data$Date, Data$CUM_Ret , xlab=\"Data\", ylab = \"\", main = \"Cumulative returns Returns\", type = 'l')"
   ]
  },
  {
   "cell_type": "code",
   "execution_count": 10,
   "metadata": {
    "vscode": {
     "languageId": "r"
    }
   },
   "outputs": [
    {
     "data": {
      "image/png": "[encoded data removed]",
      "text/plain": [
       "Plot with title \"Cumulative returns Returns\""
      ]
     },
     "metadata": {
      "image/png": {
       "height": 420,
       "width": 420
      }
     },
     "output_type": "display_data"
    }
   ],
   "source": [
    "# Market or Nifty returns\n",
    "plot(Data$Date, Data$Nifty , xlab=\"Data\", ylab = \"\", main = \"Cumulative returns Returns\", type = 'l')"
   ]
  },
  {
   "cell_type": "code",
   "execution_count": 11,
   "metadata": {
    "vscode": {
     "languageId": "r"
    }
   },
   "outputs": [
    {
     "data": {
      "image/png": "[encoded data removed]",
      "text/plain": [
       "Plot with title \"Cumulative returns Returns\""
      ]
     },
     "metadata": {
      "image/png": {
       "height": 420,
       "width": 420
      }
     },
     "output_type": "display_data"
    }
   ],
   "source": [
    "#Cumulative market returns\n",
    "Data$Cum_Ret_Nifty = cumsum(Data$Nifty)\n",
    "plot(Data$Date, Data$Cum_Ret_Nifty , xlab=\"Data\", ylab = \"\", main = \"Cumulative returns Returns\", type = 'l')"
   ]
  },
  {
   "cell_type": "markdown",
   "metadata": {},
   "source": [
    "### Basic Properties of data"
   ]
  },
  {
   "cell_type": "code",
   "execution_count": 12,
   "metadata": {
    "vscode": {
     "languageId": "r"
    }
   },
   "outputs": [
    {
     "data": {
      "text/plain": [
       "      Min.    1st Qu.     Median       Mean    3rd Qu.       Max. \n",
       "-0.9273627 -0.0090724  0.0001761  0.0003167  0.0100360  0.1108470 "
      ]
     },
     "metadata": {},
     "output_type": "display_data"
    }
   ],
   "source": [
    "summary(Data$ABC)"
   ]
  },
  {
   "cell_type": "code",
   "execution_count": 13,
   "metadata": {
    "vscode": {
     "languageId": "r"
    }
   },
   "outputs": [
    {
     "data": {
      "text/plain": [
       "      Min.    1st Qu.     Median       Mean    3rd Qu.       Max. \n",
       "-0.1458446 -0.0096267  0.0005979  0.0004322  0.0107338  0.1597033 "
      ]
     },
     "metadata": {},
     "output_type": "display_data"
    }
   ],
   "source": [
    "summary(Data$Nifty)"
   ]
  },
  {
   "cell_type": "code",
   "execution_count": 16,
   "metadata": {
    "vscode": {
     "languageId": "r"
    }
   },
   "outputs": [
    {
     "data": {
      "image/png": "[encoded data removed]",
      "text/plain": [
       "Plot with title \"Density-Graph\""
      ]
     },
     "metadata": {
      "image/png": {
       "height": 420,
       "width": 420
      }
     },
     "output_type": "display_data"
    }
   ],
   "source": [
    "plot(density(Data$ABC), main= \"Density-Graph\", xlab = \"Data\", col = 'red', lwd = 2, lty =1, xlim =c(-0.6,0.6))\n",
    "lines(density(Data$Nifty), col =\"blue\", lwd = 2)\n",
    "legend(\"topleft\",c(\"ABC\", \"NIFTY\"), fill = c(\"red\",\"blue\"))\n",
    "## ABS returns are skewed towards the left as we can see in the figure meanwhile NIFTY returns are Normal"
   ]
  },
  {
   "cell_type": "markdown",
   "metadata": {},
   "source": [
    "### Normality and Stationrity of the data"
   ]
  },
  {
   "cell_type": "code",
   "execution_count": 17,
   "metadata": {
    "vscode": {
     "languageId": "r"
    }
   },
   "outputs": [
    {
     "data": {
      "text/html": [
       "-11.9966899716744"
      ],
      "text/latex": [
       "-11.9966899716744"
      ],
      "text/markdown": [
       "-11.9966899716744"
      ],
      "text/plain": [
       "[1] -11.99669"
      ]
     },
     "metadata": {},
     "output_type": "display_data"
    },
    {
     "data": {
      "text/html": [
       "-0.177594537128568"
      ],
      "text/latex": [
       "-0.177594537128568"
      ],
      "text/markdown": [
       "-0.177594537128568"
      ],
      "text/plain": [
       "[1] -0.1775945"
      ]
     },
     "metadata": {},
     "output_type": "display_data"
    }
   ],
   "source": [
    "skewness(Data$ABC)\n",
    "skewness(Data$Nifty)"
   ]
  },
  {
   "cell_type": "code",
   "execution_count": 18,
   "metadata": {
    "vscode": {
     "languageId": "r"
    }
   },
   "outputs": [
    {
     "data": {
      "text/plain": [
       "\n",
       "\tD'Agostino skewness test\n",
       "\n",
       "data:  Data$ABC\n",
       "skew = -11.997, z = -81.159, p-value < 2.2e-16\n",
       "alternative hypothesis: data have a skewness\n"
      ]
     },
     "metadata": {},
     "output_type": "display_data"
    },
    {
     "data": {
      "text/plain": [
       "\n",
       "\tD'Agostino skewness test\n",
       "\n",
       "data:  Data$Nifty\n",
       "skew = -0.17759, z = -5.17203, p-value = 2.316e-07\n",
       "alternative hypothesis: data have a skewness\n"
      ]
     },
     "metadata": {},
     "output_type": "display_data"
    }
   ],
   "source": [
    "agostino.test(Data$ABC)\n",
    "agostino.test(Data$Nifty)"
   ]
  },
  {
   "cell_type": "code",
   "execution_count": 19,
   "metadata": {
    "vscode": {
     "languageId": "r"
    }
   },
   "outputs": [
    {
     "data": {
      "text/html": [
       "415.194530996606"
      ],
      "text/latex": [
       "415.194530996606"
      ],
      "text/markdown": [
       "415.194530996606"
      ],
      "text/plain": [
       "[1] 415.1945"
      ]
     },
     "metadata": {},
     "output_type": "display_data"
    },
    {
     "data": {
      "text/html": [
       "7.31955072939815"
      ],
      "text/latex": [
       "7.31955072939815"
      ],
      "text/markdown": [
       "7.31955072939815"
      ],
      "text/plain": [
       "[1] 7.319551"
      ]
     },
     "metadata": {},
     "output_type": "display_data"
    }
   ],
   "source": [
    "kurtosis(Data$ABC)\n",
    "kurtosis(Data$Nifty)"
   ]
  },
  {
   "cell_type": "code",
   "execution_count": 20,
   "metadata": {
    "vscode": {
     "languageId": "r"
    }
   },
   "outputs": [
    {
     "data": {
      "text/plain": [
       "\n",
       "\tAnscombe-Glynn kurtosis test\n",
       "\n",
       "data:  Data$ABC\n",
       "kurt = 415.195, z = 50.333, p-value < 2.2e-16\n",
       "alternative hypothesis: kurtosis is not equal to 3\n"
      ]
     },
     "metadata": {},
     "output_type": "display_data"
    },
    {
     "data": {
      "text/plain": [
       "\n",
       "\tAnscombe-Glynn kurtosis test\n",
       "\n",
       "data:  Data$Nifty\n",
       "kurt = 7.3196, z = 22.5579, p-value < 2.2e-16\n",
       "alternative hypothesis: kurtosis is not equal to 3\n"
      ]
     },
     "metadata": {},
     "output_type": "display_data"
    }
   ],
   "source": [
    "anscombe.test(Data$ABC)\n",
    "anscombe.test(Data$Nifty)"
   ]
  },
  {
   "cell_type": "code",
   "execution_count": null,
   "metadata": {
    "vscode": {
     "languageId": "r"
    }
   },
   "outputs": [],
   "source": [
    "jarque.test(Data$ABC)\n",
    "jarque.test(Data$)"
   ]
  }
 ],
 "metadata": {
  "kernelspec": {
   "display_name": "R",
   "language": "R",
   "name": "ir"
  },
  "language_info": {
   "codemirror_mode": "r",
   "file_extension": ".r",
   "mimetype": "text/x-r-source",
   "name": "R",
   "pygments_lexer": "r",
   "version": "4.4.1"
  }
 },
 "nbformat": 4,
 "nbformat_minor": 2
}
