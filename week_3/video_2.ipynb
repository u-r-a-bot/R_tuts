{
 "cells": [
  {
   "cell_type": "markdown",
   "metadata": {},
   "source": [
    "## Setting Up"
   ]
  },
  {
   "cell_type": "code",
   "execution_count": 1,
   "metadata": {
    "vscode": {
     "languageId": "r"
    }
   },
   "outputs": [
    {
     "data": {
      "text/html": [
       "'C:/Users/Anil/Documents/R programs'"
      ],
      "text/latex": [
       "'C:/Users/Anil/Documents/R programs'"
      ],
      "text/markdown": [
       "'C:/Users/Anil/Documents/R programs'"
      ],
      "text/plain": [
       "[1] \"C:/Users/Anil/Documents/R programs\""
      ]
     },
     "metadata": {},
     "output_type": "display_data"
    }
   ],
   "source": [
    "home_dir = normalizePath(\"~\")\n",
    "relative_path = file.path(\"R programs\")\n",
    "full_path = file.path(home_dir, relative_path)\n",
    "setwd(full_path)\n",
    "getwd()"
   ]
  },
  {
   "cell_type": "markdown",
   "metadata": {},
   "source": [
    "### Loading the data"
   ]
  },
  {
   "cell_type": "code",
   "execution_count": 3,
   "metadata": {
    "vscode": {
     "languageId": "r"
    }
   },
   "outputs": [
    {
     "data": {
      "text/html": [
       "<style>\n",
       ".list-inline {list-style: none; margin:0; padding: 0}\n",
       ".list-inline>li {display: inline-block}\n",
       ".list-inline>li:not(:last-child)::after {content: \"\\00b7\"; padding: 0 .5ex}\n",
       "</style>\n",
       "<ol class=list-inline><li>0.96</li><li>2.86</li><li>0.87</li><li>1</li><li>0.39</li><li>1</li></ol>\n"
      ],
      "text/latex": [
       "\\begin{enumerate*}\n",
       "\\item 0.96\n",
       "\\item 2.86\n",
       "\\item 0.87\n",
       "\\item 1\n",
       "\\item 0.39\n",
       "\\item 1\n",
       "\\end{enumerate*}\n"
      ],
      "text/markdown": [
       "1. 0.96\n",
       "2. 2.86\n",
       "3. 0.87\n",
       "4. 1\n",
       "5. 0.39\n",
       "6. 1\n",
       "\n",
       "\n"
      ],
      "text/plain": [
       "[1] 0.96 2.86 0.87 1.00 0.39 1.00"
      ]
     },
     "metadata": {},
     "output_type": "display_data"
    }
   ],
   "source": [
    "data <- read.csv(\"week_3/cola.csv\")\n",
    "data <- data$price\n",
    "head(data)"
   ]
  },
  {
   "cell_type": "markdown",
   "metadata": {},
   "source": [
    "### Range Computation"
   ]
  },
  {
   "cell_type": "code",
   "execution_count": 7,
   "metadata": {
    "vscode": {
     "languageId": "r"
    }
   },
   "outputs": [
    {
     "name": "stdout",
     "output_type": "stream",
     "text": [
      "[1] \"Range of the data\"\n"
     ]
    },
    {
     "data": {
      "text/html": [
       "<style>\n",
       ".list-inline {list-style: none; margin:0; padding: 0}\n",
       ".list-inline>li {display: inline-block}\n",
       ".list-inline>li:not(:last-child)::after {content: \"\\00b7\"; padding: 0 .5ex}\n",
       "</style>\n",
       "<ol class=list-inline><li>0.11</li><li>4.54</li></ol>\n"
      ],
      "text/latex": [
       "\\begin{enumerate*}\n",
       "\\item 0.11\n",
       "\\item 4.54\n",
       "\\end{enumerate*}\n"
      ],
      "text/markdown": [
       "1. 0.11\n",
       "2. 4.54\n",
       "\n",
       "\n"
      ],
      "text/plain": [
       "[1] 0.11 4.54"
      ]
     },
     "metadata": {},
     "output_type": "display_data"
    },
    {
     "name": "stdout",
     "output_type": "stream",
     "text": [
      "[1] \"Range of the data\"\n"
     ]
    },
    {
     "data": {
      "text/html": [
       "4.43"
      ],
      "text/latex": [
       "4.43"
      ],
      "text/markdown": [
       "4.43"
      ],
      "text/plain": [
       "[1] 4.43"
      ]
     },
     "metadata": {},
     "output_type": "display_data"
    }
   ],
   "source": [
    "print(\"Range of the data\")\n",
    "range(data)\n",
    "print(\"Range of the data\")\n",
    "max(data) - min(data)"
   ]
  },
  {
   "cell_type": "markdown",
   "metadata": {},
   "source": [
    "### Computing Variance and STD deviation"
   ]
  },
  {
   "cell_type": "code",
   "execution_count": 9,
   "metadata": {
    "vscode": {
     "languageId": "r"
    }
   },
   "outputs": [
    {
     "data": {
      "text/html": [
       "0.663519629229476"
      ],
      "text/latex": [
       "0.663519629229476"
      ],
      "text/markdown": [
       "0.663519629229476"
      ],
      "text/plain": [
       "[1] 0.6635196"
      ]
     },
     "metadata": {},
     "output_type": "display_data"
    },
    {
     "data": {
      "text/html": [
       "0.663417234224966"
      ],
      "text/latex": [
       "0.663417234224966"
      ],
      "text/markdown": [
       "0.663417234224966"
      ],
      "text/plain": [
       "[1] 0.6634172"
      ]
     },
     "metadata": {},
     "output_type": "display_data"
    }
   ],
   "source": [
    "var(data)\n",
    "sample_var =var(data)\n",
    "population_var = var(data)*(length(data)- 1)/length(data)    \n",
    "population_var"
   ]
  },
  {
   "cell_type": "code",
   "execution_count": 10,
   "metadata": {
    "vscode": {
     "languageId": "r"
    }
   },
   "outputs": [
    {
     "data": {
      "text/html": [
       "0.814567142247633"
      ],
      "text/latex": [
       "0.814567142247633"
      ],
      "text/markdown": [
       "0.814567142247633"
      ],
      "text/plain": [
       "[1] 0.8145671"
      ]
     },
     "metadata": {},
     "output_type": "display_data"
    },
    {
     "data": {
      "text/html": [
       "0.814504287419634"
      ],
      "text/latex": [
       "0.814504287419634"
      ],
      "text/markdown": [
       "0.814504287419634"
      ],
      "text/plain": [
       "[1] 0.8145043"
      ]
     },
     "metadata": {},
     "output_type": "display_data"
    }
   ],
   "source": [
    "sd(data)\n",
    "sample_sd = sd(data)\n",
    "population_sd = sd(data)*sqrt((length(data)- 1)/length(data))\n",
    "population_sd"
   ]
  },
  {
   "cell_type": "markdown",
   "metadata": {},
   "source": [
    "### Mean Absolute Deviation Measure"
   ]
  },
  {
   "cell_type": "code",
   "execution_count": 11,
   "metadata": {
    "vscode": {
     "languageId": "r"
    }
   },
   "outputs": [
    {
     "data": {
      "text/html": [
       "0.629984882258802"
      ],
      "text/latex": [
       "0.629984882258802"
      ],
      "text/markdown": [
       "0.629984882258802"
      ],
      "text/plain": [
       "[1] 0.6299849"
      ]
     },
     "metadata": {},
     "output_type": "display_data"
    }
   ],
   "source": [
    "sum(abs(data - mean(data)))/length(data)"
   ]
  },
  {
   "cell_type": "code",
   "execution_count": 13,
   "metadata": {
    "vscode": {
     "languageId": "r"
    }
   },
   "outputs": [],
   "source": [
    "library(Metrics)\n",
    "# ?mae"
   ]
  },
  {
   "cell_type": "code",
   "execution_count": 14,
   "metadata": {
    "vscode": {
     "languageId": "r"
    }
   },
   "outputs": [
    {
     "data": {
      "text/html": [
       "0.629984882258802"
      ],
      "text/latex": [
       "0.629984882258802"
      ],
      "text/markdown": [
       "0.629984882258802"
      ],
      "text/plain": [
       "[1] 0.6299849"
      ]
     },
     "metadata": {},
     "output_type": "display_data"
    }
   ],
   "source": [
    "mae(data , mean(data))"
   ]
  },
  {
   "cell_type": "markdown",
   "metadata": {},
   "source": [
    "### Measure Shape of the Data\n",
    "1) Skewness\n",
    "2) Kurtosis"
   ]
  },
  {
   "cell_type": "code",
   "execution_count": 15,
   "metadata": {
    "vscode": {
     "languageId": "r"
    }
   },
   "outputs": [
    {
     "name": "stderr",
     "output_type": "stream",
     "text": [
      "Registered S3 method overwritten by 'quantmod':\n",
      "  method            from\n",
      "  as.zoo.data.frame zoo \n",
      "\n"
     ]
    }
   ],
   "source": [
    "library(tseries)\n",
    "library(moments)"
   ]
  },
  {
   "cell_type": "code",
   "execution_count": 16,
   "metadata": {
    "vscode": {
     "languageId": "r"
    }
   },
   "outputs": [
    {
     "data": {
      "text/html": [
       "1.35546832077025"
      ],
      "text/latex": [
       "1.35546832077025"
      ],
      "text/markdown": [
       "1.35546832077025"
      ],
      "text/plain": [
       "[1] 1.355468"
      ]
     },
     "metadata": {},
     "output_type": "display_data"
    },
    {
     "data": {
      "text/html": [
       "4.24873253922044"
      ],
      "text/latex": [
       "4.24873253922044"
      ],
      "text/markdown": [
       "4.24873253922044"
      ],
      "text/plain": [
       "[1] 4.248733"
      ]
     },
     "metadata": {},
     "output_type": "display_data"
    }
   ],
   "source": [
    "skewness(data)\n",
    "kurtosis(data)"
   ]
  },
  {
   "cell_type": "markdown",
   "metadata": {},
   "source": [
    "## Cheking Skewness of a std Normal Distribution"
   ]
  },
  {
   "cell_type": "code",
   "execution_count": 18,
   "metadata": {
    "vscode": {
     "languageId": "r"
    }
   },
   "outputs": [
    {
     "data": {
      "text/html": [
       "0.0178448182029241"
      ],
      "text/latex": [
       "0.0178448182029241"
      ],
      "text/markdown": [
       "0.0178448182029241"
      ],
      "text/plain": [
       "[1] 0.01784482"
      ]
     },
     "metadata": {},
     "output_type": "display_data"
    },
    {
     "data": {
      "text/html": [
       "2.95155584551976"
      ],
      "text/latex": [
       "2.95155584551976"
      ],
      "text/markdown": [
       "2.95155584551976"
      ],
      "text/plain": [
       "[1] 2.951556"
      ]
     },
     "metadata": {},
     "output_type": "display_data"
    }
   ],
   "source": [
    "norm = rnorm(10000, 0,1)\n",
    "\n",
    "skewness(norm) # Of  normal distriution is nearly 0\n",
    "kurtosis(norm) # kurtosis of normal distribution is 3\n",
    "## As the number of samples increases the value of skewness reaches 0 and value of the kurtosis reaches 3\n"
   ]
  },
  {
   "cell_type": "code",
   "execution_count": null,
   "metadata": {
    "vscode": {
     "languageId": "r"
    }
   },
   "outputs": [],
   "source": []
  }
 ],
 "metadata": {
  "kernelspec": {
   "display_name": "R",
   "language": "R",
   "name": "ir"
  },
  "language_info": {
   "codemirror_mode": "r",
   "file_extension": ".r",
   "mimetype": "text/x-r-source",
   "name": "R",
   "pygments_lexer": "r",
   "version": "4.4.1"
  }
 },
 "nbformat": 4,
 "nbformat_minor": 2
}
