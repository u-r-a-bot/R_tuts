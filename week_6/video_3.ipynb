{
 "cells": [
  {
   "cell_type": "markdown",
   "metadata": {},
   "source": [
    "## Setting Up...."
   ]
  },
  {
   "cell_type": "code",
   "execution_count": 42,
   "metadata": {
    "vscode": {
     "languageId": "r"
    }
   },
   "outputs": [
    {
     "data": {
      "text/html": [
       "'C:/Users/death-star/Documents/R programs'"
      ],
      "text/latex": [
       "'C:/Users/death-star/Documents/R programs'"
      ],
      "text/markdown": [
       "'C:/Users/death-star/Documents/R programs'"
      ],
      "text/plain": [
       "[1] \"C:/Users/death-star/Documents/R programs\""
      ]
     },
     "metadata": {},
     "output_type": "display_data"
    }
   ],
   "source": [
    "home_dir = normalizePath(\"~\")\n",
    "relative_path = file.path(\"R programs\")\n",
    "full_path = file.path(home_dir, relative_path)\n",
    "setwd(full_path)\n",
    "getwd()"
   ]
  },
  {
   "cell_type": "code",
   "execution_count": 43,
   "metadata": {
    "vscode": {
     "languageId": "r"
    }
   },
   "outputs": [],
   "source": [
    "library(readxl)\n",
    "library(caret)\n",
    "library(lubridate)\n",
    "library(moments)\n",
    "library(car)\n",
    "library(lmtest)\n",
    "library(sandwich)\n",
    "library(tidyverse)\n",
    "library(margins)"
   ]
  },
  {
   "cell_type": "code",
   "execution_count": 44,
   "metadata": {
    "vscode": {
     "languageId": "r"
    }
   },
   "outputs": [
    {
     "data": {
      "text/html": [
       "<style>\n",
       ".list-inline {list-style: none; margin:0; padding: 0}\n",
       ".list-inline>li {display: inline-block}\n",
       ".list-inline>li:not(:last-child)::after {content: \"\\00b7\"; padding: 0 .5ex}\n",
       "</style>\n",
       "<ol class=list-inline><li>'POSIXct'</li><li>'POSIXt'</li></ol>\n"
      ],
      "text/latex": [
       "\\begin{enumerate*}\n",
       "\\item 'POSIXct'\n",
       "\\item 'POSIXt'\n",
       "\\end{enumerate*}\n"
      ],
      "text/markdown": [
       "1. 'POSIXct'\n",
       "2. 'POSIXt'\n",
       "\n",
       "\n"
      ],
      "text/plain": [
       "[1] \"POSIXct\" \"POSIXt\" "
      ]
     },
     "metadata": {},
     "output_type": "display_data"
    },
    {
     "data": {
      "text/html": [
       "'Date'"
      ],
      "text/latex": [
       "'Date'"
      ],
      "text/markdown": [
       "'Date'"
      ],
      "text/plain": [
       "[1] \"Date\""
      ]
     },
     "metadata": {},
     "output_type": "display_data"
    }
   ],
   "source": [
    "Data <- read_excel(\"week_6/ABC.xlsx\")\n",
    "class(Data$Date)\n",
    "Data$Date = as.Date(Data$Date)\n",
    "class(Data$Date)"
   ]
  },
  {
   "cell_type": "markdown",
   "metadata": {},
   "source": [
    "### Create updown 1 returns are positive and 0 when returns are negative"
   ]
  },
  {
   "cell_type": "code",
   "execution_count": 45,
   "metadata": {
    "vscode": {
     "languageId": "r"
    }
   },
   "outputs": [
    {
     "data": {
      "text/html": [
       "<table class=\"dataframe\">\n",
       "<caption>A tibble: 6 × 8</caption>\n",
       "<thead>\n",
       "\t<tr><th scope=col>Date</th><th scope=col>Price</th><th scope=col>ABC</th><th scope=col>Sensex</th><th scope=col>DividendAnnounced</th><th scope=col>Sentiment</th><th scope=col>Nifty</th><th scope=col>updown</th></tr>\n",
       "\t<tr><th scope=col>&lt;date&gt;</th><th scope=col>&lt;dbl&gt;</th><th scope=col>&lt;dbl&gt;</th><th scope=col>&lt;dbl&gt;</th><th scope=col>&lt;dbl&gt;</th><th scope=col>&lt;dbl&gt;</th><th scope=col>&lt;dbl&gt;</th><th scope=col>&lt;dbl&gt;</th></tr>\n",
       "</thead>\n",
       "<tbody>\n",
       "\t<tr><td>2000-01-03</td><td>718.15</td><td> 0.07992481</td><td> 0.073772129</td><td>0</td><td> 0.04893645</td><td> 0.095816410</td><td>1</td></tr>\n",
       "\t<tr><td>2000-01-04</td><td>712.90</td><td>-0.00731045</td><td> 0.021562349</td><td>0</td><td>-0.05503706</td><td> 0.009706008</td><td>0</td></tr>\n",
       "\t<tr><td>2000-01-05</td><td>730.00</td><td> 0.02398653</td><td>-0.024405346</td><td>0</td><td> 0.01913459</td><td>-0.032213609</td><td>1</td></tr>\n",
       "\t<tr><td>2000-01-06</td><td>788.35</td><td> 0.07993151</td><td> 0.012045921</td><td>0</td><td> 0.08035507</td><td> 0.011204936</td><td>1</td></tr>\n",
       "\t<tr><td>2000-01-07</td><td>851.40</td><td> 0.07997717</td><td>-0.001300371</td><td>0</td><td> 0.09403754</td><td>-0.000397248</td><td>1</td></tr>\n",
       "\t<tr><td>2000-01-10</td><td>919.50</td><td> 0.07998591</td><td> 0.019191132</td><td>1</td><td> 0.01522908</td><td> 0.030167565</td><td>1</td></tr>\n",
       "</tbody>\n",
       "</table>\n"
      ],
      "text/latex": [
       "A tibble: 6 × 8\n",
       "\\begin{tabular}{llllllll}\n",
       " Date & Price & ABC & Sensex & DividendAnnounced & Sentiment & Nifty & updown\\\\\n",
       " <date> & <dbl> & <dbl> & <dbl> & <dbl> & <dbl> & <dbl> & <dbl>\\\\\n",
       "\\hline\n",
       "\t 2000-01-03 & 718.15 &  0.07992481 &  0.073772129 & 0 &  0.04893645 &  0.095816410 & 1\\\\\n",
       "\t 2000-01-04 & 712.90 & -0.00731045 &  0.021562349 & 0 & -0.05503706 &  0.009706008 & 0\\\\\n",
       "\t 2000-01-05 & 730.00 &  0.02398653 & -0.024405346 & 0 &  0.01913459 & -0.032213609 & 1\\\\\n",
       "\t 2000-01-06 & 788.35 &  0.07993151 &  0.012045921 & 0 &  0.08035507 &  0.011204936 & 1\\\\\n",
       "\t 2000-01-07 & 851.40 &  0.07997717 & -0.001300371 & 0 &  0.09403754 & -0.000397248 & 1\\\\\n",
       "\t 2000-01-10 & 919.50 &  0.07998591 &  0.019191132 & 1 &  0.01522908 &  0.030167565 & 1\\\\\n",
       "\\end{tabular}\n"
      ],
      "text/markdown": [
       "\n",
       "A tibble: 6 × 8\n",
       "\n",
       "| Date &lt;date&gt; | Price &lt;dbl&gt; | ABC &lt;dbl&gt; | Sensex &lt;dbl&gt; | DividendAnnounced &lt;dbl&gt; | Sentiment &lt;dbl&gt; | Nifty &lt;dbl&gt; | updown &lt;dbl&gt; |\n",
       "|---|---|---|---|---|---|---|---|\n",
       "| 2000-01-03 | 718.15 |  0.07992481 |  0.073772129 | 0 |  0.04893645 |  0.095816410 | 1 |\n",
       "| 2000-01-04 | 712.90 | -0.00731045 |  0.021562349 | 0 | -0.05503706 |  0.009706008 | 0 |\n",
       "| 2000-01-05 | 730.00 |  0.02398653 | -0.024405346 | 0 |  0.01913459 | -0.032213609 | 1 |\n",
       "| 2000-01-06 | 788.35 |  0.07993151 |  0.012045921 | 0 |  0.08035507 |  0.011204936 | 1 |\n",
       "| 2000-01-07 | 851.40 |  0.07997717 | -0.001300371 | 0 |  0.09403754 | -0.000397248 | 1 |\n",
       "| 2000-01-10 | 919.50 |  0.07998591 |  0.019191132 | 1 |  0.01522908 |  0.030167565 | 1 |\n",
       "\n"
      ],
      "text/plain": [
       "  Date       Price  ABC         Sensex       DividendAnnounced Sentiment  \n",
       "1 2000-01-03 718.15  0.07992481  0.073772129 0                  0.04893645\n",
       "2 2000-01-04 712.90 -0.00731045  0.021562349 0                 -0.05503706\n",
       "3 2000-01-05 730.00  0.02398653 -0.024405346 0                  0.01913459\n",
       "4 2000-01-06 788.35  0.07993151  0.012045921 0                  0.08035507\n",
       "5 2000-01-07 851.40  0.07997717 -0.001300371 0                  0.09403754\n",
       "6 2000-01-10 919.50  0.07998591  0.019191132 1                  0.01522908\n",
       "  Nifty        updown\n",
       "1  0.095816410 1     \n",
       "2  0.009706008 0     \n",
       "3 -0.032213609 1     \n",
       "4  0.011204936 1     \n",
       "5 -0.000397248 1     \n",
       "6  0.030167565 1     "
      ]
     },
     "metadata": {},
     "output_type": "display_data"
    }
   ],
   "source": [
    "Data = Data |> mutate(updown= ifelse(ABC>0, 1, 0))\n",
    "Data = na.omit(Data)\n",
    "head(Data)"
   ]
  },
  {
   "cell_type": "markdown",
   "metadata": {},
   "source": [
    "## Splittin data into trainging and testing dataset"
   ]
  },
  {
   "cell_type": "code",
   "execution_count": 46,
   "metadata": {
    "vscode": {
     "languageId": "r"
    }
   },
   "outputs": [
    {
     "data": {
      "text/html": [
       "<table class=\"dataframe\">\n",
       "<caption>A tibble: 6 × 8</caption>\n",
       "<thead>\n",
       "\t<tr><th scope=col>Date</th><th scope=col>Price</th><th scope=col>ABC</th><th scope=col>Sensex</th><th scope=col>DividendAnnounced</th><th scope=col>Sentiment</th><th scope=col>Nifty</th><th scope=col>updown</th></tr>\n",
       "\t<tr><th scope=col>&lt;date&gt;</th><th scope=col>&lt;dbl&gt;</th><th scope=col>&lt;dbl&gt;</th><th scope=col>&lt;dbl&gt;</th><th scope=col>&lt;dbl&gt;</th><th scope=col>&lt;dbl&gt;</th><th scope=col>&lt;dbl&gt;</th><th scope=col>&lt;dbl&gt;</th></tr>\n",
       "</thead>\n",
       "<tbody>\n",
       "\t<tr><td>2017-09-06</td><td>276.25</td><td> 0.007292616</td><td>0.008484830</td><td>0</td><td> 0.009931342</td><td> 0.033892731</td><td>1</td></tr>\n",
       "\t<tr><td>2008-03-19</td><td>176.40</td><td> 0.053448791</td><td>0.039929529</td><td>0</td><td>-0.000076700</td><td> 0.049643752</td><td>1</td></tr>\n",
       "\t<tr><td>2013-03-27</td><td>333.05</td><td> 0.015706008</td><td>0.005015048</td><td>0</td><td> 0.064465920</td><td>-0.002174353</td><td>1</td></tr>\n",
       "\t<tr><td>2013-02-14</td><td>338.75</td><td> 0.011949216</td><td>0.003118151</td><td>0</td><td>-0.011342509</td><td> 0.014683646</td><td>1</td></tr>\n",
       "\t<tr><td>2016-09-22</td><td>330.40</td><td>-0.008552138</td><td>0.000991624</td><td>1</td><td> 0.044637134</td><td>-0.004574449</td><td>0</td></tr>\n",
       "\t<tr><td>2017-01-02</td><td>269.35</td><td> 0.008423811</td><td>0.013345461</td><td>0</td><td> 0.085421622</td><td> 0.001864313</td><td>1</td></tr>\n",
       "</tbody>\n",
       "</table>\n"
      ],
      "text/latex": [
       "A tibble: 6 × 8\n",
       "\\begin{tabular}{llllllll}\n",
       " Date & Price & ABC & Sensex & DividendAnnounced & Sentiment & Nifty & updown\\\\\n",
       " <date> & <dbl> & <dbl> & <dbl> & <dbl> & <dbl> & <dbl> & <dbl>\\\\\n",
       "\\hline\n",
       "\t 2017-09-06 & 276.25 &  0.007292616 & 0.008484830 & 0 &  0.009931342 &  0.033892731 & 1\\\\\n",
       "\t 2008-03-19 & 176.40 &  0.053448791 & 0.039929529 & 0 & -0.000076700 &  0.049643752 & 1\\\\\n",
       "\t 2013-03-27 & 333.05 &  0.015706008 & 0.005015048 & 0 &  0.064465920 & -0.002174353 & 1\\\\\n",
       "\t 2013-02-14 & 338.75 &  0.011949216 & 0.003118151 & 0 & -0.011342509 &  0.014683646 & 1\\\\\n",
       "\t 2016-09-22 & 330.40 & -0.008552138 & 0.000991624 & 1 &  0.044637134 & -0.004574449 & 0\\\\\n",
       "\t 2017-01-02 & 269.35 &  0.008423811 & 0.013345461 & 0 &  0.085421622 &  0.001864313 & 1\\\\\n",
       "\\end{tabular}\n"
      ],
      "text/markdown": [
       "\n",
       "A tibble: 6 × 8\n",
       "\n",
       "| Date &lt;date&gt; | Price &lt;dbl&gt; | ABC &lt;dbl&gt; | Sensex &lt;dbl&gt; | DividendAnnounced &lt;dbl&gt; | Sentiment &lt;dbl&gt; | Nifty &lt;dbl&gt; | updown &lt;dbl&gt; |\n",
       "|---|---|---|---|---|---|---|---|\n",
       "| 2017-09-06 | 276.25 |  0.007292616 | 0.008484830 | 0 |  0.009931342 |  0.033892731 | 1 |\n",
       "| 2008-03-19 | 176.40 |  0.053448791 | 0.039929529 | 0 | -0.000076700 |  0.049643752 | 1 |\n",
       "| 2013-03-27 | 333.05 |  0.015706008 | 0.005015048 | 0 |  0.064465920 | -0.002174353 | 1 |\n",
       "| 2013-02-14 | 338.75 |  0.011949216 | 0.003118151 | 0 | -0.011342509 |  0.014683646 | 1 |\n",
       "| 2016-09-22 | 330.40 | -0.008552138 | 0.000991624 | 1 |  0.044637134 | -0.004574449 | 0 |\n",
       "| 2017-01-02 | 269.35 |  0.008423811 | 0.013345461 | 0 |  0.085421622 |  0.001864313 | 1 |\n",
       "\n"
      ],
      "text/plain": [
       "  Date       Price  ABC          Sensex      DividendAnnounced Sentiment   \n",
       "1 2017-09-06 276.25  0.007292616 0.008484830 0                  0.009931342\n",
       "2 2008-03-19 176.40  0.053448791 0.039929529 0                 -0.000076700\n",
       "3 2013-03-27 333.05  0.015706008 0.005015048 0                  0.064465920\n",
       "4 2013-02-14 338.75  0.011949216 0.003118151 0                 -0.011342509\n",
       "5 2016-09-22 330.40 -0.008552138 0.000991624 1                  0.044637134\n",
       "6 2017-01-02 269.35  0.008423811 0.013345461 0                  0.085421622\n",
       "  Nifty        updown\n",
       "1  0.033892731 1     \n",
       "2  0.049643752 1     \n",
       "3 -0.002174353 1     \n",
       "4  0.014683646 1     \n",
       "5 -0.004574449 0     \n",
       "6  0.001864313 1     "
      ]
     },
     "metadata": {},
     "output_type": "display_data"
    },
    {
     "data": {
      "text/html": [
       "<table class=\"dataframe\">\n",
       "<caption>A tibble: 6 × 8</caption>\n",
       "<thead>\n",
       "\t<tr><th scope=col>Date</th><th scope=col>Price</th><th scope=col>ABC</th><th scope=col>Sensex</th><th scope=col>DividendAnnounced</th><th scope=col>Sentiment</th><th scope=col>Nifty</th><th scope=col>updown</th></tr>\n",
       "\t<tr><th scope=col>&lt;date&gt;</th><th scope=col>&lt;dbl&gt;</th><th scope=col>&lt;dbl&gt;</th><th scope=col>&lt;dbl&gt;</th><th scope=col>&lt;dbl&gt;</th><th scope=col>&lt;dbl&gt;</th><th scope=col>&lt;dbl&gt;</th><th scope=col>&lt;dbl&gt;</th></tr>\n",
       "</thead>\n",
       "<tbody>\n",
       "\t<tr><td>2007-01-17</td><td>161.80</td><td> 0.011250000</td><td> 0.014838128</td><td>0</td><td> 0.03160541</td><td> 0.009882584</td><td>1</td></tr>\n",
       "\t<tr><td>2007-01-24</td><td>163.45</td><td> 0.017112632</td><td>-0.000745927</td><td>0</td><td> 0.04228807</td><td>-0.013464147</td><td>1</td></tr>\n",
       "\t<tr><td>2007-01-30</td><td>163.10</td><td> 0.007100957</td><td> 0.014213175</td><td>0</td><td>-0.03569235</td><td> 0.023299710</td><td>1</td></tr>\n",
       "\t<tr><td>2007-02-09</td><td>166.10</td><td>-0.003599280</td><td> 0.004145497</td><td>0</td><td>-0.05653594</td><td>-0.002741446</td><td>0</td></tr>\n",
       "\t<tr><td>2007-02-12</td><td>165.00</td><td>-0.006622517</td><td> 0.007662234</td><td>0</td><td>-0.05911901</td><td> 0.005747302</td><td>0</td></tr>\n",
       "\t<tr><td>2007-02-19</td><td>161.80</td><td>-0.017905918</td><td> 0.002706997</td><td>0</td><td>-0.01222755</td><td> 0.014448035</td><td>0</td></tr>\n",
       "</tbody>\n",
       "</table>\n"
      ],
      "text/latex": [
       "A tibble: 6 × 8\n",
       "\\begin{tabular}{llllllll}\n",
       " Date & Price & ABC & Sensex & DividendAnnounced & Sentiment & Nifty & updown\\\\\n",
       " <date> & <dbl> & <dbl> & <dbl> & <dbl> & <dbl> & <dbl> & <dbl>\\\\\n",
       "\\hline\n",
       "\t 2007-01-17 & 161.80 &  0.011250000 &  0.014838128 & 0 &  0.03160541 &  0.009882584 & 1\\\\\n",
       "\t 2007-01-24 & 163.45 &  0.017112632 & -0.000745927 & 0 &  0.04228807 & -0.013464147 & 1\\\\\n",
       "\t 2007-01-30 & 163.10 &  0.007100957 &  0.014213175 & 0 & -0.03569235 &  0.023299710 & 1\\\\\n",
       "\t 2007-02-09 & 166.10 & -0.003599280 &  0.004145497 & 0 & -0.05653594 & -0.002741446 & 0\\\\\n",
       "\t 2007-02-12 & 165.00 & -0.006622517 &  0.007662234 & 0 & -0.05911901 &  0.005747302 & 0\\\\\n",
       "\t 2007-02-19 & 161.80 & -0.017905918 &  0.002706997 & 0 & -0.01222755 &  0.014448035 & 0\\\\\n",
       "\\end{tabular}\n"
      ],
      "text/markdown": [
       "\n",
       "A tibble: 6 × 8\n",
       "\n",
       "| Date &lt;date&gt; | Price &lt;dbl&gt; | ABC &lt;dbl&gt; | Sensex &lt;dbl&gt; | DividendAnnounced &lt;dbl&gt; | Sentiment &lt;dbl&gt; | Nifty &lt;dbl&gt; | updown &lt;dbl&gt; |\n",
       "|---|---|---|---|---|---|---|---|\n",
       "| 2007-01-17 | 161.80 |  0.011250000 |  0.014838128 | 0 |  0.03160541 |  0.009882584 | 1 |\n",
       "| 2007-01-24 | 163.45 |  0.017112632 | -0.000745927 | 0 |  0.04228807 | -0.013464147 | 1 |\n",
       "| 2007-01-30 | 163.10 |  0.007100957 |  0.014213175 | 0 | -0.03569235 |  0.023299710 | 1 |\n",
       "| 2007-02-09 | 166.10 | -0.003599280 |  0.004145497 | 0 | -0.05653594 | -0.002741446 | 0 |\n",
       "| 2007-02-12 | 165.00 | -0.006622517 |  0.007662234 | 0 | -0.05911901 |  0.005747302 | 0 |\n",
       "| 2007-02-19 | 161.80 | -0.017905918 |  0.002706997 | 0 | -0.01222755 |  0.014448035 | 0 |\n",
       "\n"
      ],
      "text/plain": [
       "  Date       Price  ABC          Sensex       DividendAnnounced Sentiment  \n",
       "1 2007-01-17 161.80  0.011250000  0.014838128 0                  0.03160541\n",
       "2 2007-01-24 163.45  0.017112632 -0.000745927 0                  0.04228807\n",
       "3 2007-01-30 163.10  0.007100957  0.014213175 0                 -0.03569235\n",
       "4 2007-02-09 166.10 -0.003599280  0.004145497 0                 -0.05653594\n",
       "5 2007-02-12 165.00 -0.006622517  0.007662234 0                 -0.05911901\n",
       "6 2007-02-19 161.80 -0.017905918  0.002706997 0                 -0.01222755\n",
       "  Nifty        updown\n",
       "1  0.009882584 1     \n",
       "2 -0.013464147 1     \n",
       "3  0.023299710 1     \n",
       "4 -0.002741446 0     \n",
       "5  0.005747302 0     \n",
       "6  0.014448035 0     "
      ]
     },
     "metadata": {},
     "output_type": "display_data"
    }
   ],
   "source": [
    "Data = Data |>filter(year(Date)>2006)\n",
    "indx = sample(1:nrow(Data), as.integer(0.8*nrow(Data)))\n",
    "train = Data[indx,]\n",
    "test = Data[-indx,]\n",
    "head(train)\n",
    "head(test)"
   ]
  },
  {
   "cell_type": "code",
   "execution_count": 47,
   "metadata": {
    "vscode": {
     "languageId": "r"
    }
   },
   "outputs": [],
   "source": [
    "train = train |>arrange(Date)\n",
    "test = test|>arrange(Date)"
   ]
  },
  {
   "cell_type": "code",
   "execution_count": 48,
   "metadata": {
    "vscode": {
     "languageId": "r"
    }
   },
   "outputs": [
    {
     "data": {
      "text/plain": [
       "\n",
       "       0        1 \n",
       "49.63942 50.36058 "
      ]
     },
     "metadata": {},
     "output_type": "display_data"
    },
    {
     "data": {
      "text/plain": [
       "\n",
       "       0        1 \n",
       "50.52592 49.47408 "
      ]
     },
     "metadata": {},
     "output_type": "display_data"
    },
    {
     "data": {
      "text/plain": [
       "\n",
       "      0       1 \n",
       "46.0961 53.9039 "
      ]
     },
     "metadata": {},
     "output_type": "display_data"
    }
   ],
   "source": [
    "prop.table(table(Data$updown))*100\n",
    "prop.table(table(train$updown))*100\n",
    "prop.table(table(test$updown))*100"
   ]
  },
  {
   "cell_type": "code",
   "execution_count": 50,
   "metadata": {
    "vscode": {
     "languageId": "r"
    }
   },
   "outputs": [
    {
     "data": {
      "text/plain": [
       "\n",
       "Call:\n",
       "lm(formula = updown ~ Sensex, data = train)\n",
       "\n",
       "Residuals:\n",
       "     Min       1Q   Median       3Q      Max \n",
       "-1.69057 -0.45542 -0.05474  0.45375  1.34696 \n",
       "\n",
       "Coefficients:\n",
       "             Estimate Std. Error t value Pr(>|t|)    \n",
       "(Intercept)  0.491424   0.009051   54.29   <2e-16 ***\n",
       "Sensex      12.682979   0.640391   19.80   <2e-16 ***\n",
       "---\n",
       "Signif. codes:  0 '***' 0.001 '**' 0.01 '*' 0.05 '.' 0.1 ' ' 1\n",
       "\n",
       "Residual standard error: 0.4669 on 2660 degrees of freedom\n",
       "Multiple R-squared:  0.1285,\tAdjusted R-squared:  0.1282 \n",
       "F-statistic: 392.2 on 1 and 2660 DF,  p-value: < 2.2e-16\n"
      ]
     },
     "metadata": {},
     "output_type": "display_data"
    }
   ],
   "source": [
    "linear = lm(updown~ Sensex, data = train)\n",
    "summary(linear)"
   ]
  },
  {
   "cell_type": "code",
   "execution_count": 51,
   "metadata": {
    "vscode": {
     "languageId": "r"
    }
   },
   "outputs": [],
   "source": [
    "fitted.results = ifelse(linear$fitted.values>0.4, 1 , 0)\n",
    "CM = confusionMatrix(as.factor(fitted.results), as.factor(train$updown))\n",
    "performance_4 = tibble(Threshold =0.4, Accuracy = CM$overall[\"Accuracy\"],Sensitivity = CM$byClass[\"Sensitivity\"],\n",
    "                Specificity = CM$byClass[\"Specificity\"])"
   ]
  },
  {
   "cell_type": "code",
   "execution_count": 55,
   "metadata": {
    "vscode": {
     "languageId": "r"
    }
   },
   "outputs": [],
   "source": [
    "fitted.results = ifelse(linear$fitted.values>0.6, 1 , 0)\n",
    "CM = confusionMatrix(as.factor(fitted.results), as.factor(train$updown))\n",
    "performance_6 = tibble(Threshold =0.6, Accuracy = CM$overall[\"Accuracy\"],Sensitivity = CM$byClass[\"Sensitivity\"],\n",
    "                Specificity = CM$byClass[\"Specificity\"])"
   ]
  },
  {
   "cell_type": "code",
   "execution_count": 56,
   "metadata": {
    "vscode": {
     "languageId": "r"
    }
   },
   "outputs": [],
   "source": [
    "fitted.results = ifelse(linear$fitted.values>0.8, 1 , 0)\n",
    "CM = confusionMatrix(as.factor(fitted.results), as.factor(train$updown))\n",
    "performance_8 = tibble(Threshold =0.8, Accuracy = CM$overall[\"Accuracy\"],Sensitivity = CM$byClass[\"Sensitivity\"],\n",
    "                Specificity = CM$byClass[\"Specificity\"])"
   ]
  },
  {
   "cell_type": "code",
   "execution_count": 57,
   "metadata": {
    "vscode": {
     "languageId": "r"
    }
   },
   "outputs": [
    {
     "data": {
      "text/html": [
       "<table class=\"dataframe\">\n",
       "<caption>A tibble: 3 × 5</caption>\n",
       "<thead>\n",
       "\t<tr><th scope=col>Threshold</th><th scope=col>Accuracy</th><th scope=col>Sensitivity</th><th scope=col>Specificity</th><th scope=col>Class</th></tr>\n",
       "\t<tr><th scope=col>&lt;dbl&gt;</th><th scope=col>&lt;dbl&gt;</th><th scope=col>&lt;dbl&gt;</th><th scope=col>&lt;dbl&gt;</th><th scope=col>&lt;chr&gt;</th></tr>\n",
       "</thead>\n",
       "<tbody>\n",
       "\t<tr><td>0.4</td><td>0.6115702</td><td>0.3286245</td><td>0.90053151</td><td>Linear</td></tr>\n",
       "\t<tr><td>0.6</td><td>0.6141998</td><td>0.9152416</td><td>0.30675778</td><td>Linear</td></tr>\n",
       "\t<tr><td>0.8</td><td>0.5300526</td><td>0.9933086</td><td>0.05694761</td><td>Linear</td></tr>\n",
       "</tbody>\n",
       "</table>\n"
      ],
      "text/latex": [
       "A tibble: 3 × 5\n",
       "\\begin{tabular}{lllll}\n",
       " Threshold & Accuracy & Sensitivity & Specificity & Class\\\\\n",
       " <dbl> & <dbl> & <dbl> & <dbl> & <chr>\\\\\n",
       "\\hline\n",
       "\t 0.4 & 0.6115702 & 0.3286245 & 0.90053151 & Linear\\\\\n",
       "\t 0.6 & 0.6141998 & 0.9152416 & 0.30675778 & Linear\\\\\n",
       "\t 0.8 & 0.5300526 & 0.9933086 & 0.05694761 & Linear\\\\\n",
       "\\end{tabular}\n"
      ],
      "text/markdown": [
       "\n",
       "A tibble: 3 × 5\n",
       "\n",
       "| Threshold &lt;dbl&gt; | Accuracy &lt;dbl&gt; | Sensitivity &lt;dbl&gt; | Specificity &lt;dbl&gt; | Class &lt;chr&gt; |\n",
       "|---|---|---|---|---|\n",
       "| 0.4 | 0.6115702 | 0.3286245 | 0.90053151 | Linear |\n",
       "| 0.6 | 0.6141998 | 0.9152416 | 0.30675778 | Linear |\n",
       "| 0.8 | 0.5300526 | 0.9933086 | 0.05694761 | Linear |\n",
       "\n"
      ],
      "text/plain": [
       "  Threshold Accuracy  Sensitivity Specificity Class \n",
       "1 0.4       0.6115702 0.3286245   0.90053151  Linear\n",
       "2 0.6       0.6141998 0.9152416   0.30675778  Linear\n",
       "3 0.8       0.5300526 0.9933086   0.05694761  Linear"
      ]
     },
     "metadata": {},
     "output_type": "display_data"
    }
   ],
   "source": [
    "LinearPerformance = rbind(performance_4,performance_6, performance_8)\n",
    "LinearPerformance$Class = \"Linear\"\n",
    "LinearPerformance"
   ]
  },
  {
   "cell_type": "markdown",
   "metadata": {},
   "source": [
    "### Logit performance object"
   ]
  },
  {
   "cell_type": "code",
   "execution_count": 58,
   "metadata": {
    "vscode": {
     "languageId": "r"
    }
   },
   "outputs": [
    {
     "data": {
      "text/html": [
       "<table class=\"dataframe\">\n",
       "<caption>A margins: 2662 × 14</caption>\n",
       "<thead>\n",
       "\t<tr><th></th><th scope=col>Date</th><th scope=col>Price</th><th scope=col>ABC</th><th scope=col>Sensex</th><th scope=col>DividendAnnounced</th><th scope=col>Sentiment</th><th scope=col>Nifty</th><th scope=col>updown</th><th scope=col>fitted</th><th scope=col>se.fitted</th><th scope=col>dydx_Sensex</th><th scope=col>Var_dydx_Sensex</th><th scope=col>_weights</th><th scope=col>_at_number</th></tr>\n",
       "\t<tr><th></th><th scope=col>&lt;date&gt;</th><th scope=col>&lt;dbl&gt;</th><th scope=col>&lt;dbl&gt;</th><th scope=col>&lt;dbl&gt;</th><th scope=col>&lt;dbl&gt;</th><th scope=col>&lt;dbl&gt;</th><th scope=col>&lt;dbl&gt;</th><th scope=col>&lt;dbl&gt;</th><th scope=col>&lt;dbl&gt;</th><th scope=col>&lt;dbl&gt;</th><th scope=col>&lt;mrgnlffc&gt;</th><th scope=col>&lt;dbl&gt;</th><th scope=col>&lt;dbl&gt;</th><th scope=col>&lt;int&gt;</th></tr>\n",
       "</thead>\n",
       "<tbody>\n",
       "\t<tr><th scope=row>1</th><td>2007-01-01</td><td>153.20</td><td>-0.018577835</td><td> 0.020609571</td><td>0</td><td>-0.054241830</td><td> 0.002635723</td><td>0</td><td>0.8312359</td><td>0.01430681</td><td>11.200698</td><td>0.5775692</td><td>NA</td><td>1</td></tr>\n",
       "\t<tr><th scope=row>2</th><td>2007-01-02</td><td>158.65</td><td> 0.035574413</td><td> 0.023273919</td><td>0</td><td> 0.008467111</td><td> 0.010307882</td><td>1</td><td>0.8590158</td><td>0.01372075</td><td> 9.669802</td><td>0.5775692</td><td>NA</td><td>1</td></tr>\n",
       "\t<tr><th scope=row>3</th><td>2007-01-03</td><td>156.10</td><td>-0.016073117</td><td>-0.006464859</td><td>0</td><td> 0.004034366</td><td>-0.010663054</td><td>0</td><td>0.3618658</td><td>0.01218871</td><td>18.436363</td><td>0.5775692</td><td>NA</td><td>1</td></tr>\n",
       "\t<tr><th scope=row>4</th><td>2007-01-04</td><td>157.05</td><td> 0.006085842</td><td> 0.004787963</td><td>0</td><td> 0.097575403</td><td> 0.020007297</td><td>1</td><td>0.5820457</td><td>0.01131843</td><td>19.422187</td><td>0.5775692</td><td>NA</td><td>1</td></tr>\n",
       "\t<tr><th scope=row>5</th><td>2007-01-05</td><td>159.00</td><td> 0.012416428</td><td>-0.003839180</td><td>0</td><td>-0.056319409</td><td> 0.003910649</td><td>1</td><td>0.4115323</td><td>0.01125354</td><td>19.334774</td><td>0.5775692</td><td>NA</td><td>1</td></tr>\n",
       "\t<tr><th scope=row>6</th><td>2007-01-08</td><td>160.60</td><td> 0.010062893</td><td> 0.020390317</td><td>0</td><td> 0.079457951</td><td> 0.014303838</td><td>1</td><td>0.8287659</td><td>0.01434245</td><td>11.330849</td><td>0.5775692</td><td>NA</td><td>1</td></tr>\n",
       "\t<tr><th scope=row>7</th><td>2007-01-09</td><td>156.40</td><td>-0.026151930</td><td> 0.002224875</td><td>0</td><td>-0.068338808</td><td>-0.009343922</td><td>0</td><td>0.5315914</td><td>0.01065942</td><td>19.879867</td><td>0.5775692</td><td>NA</td><td>1</td></tr>\n",
       "\t<tr><th scope=row>8</th><td>2007-01-10</td><td>156.45</td><td> 0.000319693</td><td> 0.014961593</td><td>0</td><td> 0.027008654</td><td> 0.028965824</td><td>1</td><td>0.7583150</td><td>0.01447608</td><td>14.632824</td><td>0.5775692</td><td>NA</td><td>1</td></tr>\n",
       "\t<tr><th scope=row>9</th><td>2007-01-11</td><td>161.75</td><td> 0.033876638</td><td> 0.005733296</td><td>0</td><td>-0.006122434</td><td> 0.006707490</td><td>1</td><td>0.6002855</td><td>0.01165082</td><td>19.156711</td><td>0.5775692</td><td>NA</td><td>1</td></tr>\n",
       "\t<tr><th scope=row>10</th><td>2007-01-12</td><td>161.40</td><td>-0.002163833</td><td> 0.000781416</td><td>0</td><td> 0.058066754</td><td>-0.012296953</td><td>0</td><td>0.5028212</td><td>0.01051310</td><td>19.958899</td><td>0.5775692</td><td>NA</td><td>1</td></tr>\n",
       "\t<tr><th scope=row>11</th><td>2007-01-15</td><td>160.70</td><td>-0.004337051</td><td>-0.022510556</td><td>0</td><td> 0.086523084</td><td>-0.007527488</td><td>0</td><td>0.1360607</td><td>0.01339618</td><td> 9.385619</td><td>0.5775692</td><td>NA</td><td>1</td></tr>\n",
       "\t<tr><th scope=row>12</th><td>2007-01-16</td><td>160.00</td><td>-0.004355943</td><td>-0.002603429</td><td>0</td><td> 0.023595879</td><td> 0.006612190</td><td>0</td><td>0.4356171</td><td>0.01090076</td><td>19.628644</td><td>0.5775692</td><td>NA</td><td>1</td></tr>\n",
       "\t<tr><th scope=row>13</th><td>2007-01-18</td><td>161.05</td><td>-0.004635352</td><td>-0.010224311</td><td>0</td><td> 0.001996180</td><td>-0.020145052</td><td>0</td><td>0.2957876</td><td>0.01348951</td><td>16.630508</td><td>0.5775692</td><td>NA</td><td>1</td></tr>\n",
       "\t<tr><th scope=row>14</th><td>2007-01-19</td><td>160.75</td><td>-0.001862776</td><td>-0.003948538</td><td>0</td><td>-0.021729124</td><td>-0.005790925</td><td>0</td><td>0.4094194</td><td>0.01128853</td><td>19.304576</td><td>0.5775692</td><td>NA</td><td>1</td></tr>\n",
       "\t<tr><th scope=row>15</th><td>2007-01-22</td><td>159.95</td><td>-0.004976672</td><td>-0.008198570</td><td>0</td><td>-0.062290620</td><td>-0.011904162</td><td>0</td><td>0.3305500</td><td>0.01282826</td><td>17.667440</td><td>0.5775692</td><td>NA</td><td>1</td></tr>\n",
       "\t<tr><th scope=row>16</th><td>2007-01-23</td><td>160.70</td><td> 0.004688965</td><td> 0.001165962</td><td>0</td><td>-0.013946916</td><td>-0.012412262</td><td>1</td><td>0.5104954</td><td>0.01053375</td><td>19.950741</td><td>0.5775692</td><td>NA</td><td>1</td></tr>\n",
       "\t<tr><th scope=row>17</th><td>2007-01-25</td><td>162.05</td><td>-0.008565310</td><td> 0.001810296</td><td>0</td><td> 0.055766339</td><td>-0.018981951</td><td>0</td><td>0.5233413</td><td>0.01059849</td><td>19.916044</td><td>0.5775692</td><td>NA</td><td>1</td></tr>\n",
       "\t<tr><th scope=row>18</th><td>2007-01-26</td><td>162.00</td><td>-0.000308547</td><td> 0.012300524</td><td>0</td><td>-0.025942325</td><td> 0.018346303</td><td>0</td><td>0.7172777</td><td>0.01397345</td><td>16.190896</td><td>0.5775692</td><td>NA</td><td>1</td></tr>\n",
       "\t<tr><th scope=row>19</th><td>2007-01-29</td><td>161.95</td><td>-0.000308642</td><td>-0.002615664</td><td>0</td><td> 0.075798171</td><td>-0.001260851</td><td>0</td><td>0.4353769</td><td>0.01090382</td><td>19.626171</td><td>0.5775692</td><td>NA</td><td>1</td></tr>\n",
       "\t<tr><th scope=row>20</th><td>2007-01-31</td><td>165.05</td><td> 0.011955855</td><td> 0.012203314</td><td>0</td><td>-0.001894727</td><td> 0.021164221</td><td>1</td><td>0.7157011</td><td>0.01394832</td><td>16.245391</td><td>0.5775692</td><td>NA</td><td>1</td></tr>\n",
       "\t<tr><th scope=row>21</th><td>2007-02-01</td><td>167.00</td><td> 0.011814602</td><td> 0.000258747</td><td>0</td><td>-0.039158009</td><td>-0.002320621</td><td>1</td><td>0.4923890</td><td>0.01050702</td><td>19.954910</td><td>0.5775692</td><td>NA</td><td>1</td></tr>\n",
       "\t<tr><th scope=row>22</th><td>2007-02-02</td><td>171.00</td><td> 0.023952096</td><td> 0.008053324</td><td>0</td><td>-0.010236694</td><td> 0.003695922</td><td>1</td><td>0.6437990</td><td>0.01254500</td><td>18.308871</td><td>0.5775692</td><td>NA</td><td>1</td></tr>\n",
       "\t<tr><th scope=row>23</th><td>2007-02-05</td><td>170.70</td><td>-0.001754386</td><td> 0.002435743</td><td>0</td><td> 0.082823897</td><td> 0.019320075</td><td>0</td><td>0.5357813</td><td>0.01069597</td><td>19.857333</td><td>0.5775692</td><td>NA</td><td>1</td></tr>\n",
       "\t<tr><th scope=row>24</th><td>2007-02-06</td><td>166.35</td><td>-0.025483304</td><td>-0.006258596</td><td>0</td><td> 0.060466554</td><td>-0.018969556</td><td>0</td><td>0.3656773</td><td>0.01211131</td><td>18.519261</td><td>0.5775692</td><td>NA</td><td>1</td></tr>\n",
       "\t<tr><th scope=row>25</th><td>2007-02-07</td><td>166.15</td><td>-0.001202284</td><td>-0.010105645</td><td>0</td><td> 0.030947328</td><td> 0.009739389</td><td>0</td><td>0.2977649</td><td>0.01345470</td><td>16.694666</td><td>0.5775692</td><td>NA</td><td>1</td></tr>\n",
       "\t<tr><th scope=row>26</th><td>2007-02-08</td><td>166.70</td><td> 0.003310262</td><td> 0.008463853</td><td>0</td><td>-0.022284113</td><td> 0.005941379</td><td>1</td><td>0.6512797</td><td>0.01270378</td><td>18.132660</td><td>0.5775692</td><td>NA</td><td>1</td></tr>\n",
       "\t<tr><th scope=row>27</th><td>2007-02-13</td><td>162.35</td><td>-0.016060606</td><td>-0.006674152</td><td>0</td><td> 0.009098512</td><td> 0.017789432</td><td>0</td><td>0.3580161</td><td>0.01226727</td><td>18.350277</td><td>0.5775692</td><td>NA</td><td>1</td></tr>\n",
       "\t<tr><th scope=row>28</th><td>2007-02-14</td><td>163.60</td><td> 0.007699415</td><td> 0.009234369</td><td>0</td><td>-0.027404965</td><td> 0.010895580</td><td>1</td><td>0.6651185</td><td>0.01299475</td><td>17.783126</td><td>0.5775692</td><td>NA</td><td>1</td></tr>\n",
       "\t<tr><th scope=row>29</th><td>2007-02-15</td><td>161.45</td><td>-0.013141809</td><td> 0.001807561</td><td>0</td><td> 0.020362837</td><td>-0.007235694</td><td>0</td><td>0.5232868</td><td>0.01059813</td><td>19.916247</td><td>0.5775692</td><td>NA</td><td>1</td></tr>\n",
       "\t<tr><th scope=row>30</th><td>2007-02-16</td><td>164.75</td><td> 0.020439765</td><td>-0.005145926</td><td>0</td><td> 0.106452136</td><td>-0.015067449</td><td>1</td><td>0.3865190</td><td>0.01170005</td><td>18.931539</td><td>0.5775692</td><td>NA</td><td>1</td></tr>\n",
       "\t<tr><th scope=row>⋮</th><td>⋮</td><td>⋮</td><td>⋮</td><td>⋮</td><td>⋮</td><td>⋮</td><td>⋮</td><td>⋮</td><td>⋮</td><td>⋮</td><td>⋮</td><td>⋮</td><td>⋮</td><td>⋮</td></tr>\n",
       "\t<tr><th scope=row>2633</th><td>2019-08-12</td><td>195.45</td><td>-0.004076433</td><td> 0.014715275</td><td>0</td><td> 0.022982597</td><td> 0.020567099</td><td>0</td><td>0.7546924</td><td>0.01444525</td><td>14.78119</td><td>0.5775692</td><td>NA</td><td>1</td></tr>\n",
       "\t<tr><th scope=row>2634</th><td>2019-08-13</td><td>196.80</td><td> 0.006907137</td><td>-0.010958370</td><td>0</td><td> 0.050985196</td><td>-0.007608030</td><td>1</td><td>0.2837273</td><td>0.01369179</td><td>16.22568</td><td>0.5775692</td><td>NA</td><td>1</td></tr>\n",
       "\t<tr><th scope=row>2635</th><td>2019-08-14</td><td>193.35</td><td>-0.017530488</td><td>-0.008800895</td><td>0</td><td> 0.046555555</td><td>-0.009143133</td><td>0</td><td>0.3199961</td><td>0.01303813</td><td>17.37303</td><td>0.5775692</td><td>NA</td><td>1</td></tr>\n",
       "\t<tr><th scope=row>2636</th><td>2019-08-15</td><td>194.10</td><td> 0.003878976</td><td>-0.003423250</td><td>0</td><td> 0.027555033</td><td> 0.004771136</td><td>1</td><td>0.4195975</td><td>0.01112556</td><td>19.44350</td><td>0.5775692</td><td>NA</td><td>1</td></tr>\n",
       "\t<tr><th scope=row>2637</th><td>2019-08-16</td><td>192.70</td><td>-0.007212777</td><td>-0.017743823</td><td>0</td><td>-0.004377138</td><td>-0.032333026</td><td>0</td><td>0.1872751</td><td>0.01428898</td><td>12.15237</td><td>0.5775692</td><td>NA</td><td>1</td></tr>\n",
       "\t<tr><th scope=row>2638</th><td>2019-08-19</td><td>193.60</td><td> 0.004670472</td><td> 0.020257664</td><td>0</td><td> 0.026281810</td><td> 0.013354376</td><td>1</td><td>0.8272576</td><td>0.01436299</td><td>11.40984</td><td>0.5775692</td><td>NA</td><td>1</td></tr>\n",
       "\t<tr><th scope=row>2639</th><td>2019-08-22</td><td>196.05</td><td> 0.003583312</td><td> 0.000397628</td><td>0</td><td>-0.018244463</td><td> 0.004264114</td><td>1</td><td>0.4951607</td><td>0.01050616</td><td>19.95766</td><td>0.5775692</td><td>NA</td><td>1</td></tr>\n",
       "\t<tr><th scope=row>2640</th><td>2019-08-23</td><td>198.90</td><td> 0.014537108</td><td> 0.003719976</td><td>0</td><td>-0.063590837</td><td> 0.002177286</td><td>1</td><td>0.5611687</td><td>0.01099196</td><td>19.66086</td><td>0.5775692</td><td>NA</td><td>1</td></tr>\n",
       "\t<tr><th scope=row>2641</th><td>2019-08-26</td><td>203.65</td><td> 0.023881347</td><td> 0.005890983</td><td>0</td><td>-0.005999113</td><td>-0.013622724</td><td>1</td><td>0.6033025</td><td>0.01170913</td><td>19.10768</td><td>0.5775692</td><td>NA</td><td>1</td></tr>\n",
       "\t<tr><th scope=row>2642</th><td>2019-08-27</td><td>204.15</td><td> 0.002455193</td><td>-0.000973260</td><td>0</td><td> 0.049609324</td><td>-0.001387894</td><td>1</td><td>0.4678413</td><td>0.01059201</td><td>19.87698</td><td>0.5775692</td><td>NA</td><td>1</td></tr>\n",
       "\t<tr><th scope=row>2643</th><td>2019-08-28</td><td>201.50</td><td>-0.012980651</td><td>-0.001541323</td><td>0</td><td>-0.005797128</td><td> 0.005666088</td><td>0</td><td>0.4565677</td><td>0.01067605</td><td>19.80895</td><td>0.5775692</td><td>NA</td><td>1</td></tr>\n",
       "\t<tr><th scope=row>2644</th><td>2019-08-29</td><td>196.50</td><td>-0.024813896</td><td>-0.011306303</td><td>0</td><td>-0.032927355</td><td>-0.001252653</td><td>0</td><td>0.2781157</td><td>0.01377938</td><td>16.02940</td><td>0.5775692</td><td>NA</td><td>1</td></tr>\n",
       "\t<tr><th scope=row>2645</th><td>2019-08-30</td><td>198.65</td><td> 0.010941476</td><td> 0.004578991</td><td>0</td><td> 0.048827149</td><td>-0.010557758</td><td>1</td><td>0.5779814</td><td>0.01124985</td><td>19.47411</td><td>0.5775692</td><td>NA</td><td>1</td></tr>\n",
       "\t<tr><th scope=row>2646</th><td>2019-09-02</td><td>198.60</td><td>-0.000251699</td><td> 0.012550071</td><td>0</td><td> 0.016151333</td><td> 0.021525956</td><td>0</td><td>0.7213006</td><td>0.01403592</td><td>16.05005</td><td>0.5775692</td><td>NA</td><td>1</td></tr>\n",
       "\t<tr><th scope=row>2647</th><td>2019-09-03</td><td>198.45</td><td>-0.000755287</td><td> 0.002244323</td><td>0</td><td> 0.088749262</td><td>-0.006351528</td><td>0</td><td>0.5319780</td><td>0.01066264</td><td>19.87791</td><td>0.5775692</td><td>NA</td><td>1</td></tr>\n",
       "\t<tr><th scope=row>2648</th><td>2019-09-06</td><td>196.65</td><td>-0.001269680</td><td> 0.009479970</td><td>0</td><td>-0.028218443</td><td> 0.001738033</td><td>0</td><td>0.6694720</td><td>0.01308485</td><td>17.66685</td><td>0.5775692</td><td>NA</td><td>1</td></tr>\n",
       "\t<tr><th scope=row>2649</th><td>2019-09-09</td><td>195.55</td><td>-0.005593694</td><td> 0.001154667</td><td>0</td><td>-0.077867345</td><td> 0.005395426</td><td>0</td><td>0.5102701</td><td>0.01053295</td><td>19.95111</td><td>0.5775692</td><td>NA</td><td>1</td></tr>\n",
       "\t<tr><th scope=row>2650</th><td>2019-09-10</td><td>194.95</td><td>-0.003068269</td><td> 0.005922168</td><td>0</td><td> 0.010484545</td><td> 0.006816311</td><td>0</td><td>0.6038983</td><td>0.01172074</td><td>19.09782</td><td>0.5775692</td><td>NA</td><td>1</td></tr>\n",
       "\t<tr><th scope=row>2651</th><td>2019-09-11</td><td>194.20</td><td>-0.003847140</td><td> 0.001012184</td><td>0</td><td> 0.036576427</td><td> 0.024308773</td><td>0</td><td>0.5074269</td><td>0.01052386</td><td>19.95513</td><td>0.5775692</td><td>NA</td><td>1</td></tr>\n",
       "\t<tr><th scope=row>2652</th><td>2019-09-12</td><td>195.55</td><td> 0.006951596</td><td> 0.009046500</td><td>0</td><td>-0.011497665</td><td> 0.023929494</td><td>1</td><td>0.6617693</td><td>0.01292488</td><td>17.87052</td><td>0.5775692</td><td>NA</td><td>1</td></tr>\n",
       "\t<tr><th scope=row>2653</th><td>2019-09-13</td><td>191.25</td><td>-0.021989261</td><td>-0.021258606</td><td>0</td><td>-0.024521062</td><td>-0.005769162</td><td>0</td><td>0.1482437</td><td>0.01371488</td><td>10.08176</td><td>0.5775692</td><td>NA</td><td>1</td></tr>\n",
       "\t<tr><th scope=row>2654</th><td>2019-09-18</td><td>191.65</td><td> 0.001044659</td><td>-0.002432839</td><td>0</td><td>-0.035411276</td><td> 0.004606344</td><td>1</td><td>0.4389686</td><td>0.01085922</td><td>19.66220</td><td>0.5775692</td><td>NA</td><td>1</td></tr>\n",
       "\t<tr><th scope=row>2655</th><td>2019-09-19</td><td>186.65</td><td>-0.026089225</td><td>-0.016254032</td><td>0</td><td>-0.011767628</td><td>-0.015370956</td><td>0</td><td>0.2060559</td><td>0.01436240</td><td>13.06199</td><td>0.5775692</td><td>NA</td><td>1</td></tr>\n",
       "\t<tr><th scope=row>2656</th><td>2019-09-20</td><td>189.30</td><td> 0.014197696</td><td> 0.001565548</td><td>0</td><td>-0.009514089</td><td> 0.008117546</td><td>1</td><td>0.5184645</td><td>0.01056952</td><td>19.93232</td><td>0.5775692</td><td>NA</td><td>1</td></tr>\n",
       "\t<tr><th scope=row>2657</th><td>2019-09-23</td><td>188.15</td><td>-0.006075013</td><td>-0.001350436</td><td>0</td><td> 0.114144507</td><td> 0.003622162</td><td>0</td><td>0.4603516</td><td>0.01064482</td><td>19.83405</td><td>0.5775692</td><td>NA</td><td>1</td></tr>\n",
       "\t<tr><th scope=row>2658</th><td>2019-09-24</td><td>183.95</td><td>-0.022322615</td><td>-0.004468355</td><td>0</td><td>-0.033840115</td><td>-0.010957231</td><td>0</td><td>0.3994231</td><td>0.01146142</td><td>19.15204</td><td>0.5775692</td><td>NA</td><td>1</td></tr>\n",
       "\t<tr><th scope=row>2659</th><td>2019-09-25</td><td>184.95</td><td> 0.005436260</td><td> 0.016924160</td><td>0</td><td>-0.049778358</td><td> 0.024913576</td><td>1</td><td>0.7858619</td><td>0.01460411</td><td>13.43610</td><td>0.5775692</td><td>NA</td><td>1</td></tr>\n",
       "\t<tr><th scope=row>2660</th><td>2019-09-26</td><td>183.90</td><td>-0.005677210</td><td> 0.000366372</td><td>0</td><td>-0.008365814</td><td> 0.006269552</td><td>0</td><td>0.4945369</td><td>0.01050620</td><td>19.95715</td><td>0.5775692</td><td>NA</td><td>1</td></tr>\n",
       "\t<tr><th scope=row>2661</th><td>2019-10-01</td><td>180.65</td><td>-0.006325633</td><td> 0.006620676</td><td>0</td><td>-0.096255086</td><td>-0.006477505</td><td>0</td><td>0.6171586</td><td>0.01198619</td><td>18.86383</td><td>0.5775692</td><td>NA</td><td>1</td></tr>\n",
       "\t<tr><th scope=row>2662</th><td>2019-10-02</td><td>178.55</td><td>-0.011624689</td><td>-0.008218234</td><td>0</td><td>-0.027268226</td><td>-0.001123344</td><td>0</td><td>0.3302026</td><td>0.01283525</td><td>17.65803</td><td>0.5775692</td><td>NA</td><td>1</td></tr>\n",
       "</tbody>\n",
       "</table>\n"
      ],
      "text/latex": [
       "A margins: 2662 × 14\n",
       "\\begin{tabular}{r|llllllllllllll}\n",
       "  & Date & Price & ABC & Sensex & DividendAnnounced & Sentiment & Nifty & updown & fitted & se.fitted & dydx\\_Sensex & Var\\_dydx\\_Sensex & \\_weights & \\_at\\_number\\\\\n",
       "  & <date> & <dbl> & <dbl> & <dbl> & <dbl> & <dbl> & <dbl> & <dbl> & <dbl> & <dbl> & <mrgnlffc> & <dbl> & <dbl> & <int>\\\\\n",
       "\\hline\n",
       "\t1 & 2007-01-01 & 153.20 & -0.018577835 &  0.020609571 & 0 & -0.054241830 &  0.002635723 & 0 & 0.8312359 & 0.01430681 & 11.200698 & 0.5775692 & NA & 1\\\\\n",
       "\t2 & 2007-01-02 & 158.65 &  0.035574413 &  0.023273919 & 0 &  0.008467111 &  0.010307882 & 1 & 0.8590158 & 0.01372075 &  9.669802 & 0.5775692 & NA & 1\\\\\n",
       "\t3 & 2007-01-03 & 156.10 & -0.016073117 & -0.006464859 & 0 &  0.004034366 & -0.010663054 & 0 & 0.3618658 & 0.01218871 & 18.436363 & 0.5775692 & NA & 1\\\\\n",
       "\t4 & 2007-01-04 & 157.05 &  0.006085842 &  0.004787963 & 0 &  0.097575403 &  0.020007297 & 1 & 0.5820457 & 0.01131843 & 19.422187 & 0.5775692 & NA & 1\\\\\n",
       "\t5 & 2007-01-05 & 159.00 &  0.012416428 & -0.003839180 & 0 & -0.056319409 &  0.003910649 & 1 & 0.4115323 & 0.01125354 & 19.334774 & 0.5775692 & NA & 1\\\\\n",
       "\t6 & 2007-01-08 & 160.60 &  0.010062893 &  0.020390317 & 0 &  0.079457951 &  0.014303838 & 1 & 0.8287659 & 0.01434245 & 11.330849 & 0.5775692 & NA & 1\\\\\n",
       "\t7 & 2007-01-09 & 156.40 & -0.026151930 &  0.002224875 & 0 & -0.068338808 & -0.009343922 & 0 & 0.5315914 & 0.01065942 & 19.879867 & 0.5775692 & NA & 1\\\\\n",
       "\t8 & 2007-01-10 & 156.45 &  0.000319693 &  0.014961593 & 0 &  0.027008654 &  0.028965824 & 1 & 0.7583150 & 0.01447608 & 14.632824 & 0.5775692 & NA & 1\\\\\n",
       "\t9 & 2007-01-11 & 161.75 &  0.033876638 &  0.005733296 & 0 & -0.006122434 &  0.006707490 & 1 & 0.6002855 & 0.01165082 & 19.156711 & 0.5775692 & NA & 1\\\\\n",
       "\t10 & 2007-01-12 & 161.40 & -0.002163833 &  0.000781416 & 0 &  0.058066754 & -0.012296953 & 0 & 0.5028212 & 0.01051310 & 19.958899 & 0.5775692 & NA & 1\\\\\n",
       "\t11 & 2007-01-15 & 160.70 & -0.004337051 & -0.022510556 & 0 &  0.086523084 & -0.007527488 & 0 & 0.1360607 & 0.01339618 &  9.385619 & 0.5775692 & NA & 1\\\\\n",
       "\t12 & 2007-01-16 & 160.00 & -0.004355943 & -0.002603429 & 0 &  0.023595879 &  0.006612190 & 0 & 0.4356171 & 0.01090076 & 19.628644 & 0.5775692 & NA & 1\\\\\n",
       "\t13 & 2007-01-18 & 161.05 & -0.004635352 & -0.010224311 & 0 &  0.001996180 & -0.020145052 & 0 & 0.2957876 & 0.01348951 & 16.630508 & 0.5775692 & NA & 1\\\\\n",
       "\t14 & 2007-01-19 & 160.75 & -0.001862776 & -0.003948538 & 0 & -0.021729124 & -0.005790925 & 0 & 0.4094194 & 0.01128853 & 19.304576 & 0.5775692 & NA & 1\\\\\n",
       "\t15 & 2007-01-22 & 159.95 & -0.004976672 & -0.008198570 & 0 & -0.062290620 & -0.011904162 & 0 & 0.3305500 & 0.01282826 & 17.667440 & 0.5775692 & NA & 1\\\\\n",
       "\t16 & 2007-01-23 & 160.70 &  0.004688965 &  0.001165962 & 0 & -0.013946916 & -0.012412262 & 1 & 0.5104954 & 0.01053375 & 19.950741 & 0.5775692 & NA & 1\\\\\n",
       "\t17 & 2007-01-25 & 162.05 & -0.008565310 &  0.001810296 & 0 &  0.055766339 & -0.018981951 & 0 & 0.5233413 & 0.01059849 & 19.916044 & 0.5775692 & NA & 1\\\\\n",
       "\t18 & 2007-01-26 & 162.00 & -0.000308547 &  0.012300524 & 0 & -0.025942325 &  0.018346303 & 0 & 0.7172777 & 0.01397345 & 16.190896 & 0.5775692 & NA & 1\\\\\n",
       "\t19 & 2007-01-29 & 161.95 & -0.000308642 & -0.002615664 & 0 &  0.075798171 & -0.001260851 & 0 & 0.4353769 & 0.01090382 & 19.626171 & 0.5775692 & NA & 1\\\\\n",
       "\t20 & 2007-01-31 & 165.05 &  0.011955855 &  0.012203314 & 0 & -0.001894727 &  0.021164221 & 1 & 0.7157011 & 0.01394832 & 16.245391 & 0.5775692 & NA & 1\\\\\n",
       "\t21 & 2007-02-01 & 167.00 &  0.011814602 &  0.000258747 & 0 & -0.039158009 & -0.002320621 & 1 & 0.4923890 & 0.01050702 & 19.954910 & 0.5775692 & NA & 1\\\\\n",
       "\t22 & 2007-02-02 & 171.00 &  0.023952096 &  0.008053324 & 0 & -0.010236694 &  0.003695922 & 1 & 0.6437990 & 0.01254500 & 18.308871 & 0.5775692 & NA & 1\\\\\n",
       "\t23 & 2007-02-05 & 170.70 & -0.001754386 &  0.002435743 & 0 &  0.082823897 &  0.019320075 & 0 & 0.5357813 & 0.01069597 & 19.857333 & 0.5775692 & NA & 1\\\\\n",
       "\t24 & 2007-02-06 & 166.35 & -0.025483304 & -0.006258596 & 0 &  0.060466554 & -0.018969556 & 0 & 0.3656773 & 0.01211131 & 18.519261 & 0.5775692 & NA & 1\\\\\n",
       "\t25 & 2007-02-07 & 166.15 & -0.001202284 & -0.010105645 & 0 &  0.030947328 &  0.009739389 & 0 & 0.2977649 & 0.01345470 & 16.694666 & 0.5775692 & NA & 1\\\\\n",
       "\t26 & 2007-02-08 & 166.70 &  0.003310262 &  0.008463853 & 0 & -0.022284113 &  0.005941379 & 1 & 0.6512797 & 0.01270378 & 18.132660 & 0.5775692 & NA & 1\\\\\n",
       "\t27 & 2007-02-13 & 162.35 & -0.016060606 & -0.006674152 & 0 &  0.009098512 &  0.017789432 & 0 & 0.3580161 & 0.01226727 & 18.350277 & 0.5775692 & NA & 1\\\\\n",
       "\t28 & 2007-02-14 & 163.60 &  0.007699415 &  0.009234369 & 0 & -0.027404965 &  0.010895580 & 1 & 0.6651185 & 0.01299475 & 17.783126 & 0.5775692 & NA & 1\\\\\n",
       "\t29 & 2007-02-15 & 161.45 & -0.013141809 &  0.001807561 & 0 &  0.020362837 & -0.007235694 & 0 & 0.5232868 & 0.01059813 & 19.916247 & 0.5775692 & NA & 1\\\\\n",
       "\t30 & 2007-02-16 & 164.75 &  0.020439765 & -0.005145926 & 0 &  0.106452136 & -0.015067449 & 1 & 0.3865190 & 0.01170005 & 18.931539 & 0.5775692 & NA & 1\\\\\n",
       "\t⋮ & ⋮ & ⋮ & ⋮ & ⋮ & ⋮ & ⋮ & ⋮ & ⋮ & ⋮ & ⋮ & ⋮ & ⋮ & ⋮ & ⋮\\\\\n",
       "\t2633 & 2019-08-12 & 195.45 & -0.004076433 &  0.014715275 & 0 &  0.022982597 &  0.020567099 & 0 & 0.7546924 & 0.01444525 & 14.78119 & 0.5775692 & NA & 1\\\\\n",
       "\t2634 & 2019-08-13 & 196.80 &  0.006907137 & -0.010958370 & 0 &  0.050985196 & -0.007608030 & 1 & 0.2837273 & 0.01369179 & 16.22568 & 0.5775692 & NA & 1\\\\\n",
       "\t2635 & 2019-08-14 & 193.35 & -0.017530488 & -0.008800895 & 0 &  0.046555555 & -0.009143133 & 0 & 0.3199961 & 0.01303813 & 17.37303 & 0.5775692 & NA & 1\\\\\n",
       "\t2636 & 2019-08-15 & 194.10 &  0.003878976 & -0.003423250 & 0 &  0.027555033 &  0.004771136 & 1 & 0.4195975 & 0.01112556 & 19.44350 & 0.5775692 & NA & 1\\\\\n",
       "\t2637 & 2019-08-16 & 192.70 & -0.007212777 & -0.017743823 & 0 & -0.004377138 & -0.032333026 & 0 & 0.1872751 & 0.01428898 & 12.15237 & 0.5775692 & NA & 1\\\\\n",
       "\t2638 & 2019-08-19 & 193.60 &  0.004670472 &  0.020257664 & 0 &  0.026281810 &  0.013354376 & 1 & 0.8272576 & 0.01436299 & 11.40984 & 0.5775692 & NA & 1\\\\\n",
       "\t2639 & 2019-08-22 & 196.05 &  0.003583312 &  0.000397628 & 0 & -0.018244463 &  0.004264114 & 1 & 0.4951607 & 0.01050616 & 19.95766 & 0.5775692 & NA & 1\\\\\n",
       "\t2640 & 2019-08-23 & 198.90 &  0.014537108 &  0.003719976 & 0 & -0.063590837 &  0.002177286 & 1 & 0.5611687 & 0.01099196 & 19.66086 & 0.5775692 & NA & 1\\\\\n",
       "\t2641 & 2019-08-26 & 203.65 &  0.023881347 &  0.005890983 & 0 & -0.005999113 & -0.013622724 & 1 & 0.6033025 & 0.01170913 & 19.10768 & 0.5775692 & NA & 1\\\\\n",
       "\t2642 & 2019-08-27 & 204.15 &  0.002455193 & -0.000973260 & 0 &  0.049609324 & -0.001387894 & 1 & 0.4678413 & 0.01059201 & 19.87698 & 0.5775692 & NA & 1\\\\\n",
       "\t2643 & 2019-08-28 & 201.50 & -0.012980651 & -0.001541323 & 0 & -0.005797128 &  0.005666088 & 0 & 0.4565677 & 0.01067605 & 19.80895 & 0.5775692 & NA & 1\\\\\n",
       "\t2644 & 2019-08-29 & 196.50 & -0.024813896 & -0.011306303 & 0 & -0.032927355 & -0.001252653 & 0 & 0.2781157 & 0.01377938 & 16.02940 & 0.5775692 & NA & 1\\\\\n",
       "\t2645 & 2019-08-30 & 198.65 &  0.010941476 &  0.004578991 & 0 &  0.048827149 & -0.010557758 & 1 & 0.5779814 & 0.01124985 & 19.47411 & 0.5775692 & NA & 1\\\\\n",
       "\t2646 & 2019-09-02 & 198.60 & -0.000251699 &  0.012550071 & 0 &  0.016151333 &  0.021525956 & 0 & 0.7213006 & 0.01403592 & 16.05005 & 0.5775692 & NA & 1\\\\\n",
       "\t2647 & 2019-09-03 & 198.45 & -0.000755287 &  0.002244323 & 0 &  0.088749262 & -0.006351528 & 0 & 0.5319780 & 0.01066264 & 19.87791 & 0.5775692 & NA & 1\\\\\n",
       "\t2648 & 2019-09-06 & 196.65 & -0.001269680 &  0.009479970 & 0 & -0.028218443 &  0.001738033 & 0 & 0.6694720 & 0.01308485 & 17.66685 & 0.5775692 & NA & 1\\\\\n",
       "\t2649 & 2019-09-09 & 195.55 & -0.005593694 &  0.001154667 & 0 & -0.077867345 &  0.005395426 & 0 & 0.5102701 & 0.01053295 & 19.95111 & 0.5775692 & NA & 1\\\\\n",
       "\t2650 & 2019-09-10 & 194.95 & -0.003068269 &  0.005922168 & 0 &  0.010484545 &  0.006816311 & 0 & 0.6038983 & 0.01172074 & 19.09782 & 0.5775692 & NA & 1\\\\\n",
       "\t2651 & 2019-09-11 & 194.20 & -0.003847140 &  0.001012184 & 0 &  0.036576427 &  0.024308773 & 0 & 0.5074269 & 0.01052386 & 19.95513 & 0.5775692 & NA & 1\\\\\n",
       "\t2652 & 2019-09-12 & 195.55 &  0.006951596 &  0.009046500 & 0 & -0.011497665 &  0.023929494 & 1 & 0.6617693 & 0.01292488 & 17.87052 & 0.5775692 & NA & 1\\\\\n",
       "\t2653 & 2019-09-13 & 191.25 & -0.021989261 & -0.021258606 & 0 & -0.024521062 & -0.005769162 & 0 & 0.1482437 & 0.01371488 & 10.08176 & 0.5775692 & NA & 1\\\\\n",
       "\t2654 & 2019-09-18 & 191.65 &  0.001044659 & -0.002432839 & 0 & -0.035411276 &  0.004606344 & 1 & 0.4389686 & 0.01085922 & 19.66220 & 0.5775692 & NA & 1\\\\\n",
       "\t2655 & 2019-09-19 & 186.65 & -0.026089225 & -0.016254032 & 0 & -0.011767628 & -0.015370956 & 0 & 0.2060559 & 0.01436240 & 13.06199 & 0.5775692 & NA & 1\\\\\n",
       "\t2656 & 2019-09-20 & 189.30 &  0.014197696 &  0.001565548 & 0 & -0.009514089 &  0.008117546 & 1 & 0.5184645 & 0.01056952 & 19.93232 & 0.5775692 & NA & 1\\\\\n",
       "\t2657 & 2019-09-23 & 188.15 & -0.006075013 & -0.001350436 & 0 &  0.114144507 &  0.003622162 & 0 & 0.4603516 & 0.01064482 & 19.83405 & 0.5775692 & NA & 1\\\\\n",
       "\t2658 & 2019-09-24 & 183.95 & -0.022322615 & -0.004468355 & 0 & -0.033840115 & -0.010957231 & 0 & 0.3994231 & 0.01146142 & 19.15204 & 0.5775692 & NA & 1\\\\\n",
       "\t2659 & 2019-09-25 & 184.95 &  0.005436260 &  0.016924160 & 0 & -0.049778358 &  0.024913576 & 1 & 0.7858619 & 0.01460411 & 13.43610 & 0.5775692 & NA & 1\\\\\n",
       "\t2660 & 2019-09-26 & 183.90 & -0.005677210 &  0.000366372 & 0 & -0.008365814 &  0.006269552 & 0 & 0.4945369 & 0.01050620 & 19.95715 & 0.5775692 & NA & 1\\\\\n",
       "\t2661 & 2019-10-01 & 180.65 & -0.006325633 &  0.006620676 & 0 & -0.096255086 & -0.006477505 & 0 & 0.6171586 & 0.01198619 & 18.86383 & 0.5775692 & NA & 1\\\\\n",
       "\t2662 & 2019-10-02 & 178.55 & -0.011624689 & -0.008218234 & 0 & -0.027268226 & -0.001123344 & 0 & 0.3302026 & 0.01283525 & 17.65803 & 0.5775692 & NA & 1\\\\\n",
       "\\end{tabular}\n"
      ],
      "text/markdown": [
       "\n",
       "A margins: 2662 × 14\n",
       "\n",
       "| <!--/--> | Date &lt;date&gt; | Price &lt;dbl&gt; | ABC &lt;dbl&gt; | Sensex &lt;dbl&gt; | DividendAnnounced &lt;dbl&gt; | Sentiment &lt;dbl&gt; | Nifty &lt;dbl&gt; | updown &lt;dbl&gt; | fitted &lt;dbl&gt; | se.fitted &lt;dbl&gt; | dydx_Sensex &lt;mrgnlffc&gt; | Var_dydx_Sensex &lt;dbl&gt; | _weights &lt;dbl&gt; | _at_number &lt;int&gt; |\n",
       "|---|---|---|---|---|---|---|---|---|---|---|---|---|---|---|\n",
       "| 1 | 2007-01-01 | 153.20 | -0.018577835 |  0.020609571 | 0 | -0.054241830 |  0.002635723 | 0 | 0.8312359 | 0.01430681 | 11.200698 | 0.5775692 | NA | 1 |\n",
       "| 2 | 2007-01-02 | 158.65 |  0.035574413 |  0.023273919 | 0 |  0.008467111 |  0.010307882 | 1 | 0.8590158 | 0.01372075 |  9.669802 | 0.5775692 | NA | 1 |\n",
       "| 3 | 2007-01-03 | 156.10 | -0.016073117 | -0.006464859 | 0 |  0.004034366 | -0.010663054 | 0 | 0.3618658 | 0.01218871 | 18.436363 | 0.5775692 | NA | 1 |\n",
       "| 4 | 2007-01-04 | 157.05 |  0.006085842 |  0.004787963 | 0 |  0.097575403 |  0.020007297 | 1 | 0.5820457 | 0.01131843 | 19.422187 | 0.5775692 | NA | 1 |\n",
       "| 5 | 2007-01-05 | 159.00 |  0.012416428 | -0.003839180 | 0 | -0.056319409 |  0.003910649 | 1 | 0.4115323 | 0.01125354 | 19.334774 | 0.5775692 | NA | 1 |\n",
       "| 6 | 2007-01-08 | 160.60 |  0.010062893 |  0.020390317 | 0 |  0.079457951 |  0.014303838 | 1 | 0.8287659 | 0.01434245 | 11.330849 | 0.5775692 | NA | 1 |\n",
       "| 7 | 2007-01-09 | 156.40 | -0.026151930 |  0.002224875 | 0 | -0.068338808 | -0.009343922 | 0 | 0.5315914 | 0.01065942 | 19.879867 | 0.5775692 | NA | 1 |\n",
       "| 8 | 2007-01-10 | 156.45 |  0.000319693 |  0.014961593 | 0 |  0.027008654 |  0.028965824 | 1 | 0.7583150 | 0.01447608 | 14.632824 | 0.5775692 | NA | 1 |\n",
       "| 9 | 2007-01-11 | 161.75 |  0.033876638 |  0.005733296 | 0 | -0.006122434 |  0.006707490 | 1 | 0.6002855 | 0.01165082 | 19.156711 | 0.5775692 | NA | 1 |\n",
       "| 10 | 2007-01-12 | 161.40 | -0.002163833 |  0.000781416 | 0 |  0.058066754 | -0.012296953 | 0 | 0.5028212 | 0.01051310 | 19.958899 | 0.5775692 | NA | 1 |\n",
       "| 11 | 2007-01-15 | 160.70 | -0.004337051 | -0.022510556 | 0 |  0.086523084 | -0.007527488 | 0 | 0.1360607 | 0.01339618 |  9.385619 | 0.5775692 | NA | 1 |\n",
       "| 12 | 2007-01-16 | 160.00 | -0.004355943 | -0.002603429 | 0 |  0.023595879 |  0.006612190 | 0 | 0.4356171 | 0.01090076 | 19.628644 | 0.5775692 | NA | 1 |\n",
       "| 13 | 2007-01-18 | 161.05 | -0.004635352 | -0.010224311 | 0 |  0.001996180 | -0.020145052 | 0 | 0.2957876 | 0.01348951 | 16.630508 | 0.5775692 | NA | 1 |\n",
       "| 14 | 2007-01-19 | 160.75 | -0.001862776 | -0.003948538 | 0 | -0.021729124 | -0.005790925 | 0 | 0.4094194 | 0.01128853 | 19.304576 | 0.5775692 | NA | 1 |\n",
       "| 15 | 2007-01-22 | 159.95 | -0.004976672 | -0.008198570 | 0 | -0.062290620 | -0.011904162 | 0 | 0.3305500 | 0.01282826 | 17.667440 | 0.5775692 | NA | 1 |\n",
       "| 16 | 2007-01-23 | 160.70 |  0.004688965 |  0.001165962 | 0 | -0.013946916 | -0.012412262 | 1 | 0.5104954 | 0.01053375 | 19.950741 | 0.5775692 | NA | 1 |\n",
       "| 17 | 2007-01-25 | 162.05 | -0.008565310 |  0.001810296 | 0 |  0.055766339 | -0.018981951 | 0 | 0.5233413 | 0.01059849 | 19.916044 | 0.5775692 | NA | 1 |\n",
       "| 18 | 2007-01-26 | 162.00 | -0.000308547 |  0.012300524 | 0 | -0.025942325 |  0.018346303 | 0 | 0.7172777 | 0.01397345 | 16.190896 | 0.5775692 | NA | 1 |\n",
       "| 19 | 2007-01-29 | 161.95 | -0.000308642 | -0.002615664 | 0 |  0.075798171 | -0.001260851 | 0 | 0.4353769 | 0.01090382 | 19.626171 | 0.5775692 | NA | 1 |\n",
       "| 20 | 2007-01-31 | 165.05 |  0.011955855 |  0.012203314 | 0 | -0.001894727 |  0.021164221 | 1 | 0.7157011 | 0.01394832 | 16.245391 | 0.5775692 | NA | 1 |\n",
       "| 21 | 2007-02-01 | 167.00 |  0.011814602 |  0.000258747 | 0 | -0.039158009 | -0.002320621 | 1 | 0.4923890 | 0.01050702 | 19.954910 | 0.5775692 | NA | 1 |\n",
       "| 22 | 2007-02-02 | 171.00 |  0.023952096 |  0.008053324 | 0 | -0.010236694 |  0.003695922 | 1 | 0.6437990 | 0.01254500 | 18.308871 | 0.5775692 | NA | 1 |\n",
       "| 23 | 2007-02-05 | 170.70 | -0.001754386 |  0.002435743 | 0 |  0.082823897 |  0.019320075 | 0 | 0.5357813 | 0.01069597 | 19.857333 | 0.5775692 | NA | 1 |\n",
       "| 24 | 2007-02-06 | 166.35 | -0.025483304 | -0.006258596 | 0 |  0.060466554 | -0.018969556 | 0 | 0.3656773 | 0.01211131 | 18.519261 | 0.5775692 | NA | 1 |\n",
       "| 25 | 2007-02-07 | 166.15 | -0.001202284 | -0.010105645 | 0 |  0.030947328 |  0.009739389 | 0 | 0.2977649 | 0.01345470 | 16.694666 | 0.5775692 | NA | 1 |\n",
       "| 26 | 2007-02-08 | 166.70 |  0.003310262 |  0.008463853 | 0 | -0.022284113 |  0.005941379 | 1 | 0.6512797 | 0.01270378 | 18.132660 | 0.5775692 | NA | 1 |\n",
       "| 27 | 2007-02-13 | 162.35 | -0.016060606 | -0.006674152 | 0 |  0.009098512 |  0.017789432 | 0 | 0.3580161 | 0.01226727 | 18.350277 | 0.5775692 | NA | 1 |\n",
       "| 28 | 2007-02-14 | 163.60 |  0.007699415 |  0.009234369 | 0 | -0.027404965 |  0.010895580 | 1 | 0.6651185 | 0.01299475 | 17.783126 | 0.5775692 | NA | 1 |\n",
       "| 29 | 2007-02-15 | 161.45 | -0.013141809 |  0.001807561 | 0 |  0.020362837 | -0.007235694 | 0 | 0.5232868 | 0.01059813 | 19.916247 | 0.5775692 | NA | 1 |\n",
       "| 30 | 2007-02-16 | 164.75 |  0.020439765 | -0.005145926 | 0 |  0.106452136 | -0.015067449 | 1 | 0.3865190 | 0.01170005 | 18.931539 | 0.5775692 | NA | 1 |\n",
       "| ⋮ | ⋮ | ⋮ | ⋮ | ⋮ | ⋮ | ⋮ | ⋮ | ⋮ | ⋮ | ⋮ | ⋮ | ⋮ | ⋮ | ⋮ |\n",
       "| 2633 | 2019-08-12 | 195.45 | -0.004076433 |  0.014715275 | 0 |  0.022982597 |  0.020567099 | 0 | 0.7546924 | 0.01444525 | 14.78119 | 0.5775692 | NA | 1 |\n",
       "| 2634 | 2019-08-13 | 196.80 |  0.006907137 | -0.010958370 | 0 |  0.050985196 | -0.007608030 | 1 | 0.2837273 | 0.01369179 | 16.22568 | 0.5775692 | NA | 1 |\n",
       "| 2635 | 2019-08-14 | 193.35 | -0.017530488 | -0.008800895 | 0 |  0.046555555 | -0.009143133 | 0 | 0.3199961 | 0.01303813 | 17.37303 | 0.5775692 | NA | 1 |\n",
       "| 2636 | 2019-08-15 | 194.10 |  0.003878976 | -0.003423250 | 0 |  0.027555033 |  0.004771136 | 1 | 0.4195975 | 0.01112556 | 19.44350 | 0.5775692 | NA | 1 |\n",
       "| 2637 | 2019-08-16 | 192.70 | -0.007212777 | -0.017743823 | 0 | -0.004377138 | -0.032333026 | 0 | 0.1872751 | 0.01428898 | 12.15237 | 0.5775692 | NA | 1 |\n",
       "| 2638 | 2019-08-19 | 193.60 |  0.004670472 |  0.020257664 | 0 |  0.026281810 |  0.013354376 | 1 | 0.8272576 | 0.01436299 | 11.40984 | 0.5775692 | NA | 1 |\n",
       "| 2639 | 2019-08-22 | 196.05 |  0.003583312 |  0.000397628 | 0 | -0.018244463 |  0.004264114 | 1 | 0.4951607 | 0.01050616 | 19.95766 | 0.5775692 | NA | 1 |\n",
       "| 2640 | 2019-08-23 | 198.90 |  0.014537108 |  0.003719976 | 0 | -0.063590837 |  0.002177286 | 1 | 0.5611687 | 0.01099196 | 19.66086 | 0.5775692 | NA | 1 |\n",
       "| 2641 | 2019-08-26 | 203.65 |  0.023881347 |  0.005890983 | 0 | -0.005999113 | -0.013622724 | 1 | 0.6033025 | 0.01170913 | 19.10768 | 0.5775692 | NA | 1 |\n",
       "| 2642 | 2019-08-27 | 204.15 |  0.002455193 | -0.000973260 | 0 |  0.049609324 | -0.001387894 | 1 | 0.4678413 | 0.01059201 | 19.87698 | 0.5775692 | NA | 1 |\n",
       "| 2643 | 2019-08-28 | 201.50 | -0.012980651 | -0.001541323 | 0 | -0.005797128 |  0.005666088 | 0 | 0.4565677 | 0.01067605 | 19.80895 | 0.5775692 | NA | 1 |\n",
       "| 2644 | 2019-08-29 | 196.50 | -0.024813896 | -0.011306303 | 0 | -0.032927355 | -0.001252653 | 0 | 0.2781157 | 0.01377938 | 16.02940 | 0.5775692 | NA | 1 |\n",
       "| 2645 | 2019-08-30 | 198.65 |  0.010941476 |  0.004578991 | 0 |  0.048827149 | -0.010557758 | 1 | 0.5779814 | 0.01124985 | 19.47411 | 0.5775692 | NA | 1 |\n",
       "| 2646 | 2019-09-02 | 198.60 | -0.000251699 |  0.012550071 | 0 |  0.016151333 |  0.021525956 | 0 | 0.7213006 | 0.01403592 | 16.05005 | 0.5775692 | NA | 1 |\n",
       "| 2647 | 2019-09-03 | 198.45 | -0.000755287 |  0.002244323 | 0 |  0.088749262 | -0.006351528 | 0 | 0.5319780 | 0.01066264 | 19.87791 | 0.5775692 | NA | 1 |\n",
       "| 2648 | 2019-09-06 | 196.65 | -0.001269680 |  0.009479970 | 0 | -0.028218443 |  0.001738033 | 0 | 0.6694720 | 0.01308485 | 17.66685 | 0.5775692 | NA | 1 |\n",
       "| 2649 | 2019-09-09 | 195.55 | -0.005593694 |  0.001154667 | 0 | -0.077867345 |  0.005395426 | 0 | 0.5102701 | 0.01053295 | 19.95111 | 0.5775692 | NA | 1 |\n",
       "| 2650 | 2019-09-10 | 194.95 | -0.003068269 |  0.005922168 | 0 |  0.010484545 |  0.006816311 | 0 | 0.6038983 | 0.01172074 | 19.09782 | 0.5775692 | NA | 1 |\n",
       "| 2651 | 2019-09-11 | 194.20 | -0.003847140 |  0.001012184 | 0 |  0.036576427 |  0.024308773 | 0 | 0.5074269 | 0.01052386 | 19.95513 | 0.5775692 | NA | 1 |\n",
       "| 2652 | 2019-09-12 | 195.55 |  0.006951596 |  0.009046500 | 0 | -0.011497665 |  0.023929494 | 1 | 0.6617693 | 0.01292488 | 17.87052 | 0.5775692 | NA | 1 |\n",
       "| 2653 | 2019-09-13 | 191.25 | -0.021989261 | -0.021258606 | 0 | -0.024521062 | -0.005769162 | 0 | 0.1482437 | 0.01371488 | 10.08176 | 0.5775692 | NA | 1 |\n",
       "| 2654 | 2019-09-18 | 191.65 |  0.001044659 | -0.002432839 | 0 | -0.035411276 |  0.004606344 | 1 | 0.4389686 | 0.01085922 | 19.66220 | 0.5775692 | NA | 1 |\n",
       "| 2655 | 2019-09-19 | 186.65 | -0.026089225 | -0.016254032 | 0 | -0.011767628 | -0.015370956 | 0 | 0.2060559 | 0.01436240 | 13.06199 | 0.5775692 | NA | 1 |\n",
       "| 2656 | 2019-09-20 | 189.30 |  0.014197696 |  0.001565548 | 0 | -0.009514089 |  0.008117546 | 1 | 0.5184645 | 0.01056952 | 19.93232 | 0.5775692 | NA | 1 |\n",
       "| 2657 | 2019-09-23 | 188.15 | -0.006075013 | -0.001350436 | 0 |  0.114144507 |  0.003622162 | 0 | 0.4603516 | 0.01064482 | 19.83405 | 0.5775692 | NA | 1 |\n",
       "| 2658 | 2019-09-24 | 183.95 | -0.022322615 | -0.004468355 | 0 | -0.033840115 | -0.010957231 | 0 | 0.3994231 | 0.01146142 | 19.15204 | 0.5775692 | NA | 1 |\n",
       "| 2659 | 2019-09-25 | 184.95 |  0.005436260 |  0.016924160 | 0 | -0.049778358 |  0.024913576 | 1 | 0.7858619 | 0.01460411 | 13.43610 | 0.5775692 | NA | 1 |\n",
       "| 2660 | 2019-09-26 | 183.90 | -0.005677210 |  0.000366372 | 0 | -0.008365814 |  0.006269552 | 0 | 0.4945369 | 0.01050620 | 19.95715 | 0.5775692 | NA | 1 |\n",
       "| 2661 | 2019-10-01 | 180.65 | -0.006325633 |  0.006620676 | 0 | -0.096255086 | -0.006477505 | 0 | 0.6171586 | 0.01198619 | 18.86383 | 0.5775692 | NA | 1 |\n",
       "| 2662 | 2019-10-02 | 178.55 | -0.011624689 | -0.008218234 | 0 | -0.027268226 | -0.001123344 | 0 | 0.3302026 | 0.01283525 | 17.65803 | 0.5775692 | NA | 1 |\n",
       "\n"
      ],
      "text/plain": [
       "     Date       Price  ABC          Sensex       DividendAnnounced Sentiment   \n",
       "1    2007-01-01 153.20 -0.018577835  0.020609571 0                 -0.054241830\n",
       "2    2007-01-02 158.65  0.035574413  0.023273919 0                  0.008467111\n",
       "3    2007-01-03 156.10 -0.016073117 -0.006464859 0                  0.004034366\n",
       "4    2007-01-04 157.05  0.006085842  0.004787963 0                  0.097575403\n",
       "5    2007-01-05 159.00  0.012416428 -0.003839180 0                 -0.056319409\n",
       "6    2007-01-08 160.60  0.010062893  0.020390317 0                  0.079457951\n",
       "7    2007-01-09 156.40 -0.026151930  0.002224875 0                 -0.068338808\n",
       "8    2007-01-10 156.45  0.000319693  0.014961593 0                  0.027008654\n",
       "9    2007-01-11 161.75  0.033876638  0.005733296 0                 -0.006122434\n",
       "10   2007-01-12 161.40 -0.002163833  0.000781416 0                  0.058066754\n",
       "11   2007-01-15 160.70 -0.004337051 -0.022510556 0                  0.086523084\n",
       "12   2007-01-16 160.00 -0.004355943 -0.002603429 0                  0.023595879\n",
       "13   2007-01-18 161.05 -0.004635352 -0.010224311 0                  0.001996180\n",
       "14   2007-01-19 160.75 -0.001862776 -0.003948538 0                 -0.021729124\n",
       "15   2007-01-22 159.95 -0.004976672 -0.008198570 0                 -0.062290620\n",
       "16   2007-01-23 160.70  0.004688965  0.001165962 0                 -0.013946916\n",
       "17   2007-01-25 162.05 -0.008565310  0.001810296 0                  0.055766339\n",
       "18   2007-01-26 162.00 -0.000308547  0.012300524 0                 -0.025942325\n",
       "19   2007-01-29 161.95 -0.000308642 -0.002615664 0                  0.075798171\n",
       "20   2007-01-31 165.05  0.011955855  0.012203314 0                 -0.001894727\n",
       "21   2007-02-01 167.00  0.011814602  0.000258747 0                 -0.039158009\n",
       "22   2007-02-02 171.00  0.023952096  0.008053324 0                 -0.010236694\n",
       "23   2007-02-05 170.70 -0.001754386  0.002435743 0                  0.082823897\n",
       "24   2007-02-06 166.35 -0.025483304 -0.006258596 0                  0.060466554\n",
       "25   2007-02-07 166.15 -0.001202284 -0.010105645 0                  0.030947328\n",
       "26   2007-02-08 166.70  0.003310262  0.008463853 0                 -0.022284113\n",
       "27   2007-02-13 162.35 -0.016060606 -0.006674152 0                  0.009098512\n",
       "28   2007-02-14 163.60  0.007699415  0.009234369 0                 -0.027404965\n",
       "29   2007-02-15 161.45 -0.013141809  0.001807561 0                  0.020362837\n",
       "30   2007-02-16 164.75  0.020439765 -0.005145926 0                  0.106452136\n",
       "⋮    ⋮          ⋮      ⋮            ⋮            ⋮                 ⋮           \n",
       "2633 2019-08-12 195.45 -0.004076433  0.014715275 0                  0.022982597\n",
       "2634 2019-08-13 196.80  0.006907137 -0.010958370 0                  0.050985196\n",
       "2635 2019-08-14 193.35 -0.017530488 -0.008800895 0                  0.046555555\n",
       "2636 2019-08-15 194.10  0.003878976 -0.003423250 0                  0.027555033\n",
       "2637 2019-08-16 192.70 -0.007212777 -0.017743823 0                 -0.004377138\n",
       "2638 2019-08-19 193.60  0.004670472  0.020257664 0                  0.026281810\n",
       "2639 2019-08-22 196.05  0.003583312  0.000397628 0                 -0.018244463\n",
       "2640 2019-08-23 198.90  0.014537108  0.003719976 0                 -0.063590837\n",
       "2641 2019-08-26 203.65  0.023881347  0.005890983 0                 -0.005999113\n",
       "2642 2019-08-27 204.15  0.002455193 -0.000973260 0                  0.049609324\n",
       "2643 2019-08-28 201.50 -0.012980651 -0.001541323 0                 -0.005797128\n",
       "2644 2019-08-29 196.50 -0.024813896 -0.011306303 0                 -0.032927355\n",
       "2645 2019-08-30 198.65  0.010941476  0.004578991 0                  0.048827149\n",
       "2646 2019-09-02 198.60 -0.000251699  0.012550071 0                  0.016151333\n",
       "2647 2019-09-03 198.45 -0.000755287  0.002244323 0                  0.088749262\n",
       "2648 2019-09-06 196.65 -0.001269680  0.009479970 0                 -0.028218443\n",
       "2649 2019-09-09 195.55 -0.005593694  0.001154667 0                 -0.077867345\n",
       "2650 2019-09-10 194.95 -0.003068269  0.005922168 0                  0.010484545\n",
       "2651 2019-09-11 194.20 -0.003847140  0.001012184 0                  0.036576427\n",
       "2652 2019-09-12 195.55  0.006951596  0.009046500 0                 -0.011497665\n",
       "2653 2019-09-13 191.25 -0.021989261 -0.021258606 0                 -0.024521062\n",
       "2654 2019-09-18 191.65  0.001044659 -0.002432839 0                 -0.035411276\n",
       "2655 2019-09-19 186.65 -0.026089225 -0.016254032 0                 -0.011767628\n",
       "2656 2019-09-20 189.30  0.014197696  0.001565548 0                 -0.009514089\n",
       "2657 2019-09-23 188.15 -0.006075013 -0.001350436 0                  0.114144507\n",
       "2658 2019-09-24 183.95 -0.022322615 -0.004468355 0                 -0.033840115\n",
       "2659 2019-09-25 184.95  0.005436260  0.016924160 0                 -0.049778358\n",
       "2660 2019-09-26 183.90 -0.005677210  0.000366372 0                 -0.008365814\n",
       "2661 2019-10-01 180.65 -0.006325633  0.006620676 0                 -0.096255086\n",
       "2662 2019-10-02 178.55 -0.011624689 -0.008218234 0                 -0.027268226\n",
       "     Nifty        updown fitted    se.fitted  dydx_Sensex Var_dydx_Sensex\n",
       "1     0.002635723 0      0.8312359 0.01430681 11.200698   0.5775692      \n",
       "2     0.010307882 1      0.8590158 0.01372075  9.669802   0.5775692      \n",
       "3    -0.010663054 0      0.3618658 0.01218871 18.436363   0.5775692      \n",
       "4     0.020007297 1      0.5820457 0.01131843 19.422187   0.5775692      \n",
       "5     0.003910649 1      0.4115323 0.01125354 19.334774   0.5775692      \n",
       "6     0.014303838 1      0.8287659 0.01434245 11.330849   0.5775692      \n",
       "7    -0.009343922 0      0.5315914 0.01065942 19.879867   0.5775692      \n",
       "8     0.028965824 1      0.7583150 0.01447608 14.632824   0.5775692      \n",
       "9     0.006707490 1      0.6002855 0.01165082 19.156711   0.5775692      \n",
       "10   -0.012296953 0      0.5028212 0.01051310 19.958899   0.5775692      \n",
       "11   -0.007527488 0      0.1360607 0.01339618  9.385619   0.5775692      \n",
       "12    0.006612190 0      0.4356171 0.01090076 19.628644   0.5775692      \n",
       "13   -0.020145052 0      0.2957876 0.01348951 16.630508   0.5775692      \n",
       "14   -0.005790925 0      0.4094194 0.01128853 19.304576   0.5775692      \n",
       "15   -0.011904162 0      0.3305500 0.01282826 17.667440   0.5775692      \n",
       "16   -0.012412262 1      0.5104954 0.01053375 19.950741   0.5775692      \n",
       "17   -0.018981951 0      0.5233413 0.01059849 19.916044   0.5775692      \n",
       "18    0.018346303 0      0.7172777 0.01397345 16.190896   0.5775692      \n",
       "19   -0.001260851 0      0.4353769 0.01090382 19.626171   0.5775692      \n",
       "20    0.021164221 1      0.7157011 0.01394832 16.245391   0.5775692      \n",
       "21   -0.002320621 1      0.4923890 0.01050702 19.954910   0.5775692      \n",
       "22    0.003695922 1      0.6437990 0.01254500 18.308871   0.5775692      \n",
       "23    0.019320075 0      0.5357813 0.01069597 19.857333   0.5775692      \n",
       "24   -0.018969556 0      0.3656773 0.01211131 18.519261   0.5775692      \n",
       "25    0.009739389 0      0.2977649 0.01345470 16.694666   0.5775692      \n",
       "26    0.005941379 1      0.6512797 0.01270378 18.132660   0.5775692      \n",
       "27    0.017789432 0      0.3580161 0.01226727 18.350277   0.5775692      \n",
       "28    0.010895580 1      0.6651185 0.01299475 17.783126   0.5775692      \n",
       "29   -0.007235694 0      0.5232868 0.01059813 19.916247   0.5775692      \n",
       "30   -0.015067449 1      0.3865190 0.01170005 18.931539   0.5775692      \n",
       "⋮    ⋮            ⋮      ⋮         ⋮          ⋮           ⋮              \n",
       "2633  0.020567099 0      0.7546924 0.01444525 14.78119    0.5775692      \n",
       "2634 -0.007608030 1      0.2837273 0.01369179 16.22568    0.5775692      \n",
       "2635 -0.009143133 0      0.3199961 0.01303813 17.37303    0.5775692      \n",
       "2636  0.004771136 1      0.4195975 0.01112556 19.44350    0.5775692      \n",
       "2637 -0.032333026 0      0.1872751 0.01428898 12.15237    0.5775692      \n",
       "2638  0.013354376 1      0.8272576 0.01436299 11.40984    0.5775692      \n",
       "2639  0.004264114 1      0.4951607 0.01050616 19.95766    0.5775692      \n",
       "2640  0.002177286 1      0.5611687 0.01099196 19.66086    0.5775692      \n",
       "2641 -0.013622724 1      0.6033025 0.01170913 19.10768    0.5775692      \n",
       "2642 -0.001387894 1      0.4678413 0.01059201 19.87698    0.5775692      \n",
       "2643  0.005666088 0      0.4565677 0.01067605 19.80895    0.5775692      \n",
       "2644 -0.001252653 0      0.2781157 0.01377938 16.02940    0.5775692      \n",
       "2645 -0.010557758 1      0.5779814 0.01124985 19.47411    0.5775692      \n",
       "2646  0.021525956 0      0.7213006 0.01403592 16.05005    0.5775692      \n",
       "2647 -0.006351528 0      0.5319780 0.01066264 19.87791    0.5775692      \n",
       "2648  0.001738033 0      0.6694720 0.01308485 17.66685    0.5775692      \n",
       "2649  0.005395426 0      0.5102701 0.01053295 19.95111    0.5775692      \n",
       "2650  0.006816311 0      0.6038983 0.01172074 19.09782    0.5775692      \n",
       "2651  0.024308773 0      0.5074269 0.01052386 19.95513    0.5775692      \n",
       "2652  0.023929494 1      0.6617693 0.01292488 17.87052    0.5775692      \n",
       "2653 -0.005769162 0      0.1482437 0.01371488 10.08176    0.5775692      \n",
       "2654  0.004606344 1      0.4389686 0.01085922 19.66220    0.5775692      \n",
       "2655 -0.015370956 0      0.2060559 0.01436240 13.06199    0.5775692      \n",
       "2656  0.008117546 1      0.5184645 0.01056952 19.93232    0.5775692      \n",
       "2657  0.003622162 0      0.4603516 0.01064482 19.83405    0.5775692      \n",
       "2658 -0.010957231 0      0.3994231 0.01146142 19.15204    0.5775692      \n",
       "2659  0.024913576 1      0.7858619 0.01460411 13.43610    0.5775692      \n",
       "2660  0.006269552 0      0.4945369 0.01050620 19.95715    0.5775692      \n",
       "2661 -0.006477505 0      0.6171586 0.01198619 18.86383    0.5775692      \n",
       "2662 -0.001123344 0      0.3302026 0.01283525 17.65803    0.5775692      \n",
       "     _weights _at_number\n",
       "1    NA       1         \n",
       "2    NA       1         \n",
       "3    NA       1         \n",
       "4    NA       1         \n",
       "5    NA       1         \n",
       "6    NA       1         \n",
       "7    NA       1         \n",
       "8    NA       1         \n",
       "9    NA       1         \n",
       "10   NA       1         \n",
       "11   NA       1         \n",
       "12   NA       1         \n",
       "13   NA       1         \n",
       "14   NA       1         \n",
       "15   NA       1         \n",
       "16   NA       1         \n",
       "17   NA       1         \n",
       "18   NA       1         \n",
       "19   NA       1         \n",
       "20   NA       1         \n",
       "21   NA       1         \n",
       "22   NA       1         \n",
       "23   NA       1         \n",
       "24   NA       1         \n",
       "25   NA       1         \n",
       "26   NA       1         \n",
       "27   NA       1         \n",
       "28   NA       1         \n",
       "29   NA       1         \n",
       "30   NA       1         \n",
       "⋮    ⋮        ⋮         \n",
       "2633 NA       1         \n",
       "2634 NA       1         \n",
       "2635 NA       1         \n",
       "2636 NA       1         \n",
       "2637 NA       1         \n",
       "2638 NA       1         \n",
       "2639 NA       1         \n",
       "2640 NA       1         \n",
       "2641 NA       1         \n",
       "2642 NA       1         \n",
       "2643 NA       1         \n",
       "2644 NA       1         \n",
       "2645 NA       1         \n",
       "2646 NA       1         \n",
       "2647 NA       1         \n",
       "2648 NA       1         \n",
       "2649 NA       1         \n",
       "2650 NA       1         \n",
       "2651 NA       1         \n",
       "2652 NA       1         \n",
       "2653 NA       1         \n",
       "2654 NA       1         \n",
       "2655 NA       1         \n",
       "2656 NA       1         \n",
       "2657 NA       1         \n",
       "2658 NA       1         \n",
       "2659 NA       1         \n",
       "2660 NA       1         \n",
       "2661 NA       1         \n",
       "2662 NA       1         "
      ]
     },
     "metadata": {},
     "output_type": "display_data"
    }
   ],
   "source": [
    "logit = glm(formula(linear), data = train, family = binomial('logit'))\n",
    "null =glm(updown~1, data = train, family = binomial('logit'))\n",
    "PseudoRsq = 1-logLik(logit)/logLik(null)\n",
    "margins(logit)"
   ]
  },
  {
   "cell_type": "markdown",
   "metadata": {},
   "source": [
    "### Probit Model"
   ]
  },
  {
   "cell_type": "code",
   "execution_count": 59,
   "metadata": {
    "vscode": {
     "languageId": "r"
    }
   },
   "outputs": [],
   "source": [
    "fitted.results = ifelse(linear$fitted.values>0.4, 1 , 0)\n",
    "CM = confusionMatrix(as.factor(fitted.results), as.factor(train$updown))\n",
    "performance_4 = tibble(Threshold =0.4, Accuracy = CM$overall[\"Accuracy\"],Sensitivity = CM$byClass[\"Sensitivity\"],\n",
    "                Specificity = CM$byClass[\"Specificity\"])"
   ]
  },
  {
   "cell_type": "code",
   "execution_count": 60,
   "metadata": {
    "vscode": {
     "languageId": "r"
    }
   },
   "outputs": [],
   "source": [
    "fitted.results = ifelse(linear$fitted.values>0.6, 1 , 0)\n",
    "CM = confusionMatrix(as.factor(fitted.results), as.factor(train$updown))\n",
    "performance_6 = tibble(Threshold =0.6, Accuracy = CM$overall[\"Accuracy\"],Sensitivity = CM$byClass[\"Sensitivity\"],\n",
    "                Specificity = CM$byClass[\"Specificity\"])"
   ]
  },
  {
   "cell_type": "code",
   "execution_count": 61,
   "metadata": {
    "vscode": {
     "languageId": "r"
    }
   },
   "outputs": [],
   "source": [
    "fitted.results = ifelse(linear$fitted.values>0.8, 1 , 0)\n",
    "CM = confusionMatrix(as.factor(fitted.results), as.factor(train$updown))\n",
    "performance_6 = tibble(Threshold =0.8, Accuracy = CM$overall[\"Accuracy\"],Sensitivity = CM$byClass[\"Sensitivity\"],\n",
    "                Specificity = CM$byClass[\"Specificity\"])"
   ]
  },
  {
   "cell_type": "code",
   "execution_count": 62,
   "metadata": {
    "vscode": {
     "languageId": "r"
    }
   },
   "outputs": [
    {
     "data": {
      "text/html": [
       "<table class=\"dataframe\">\n",
       "<caption>A tibble: 3 × 5</caption>\n",
       "<thead>\n",
       "\t<tr><th scope=col>Threshold</th><th scope=col>Accuracy</th><th scope=col>Sensitivity</th><th scope=col>Specificity</th><th scope=col>Class</th></tr>\n",
       "\t<tr><th scope=col>&lt;dbl&gt;</th><th scope=col>&lt;dbl&gt;</th><th scope=col>&lt;dbl&gt;</th><th scope=col>&lt;dbl&gt;</th><th scope=col>&lt;chr&gt;</th></tr>\n",
       "</thead>\n",
       "<tbody>\n",
       "\t<tr><td>0.4</td><td>0.6115702</td><td>0.3286245</td><td>0.90053151</td><td>Linear</td></tr>\n",
       "\t<tr><td>0.8</td><td>0.5300526</td><td>0.9933086</td><td>0.05694761</td><td>Linear</td></tr>\n",
       "\t<tr><td>0.8</td><td>0.5300526</td><td>0.9933086</td><td>0.05694761</td><td>Linear</td></tr>\n",
       "</tbody>\n",
       "</table>\n"
      ],
      "text/latex": [
       "A tibble: 3 × 5\n",
       "\\begin{tabular}{lllll}\n",
       " Threshold & Accuracy & Sensitivity & Specificity & Class\\\\\n",
       " <dbl> & <dbl> & <dbl> & <dbl> & <chr>\\\\\n",
       "\\hline\n",
       "\t 0.4 & 0.6115702 & 0.3286245 & 0.90053151 & Linear\\\\\n",
       "\t 0.8 & 0.5300526 & 0.9933086 & 0.05694761 & Linear\\\\\n",
       "\t 0.8 & 0.5300526 & 0.9933086 & 0.05694761 & Linear\\\\\n",
       "\\end{tabular}\n"
      ],
      "text/markdown": [
       "\n",
       "A tibble: 3 × 5\n",
       "\n",
       "| Threshold &lt;dbl&gt; | Accuracy &lt;dbl&gt; | Sensitivity &lt;dbl&gt; | Specificity &lt;dbl&gt; | Class &lt;chr&gt; |\n",
       "|---|---|---|---|---|\n",
       "| 0.4 | 0.6115702 | 0.3286245 | 0.90053151 | Linear |\n",
       "| 0.8 | 0.5300526 | 0.9933086 | 0.05694761 | Linear |\n",
       "| 0.8 | 0.5300526 | 0.9933086 | 0.05694761 | Linear |\n",
       "\n"
      ],
      "text/plain": [
       "  Threshold Accuracy  Sensitivity Specificity Class \n",
       "1 0.4       0.6115702 0.3286245   0.90053151  Linear\n",
       "2 0.8       0.5300526 0.9933086   0.05694761  Linear\n",
       "3 0.8       0.5300526 0.9933086   0.05694761  Linear"
      ]
     },
     "metadata": {},
     "output_type": "display_data"
    }
   ],
   "source": [
    "LinearPerformance = rbind(performance_4,performance_6, performance_8)\n",
    "LinearPerformance$Class = \"Linear\"\n",
    "LinearPerformance"
   ]
  },
  {
   "cell_type": "code",
   "execution_count": 64,
   "metadata": {
    "vscode": {
     "languageId": "r"
    }
   },
   "outputs": [
    {
     "data": {
      "text/html": [
       "<table class=\"dataframe\">\n",
       "<caption>A margins: 2662 × 14</caption>\n",
       "<thead>\n",
       "\t<tr><th></th><th scope=col>Date</th><th scope=col>Price</th><th scope=col>ABC</th><th scope=col>Sensex</th><th scope=col>DividendAnnounced</th><th scope=col>Sentiment</th><th scope=col>Nifty</th><th scope=col>updown</th><th scope=col>fitted</th><th scope=col>se.fitted</th><th scope=col>dydx_Sensex</th><th scope=col>Var_dydx_Sensex</th><th scope=col>_weights</th><th scope=col>_at_number</th></tr>\n",
       "\t<tr><th></th><th scope=col>&lt;date&gt;</th><th scope=col>&lt;dbl&gt;</th><th scope=col>&lt;dbl&gt;</th><th scope=col>&lt;dbl&gt;</th><th scope=col>&lt;dbl&gt;</th><th scope=col>&lt;dbl&gt;</th><th scope=col>&lt;dbl&gt;</th><th scope=col>&lt;dbl&gt;</th><th scope=col>&lt;dbl&gt;</th><th scope=col>&lt;dbl&gt;</th><th scope=col>&lt;mrgnlffc&gt;</th><th scope=col>&lt;dbl&gt;</th><th scope=col>&lt;dbl&gt;</th><th scope=col>&lt;int&gt;</th></tr>\n",
       "</thead>\n",
       "<tbody>\n",
       "\t<tr><th scope=row>1</th><td>2007-01-01</td><td>153.20</td><td>-0.018577835</td><td> 0.020609571</td><td>0</td><td>-0.054241830</td><td> 0.002635723</td><td>0</td><td>0.8151129</td><td>0.01533685</td><td>11.95742</td><td>0.5402411</td><td>NA</td><td>1</td></tr>\n",
       "\t<tr><th scope=row>2</th><td>2007-01-02</td><td>158.65</td><td> 0.035574413</td><td> 0.023273919</td><td>0</td><td> 0.008467111</td><td> 0.010307882</td><td>1</td><td>0.8452555</td><td>0.01514784</td><td>10.66688</td><td>0.5402411</td><td>NA</td><td>1</td></tr>\n",
       "\t<tr><th scope=row>3</th><td>2007-01-03</td><td>156.10</td><td>-0.016073117</td><td>-0.006464859</td><td>0</td><td> 0.004034366</td><td>-0.010663054</td><td>0</td><td>0.3758484</td><td>0.01174714</td><td>17.00461</td><td>0.5402411</td><td>NA</td><td>1</td></tr>\n",
       "\t<tr><th scope=row>4</th><td>2007-01-04</td><td>157.05</td><td> 0.006085842</td><td> 0.004787963</td><td>0</td><td> 0.097575403</td><td> 0.020007297</td><td>1</td><td>0.5745128</td><td>0.01091331</td><td>17.56467</td><td>0.5402411</td><td>NA</td><td>1</td></tr>\n",
       "\t<tr><th scope=row>5</th><td>2007-01-05</td><td>159.00</td><td> 0.012416428</td><td>-0.003839180</td><td>0</td><td>-0.056319409</td><td> 0.003910649</td><td>1</td><td>0.4212342</td><td>0.01084165</td><td>17.52783</td><td>0.5402411</td><td>NA</td><td>1</td></tr>\n",
       "\t<tr><th scope=row>6</th><td>2007-01-08</td><td>160.60</td><td> 0.010062893</td><td> 0.020390317</td><td>0</td><td> 0.079457951</td><td> 0.014303838</td><td>1</td><td>0.8124796</td><td>0.01533712</td><td>12.06267</td><td>0.5402411</td><td>NA</td><td>1</td></tr>\n",
       "\t<tr><th scope=row>7</th><td>2007-01-09</td><td>156.40</td><td>-0.026151930</td><td> 0.002224875</td><td>0</td><td>-0.068338808</td><td>-0.009343922</td><td>0</td><td>0.5291026</td><td>0.01031476</td><td>17.82980</td><td>0.5402411</td><td>NA</td><td>1</td></tr>\n",
       "\t<tr><th scope=row>8</th><td>2007-01-10</td><td>156.45</td><td> 0.000319693</td><td> 0.014961593</td><td>0</td><td> 0.027008654</td><td> 0.028965824</td><td>1</td><td>0.7401445</td><td>0.01460091</td><td>14.53148</td><td>0.5402411</td><td>NA</td><td>1</td></tr>\n",
       "\t<tr><th scope=row>9</th><td>2007-01-11</td><td>161.75</td><td> 0.033876638</td><td> 0.005733296</td><td>0</td><td>-0.006122434</td><td> 0.006707490</td><td>1</td><td>0.5910469</td><td>0.01122530</td><td>17.40981</td><td>0.5402411</td><td>NA</td><td>1</td></tr>\n",
       "\t<tr><th scope=row>10</th><td>2007-01-12</td><td>161.40</td><td>-0.002163833</td><td> 0.000781416</td><td>0</td><td> 0.058066754</td><td>-0.012296953</td><td>0</td><td>0.5033223</td><td>0.01018317</td><td>17.87677</td><td>0.5402411</td><td>NA</td><td>1</td></tr>\n",
       "\t<tr><th scope=row>11</th><td>2007-01-15</td><td>160.70</td><td>-0.004337051</td><td>-0.022510556</td><td>0</td><td> 0.086523084</td><td>-0.007527488</td><td>0</td><td>0.1502256</td><td>0.01488662</td><td>10.45915</td><td>0.5402411</td><td>NA</td><td>1</td></tr>\n",
       "\t<tr><th scope=row>12</th><td>2007-01-16</td><td>160.00</td><td>-0.004355943</td><td>-0.002603429</td><td>0</td><td> 0.023595879</td><td> 0.006612190</td><td>0</td><td>0.4430034</td><td>0.01052053</td><td>17.69464</td><td>0.5402411</td><td>NA</td><td>1</td></tr>\n",
       "\t<tr><th scope=row>13</th><td>2007-01-18</td><td>161.05</td><td>-0.004635352</td><td>-0.010224311</td><td>0</td><td> 0.001996180</td><td>-0.020145052</td><td>0</td><td>0.3138818</td><td>0.01320786</td><td>15.89480</td><td>0.5402411</td><td>NA</td><td>1</td></tr>\n",
       "\t<tr><th scope=row>14</th><td>2007-01-19</td><td>160.75</td><td>-0.001862776</td><td>-0.003948538</td><td>0</td><td>-0.021729124</td><td>-0.005790925</td><td>0</td><td>0.4193183</td><td>0.01087406</td><td>17.51056</td><td>0.5402411</td><td>NA</td><td>1</td></tr>\n",
       "\t<tr><th scope=row>15</th><td>2007-01-22</td><td>159.95</td><td>-0.004976672</td><td>-0.008198570</td><td>0</td><td>-0.062290620</td><td>-0.011904162</td><td>0</td><td>0.3467549</td><td>0.01242506</td><td>16.54173</td><td>0.5402411</td><td>NA</td><td>1</td></tr>\n",
       "\t<tr><th scope=row>16</th><td>2007-01-23</td><td>160.70</td><td> 0.004688965</td><td> 0.001165962</td><td>0</td><td>-0.013946916</td><td>-0.012412262</td><td>1</td><td>0.5101962</td><td>0.01020210</td><td>17.87155</td><td>0.5402411</td><td>NA</td><td>1</td></tr>\n",
       "\t<tr><th scope=row>17</th><td>2007-01-25</td><td>162.05</td><td>-0.008565310</td><td> 0.001810296</td><td>0</td><td> 0.055766339</td><td>-0.018981951</td><td>0</td><td>0.5217059</td><td>0.01026027</td><td>17.85092</td><td>0.5402411</td><td>NA</td><td>1</td></tr>\n",
       "\t<tr><th scope=row>18</th><td>2007-01-26</td><td>162.00</td><td>-0.000308547</td><td> 0.012300524</td><td>0</td><td>-0.025942325</td><td> 0.018346303</td><td>0</td><td>0.7000482</td><td>0.01377506</td><td>15.57980</td><td>0.5402411</td><td>NA</td><td>1</td></tr>\n",
       "\t<tr><th scope=row>19</th><td>2007-01-29</td><td>161.95</td><td>-0.000308642</td><td>-0.002615664</td><td>0</td><td> 0.075798171</td><td>-0.001260851</td><td>0</td><td>0.4427869</td><td>0.01052327</td><td>17.69324</td><td>0.5402411</td><td>NA</td><td>1</td></tr>\n",
       "\t<tr><th scope=row>20</th><td>2007-01-31</td><td>165.05</td><td> 0.011955855</td><td> 0.012203314</td><td>0</td><td>-0.001894727</td><td> 0.021164221</td><td>1</td><td>0.6985319</td><td>0.01374045</td><td>15.61529</td><td>0.5402411</td><td>NA</td><td>1</td></tr>\n",
       "\t<tr><th scope=row>21</th><td>2007-02-01</td><td>167.00</td><td> 0.011814602</td><td> 0.000258747</td><td>0</td><td>-0.039158009</td><td>-0.002320621</td><td>1</td><td>0.4939783</td><td>0.01017666</td><td>17.87535</td><td>0.5402411</td><td>NA</td><td>1</td></tr>\n",
       "\t<tr><th scope=row>22</th><td>2007-02-02</td><td>171.00</td><td> 0.023952096</td><td> 0.008053324</td><td>0</td><td>-0.010236694</td><td> 0.003695922</td><td>1</td><td>0.6308885</td><td>0.01211045</td><td>16.90642</td><td>0.5402411</td><td>NA</td><td>1</td></tr>\n",
       "\t<tr><th scope=row>23</th><td>2007-02-05</td><td>170.70</td><td>-0.001754386</td><td> 0.002435743</td><td>0</td><td> 0.082823897</td><td> 0.019320075</td><td>0</td><td>0.5328611</td><td>0.01034744</td><td>17.81671</td><td>0.5402411</td><td>NA</td><td>1</td></tr>\n",
       "\t<tr><th scope=row>24</th><td>2007-02-06</td><td>166.35</td><td>-0.025483304</td><td>-0.006258596</td><td>0</td><td> 0.060466554</td><td>-0.018969556</td><td>0</td><td>0.3793610</td><td>0.01166879</td><td>17.05369</td><td>0.5402411</td><td>NA</td><td>1</td></tr>\n",
       "\t<tr><th scope=row>25</th><td>2007-02-07</td><td>166.15</td><td>-0.001202284</td><td>-0.010105645</td><td>0</td><td> 0.030947328</td><td> 0.009739389</td><td>0</td><td>0.3157705</td><td>0.01316358</td><td>15.93561</td><td>0.5402411</td><td>NA</td><td>1</td></tr>\n",
       "\t<tr><th scope=row>26</th><td>2007-02-08</td><td>166.70</td><td> 0.003310262</td><td> 0.008463853</td><td>0</td><td>-0.022284113</td><td> 0.005941379</td><td>1</td><td>0.6378075</td><td>0.01227641</td><td>16.79995</td><td>0.5402411</td><td>NA</td><td>1</td></tr>\n",
       "\t<tr><th scope=row>27</th><td>2007-02-13</td><td>162.35</td><td>-0.016060606</td><td>-0.006674152</td><td>0</td><td> 0.009098512</td><td> 0.017789432</td><td>0</td><td>0.3722947</td><td>0.01182740</td><td>16.95348</td><td>0.5402411</td><td>NA</td><td>1</td></tr>\n",
       "\t<tr><th scope=row>28</th><td>2007-02-14</td><td>163.60</td><td> 0.007699415</td><td> 0.009234369</td><td>0</td><td>-0.027404965</td><td> 0.010895580</td><td>1</td><td>0.6506715</td><td>0.01258944</td><td>16.58677</td><td>0.5402411</td><td>NA</td><td>1</td></tr>\n",
       "\t<tr><th scope=row>29</th><td>2007-02-15</td><td>161.45</td><td>-0.013141809</td><td> 0.001807561</td><td>0</td><td> 0.020362837</td><td>-0.007235694</td><td>0</td><td>0.5216571</td><td>0.01025995</td><td>17.85104</td><td>0.5402411</td><td>NA</td><td>1</td></tr>\n",
       "\t<tr><th scope=row>30</th><td>2007-02-16</td><td>164.75</td><td> 0.020439765</td><td>-0.005145926</td><td>0</td><td> 0.106452136</td><td>-0.015067449</td><td>1</td><td>0.3984748</td><td>0.01126339</td><td>17.29536</td><td>0.5402411</td><td>NA</td><td>1</td></tr>\n",
       "\t<tr><th scope=row>⋮</th><td>⋮</td><td>⋮</td><td>⋮</td><td>⋮</td><td>⋮</td><td>⋮</td><td>⋮</td><td>⋮</td><td>⋮</td><td>⋮</td><td>⋮</td><td>⋮</td><td>⋮</td><td>⋮</td></tr>\n",
       "\t<tr><th scope=row>2633</th><td>2019-08-12</td><td>195.45</td><td>-0.004076433</td><td> 0.014715275</td><td>0</td><td> 0.022982597</td><td> 0.020567099</td><td>0</td><td>0.7365524</td><td>0.01453557</td><td>14.63422</td><td>0.5402411</td><td>NA</td><td>1</td></tr>\n",
       "\t<tr><th scope=row>2634</th><td>2019-08-13</td><td>196.80</td><td> 0.006907137</td><td>-0.010958370</td><td>0</td><td> 0.050985196</td><td>-0.007608030</td><td>1</td><td>0.3023085</td><td>0.01347508</td><td>15.63484</td><td>0.5402411</td><td>NA</td><td>1</td></tr>\n",
       "\t<tr><th scope=row>2635</th><td>2019-08-14</td><td>193.35</td><td>-0.017530488</td><td>-0.008800895</td><td>0</td><td> 0.046555555</td><td>-0.009143133</td><td>0</td><td>0.3368452</td><td>0.01266215</td><td>16.36075</td><td>0.5402411</td><td>NA</td><td>1</td></tr>\n",
       "\t<tr><th scope=row>2636</th><td>2019-08-15</td><td>194.10</td><td> 0.003878976</td><td>-0.003423250</td><td>0</td><td> 0.027555033</td><td> 0.004771136</td><td>1</td><td>0.4285379</td><td>0.01072396</td><td>17.58982</td><td>0.5402411</td><td>NA</td><td>1</td></tr>\n",
       "\t<tr><th scope=row>2637</th><td>2019-08-16</td><td>192.70</td><td>-0.007212777</td><td>-0.017743823</td><td>0</td><td>-0.004377138</td><td>-0.032333026</td><td>0</td><td>0.2055805</td><td>0.01504574</td><td>12.75392</td><td>0.5402411</td><td>NA</td><td>1</td></tr>\n",
       "\t<tr><th scope=row>2638</th><td>2019-08-19</td><td>193.60</td><td> 0.004670472</td><td> 0.020257664</td><td>0</td><td> 0.026281810</td><td> 0.013354376</td><td>1</td><td>0.8108752</td><td>0.01533614</td><td>12.12623</td><td>0.5402411</td><td>NA</td><td>1</td></tr>\n",
       "\t<tr><th scope=row>2639</th><td>2019-08-22</td><td>196.05</td><td> 0.003583312</td><td> 0.000397628</td><td>0</td><td>-0.018244463</td><td> 0.004264114</td><td>1</td><td>0.4964610</td><td>0.01017622</td><td>17.87669</td><td>0.5402411</td><td>NA</td><td>1</td></tr>\n",
       "\t<tr><th scope=row>2640</th><td>2019-08-23</td><td>198.90</td><td> 0.014537108</td><td> 0.003719976</td><td>0</td><td>-0.063590837</td><td> 0.002177286</td><td>1</td><td>0.5556759</td><td>0.01061394</td><td>17.70302</td><td>0.5402411</td><td>NA</td><td>1</td></tr>\n",
       "\t<tr><th scope=row>2641</th><td>2019-08-26</td><td>203.65</td><td> 0.023881347</td><td> 0.005890983</td><td>0</td><td>-0.005999113</td><td>-0.013622724</td><td>1</td><td>0.5937900</td><td>0.01128087</td><td>17.38107</td><td>0.5402411</td><td>NA</td><td>1</td></tr>\n",
       "\t<tr><th scope=row>2642</th><td>2019-08-27</td><td>204.15</td><td> 0.002455193</td><td>-0.000973260</td><td>0</td><td> 0.049609324</td><td>-0.001387894</td><td>1</td><td>0.4719754</td><td>0.01024848</td><td>17.83327</td><td>0.5402411</td><td>NA</td><td>1</td></tr>\n",
       "\t<tr><th scope=row>2643</th><td>2019-08-28</td><td>201.50</td><td>-0.012980651</td><td>-0.001541323</td><td>0</td><td>-0.005797128</td><td> 0.005666088</td><td>0</td><td>0.4618548</td><td>0.01032154</td><td>17.79561</td><td>0.5402411</td><td>NA</td><td>1</td></tr>\n",
       "\t<tr><th scope=row>2644</th><td>2019-08-29</td><td>196.50</td><td>-0.024813896</td><td>-0.011306303</td><td>0</td><td>-0.032927355</td><td>-0.001252653</td><td>0</td><td>0.2968906</td><td>0.01359717</td><td>15.50725</td><td>0.5402411</td><td>NA</td><td>1</td></tr>\n",
       "\t<tr><th scope=row>2645</th><td>2019-08-30</td><td>198.65</td><td> 0.010941476</td><td> 0.004578991</td><td>0</td><td> 0.048827149</td><td>-0.010557758</td><td>1</td><td>0.5708389</td><td>0.01084988</td><td>17.59483</td><td>0.5402411</td><td>NA</td><td>1</td></tr>\n",
       "\t<tr><th scope=row>2646</th><td>2019-09-02</td><td>198.60</td><td>-0.000251699</td><td> 0.012550071</td><td>0</td><td> 0.016151333</td><td> 0.021525956</td><td>0</td><td>0.7039247</td><td>0.01386266</td><td>15.48772</td><td>0.5402411</td><td>NA</td><td>1</td></tr>\n",
       "\t<tr><th scope=row>2647</th><td>2019-09-03</td><td>198.45</td><td>-0.000755287</td><td> 0.002244323</td><td>0</td><td> 0.088749262</td><td>-0.006351528</td><td>0</td><td>0.5294494</td><td>0.01031764</td><td>17.82866</td><td>0.5402411</td><td>NA</td><td>1</td></tr>\n",
       "\t<tr><th scope=row>2648</th><td>2019-09-06</td><td>196.65</td><td>-0.001269680</td><td> 0.009479970</td><td>0</td><td>-0.028218443</td><td> 0.001738033</td><td>0</td><td>0.6547366</td><td>0.01268902</td><td>16.51525</td><td>0.5402411</td><td>NA</td><td>1</td></tr>\n",
       "\t<tr><th scope=row>2649</th><td>2019-09-09</td><td>195.55</td><td>-0.005593694</td><td> 0.001154667</td><td>0</td><td>-0.077867345</td><td> 0.005395426</td><td>0</td><td>0.5099943</td><td>0.01020137</td><td>17.87178</td><td>0.5402411</td><td>NA</td><td>1</td></tr>\n",
       "\t<tr><th scope=row>2650</th><td>2019-09-10</td><td>194.95</td><td>-0.003068269</td><td> 0.005922168</td><td>0</td><td> 0.010484545</td><td> 0.006816311</td><td>0</td><td>0.5943320</td><td>0.01129196</td><td>17.37529</td><td>0.5402411</td><td>NA</td><td>1</td></tr>\n",
       "\t<tr><th scope=row>2651</th><td>2019-09-11</td><td>194.20</td><td>-0.003847140</td><td> 0.001012184</td><td>0</td><td> 0.036576427</td><td> 0.024308773</td><td>0</td><td>0.5074476</td><td>0.01019310</td><td>17.87428</td><td>0.5402411</td><td>NA</td><td>1</td></tr>\n",
       "\t<tr><th scope=row>2652</th><td>2019-09-12</td><td>195.55</td><td> 0.006951596</td><td> 0.009046500</td><td>0</td><td>-0.011497665</td><td> 0.023929494</td><td>1</td><td>0.6475502</td><td>0.01251312</td><td>16.64033</td><td>0.5402411</td><td>NA</td><td>1</td></tr>\n",
       "\t<tr><th scope=row>2653</th><td>2019-09-13</td><td>191.25</td><td>-0.021989261</td><td>-0.021258606</td><td>0</td><td>-0.024521062</td><td>-0.005769162</td><td>0</td><td>0.1637006</td><td>0.01503285</td><td>11.06729</td><td>0.5402411</td><td>NA</td><td>1</td></tr>\n",
       "\t<tr><th scope=row>2654</th><td>2019-09-18</td><td>191.65</td><td> 0.001044659</td><td>-0.002432839</td><td>0</td><td>-0.035411276</td><td> 0.004606344</td><td>1</td><td>0.4460237</td><td>0.01048340</td><td>17.71352</td><td>0.5402411</td><td>NA</td><td>1</td></tr>\n",
       "\t<tr><th scope=row>2655</th><td>2019-09-19</td><td>186.65</td><td>-0.026089225</td><td>-0.016254032</td><td>0</td><td>-0.011767628</td><td>-0.015370956</td><td>0</td><td>0.2250976</td><td>0.01487084</td><td>13.44323</td><td>0.5402411</td><td>NA</td><td>1</td></tr>\n",
       "\t<tr><th scope=row>2656</th><td>2019-09-20</td><td>189.30</td><td> 0.014197696</td><td> 0.001565548</td><td>0</td><td>-0.009514089</td><td> 0.008117546</td><td>1</td><td>0.5173356</td><td>0.01023432</td><td>17.86051</td><td>0.5402411</td><td>NA</td><td>1</td></tr>\n",
       "\t<tr><th scope=row>2657</th><td>2019-09-23</td><td>188.15</td><td>-0.006075013</td><td>-0.001350436</td><td>0</td><td> 0.114144507</td><td> 0.003622162</td><td>0</td><td>0.4652532</td><td>0.01029428</td><td>17.80954</td><td>0.5402411</td><td>NA</td><td>1</td></tr>\n",
       "\t<tr><th scope=row>2658</th><td>2019-09-24</td><td>183.95</td><td>-0.022322615</td><td>-0.004468355</td><td>0</td><td>-0.033840115</td><td>-0.010957231</td><td>0</td><td>0.4102381</td><td>0.01103578</td><td>17.42297</td><td>0.5402411</td><td>NA</td><td>1</td></tr>\n",
       "\t<tr><th scope=row>2659</th><td>2019-09-25</td><td>184.95</td><td> 0.005436260</td><td> 0.016924160</td><td>0</td><td>-0.049778358</td><td> 0.024913576</td><td>1</td><td>0.7678365</td><td>0.01502778</td><td>13.67860</td><td>0.5402411</td><td>NA</td><td>1</td></tr>\n",
       "\t<tr><th scope=row>2660</th><td>2019-09-26</td><td>183.90</td><td>-0.005677210</td><td> 0.000366372</td><td>0</td><td>-0.008365814</td><td> 0.006269552</td><td>0</td><td>0.4959023</td><td>0.01017619</td><td>17.87645</td><td>0.5402411</td><td>NA</td><td>1</td></tr>\n",
       "\t<tr><th scope=row>2661</th><td>2019-10-01</td><td>180.65</td><td>-0.006325633</td><td> 0.006620676</td><td>0</td><td>-0.096255086</td><td>-0.006477505</td><td>0</td><td>0.6064220</td><td>0.01154862</td><td>17.23751</td><td>0.5402411</td><td>NA</td><td>1</td></tr>\n",
       "\t<tr><th scope=row>2662</th><td>2019-10-02</td><td>178.55</td><td>-0.011624689</td><td>-0.008218234</td><td>0</td><td>-0.027268226</td><td>-0.001123344</td><td>0</td><td>0.3464297</td><td>0.01243282</td><td>16.53598</td><td>0.5402411</td><td>NA</td><td>1</td></tr>\n",
       "</tbody>\n",
       "</table>\n"
      ],
      "text/latex": [
       "A margins: 2662 × 14\n",
       "\\begin{tabular}{r|llllllllllllll}\n",
       "  & Date & Price & ABC & Sensex & DividendAnnounced & Sentiment & Nifty & updown & fitted & se.fitted & dydx\\_Sensex & Var\\_dydx\\_Sensex & \\_weights & \\_at\\_number\\\\\n",
       "  & <date> & <dbl> & <dbl> & <dbl> & <dbl> & <dbl> & <dbl> & <dbl> & <dbl> & <dbl> & <mrgnlffc> & <dbl> & <dbl> & <int>\\\\\n",
       "\\hline\n",
       "\t1 & 2007-01-01 & 153.20 & -0.018577835 &  0.020609571 & 0 & -0.054241830 &  0.002635723 & 0 & 0.8151129 & 0.01533685 & 11.95742 & 0.5402411 & NA & 1\\\\\n",
       "\t2 & 2007-01-02 & 158.65 &  0.035574413 &  0.023273919 & 0 &  0.008467111 &  0.010307882 & 1 & 0.8452555 & 0.01514784 & 10.66688 & 0.5402411 & NA & 1\\\\\n",
       "\t3 & 2007-01-03 & 156.10 & -0.016073117 & -0.006464859 & 0 &  0.004034366 & -0.010663054 & 0 & 0.3758484 & 0.01174714 & 17.00461 & 0.5402411 & NA & 1\\\\\n",
       "\t4 & 2007-01-04 & 157.05 &  0.006085842 &  0.004787963 & 0 &  0.097575403 &  0.020007297 & 1 & 0.5745128 & 0.01091331 & 17.56467 & 0.5402411 & NA & 1\\\\\n",
       "\t5 & 2007-01-05 & 159.00 &  0.012416428 & -0.003839180 & 0 & -0.056319409 &  0.003910649 & 1 & 0.4212342 & 0.01084165 & 17.52783 & 0.5402411 & NA & 1\\\\\n",
       "\t6 & 2007-01-08 & 160.60 &  0.010062893 &  0.020390317 & 0 &  0.079457951 &  0.014303838 & 1 & 0.8124796 & 0.01533712 & 12.06267 & 0.5402411 & NA & 1\\\\\n",
       "\t7 & 2007-01-09 & 156.40 & -0.026151930 &  0.002224875 & 0 & -0.068338808 & -0.009343922 & 0 & 0.5291026 & 0.01031476 & 17.82980 & 0.5402411 & NA & 1\\\\\n",
       "\t8 & 2007-01-10 & 156.45 &  0.000319693 &  0.014961593 & 0 &  0.027008654 &  0.028965824 & 1 & 0.7401445 & 0.01460091 & 14.53148 & 0.5402411 & NA & 1\\\\\n",
       "\t9 & 2007-01-11 & 161.75 &  0.033876638 &  0.005733296 & 0 & -0.006122434 &  0.006707490 & 1 & 0.5910469 & 0.01122530 & 17.40981 & 0.5402411 & NA & 1\\\\\n",
       "\t10 & 2007-01-12 & 161.40 & -0.002163833 &  0.000781416 & 0 &  0.058066754 & -0.012296953 & 0 & 0.5033223 & 0.01018317 & 17.87677 & 0.5402411 & NA & 1\\\\\n",
       "\t11 & 2007-01-15 & 160.70 & -0.004337051 & -0.022510556 & 0 &  0.086523084 & -0.007527488 & 0 & 0.1502256 & 0.01488662 & 10.45915 & 0.5402411 & NA & 1\\\\\n",
       "\t12 & 2007-01-16 & 160.00 & -0.004355943 & -0.002603429 & 0 &  0.023595879 &  0.006612190 & 0 & 0.4430034 & 0.01052053 & 17.69464 & 0.5402411 & NA & 1\\\\\n",
       "\t13 & 2007-01-18 & 161.05 & -0.004635352 & -0.010224311 & 0 &  0.001996180 & -0.020145052 & 0 & 0.3138818 & 0.01320786 & 15.89480 & 0.5402411 & NA & 1\\\\\n",
       "\t14 & 2007-01-19 & 160.75 & -0.001862776 & -0.003948538 & 0 & -0.021729124 & -0.005790925 & 0 & 0.4193183 & 0.01087406 & 17.51056 & 0.5402411 & NA & 1\\\\\n",
       "\t15 & 2007-01-22 & 159.95 & -0.004976672 & -0.008198570 & 0 & -0.062290620 & -0.011904162 & 0 & 0.3467549 & 0.01242506 & 16.54173 & 0.5402411 & NA & 1\\\\\n",
       "\t16 & 2007-01-23 & 160.70 &  0.004688965 &  0.001165962 & 0 & -0.013946916 & -0.012412262 & 1 & 0.5101962 & 0.01020210 & 17.87155 & 0.5402411 & NA & 1\\\\\n",
       "\t17 & 2007-01-25 & 162.05 & -0.008565310 &  0.001810296 & 0 &  0.055766339 & -0.018981951 & 0 & 0.5217059 & 0.01026027 & 17.85092 & 0.5402411 & NA & 1\\\\\n",
       "\t18 & 2007-01-26 & 162.00 & -0.000308547 &  0.012300524 & 0 & -0.025942325 &  0.018346303 & 0 & 0.7000482 & 0.01377506 & 15.57980 & 0.5402411 & NA & 1\\\\\n",
       "\t19 & 2007-01-29 & 161.95 & -0.000308642 & -0.002615664 & 0 &  0.075798171 & -0.001260851 & 0 & 0.4427869 & 0.01052327 & 17.69324 & 0.5402411 & NA & 1\\\\\n",
       "\t20 & 2007-01-31 & 165.05 &  0.011955855 &  0.012203314 & 0 & -0.001894727 &  0.021164221 & 1 & 0.6985319 & 0.01374045 & 15.61529 & 0.5402411 & NA & 1\\\\\n",
       "\t21 & 2007-02-01 & 167.00 &  0.011814602 &  0.000258747 & 0 & -0.039158009 & -0.002320621 & 1 & 0.4939783 & 0.01017666 & 17.87535 & 0.5402411 & NA & 1\\\\\n",
       "\t22 & 2007-02-02 & 171.00 &  0.023952096 &  0.008053324 & 0 & -0.010236694 &  0.003695922 & 1 & 0.6308885 & 0.01211045 & 16.90642 & 0.5402411 & NA & 1\\\\\n",
       "\t23 & 2007-02-05 & 170.70 & -0.001754386 &  0.002435743 & 0 &  0.082823897 &  0.019320075 & 0 & 0.5328611 & 0.01034744 & 17.81671 & 0.5402411 & NA & 1\\\\\n",
       "\t24 & 2007-02-06 & 166.35 & -0.025483304 & -0.006258596 & 0 &  0.060466554 & -0.018969556 & 0 & 0.3793610 & 0.01166879 & 17.05369 & 0.5402411 & NA & 1\\\\\n",
       "\t25 & 2007-02-07 & 166.15 & -0.001202284 & -0.010105645 & 0 &  0.030947328 &  0.009739389 & 0 & 0.3157705 & 0.01316358 & 15.93561 & 0.5402411 & NA & 1\\\\\n",
       "\t26 & 2007-02-08 & 166.70 &  0.003310262 &  0.008463853 & 0 & -0.022284113 &  0.005941379 & 1 & 0.6378075 & 0.01227641 & 16.79995 & 0.5402411 & NA & 1\\\\\n",
       "\t27 & 2007-02-13 & 162.35 & -0.016060606 & -0.006674152 & 0 &  0.009098512 &  0.017789432 & 0 & 0.3722947 & 0.01182740 & 16.95348 & 0.5402411 & NA & 1\\\\\n",
       "\t28 & 2007-02-14 & 163.60 &  0.007699415 &  0.009234369 & 0 & -0.027404965 &  0.010895580 & 1 & 0.6506715 & 0.01258944 & 16.58677 & 0.5402411 & NA & 1\\\\\n",
       "\t29 & 2007-02-15 & 161.45 & -0.013141809 &  0.001807561 & 0 &  0.020362837 & -0.007235694 & 0 & 0.5216571 & 0.01025995 & 17.85104 & 0.5402411 & NA & 1\\\\\n",
       "\t30 & 2007-02-16 & 164.75 &  0.020439765 & -0.005145926 & 0 &  0.106452136 & -0.015067449 & 1 & 0.3984748 & 0.01126339 & 17.29536 & 0.5402411 & NA & 1\\\\\n",
       "\t⋮ & ⋮ & ⋮ & ⋮ & ⋮ & ⋮ & ⋮ & ⋮ & ⋮ & ⋮ & ⋮ & ⋮ & ⋮ & ⋮ & ⋮\\\\\n",
       "\t2633 & 2019-08-12 & 195.45 & -0.004076433 &  0.014715275 & 0 &  0.022982597 &  0.020567099 & 0 & 0.7365524 & 0.01453557 & 14.63422 & 0.5402411 & NA & 1\\\\\n",
       "\t2634 & 2019-08-13 & 196.80 &  0.006907137 & -0.010958370 & 0 &  0.050985196 & -0.007608030 & 1 & 0.3023085 & 0.01347508 & 15.63484 & 0.5402411 & NA & 1\\\\\n",
       "\t2635 & 2019-08-14 & 193.35 & -0.017530488 & -0.008800895 & 0 &  0.046555555 & -0.009143133 & 0 & 0.3368452 & 0.01266215 & 16.36075 & 0.5402411 & NA & 1\\\\\n",
       "\t2636 & 2019-08-15 & 194.10 &  0.003878976 & -0.003423250 & 0 &  0.027555033 &  0.004771136 & 1 & 0.4285379 & 0.01072396 & 17.58982 & 0.5402411 & NA & 1\\\\\n",
       "\t2637 & 2019-08-16 & 192.70 & -0.007212777 & -0.017743823 & 0 & -0.004377138 & -0.032333026 & 0 & 0.2055805 & 0.01504574 & 12.75392 & 0.5402411 & NA & 1\\\\\n",
       "\t2638 & 2019-08-19 & 193.60 &  0.004670472 &  0.020257664 & 0 &  0.026281810 &  0.013354376 & 1 & 0.8108752 & 0.01533614 & 12.12623 & 0.5402411 & NA & 1\\\\\n",
       "\t2639 & 2019-08-22 & 196.05 &  0.003583312 &  0.000397628 & 0 & -0.018244463 &  0.004264114 & 1 & 0.4964610 & 0.01017622 & 17.87669 & 0.5402411 & NA & 1\\\\\n",
       "\t2640 & 2019-08-23 & 198.90 &  0.014537108 &  0.003719976 & 0 & -0.063590837 &  0.002177286 & 1 & 0.5556759 & 0.01061394 & 17.70302 & 0.5402411 & NA & 1\\\\\n",
       "\t2641 & 2019-08-26 & 203.65 &  0.023881347 &  0.005890983 & 0 & -0.005999113 & -0.013622724 & 1 & 0.5937900 & 0.01128087 & 17.38107 & 0.5402411 & NA & 1\\\\\n",
       "\t2642 & 2019-08-27 & 204.15 &  0.002455193 & -0.000973260 & 0 &  0.049609324 & -0.001387894 & 1 & 0.4719754 & 0.01024848 & 17.83327 & 0.5402411 & NA & 1\\\\\n",
       "\t2643 & 2019-08-28 & 201.50 & -0.012980651 & -0.001541323 & 0 & -0.005797128 &  0.005666088 & 0 & 0.4618548 & 0.01032154 & 17.79561 & 0.5402411 & NA & 1\\\\\n",
       "\t2644 & 2019-08-29 & 196.50 & -0.024813896 & -0.011306303 & 0 & -0.032927355 & -0.001252653 & 0 & 0.2968906 & 0.01359717 & 15.50725 & 0.5402411 & NA & 1\\\\\n",
       "\t2645 & 2019-08-30 & 198.65 &  0.010941476 &  0.004578991 & 0 &  0.048827149 & -0.010557758 & 1 & 0.5708389 & 0.01084988 & 17.59483 & 0.5402411 & NA & 1\\\\\n",
       "\t2646 & 2019-09-02 & 198.60 & -0.000251699 &  0.012550071 & 0 &  0.016151333 &  0.021525956 & 0 & 0.7039247 & 0.01386266 & 15.48772 & 0.5402411 & NA & 1\\\\\n",
       "\t2647 & 2019-09-03 & 198.45 & -0.000755287 &  0.002244323 & 0 &  0.088749262 & -0.006351528 & 0 & 0.5294494 & 0.01031764 & 17.82866 & 0.5402411 & NA & 1\\\\\n",
       "\t2648 & 2019-09-06 & 196.65 & -0.001269680 &  0.009479970 & 0 & -0.028218443 &  0.001738033 & 0 & 0.6547366 & 0.01268902 & 16.51525 & 0.5402411 & NA & 1\\\\\n",
       "\t2649 & 2019-09-09 & 195.55 & -0.005593694 &  0.001154667 & 0 & -0.077867345 &  0.005395426 & 0 & 0.5099943 & 0.01020137 & 17.87178 & 0.5402411 & NA & 1\\\\\n",
       "\t2650 & 2019-09-10 & 194.95 & -0.003068269 &  0.005922168 & 0 &  0.010484545 &  0.006816311 & 0 & 0.5943320 & 0.01129196 & 17.37529 & 0.5402411 & NA & 1\\\\\n",
       "\t2651 & 2019-09-11 & 194.20 & -0.003847140 &  0.001012184 & 0 &  0.036576427 &  0.024308773 & 0 & 0.5074476 & 0.01019310 & 17.87428 & 0.5402411 & NA & 1\\\\\n",
       "\t2652 & 2019-09-12 & 195.55 &  0.006951596 &  0.009046500 & 0 & -0.011497665 &  0.023929494 & 1 & 0.6475502 & 0.01251312 & 16.64033 & 0.5402411 & NA & 1\\\\\n",
       "\t2653 & 2019-09-13 & 191.25 & -0.021989261 & -0.021258606 & 0 & -0.024521062 & -0.005769162 & 0 & 0.1637006 & 0.01503285 & 11.06729 & 0.5402411 & NA & 1\\\\\n",
       "\t2654 & 2019-09-18 & 191.65 &  0.001044659 & -0.002432839 & 0 & -0.035411276 &  0.004606344 & 1 & 0.4460237 & 0.01048340 & 17.71352 & 0.5402411 & NA & 1\\\\\n",
       "\t2655 & 2019-09-19 & 186.65 & -0.026089225 & -0.016254032 & 0 & -0.011767628 & -0.015370956 & 0 & 0.2250976 & 0.01487084 & 13.44323 & 0.5402411 & NA & 1\\\\\n",
       "\t2656 & 2019-09-20 & 189.30 &  0.014197696 &  0.001565548 & 0 & -0.009514089 &  0.008117546 & 1 & 0.5173356 & 0.01023432 & 17.86051 & 0.5402411 & NA & 1\\\\\n",
       "\t2657 & 2019-09-23 & 188.15 & -0.006075013 & -0.001350436 & 0 &  0.114144507 &  0.003622162 & 0 & 0.4652532 & 0.01029428 & 17.80954 & 0.5402411 & NA & 1\\\\\n",
       "\t2658 & 2019-09-24 & 183.95 & -0.022322615 & -0.004468355 & 0 & -0.033840115 & -0.010957231 & 0 & 0.4102381 & 0.01103578 & 17.42297 & 0.5402411 & NA & 1\\\\\n",
       "\t2659 & 2019-09-25 & 184.95 &  0.005436260 &  0.016924160 & 0 & -0.049778358 &  0.024913576 & 1 & 0.7678365 & 0.01502778 & 13.67860 & 0.5402411 & NA & 1\\\\\n",
       "\t2660 & 2019-09-26 & 183.90 & -0.005677210 &  0.000366372 & 0 & -0.008365814 &  0.006269552 & 0 & 0.4959023 & 0.01017619 & 17.87645 & 0.5402411 & NA & 1\\\\\n",
       "\t2661 & 2019-10-01 & 180.65 & -0.006325633 &  0.006620676 & 0 & -0.096255086 & -0.006477505 & 0 & 0.6064220 & 0.01154862 & 17.23751 & 0.5402411 & NA & 1\\\\\n",
       "\t2662 & 2019-10-02 & 178.55 & -0.011624689 & -0.008218234 & 0 & -0.027268226 & -0.001123344 & 0 & 0.3464297 & 0.01243282 & 16.53598 & 0.5402411 & NA & 1\\\\\n",
       "\\end{tabular}\n"
      ],
      "text/markdown": [
       "\n",
       "A margins: 2662 × 14\n",
       "\n",
       "| <!--/--> | Date &lt;date&gt; | Price &lt;dbl&gt; | ABC &lt;dbl&gt; | Sensex &lt;dbl&gt; | DividendAnnounced &lt;dbl&gt; | Sentiment &lt;dbl&gt; | Nifty &lt;dbl&gt; | updown &lt;dbl&gt; | fitted &lt;dbl&gt; | se.fitted &lt;dbl&gt; | dydx_Sensex &lt;mrgnlffc&gt; | Var_dydx_Sensex &lt;dbl&gt; | _weights &lt;dbl&gt; | _at_number &lt;int&gt; |\n",
       "|---|---|---|---|---|---|---|---|---|---|---|---|---|---|---|\n",
       "| 1 | 2007-01-01 | 153.20 | -0.018577835 |  0.020609571 | 0 | -0.054241830 |  0.002635723 | 0 | 0.8151129 | 0.01533685 | 11.95742 | 0.5402411 | NA | 1 |\n",
       "| 2 | 2007-01-02 | 158.65 |  0.035574413 |  0.023273919 | 0 |  0.008467111 |  0.010307882 | 1 | 0.8452555 | 0.01514784 | 10.66688 | 0.5402411 | NA | 1 |\n",
       "| 3 | 2007-01-03 | 156.10 | -0.016073117 | -0.006464859 | 0 |  0.004034366 | -0.010663054 | 0 | 0.3758484 | 0.01174714 | 17.00461 | 0.5402411 | NA | 1 |\n",
       "| 4 | 2007-01-04 | 157.05 |  0.006085842 |  0.004787963 | 0 |  0.097575403 |  0.020007297 | 1 | 0.5745128 | 0.01091331 | 17.56467 | 0.5402411 | NA | 1 |\n",
       "| 5 | 2007-01-05 | 159.00 |  0.012416428 | -0.003839180 | 0 | -0.056319409 |  0.003910649 | 1 | 0.4212342 | 0.01084165 | 17.52783 | 0.5402411 | NA | 1 |\n",
       "| 6 | 2007-01-08 | 160.60 |  0.010062893 |  0.020390317 | 0 |  0.079457951 |  0.014303838 | 1 | 0.8124796 | 0.01533712 | 12.06267 | 0.5402411 | NA | 1 |\n",
       "| 7 | 2007-01-09 | 156.40 | -0.026151930 |  0.002224875 | 0 | -0.068338808 | -0.009343922 | 0 | 0.5291026 | 0.01031476 | 17.82980 | 0.5402411 | NA | 1 |\n",
       "| 8 | 2007-01-10 | 156.45 |  0.000319693 |  0.014961593 | 0 |  0.027008654 |  0.028965824 | 1 | 0.7401445 | 0.01460091 | 14.53148 | 0.5402411 | NA | 1 |\n",
       "| 9 | 2007-01-11 | 161.75 |  0.033876638 |  0.005733296 | 0 | -0.006122434 |  0.006707490 | 1 | 0.5910469 | 0.01122530 | 17.40981 | 0.5402411 | NA | 1 |\n",
       "| 10 | 2007-01-12 | 161.40 | -0.002163833 |  0.000781416 | 0 |  0.058066754 | -0.012296953 | 0 | 0.5033223 | 0.01018317 | 17.87677 | 0.5402411 | NA | 1 |\n",
       "| 11 | 2007-01-15 | 160.70 | -0.004337051 | -0.022510556 | 0 |  0.086523084 | -0.007527488 | 0 | 0.1502256 | 0.01488662 | 10.45915 | 0.5402411 | NA | 1 |\n",
       "| 12 | 2007-01-16 | 160.00 | -0.004355943 | -0.002603429 | 0 |  0.023595879 |  0.006612190 | 0 | 0.4430034 | 0.01052053 | 17.69464 | 0.5402411 | NA | 1 |\n",
       "| 13 | 2007-01-18 | 161.05 | -0.004635352 | -0.010224311 | 0 |  0.001996180 | -0.020145052 | 0 | 0.3138818 | 0.01320786 | 15.89480 | 0.5402411 | NA | 1 |\n",
       "| 14 | 2007-01-19 | 160.75 | -0.001862776 | -0.003948538 | 0 | -0.021729124 | -0.005790925 | 0 | 0.4193183 | 0.01087406 | 17.51056 | 0.5402411 | NA | 1 |\n",
       "| 15 | 2007-01-22 | 159.95 | -0.004976672 | -0.008198570 | 0 | -0.062290620 | -0.011904162 | 0 | 0.3467549 | 0.01242506 | 16.54173 | 0.5402411 | NA | 1 |\n",
       "| 16 | 2007-01-23 | 160.70 |  0.004688965 |  0.001165962 | 0 | -0.013946916 | -0.012412262 | 1 | 0.5101962 | 0.01020210 | 17.87155 | 0.5402411 | NA | 1 |\n",
       "| 17 | 2007-01-25 | 162.05 | -0.008565310 |  0.001810296 | 0 |  0.055766339 | -0.018981951 | 0 | 0.5217059 | 0.01026027 | 17.85092 | 0.5402411 | NA | 1 |\n",
       "| 18 | 2007-01-26 | 162.00 | -0.000308547 |  0.012300524 | 0 | -0.025942325 |  0.018346303 | 0 | 0.7000482 | 0.01377506 | 15.57980 | 0.5402411 | NA | 1 |\n",
       "| 19 | 2007-01-29 | 161.95 | -0.000308642 | -0.002615664 | 0 |  0.075798171 | -0.001260851 | 0 | 0.4427869 | 0.01052327 | 17.69324 | 0.5402411 | NA | 1 |\n",
       "| 20 | 2007-01-31 | 165.05 |  0.011955855 |  0.012203314 | 0 | -0.001894727 |  0.021164221 | 1 | 0.6985319 | 0.01374045 | 15.61529 | 0.5402411 | NA | 1 |\n",
       "| 21 | 2007-02-01 | 167.00 |  0.011814602 |  0.000258747 | 0 | -0.039158009 | -0.002320621 | 1 | 0.4939783 | 0.01017666 | 17.87535 | 0.5402411 | NA | 1 |\n",
       "| 22 | 2007-02-02 | 171.00 |  0.023952096 |  0.008053324 | 0 | -0.010236694 |  0.003695922 | 1 | 0.6308885 | 0.01211045 | 16.90642 | 0.5402411 | NA | 1 |\n",
       "| 23 | 2007-02-05 | 170.70 | -0.001754386 |  0.002435743 | 0 |  0.082823897 |  0.019320075 | 0 | 0.5328611 | 0.01034744 | 17.81671 | 0.5402411 | NA | 1 |\n",
       "| 24 | 2007-02-06 | 166.35 | -0.025483304 | -0.006258596 | 0 |  0.060466554 | -0.018969556 | 0 | 0.3793610 | 0.01166879 | 17.05369 | 0.5402411 | NA | 1 |\n",
       "| 25 | 2007-02-07 | 166.15 | -0.001202284 | -0.010105645 | 0 |  0.030947328 |  0.009739389 | 0 | 0.3157705 | 0.01316358 | 15.93561 | 0.5402411 | NA | 1 |\n",
       "| 26 | 2007-02-08 | 166.70 |  0.003310262 |  0.008463853 | 0 | -0.022284113 |  0.005941379 | 1 | 0.6378075 | 0.01227641 | 16.79995 | 0.5402411 | NA | 1 |\n",
       "| 27 | 2007-02-13 | 162.35 | -0.016060606 | -0.006674152 | 0 |  0.009098512 |  0.017789432 | 0 | 0.3722947 | 0.01182740 | 16.95348 | 0.5402411 | NA | 1 |\n",
       "| 28 | 2007-02-14 | 163.60 |  0.007699415 |  0.009234369 | 0 | -0.027404965 |  0.010895580 | 1 | 0.6506715 | 0.01258944 | 16.58677 | 0.5402411 | NA | 1 |\n",
       "| 29 | 2007-02-15 | 161.45 | -0.013141809 |  0.001807561 | 0 |  0.020362837 | -0.007235694 | 0 | 0.5216571 | 0.01025995 | 17.85104 | 0.5402411 | NA | 1 |\n",
       "| 30 | 2007-02-16 | 164.75 |  0.020439765 | -0.005145926 | 0 |  0.106452136 | -0.015067449 | 1 | 0.3984748 | 0.01126339 | 17.29536 | 0.5402411 | NA | 1 |\n",
       "| ⋮ | ⋮ | ⋮ | ⋮ | ⋮ | ⋮ | ⋮ | ⋮ | ⋮ | ⋮ | ⋮ | ⋮ | ⋮ | ⋮ | ⋮ |\n",
       "| 2633 | 2019-08-12 | 195.45 | -0.004076433 |  0.014715275 | 0 |  0.022982597 |  0.020567099 | 0 | 0.7365524 | 0.01453557 | 14.63422 | 0.5402411 | NA | 1 |\n",
       "| 2634 | 2019-08-13 | 196.80 |  0.006907137 | -0.010958370 | 0 |  0.050985196 | -0.007608030 | 1 | 0.3023085 | 0.01347508 | 15.63484 | 0.5402411 | NA | 1 |\n",
       "| 2635 | 2019-08-14 | 193.35 | -0.017530488 | -0.008800895 | 0 |  0.046555555 | -0.009143133 | 0 | 0.3368452 | 0.01266215 | 16.36075 | 0.5402411 | NA | 1 |\n",
       "| 2636 | 2019-08-15 | 194.10 |  0.003878976 | -0.003423250 | 0 |  0.027555033 |  0.004771136 | 1 | 0.4285379 | 0.01072396 | 17.58982 | 0.5402411 | NA | 1 |\n",
       "| 2637 | 2019-08-16 | 192.70 | -0.007212777 | -0.017743823 | 0 | -0.004377138 | -0.032333026 | 0 | 0.2055805 | 0.01504574 | 12.75392 | 0.5402411 | NA | 1 |\n",
       "| 2638 | 2019-08-19 | 193.60 |  0.004670472 |  0.020257664 | 0 |  0.026281810 |  0.013354376 | 1 | 0.8108752 | 0.01533614 | 12.12623 | 0.5402411 | NA | 1 |\n",
       "| 2639 | 2019-08-22 | 196.05 |  0.003583312 |  0.000397628 | 0 | -0.018244463 |  0.004264114 | 1 | 0.4964610 | 0.01017622 | 17.87669 | 0.5402411 | NA | 1 |\n",
       "| 2640 | 2019-08-23 | 198.90 |  0.014537108 |  0.003719976 | 0 | -0.063590837 |  0.002177286 | 1 | 0.5556759 | 0.01061394 | 17.70302 | 0.5402411 | NA | 1 |\n",
       "| 2641 | 2019-08-26 | 203.65 |  0.023881347 |  0.005890983 | 0 | -0.005999113 | -0.013622724 | 1 | 0.5937900 | 0.01128087 | 17.38107 | 0.5402411 | NA | 1 |\n",
       "| 2642 | 2019-08-27 | 204.15 |  0.002455193 | -0.000973260 | 0 |  0.049609324 | -0.001387894 | 1 | 0.4719754 | 0.01024848 | 17.83327 | 0.5402411 | NA | 1 |\n",
       "| 2643 | 2019-08-28 | 201.50 | -0.012980651 | -0.001541323 | 0 | -0.005797128 |  0.005666088 | 0 | 0.4618548 | 0.01032154 | 17.79561 | 0.5402411 | NA | 1 |\n",
       "| 2644 | 2019-08-29 | 196.50 | -0.024813896 | -0.011306303 | 0 | -0.032927355 | -0.001252653 | 0 | 0.2968906 | 0.01359717 | 15.50725 | 0.5402411 | NA | 1 |\n",
       "| 2645 | 2019-08-30 | 198.65 |  0.010941476 |  0.004578991 | 0 |  0.048827149 | -0.010557758 | 1 | 0.5708389 | 0.01084988 | 17.59483 | 0.5402411 | NA | 1 |\n",
       "| 2646 | 2019-09-02 | 198.60 | -0.000251699 |  0.012550071 | 0 |  0.016151333 |  0.021525956 | 0 | 0.7039247 | 0.01386266 | 15.48772 | 0.5402411 | NA | 1 |\n",
       "| 2647 | 2019-09-03 | 198.45 | -0.000755287 |  0.002244323 | 0 |  0.088749262 | -0.006351528 | 0 | 0.5294494 | 0.01031764 | 17.82866 | 0.5402411 | NA | 1 |\n",
       "| 2648 | 2019-09-06 | 196.65 | -0.001269680 |  0.009479970 | 0 | -0.028218443 |  0.001738033 | 0 | 0.6547366 | 0.01268902 | 16.51525 | 0.5402411 | NA | 1 |\n",
       "| 2649 | 2019-09-09 | 195.55 | -0.005593694 |  0.001154667 | 0 | -0.077867345 |  0.005395426 | 0 | 0.5099943 | 0.01020137 | 17.87178 | 0.5402411 | NA | 1 |\n",
       "| 2650 | 2019-09-10 | 194.95 | -0.003068269 |  0.005922168 | 0 |  0.010484545 |  0.006816311 | 0 | 0.5943320 | 0.01129196 | 17.37529 | 0.5402411 | NA | 1 |\n",
       "| 2651 | 2019-09-11 | 194.20 | -0.003847140 |  0.001012184 | 0 |  0.036576427 |  0.024308773 | 0 | 0.5074476 | 0.01019310 | 17.87428 | 0.5402411 | NA | 1 |\n",
       "| 2652 | 2019-09-12 | 195.55 |  0.006951596 |  0.009046500 | 0 | -0.011497665 |  0.023929494 | 1 | 0.6475502 | 0.01251312 | 16.64033 | 0.5402411 | NA | 1 |\n",
       "| 2653 | 2019-09-13 | 191.25 | -0.021989261 | -0.021258606 | 0 | -0.024521062 | -0.005769162 | 0 | 0.1637006 | 0.01503285 | 11.06729 | 0.5402411 | NA | 1 |\n",
       "| 2654 | 2019-09-18 | 191.65 |  0.001044659 | -0.002432839 | 0 | -0.035411276 |  0.004606344 | 1 | 0.4460237 | 0.01048340 | 17.71352 | 0.5402411 | NA | 1 |\n",
       "| 2655 | 2019-09-19 | 186.65 | -0.026089225 | -0.016254032 | 0 | -0.011767628 | -0.015370956 | 0 | 0.2250976 | 0.01487084 | 13.44323 | 0.5402411 | NA | 1 |\n",
       "| 2656 | 2019-09-20 | 189.30 |  0.014197696 |  0.001565548 | 0 | -0.009514089 |  0.008117546 | 1 | 0.5173356 | 0.01023432 | 17.86051 | 0.5402411 | NA | 1 |\n",
       "| 2657 | 2019-09-23 | 188.15 | -0.006075013 | -0.001350436 | 0 |  0.114144507 |  0.003622162 | 0 | 0.4652532 | 0.01029428 | 17.80954 | 0.5402411 | NA | 1 |\n",
       "| 2658 | 2019-09-24 | 183.95 | -0.022322615 | -0.004468355 | 0 | -0.033840115 | -0.010957231 | 0 | 0.4102381 | 0.01103578 | 17.42297 | 0.5402411 | NA | 1 |\n",
       "| 2659 | 2019-09-25 | 184.95 |  0.005436260 |  0.016924160 | 0 | -0.049778358 |  0.024913576 | 1 | 0.7678365 | 0.01502778 | 13.67860 | 0.5402411 | NA | 1 |\n",
       "| 2660 | 2019-09-26 | 183.90 | -0.005677210 |  0.000366372 | 0 | -0.008365814 |  0.006269552 | 0 | 0.4959023 | 0.01017619 | 17.87645 | 0.5402411 | NA | 1 |\n",
       "| 2661 | 2019-10-01 | 180.65 | -0.006325633 |  0.006620676 | 0 | -0.096255086 | -0.006477505 | 0 | 0.6064220 | 0.01154862 | 17.23751 | 0.5402411 | NA | 1 |\n",
       "| 2662 | 2019-10-02 | 178.55 | -0.011624689 | -0.008218234 | 0 | -0.027268226 | -0.001123344 | 0 | 0.3464297 | 0.01243282 | 16.53598 | 0.5402411 | NA | 1 |\n",
       "\n"
      ],
      "text/plain": [
       "     Date       Price  ABC          Sensex       DividendAnnounced Sentiment   \n",
       "1    2007-01-01 153.20 -0.018577835  0.020609571 0                 -0.054241830\n",
       "2    2007-01-02 158.65  0.035574413  0.023273919 0                  0.008467111\n",
       "3    2007-01-03 156.10 -0.016073117 -0.006464859 0                  0.004034366\n",
       "4    2007-01-04 157.05  0.006085842  0.004787963 0                  0.097575403\n",
       "5    2007-01-05 159.00  0.012416428 -0.003839180 0                 -0.056319409\n",
       "6    2007-01-08 160.60  0.010062893  0.020390317 0                  0.079457951\n",
       "7    2007-01-09 156.40 -0.026151930  0.002224875 0                 -0.068338808\n",
       "8    2007-01-10 156.45  0.000319693  0.014961593 0                  0.027008654\n",
       "9    2007-01-11 161.75  0.033876638  0.005733296 0                 -0.006122434\n",
       "10   2007-01-12 161.40 -0.002163833  0.000781416 0                  0.058066754\n",
       "11   2007-01-15 160.70 -0.004337051 -0.022510556 0                  0.086523084\n",
       "12   2007-01-16 160.00 -0.004355943 -0.002603429 0                  0.023595879\n",
       "13   2007-01-18 161.05 -0.004635352 -0.010224311 0                  0.001996180\n",
       "14   2007-01-19 160.75 -0.001862776 -0.003948538 0                 -0.021729124\n",
       "15   2007-01-22 159.95 -0.004976672 -0.008198570 0                 -0.062290620\n",
       "16   2007-01-23 160.70  0.004688965  0.001165962 0                 -0.013946916\n",
       "17   2007-01-25 162.05 -0.008565310  0.001810296 0                  0.055766339\n",
       "18   2007-01-26 162.00 -0.000308547  0.012300524 0                 -0.025942325\n",
       "19   2007-01-29 161.95 -0.000308642 -0.002615664 0                  0.075798171\n",
       "20   2007-01-31 165.05  0.011955855  0.012203314 0                 -0.001894727\n",
       "21   2007-02-01 167.00  0.011814602  0.000258747 0                 -0.039158009\n",
       "22   2007-02-02 171.00  0.023952096  0.008053324 0                 -0.010236694\n",
       "23   2007-02-05 170.70 -0.001754386  0.002435743 0                  0.082823897\n",
       "24   2007-02-06 166.35 -0.025483304 -0.006258596 0                  0.060466554\n",
       "25   2007-02-07 166.15 -0.001202284 -0.010105645 0                  0.030947328\n",
       "26   2007-02-08 166.70  0.003310262  0.008463853 0                 -0.022284113\n",
       "27   2007-02-13 162.35 -0.016060606 -0.006674152 0                  0.009098512\n",
       "28   2007-02-14 163.60  0.007699415  0.009234369 0                 -0.027404965\n",
       "29   2007-02-15 161.45 -0.013141809  0.001807561 0                  0.020362837\n",
       "30   2007-02-16 164.75  0.020439765 -0.005145926 0                  0.106452136\n",
       "⋮    ⋮          ⋮      ⋮            ⋮            ⋮                 ⋮           \n",
       "2633 2019-08-12 195.45 -0.004076433  0.014715275 0                  0.022982597\n",
       "2634 2019-08-13 196.80  0.006907137 -0.010958370 0                  0.050985196\n",
       "2635 2019-08-14 193.35 -0.017530488 -0.008800895 0                  0.046555555\n",
       "2636 2019-08-15 194.10  0.003878976 -0.003423250 0                  0.027555033\n",
       "2637 2019-08-16 192.70 -0.007212777 -0.017743823 0                 -0.004377138\n",
       "2638 2019-08-19 193.60  0.004670472  0.020257664 0                  0.026281810\n",
       "2639 2019-08-22 196.05  0.003583312  0.000397628 0                 -0.018244463\n",
       "2640 2019-08-23 198.90  0.014537108  0.003719976 0                 -0.063590837\n",
       "2641 2019-08-26 203.65  0.023881347  0.005890983 0                 -0.005999113\n",
       "2642 2019-08-27 204.15  0.002455193 -0.000973260 0                  0.049609324\n",
       "2643 2019-08-28 201.50 -0.012980651 -0.001541323 0                 -0.005797128\n",
       "2644 2019-08-29 196.50 -0.024813896 -0.011306303 0                 -0.032927355\n",
       "2645 2019-08-30 198.65  0.010941476  0.004578991 0                  0.048827149\n",
       "2646 2019-09-02 198.60 -0.000251699  0.012550071 0                  0.016151333\n",
       "2647 2019-09-03 198.45 -0.000755287  0.002244323 0                  0.088749262\n",
       "2648 2019-09-06 196.65 -0.001269680  0.009479970 0                 -0.028218443\n",
       "2649 2019-09-09 195.55 -0.005593694  0.001154667 0                 -0.077867345\n",
       "2650 2019-09-10 194.95 -0.003068269  0.005922168 0                  0.010484545\n",
       "2651 2019-09-11 194.20 -0.003847140  0.001012184 0                  0.036576427\n",
       "2652 2019-09-12 195.55  0.006951596  0.009046500 0                 -0.011497665\n",
       "2653 2019-09-13 191.25 -0.021989261 -0.021258606 0                 -0.024521062\n",
       "2654 2019-09-18 191.65  0.001044659 -0.002432839 0                 -0.035411276\n",
       "2655 2019-09-19 186.65 -0.026089225 -0.016254032 0                 -0.011767628\n",
       "2656 2019-09-20 189.30  0.014197696  0.001565548 0                 -0.009514089\n",
       "2657 2019-09-23 188.15 -0.006075013 -0.001350436 0                  0.114144507\n",
       "2658 2019-09-24 183.95 -0.022322615 -0.004468355 0                 -0.033840115\n",
       "2659 2019-09-25 184.95  0.005436260  0.016924160 0                 -0.049778358\n",
       "2660 2019-09-26 183.90 -0.005677210  0.000366372 0                 -0.008365814\n",
       "2661 2019-10-01 180.65 -0.006325633  0.006620676 0                 -0.096255086\n",
       "2662 2019-10-02 178.55 -0.011624689 -0.008218234 0                 -0.027268226\n",
       "     Nifty        updown fitted    se.fitted  dydx_Sensex Var_dydx_Sensex\n",
       "1     0.002635723 0      0.8151129 0.01533685 11.95742    0.5402411      \n",
       "2     0.010307882 1      0.8452555 0.01514784 10.66688    0.5402411      \n",
       "3    -0.010663054 0      0.3758484 0.01174714 17.00461    0.5402411      \n",
       "4     0.020007297 1      0.5745128 0.01091331 17.56467    0.5402411      \n",
       "5     0.003910649 1      0.4212342 0.01084165 17.52783    0.5402411      \n",
       "6     0.014303838 1      0.8124796 0.01533712 12.06267    0.5402411      \n",
       "7    -0.009343922 0      0.5291026 0.01031476 17.82980    0.5402411      \n",
       "8     0.028965824 1      0.7401445 0.01460091 14.53148    0.5402411      \n",
       "9     0.006707490 1      0.5910469 0.01122530 17.40981    0.5402411      \n",
       "10   -0.012296953 0      0.5033223 0.01018317 17.87677    0.5402411      \n",
       "11   -0.007527488 0      0.1502256 0.01488662 10.45915    0.5402411      \n",
       "12    0.006612190 0      0.4430034 0.01052053 17.69464    0.5402411      \n",
       "13   -0.020145052 0      0.3138818 0.01320786 15.89480    0.5402411      \n",
       "14   -0.005790925 0      0.4193183 0.01087406 17.51056    0.5402411      \n",
       "15   -0.011904162 0      0.3467549 0.01242506 16.54173    0.5402411      \n",
       "16   -0.012412262 1      0.5101962 0.01020210 17.87155    0.5402411      \n",
       "17   -0.018981951 0      0.5217059 0.01026027 17.85092    0.5402411      \n",
       "18    0.018346303 0      0.7000482 0.01377506 15.57980    0.5402411      \n",
       "19   -0.001260851 0      0.4427869 0.01052327 17.69324    0.5402411      \n",
       "20    0.021164221 1      0.6985319 0.01374045 15.61529    0.5402411      \n",
       "21   -0.002320621 1      0.4939783 0.01017666 17.87535    0.5402411      \n",
       "22    0.003695922 1      0.6308885 0.01211045 16.90642    0.5402411      \n",
       "23    0.019320075 0      0.5328611 0.01034744 17.81671    0.5402411      \n",
       "24   -0.018969556 0      0.3793610 0.01166879 17.05369    0.5402411      \n",
       "25    0.009739389 0      0.3157705 0.01316358 15.93561    0.5402411      \n",
       "26    0.005941379 1      0.6378075 0.01227641 16.79995    0.5402411      \n",
       "27    0.017789432 0      0.3722947 0.01182740 16.95348    0.5402411      \n",
       "28    0.010895580 1      0.6506715 0.01258944 16.58677    0.5402411      \n",
       "29   -0.007235694 0      0.5216571 0.01025995 17.85104    0.5402411      \n",
       "30   -0.015067449 1      0.3984748 0.01126339 17.29536    0.5402411      \n",
       "⋮    ⋮            ⋮      ⋮         ⋮          ⋮           ⋮              \n",
       "2633  0.020567099 0      0.7365524 0.01453557 14.63422    0.5402411      \n",
       "2634 -0.007608030 1      0.3023085 0.01347508 15.63484    0.5402411      \n",
       "2635 -0.009143133 0      0.3368452 0.01266215 16.36075    0.5402411      \n",
       "2636  0.004771136 1      0.4285379 0.01072396 17.58982    0.5402411      \n",
       "2637 -0.032333026 0      0.2055805 0.01504574 12.75392    0.5402411      \n",
       "2638  0.013354376 1      0.8108752 0.01533614 12.12623    0.5402411      \n",
       "2639  0.004264114 1      0.4964610 0.01017622 17.87669    0.5402411      \n",
       "2640  0.002177286 1      0.5556759 0.01061394 17.70302    0.5402411      \n",
       "2641 -0.013622724 1      0.5937900 0.01128087 17.38107    0.5402411      \n",
       "2642 -0.001387894 1      0.4719754 0.01024848 17.83327    0.5402411      \n",
       "2643  0.005666088 0      0.4618548 0.01032154 17.79561    0.5402411      \n",
       "2644 -0.001252653 0      0.2968906 0.01359717 15.50725    0.5402411      \n",
       "2645 -0.010557758 1      0.5708389 0.01084988 17.59483    0.5402411      \n",
       "2646  0.021525956 0      0.7039247 0.01386266 15.48772    0.5402411      \n",
       "2647 -0.006351528 0      0.5294494 0.01031764 17.82866    0.5402411      \n",
       "2648  0.001738033 0      0.6547366 0.01268902 16.51525    0.5402411      \n",
       "2649  0.005395426 0      0.5099943 0.01020137 17.87178    0.5402411      \n",
       "2650  0.006816311 0      0.5943320 0.01129196 17.37529    0.5402411      \n",
       "2651  0.024308773 0      0.5074476 0.01019310 17.87428    0.5402411      \n",
       "2652  0.023929494 1      0.6475502 0.01251312 16.64033    0.5402411      \n",
       "2653 -0.005769162 0      0.1637006 0.01503285 11.06729    0.5402411      \n",
       "2654  0.004606344 1      0.4460237 0.01048340 17.71352    0.5402411      \n",
       "2655 -0.015370956 0      0.2250976 0.01487084 13.44323    0.5402411      \n",
       "2656  0.008117546 1      0.5173356 0.01023432 17.86051    0.5402411      \n",
       "2657  0.003622162 0      0.4652532 0.01029428 17.80954    0.5402411      \n",
       "2658 -0.010957231 0      0.4102381 0.01103578 17.42297    0.5402411      \n",
       "2659  0.024913576 1      0.7678365 0.01502778 13.67860    0.5402411      \n",
       "2660  0.006269552 0      0.4959023 0.01017619 17.87645    0.5402411      \n",
       "2661 -0.006477505 0      0.6064220 0.01154862 17.23751    0.5402411      \n",
       "2662 -0.001123344 0      0.3464297 0.01243282 16.53598    0.5402411      \n",
       "     _weights _at_number\n",
       "1    NA       1         \n",
       "2    NA       1         \n",
       "3    NA       1         \n",
       "4    NA       1         \n",
       "5    NA       1         \n",
       "6    NA       1         \n",
       "7    NA       1         \n",
       "8    NA       1         \n",
       "9    NA       1         \n",
       "10   NA       1         \n",
       "11   NA       1         \n",
       "12   NA       1         \n",
       "13   NA       1         \n",
       "14   NA       1         \n",
       "15   NA       1         \n",
       "16   NA       1         \n",
       "17   NA       1         \n",
       "18   NA       1         \n",
       "19   NA       1         \n",
       "20   NA       1         \n",
       "21   NA       1         \n",
       "22   NA       1         \n",
       "23   NA       1         \n",
       "24   NA       1         \n",
       "25   NA       1         \n",
       "26   NA       1         \n",
       "27   NA       1         \n",
       "28   NA       1         \n",
       "29   NA       1         \n",
       "30   NA       1         \n",
       "⋮    ⋮        ⋮         \n",
       "2633 NA       1         \n",
       "2634 NA       1         \n",
       "2635 NA       1         \n",
       "2636 NA       1         \n",
       "2637 NA       1         \n",
       "2638 NA       1         \n",
       "2639 NA       1         \n",
       "2640 NA       1         \n",
       "2641 NA       1         \n",
       "2642 NA       1         \n",
       "2643 NA       1         \n",
       "2644 NA       1         \n",
       "2645 NA       1         \n",
       "2646 NA       1         \n",
       "2647 NA       1         \n",
       "2648 NA       1         \n",
       "2649 NA       1         \n",
       "2650 NA       1         \n",
       "2651 NA       1         \n",
       "2652 NA       1         \n",
       "2653 NA       1         \n",
       "2654 NA       1         \n",
       "2655 NA       1         \n",
       "2656 NA       1         \n",
       "2657 NA       1         \n",
       "2658 NA       1         \n",
       "2659 NA       1         \n",
       "2660 NA       1         \n",
       "2661 NA       1         \n",
       "2662 NA       1         "
      ]
     },
     "metadata": {},
     "output_type": "display_data"
    }
   ],
   "source": [
    "probit = glm(formula(linear), data = train, family = binomial('probit'))\n",
    "null =glm(updown~1, data = train, family = binomial('probit'))\n",
    "PseudoRsq = 1-logLik(probit)/logLik(null)\n",
    "margins(probit)"
   ]
  },
  {
   "cell_type": "code",
   "execution_count": 65,
   "metadata": {
    "vscode": {
     "languageId": "r"
    }
   },
   "outputs": [
    {
     "data": {
      "text/html": [
       "0.99926906993184"
      ],
      "text/latex": [
       "0.99926906993184"
      ],
      "text/markdown": [
       "0.99926906993184"
      ],
      "text/plain": [
       "[1] 0.9992691"
      ]
     },
     "metadata": {},
     "output_type": "display_data"
    }
   ],
   "source": [
    "cor(logit$fitted.values, probit$fitted.values)"
   ]
  },
  {
   "cell_type": "code",
   "execution_count": 66,
   "metadata": {
    "vscode": {
     "languageId": "r"
    }
   },
   "outputs": [],
   "source": [
    "Corr_ob = cbind.data.frame(linear$fitted.values, logit$fitted.values, probit$fitted.values)"
   ]
  },
  {
   "cell_type": "code",
   "execution_count": 67,
   "metadata": {
    "vscode": {
     "languageId": "r"
    }
   },
   "outputs": [
    {
     "data": {
      "text/html": [
       "<table class=\"dataframe\">\n",
       "<caption>A matrix: 3 × 3 of type dbl</caption>\n",
       "<thead>\n",
       "\t<tr><th></th><th scope=col>linear$fitted.values</th><th scope=col>logit$fitted.values</th><th scope=col>probit$fitted.values</th></tr>\n",
       "</thead>\n",
       "<tbody>\n",
       "\t<tr><th scope=row>linear$fitted.values</th><td>1.0000000</td><td>0.9279176</td><td>0.9368064</td></tr>\n",
       "\t<tr><th scope=row>logit$fitted.values</th><td>0.9279176</td><td>1.0000000</td><td>0.9992691</td></tr>\n",
       "\t<tr><th scope=row>probit$fitted.values</th><td>0.9368064</td><td>0.9992691</td><td>1.0000000</td></tr>\n",
       "</tbody>\n",
       "</table>\n"
      ],
      "text/latex": [
       "A matrix: 3 × 3 of type dbl\n",
       "\\begin{tabular}{r|lll}\n",
       "  & linear\\$fitted.values & logit\\$fitted.values & probit\\$fitted.values\\\\\n",
       "\\hline\n",
       "\tlinear\\$fitted.values & 1.0000000 & 0.9279176 & 0.9368064\\\\\n",
       "\tlogit\\$fitted.values & 0.9279176 & 1.0000000 & 0.9992691\\\\\n",
       "\tprobit\\$fitted.values & 0.9368064 & 0.9992691 & 1.0000000\\\\\n",
       "\\end{tabular}\n"
      ],
      "text/markdown": [
       "\n",
       "A matrix: 3 × 3 of type dbl\n",
       "\n",
       "| <!--/--> | linear$fitted.values | logit$fitted.values | probit$fitted.values |\n",
       "|---|---|---|---|\n",
       "| linear$fitted.values | 1.0000000 | 0.9279176 | 0.9368064 |\n",
       "| logit$fitted.values | 0.9279176 | 1.0000000 | 0.9992691 |\n",
       "| probit$fitted.values | 0.9368064 | 0.9992691 | 1.0000000 |\n",
       "\n"
      ],
      "text/plain": [
       "                     linear$fitted.values logit$fitted.values\n",
       "linear$fitted.values 1.0000000            0.9279176          \n",
       "logit$fitted.values  0.9279176            1.0000000          \n",
       "probit$fitted.values 0.9368064            0.9992691          \n",
       "                     probit$fitted.values\n",
       "linear$fitted.values 0.9368064           \n",
       "logit$fitted.values  0.9992691           \n",
       "probit$fitted.values 1.0000000           "
      ]
     },
     "metadata": {},
     "output_type": "display_data"
    }
   ],
   "source": [
    "cor(Corr_ob)"
   ]
  },
  {
   "cell_type": "code",
   "execution_count": 68,
   "metadata": {
    "vscode": {
     "languageId": "r"
    }
   },
   "outputs": [
    {
     "ename": "ERROR",
     "evalue": "Error: object 'Logit_Performance' not found\n",
     "output_type": "error",
     "traceback": [
      "Error: object 'Logit_Performance' not found\nTraceback:\n",
      "1. tibble_quos(xs, .rows, .name_repair)",
      "2. eval_tidy(xs[[j]], mask)",
      "3. rbind.data.frame(LinearPerformance, Logit_Performance, ProbitPerformance)",
      "4. .handleSimpleError(function (cnd) \n . {\n .     watcher$capture_plot_and_output()\n .     cnd <- sanitize_call(cnd)\n .     watcher$push(cnd)\n .     switch(on_error, continue = invokeRestart(\"eval_continue\"), \n .         stop = invokeRestart(\"eval_stop\"), error = invokeRestart(\"eval_error\", \n .             cnd))\n . }, \"object 'Logit_Performance' not found\", base::quote(NULL))"
     ]
    }
   ],
   "source": []
  },
  {
   "cell_type": "code",
   "execution_count": null,
   "metadata": {
    "vscode": {
     "languageId": "r"
    }
   },
   "outputs": [],
   "source": []
  }
 ],
 "metadata": {
  "kernelspec": {
   "display_name": "R",
   "language": "R",
   "name": "ir"
  },
  "language_info": {
   "codemirror_mode": "r",
   "file_extension": ".r",
   "mimetype": "text/x-r-source",
   "name": "R",
   "pygments_lexer": "r",
   "version": "4.4.1"
  }
 },
 "nbformat": 4,
 "nbformat_minor": 2
}
