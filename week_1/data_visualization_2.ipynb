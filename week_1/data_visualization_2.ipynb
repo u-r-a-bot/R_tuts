{
 "cells": [
  {
   "cell_type": "markdown",
   "metadata": {},
   "source": [
    "# Data Visusalization (part 2)"
   ]
  },
  {
   "cell_type": "markdown",
   "metadata": {},
   "source": [
    "## Loading relevant Libraries and setting worrking directory"
   ]
  },
  {
   "cell_type": "code",
   "execution_count": 1,
   "metadata": {
    "vscode": {
     "languageId": "r"
    }
   },
   "outputs": [
    {
     "data": {
      "text/html": [
       "'C:/Users/Anil/Documents/R programs'"
      ],
      "text/latex": [
       "'C:/Users/Anil/Documents/R programs'"
      ],
      "text/markdown": [
       "'C:/Users/Anil/Documents/R programs'"
      ],
      "text/plain": [
       "[1] \"C:/Users/Anil/Documents/R programs\""
      ]
     },
     "metadata": {},
     "output_type": "display_data"
    },
    {
     "name": "stderr",
     "output_type": "stream",
     "text": [
      "── \u001b[1mAttaching core tidyverse packages\u001b[22m ──────────────────────── tidyverse 2.0.0 ──\n",
      "\u001b[32m✔\u001b[39m \u001b[34mdplyr    \u001b[39m 1.1.4     \u001b[32m✔\u001b[39m \u001b[34mreadr    \u001b[39m 2.1.5\n",
      "\u001b[32m✔\u001b[39m \u001b[34mforcats  \u001b[39m 1.0.0     \u001b[32m✔\u001b[39m \u001b[34mstringr  \u001b[39m 1.5.1\n",
      "\u001b[32m✔\u001b[39m \u001b[34mggplot2  \u001b[39m 3.5.1     \u001b[32m✔\u001b[39m \u001b[34mtibble   \u001b[39m 3.2.1\n",
      "\u001b[32m✔\u001b[39m \u001b[34mlubridate\u001b[39m 1.9.3     \u001b[32m✔\u001b[39m \u001b[34mtidyr    \u001b[39m 1.3.1\n",
      "\u001b[32m✔\u001b[39m \u001b[34mpurrr    \u001b[39m 1.0.2     \n",
      "── \u001b[1mConflicts\u001b[22m ────────────────────────────────────────── tidyverse_conflicts() ──\n",
      "\u001b[31m✖\u001b[39m \u001b[34mdplyr\u001b[39m::\u001b[32mfilter()\u001b[39m masks \u001b[34mstats\u001b[39m::filter()\n",
      "\u001b[31m✖\u001b[39m \u001b[34mdplyr\u001b[39m::\u001b[32mlag()\u001b[39m    masks \u001b[34mstats\u001b[39m::lag()\n",
      "\u001b[36mℹ\u001b[39m Use the conflicted package (\u001b[3m\u001b[34m<http://conflicted.r-lib.org/>\u001b[39m\u001b[23m) to force all conflicts to become errors\n",
      "Loading required package: zoo\n",
      "\n",
      "\n",
      "Attaching package: 'zoo'\n",
      "\n",
      "\n",
      "The following objects are masked from 'package:base':\n",
      "\n",
      "    as.Date, as.Date.numeric\n",
      "\n",
      "\n",
      "Loading required package: xts\n",
      "\n",
      "\n",
      "######################### Warning from 'xts' package ##########################\n",
      "#                                                                             #\n",
      "# The dplyr lag() function breaks how base R's lag() function is supposed to  #\n",
      "# work, which breaks lag(my_xts). Calls to lag(my_xts) that you type or       #\n",
      "# source() into this session won't work correctly.                            #\n",
      "#                                                                             #\n",
      "# Use stats::lag() to make sure you're not using dplyr::lag(), or you can add #\n",
      "# conflictRules('dplyr', exclude = 'lag') to your .Rprofile to stop           #\n",
      "# dplyr from breaking base R's lag() function.                                #\n",
      "#                                                                             #\n",
      "# Code in packages is not affected. It's protected by R's namespace mechanism #\n",
      "# Set `options(xts.warn_dplyr_breaks_lag = FALSE)` to suppress this warning.  #\n",
      "#                                                                             #\n",
      "###############################################################################\n",
      "\n",
      "\n",
      "Attaching package: 'xts'\n",
      "\n",
      "\n",
      "The following objects are masked from 'package:dplyr':\n",
      "\n",
      "    first, last\n",
      "\n",
      "\n",
      "Loading required package: foreach\n",
      "\n",
      "\n",
      "Attaching package: 'foreach'\n",
      "\n",
      "\n",
      "The following objects are masked from 'package:purrr':\n",
      "\n",
      "    accumulate, when\n",
      "\n",
      "\n",
      "Loading required package: PerformanceAnalytics\n",
      "\n",
      "\n",
      "Attaching package: 'PerformanceAnalytics'\n",
      "\n",
      "\n",
      "The following object is masked from 'package:graphics':\n",
      "\n",
      "    legend\n",
      "\n",
      "\n",
      "Registered S3 method overwritten by 'PortfolioAnalytics':\n",
      "  method           from\n",
      "  print.constraint ROI \n",
      "\n"
     ]
    }
   ],
   "source": [
    "home_dir = normalizePath(\"~\")\n",
    "relative_path = file.path(\"R programs\")\n",
    "full_path = file.path(home_dir, relative_path)\n",
    "setwd(full_path)\n",
    "getwd()\n",
    "library(tidyverse)\n",
    "library(PortfolioAnalytics)\n",
    "library(patchwork)"
   ]
  },
  {
   "cell_type": "code",
   "execution_count": 2,
   "metadata": {
    "vscode": {
     "languageId": "r"
    }
   },
   "outputs": [
    {
     "data": {
      "text/html": [
       "<table class=\"dataframe\">\n",
       "<caption>A data.frame: 6 × 3</caption>\n",
       "<thead>\n",
       "\t<tr><th></th><th scope=col>Date</th><th scope=col>BtcPrice</th><th scope=col>SpPrice</th></tr>\n",
       "\t<tr><th></th><th scope=col>&lt;date&gt;</th><th scope=col>&lt;dbl&gt;</th><th scope=col>&lt;dbl&gt;</th></tr>\n",
       "</thead>\n",
       "<tbody>\n",
       "\t<tr><th scope=row>1</th><td>2011-01-01</td><td>0.3</td><td>1271.87</td></tr>\n",
       "\t<tr><th scope=row>2</th><td>2011-01-02</td><td>0.3</td><td>1271.87</td></tr>\n",
       "\t<tr><th scope=row>3</th><td>2011-01-03</td><td>0.3</td><td>1271.87</td></tr>\n",
       "\t<tr><th scope=row>4</th><td>2011-01-04</td><td>0.3</td><td>1270.20</td></tr>\n",
       "\t<tr><th scope=row>5</th><td>2011-01-05</td><td>0.3</td><td>1276.56</td></tr>\n",
       "\t<tr><th scope=row>6</th><td>2011-01-06</td><td>0.3</td><td>1273.85</td></tr>\n",
       "</tbody>\n",
       "</table>\n"
      ],
      "text/latex": [
       "A data.frame: 6 × 3\n",
       "\\begin{tabular}{r|lll}\n",
       "  & Date & BtcPrice & SpPrice\\\\\n",
       "  & <date> & <dbl> & <dbl>\\\\\n",
       "\\hline\n",
       "\t1 & 2011-01-01 & 0.3 & 1271.87\\\\\n",
       "\t2 & 2011-01-02 & 0.3 & 1271.87\\\\\n",
       "\t3 & 2011-01-03 & 0.3 & 1271.87\\\\\n",
       "\t4 & 2011-01-04 & 0.3 & 1270.20\\\\\n",
       "\t5 & 2011-01-05 & 0.3 & 1276.56\\\\\n",
       "\t6 & 2011-01-06 & 0.3 & 1273.85\\\\\n",
       "\\end{tabular}\n"
      ],
      "text/markdown": [
       "\n",
       "A data.frame: 6 × 3\n",
       "\n",
       "| <!--/--> | Date &lt;date&gt; | BtcPrice &lt;dbl&gt; | SpPrice &lt;dbl&gt; |\n",
       "|---|---|---|---|\n",
       "| 1 | 2011-01-01 | 0.3 | 1271.87 |\n",
       "| 2 | 2011-01-02 | 0.3 | 1271.87 |\n",
       "| 3 | 2011-01-03 | 0.3 | 1271.87 |\n",
       "| 4 | 2011-01-04 | 0.3 | 1270.20 |\n",
       "| 5 | 2011-01-05 | 0.3 | 1276.56 |\n",
       "| 6 | 2011-01-06 | 0.3 | 1273.85 |\n",
       "\n"
      ],
      "text/plain": [
       "  Date       BtcPrice SpPrice\n",
       "1 2011-01-01 0.3      1271.87\n",
       "2 2011-01-02 0.3      1271.87\n",
       "3 2011-01-03 0.3      1271.87\n",
       "4 2011-01-04 0.3      1270.20\n",
       "5 2011-01-05 0.3      1276.56\n",
       "6 2011-01-06 0.3      1273.85"
      ]
     },
     "metadata": {},
     "output_type": "display_data"
    },
    {
     "data": {
      "text/html": [
       "<style>\n",
       ".list-inline {list-style: none; margin:0; padding: 0}\n",
       ".list-inline>li {display: inline-block}\n",
       ".list-inline>li:not(:last-child)::after {content: \"\\00b7\"; padding: 0 .5ex}\n",
       "</style>\n",
       "<ol class=list-inline><li>4383</li><li>3</li></ol>\n"
      ],
      "text/latex": [
       "\\begin{enumerate*}\n",
       "\\item 4383\n",
       "\\item 3\n",
       "\\end{enumerate*}\n"
      ],
      "text/markdown": [
       "1. 4383\n",
       "2. 3\n",
       "\n",
       "\n"
      ],
      "text/plain": [
       "[1] 4383    3"
      ]
     },
     "metadata": {},
     "output_type": "display_data"
    },
    {
     "name": "stdout",
     "output_type": "stream",
     "text": [
      "Rows: 4,383\n",
      "Columns: 3\n",
      "$ Date     \u001b[3m\u001b[90m<date>\u001b[39m\u001b[23m 2011-01-01, 2011-01-02, 2011-01-03, 2011-01-04, 2011-01-05, …\n",
      "$ BtcPrice \u001b[3m\u001b[90m<dbl>\u001b[39m\u001b[23m 0.3, 0.3, 0.3, 0.3, 0.3, 0.3, 0.3, 0.3, 0.3, 0.3, 0.3, 0.3, 0…\n",
      "$ SpPrice  \u001b[3m\u001b[90m<dbl>\u001b[39m\u001b[23m 1271.87, 1271.87, 1271.87, 1270.20, 1276.56, 1273.85, 1271.50…\n"
     ]
    }
   ],
   "source": [
    "Asset_price_xts = read.csv(\"week_1/bitcoinvssnp.csv\")\n",
    "Asset_price_xts$Date  <- as.Date(Asset_price_xts$Date, format=\"%m/%d/%Y\")\n",
    "head(Asset_price_xts)\n",
    "dim(Asset_price_xts)\n",
    "glimpse(Asset_price_xts)"
   ]
  },
  {
   "cell_type": "markdown",
   "metadata": {},
   "source": [
    "## Visualization"
   ]
  },
  {
   "cell_type": "code",
   "execution_count": 3,
   "metadata": {
    "vscode": {
     "languageId": "r"
    }
   },
   "outputs": [],
   "source": [
    "p1 = ggplot(Asset_price_xts, aes (x = SpPrice, y = BtcPrice))+\n",
    "    geom_point(col = \"red\")+ geom_smooth(col = \"blue\" , method= \"lm\")+labs(title = \"Bitcoin vs Snp500\")"
   ]
  },
  {
   "cell_type": "markdown",
   "metadata": {},
   "source": [
    "## Density Plot"
   ]
  },
  {
   "cell_type": "code",
   "execution_count": 4,
   "metadata": {
    "vscode": {
     "languageId": "r"
    }
   },
   "outputs": [],
   "source": [
    " p2 = ggplot(Asset_price_xts, aes(x=BtcPrice)) +\n",
    "  geom_density(fill=\"blue\", alpha=0.5) +\n",
    "  labs(title=\"Density Plot of Bitcoin Prices\",\n",
    "       x=\"Bitcoin Price\",\n",
    "       y=\"Density\") +\n",
    "  theme_minimal()"
   ]
  },
  {
   "cell_type": "code",
   "execution_count": 5,
   "metadata": {
    "vscode": {
     "languageId": "r"
    }
   },
   "outputs": [
    {
     "name": "stderr",
     "output_type": "stream",
     "text": [
      "\u001b[1m\u001b[22m`geom_smooth()` using formula = 'y ~ x'\n"
     ]
    },
    {
     "data": {
      "image/png": "[encoded data removed]",
      "text/plain": [
       "plot without title"
      ]
     },
     "metadata": {
      "image/png": {
       "height": 420,
       "width": 420
      }
     },
     "output_type": "display_data"
    }
   ],
   "source": [
    "p1+p2"
   ]
  },
  {
   "cell_type": "markdown",
   "metadata": {},
   "source": [
    "### Plot time series prices"
   ]
  },
  {
   "cell_type": "code",
   "execution_count": 6,
   "metadata": {
    "vscode": {
     "languageId": "r"
    }
   },
   "outputs": [
    {
     "data": {
      "image/png": "[encoded data removed]",
      "text/plain": [
       "plot without title"
      ]
     },
     "metadata": {
      "image/png": {
       "height": 420,
       "width": 420
      }
     },
     "output_type": "display_data"
    }
   ],
   "source": [
    "Asset = Asset_price_xts\n",
    "p1 = ggplot(Asset , aes(x = Date, y = BtcPrice))+\n",
    "    geom_line(col = \"blue\")+ labs(title = \"Bitcoin\",y = \"\", x = \"Date\")\n",
    "\n",
    "\n",
    "p2 = ggplot(Asset , aes(x = Date, y = SpPrice))+\n",
    "    geom_line(col = \"red\")+ labs(title = \"SNP500\",y = \"\", x = \"Date\")\n",
    "\n",
    "p1+p2+ plot_annotation(title = \"Time Series Prices\" ,theme = theme(plot.title = element_text(hjust = 0.5, size = 20, face = \"bold\")) )"
   ]
  },
  {
   "cell_type": "markdown",
   "metadata": {},
   "source": [
    "## Box Plots\n",
    "Dataset PRblems hence GPT code\n",
    "* In every box the horizaontal line refers to the median\n",
    "* The below horizontal are 25%ile observations and above it are 75% observations"
   ]
  },
  {
   "cell_type": "code",
   "execution_count": 7,
   "metadata": {
    "vscode": {
     "languageId": "r"
    }
   },
   "outputs": [
    {
     "data": {
      "image/png": "[encoded data removed]",
      "text/plain": [
       "plot without title"
      ]
     },
     "metadata": {
      "image/png": {
       "height": 420,
       "width": 420
      }
     },
     "output_type": "display_data"
    }
   ],
   "source": [
    "# Load necessary library\n",
    "library(ggplot2)\n",
    "library(lubridate) # for extracting year from date\n",
    "\n",
    "# Load the dataset\n",
    "data <- read.csv(\"C:/Users/Anil/Documents/R programs/week_1/bitcoinvssnp.csv\")\n",
    "\n",
    "# Convert the Date column to Date type\n",
    "data$Date <- as.Date(data$Date, format=\"%m/%d/%Y\")\n",
    "\n",
    "# Extract the year from the Date column\n",
    "data$Year <- year(data$Date)\n",
    "\n",
    "# Create the boxplot filled by year\n",
    "ggplot(data, aes(x=as.factor(Year), y=BtcPrice, fill=as.factor(Year))) +\n",
    "  geom_boxplot(alpha=0.5) +\n",
    "  labs(title=\"Boxplot of Bitcoin Prices by Year\",\n",
    "       x=\"Year\",\n",
    "       y=\"Bitcoin Price\") +\n",
    "  theme_minimal() +\n",
    "  scale_fill_discrete(name = \"Year\")\n"
   ]
  },
  {
   "cell_type": "code",
   "execution_count": null,
   "metadata": {
    "vscode": {
     "languageId": "r"
    }
   },
   "outputs": [],
   "source": []
  },
  {
   "cell_type": "code",
   "execution_count": null,
   "metadata": {
    "vscode": {
     "languageId": "r"
    }
   },
   "outputs": [],
   "source": []
  },
  {
   "cell_type": "code",
   "execution_count": null,
   "metadata": {
    "vscode": {
     "languageId": "r"
    }
   },
   "outputs": [],
   "source": []
  }
 ],
 "metadata": {
  "kernelspec": {
   "display_name": "R",
   "language": "R",
   "name": "ir"
  },
  "language_info": {
   "codemirror_mode": "r",
   "file_extension": ".r",
   "mimetype": "text/x-r-source",
   "name": "R",
   "pygments_lexer": "r",
   "version": "4.4.1"
  }
 },
 "nbformat": 4,
 "nbformat_minor": 2
}
