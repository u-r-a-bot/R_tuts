{
 "cells": [
  {
   "cell_type": "markdown",
   "metadata": {},
   "source": [
    "# Data Visusalization (part 2)"
   ]
  },
  {
   "cell_type": "markdown",
   "metadata": {},
   "source": [
    "## Loading relevant Libraries and setting worrking directory"
   ]
  },
  {
   "cell_type": "code",
   "execution_count": 2,
   "metadata": {
    "vscode": {
     "languageId": "r"
    }
   },
   "outputs": [
    {
     "data": {
      "text/html": [
       "'C:/Users/Anil/Documents/R programs'"
      ],
      "text/latex": [
       "'C:/Users/Anil/Documents/R programs'"
      ],
      "text/markdown": [
       "'C:/Users/Anil/Documents/R programs'"
      ],
      "text/plain": [
       "[1] \"C:/Users/Anil/Documents/R programs\""
      ]
     },
     "metadata": {},
     "output_type": "display_data"
    }
   ],
   "source": [
    "home_dir = normalizePath(\"~\")\n",
    "relative_path = file.path(\"R programs\")\n",
    "full_path = file.path(home_dir, relative_path)\n",
    "setwd(full_path)\n",
    "getwd()\n",
    "library(tidyverse)\n",
    "library(PortfolioAnalytics)\n",
    "library(patchwork)"
   ]
  },
  {
   "cell_type": "code",
   "execution_count": 3,
   "metadata": {
    "vscode": {
     "languageId": "r"
    }
   },
   "outputs": [
    {
     "data": {
      "text/html": [
       "<table class=\"dataframe\">\n",
       "<caption>A data.frame: 6 × 3</caption>\n",
       "<thead>\n",
       "\t<tr><th></th><th scope=col>Date</th><th scope=col>BtcPrice</th><th scope=col>SpPrice</th></tr>\n",
       "\t<tr><th></th><th scope=col>&lt;chr&gt;</th><th scope=col>&lt;dbl&gt;</th><th scope=col>&lt;dbl&gt;</th></tr>\n",
       "</thead>\n",
       "<tbody>\n",
       "\t<tr><th scope=row>1</th><td>1/1/2011</td><td>0.3</td><td>1271.87</td></tr>\n",
       "\t<tr><th scope=row>2</th><td>1/2/2011</td><td>0.3</td><td>1271.87</td></tr>\n",
       "\t<tr><th scope=row>3</th><td>1/3/2011</td><td>0.3</td><td>1271.87</td></tr>\n",
       "\t<tr><th scope=row>4</th><td>1/4/2011</td><td>0.3</td><td>1270.20</td></tr>\n",
       "\t<tr><th scope=row>5</th><td>1/5/2011</td><td>0.3</td><td>1276.56</td></tr>\n",
       "\t<tr><th scope=row>6</th><td>1/6/2011</td><td>0.3</td><td>1273.85</td></tr>\n",
       "</tbody>\n",
       "</table>\n"
      ],
      "text/latex": [
       "A data.frame: 6 × 3\n",
       "\\begin{tabular}{r|lll}\n",
       "  & Date & BtcPrice & SpPrice\\\\\n",
       "  & <chr> & <dbl> & <dbl>\\\\\n",
       "\\hline\n",
       "\t1 & 1/1/2011 & 0.3 & 1271.87\\\\\n",
       "\t2 & 1/2/2011 & 0.3 & 1271.87\\\\\n",
       "\t3 & 1/3/2011 & 0.3 & 1271.87\\\\\n",
       "\t4 & 1/4/2011 & 0.3 & 1270.20\\\\\n",
       "\t5 & 1/5/2011 & 0.3 & 1276.56\\\\\n",
       "\t6 & 1/6/2011 & 0.3 & 1273.85\\\\\n",
       "\\end{tabular}\n"
      ],
      "text/markdown": [
       "\n",
       "A data.frame: 6 × 3\n",
       "\n",
       "| <!--/--> | Date &lt;chr&gt; | BtcPrice &lt;dbl&gt; | SpPrice &lt;dbl&gt; |\n",
       "|---|---|---|---|\n",
       "| 1 | 1/1/2011 | 0.3 | 1271.87 |\n",
       "| 2 | 1/2/2011 | 0.3 | 1271.87 |\n",
       "| 3 | 1/3/2011 | 0.3 | 1271.87 |\n",
       "| 4 | 1/4/2011 | 0.3 | 1270.20 |\n",
       "| 5 | 1/5/2011 | 0.3 | 1276.56 |\n",
       "| 6 | 1/6/2011 | 0.3 | 1273.85 |\n",
       "\n"
      ],
      "text/plain": [
       "  Date     BtcPrice SpPrice\n",
       "1 1/1/2011 0.3      1271.87\n",
       "2 1/2/2011 0.3      1271.87\n",
       "3 1/3/2011 0.3      1271.87\n",
       "4 1/4/2011 0.3      1270.20\n",
       "5 1/5/2011 0.3      1276.56\n",
       "6 1/6/2011 0.3      1273.85"
      ]
     },
     "metadata": {},
     "output_type": "display_data"
    }
   ],
   "source": [
    "Asset_price_xts = read.csv(\"week_1/bitcoinvssnp.csv\")\n",
    "head(Asset_price_xts)"
   ]
  },
  {
   "cell_type": "code",
   "execution_count": null,
   "metadata": {
    "vscode": {
     "languageId": "r"
    }
   },
   "outputs": [],
   "source": []
  }
 ],
 "metadata": {
  "kernelspec": {
   "display_name": "R",
   "language": "R",
   "name": "ir"
  },
  "language_info": {
   "codemirror_mode": "r",
   "file_extension": ".r",
   "mimetype": "text/x-r-source",
   "name": "R",
   "pygments_lexer": "r",
   "version": "4.4.1"
  }
 },
 "nbformat": 4,
 "nbformat_minor": 2
}
