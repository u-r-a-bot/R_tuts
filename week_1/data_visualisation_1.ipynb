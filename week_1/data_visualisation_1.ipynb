{
 "cells": [
  {
   "cell_type": "markdown",
   "metadata": {},
   "source": [
    "## Setting up working Directory and Path"
   ]
  },
  {
   "cell_type": "code",
   "execution_count": 1,
   "metadata": {
    "vscode": {
     "languageId": "r"
    }
   },
   "outputs": [
    {
     "data": {
      "text/html": [
       "'C:/Users/death-star/Documents/R programs'"
      ],
      "text/latex": [
       "'C:/Users/death-star/Documents/R programs'"
      ],
      "text/markdown": [
       "'C:/Users/death-star/Documents/R programs'"
      ],
      "text/plain": [
       "[1] \"C:/Users/death-star/Documents/R programs\""
      ]
     },
     "metadata": {},
     "output_type": "display_data"
    }
   ],
   "source": [
    "home_dir = normalizePath(\"~\")\n",
    "relative_path = file.path(\"R programs\")\n",
    "full_path = file.path(home_dir, relative_path)\n",
    "setwd(full_path)\n",
    "getwd()"
   ]
  },
  {
   "cell_type": "markdown",
   "metadata": {},
   "source": [
    "## Data Visualization\n",
    "* Loading the transanctions DataFrame"
   ]
  },
  {
   "cell_type": "code",
   "execution_count": 13,
   "metadata": {
    "vscode": {
     "languageId": "r"
    }
   },
   "outputs": [
    {
     "data": {
      "text/html": [
       "<table class=\"dataframe\">\n",
       "<caption>A data.frame: 6 × 3</caption>\n",
       "<thead>\n",
       "\t<tr><th></th><th scope=col>date</th><th scope=col>store_nbr</th><th scope=col>transactions</th></tr>\n",
       "\t<tr><th></th><th scope=col>&lt;chr&gt;</th><th scope=col>&lt;int&gt;</th><th scope=col>&lt;int&gt;</th></tr>\n",
       "</thead>\n",
       "<tbody>\n",
       "\t<tr><th scope=row>1</th><td>2013-01-01</td><td>25</td><td> 770</td></tr>\n",
       "\t<tr><th scope=row>2</th><td>2013-01-02</td><td> 1</td><td>2111</td></tr>\n",
       "\t<tr><th scope=row>3</th><td>2013-01-02</td><td> 2</td><td>2358</td></tr>\n",
       "\t<tr><th scope=row>4</th><td>2013-01-02</td><td> 3</td><td>3487</td></tr>\n",
       "\t<tr><th scope=row>5</th><td>2013-01-02</td><td> 4</td><td>1922</td></tr>\n",
       "\t<tr><th scope=row>6</th><td>2013-01-02</td><td> 5</td><td>1903</td></tr>\n",
       "</tbody>\n",
       "</table>\n"
      ],
      "text/latex": [
       "A data.frame: 6 × 3\n",
       "\\begin{tabular}{r|lll}\n",
       "  & date & store\\_nbr & transactions\\\\\n",
       "  & <chr> & <int> & <int>\\\\\n",
       "\\hline\n",
       "\t1 & 2013-01-01 & 25 &  770\\\\\n",
       "\t2 & 2013-01-02 &  1 & 2111\\\\\n",
       "\t3 & 2013-01-02 &  2 & 2358\\\\\n",
       "\t4 & 2013-01-02 &  3 & 3487\\\\\n",
       "\t5 & 2013-01-02 &  4 & 1922\\\\\n",
       "\t6 & 2013-01-02 &  5 & 1903\\\\\n",
       "\\end{tabular}\n"
      ],
      "text/markdown": [
       "\n",
       "A data.frame: 6 × 3\n",
       "\n",
       "| <!--/--> | date &lt;chr&gt; | store_nbr &lt;int&gt; | transactions &lt;int&gt; |\n",
       "|---|---|---|---|\n",
       "| 1 | 2013-01-01 | 25 |  770 |\n",
       "| 2 | 2013-01-02 |  1 | 2111 |\n",
       "| 3 | 2013-01-02 |  2 | 2358 |\n",
       "| 4 | 2013-01-02 |  3 | 3487 |\n",
       "| 5 | 2013-01-02 |  4 | 1922 |\n",
       "| 6 | 2013-01-02 |  5 | 1903 |\n",
       "\n"
      ],
      "text/plain": [
       "  date       store_nbr transactions\n",
       "1 2013-01-01 25         770        \n",
       "2 2013-01-02  1        2111        \n",
       "3 2013-01-02  2        2358        \n",
       "4 2013-01-02  3        3487        \n",
       "5 2013-01-02  4        1922        \n",
       "6 2013-01-02  5        1903        "
      ]
     },
     "metadata": {},
     "output_type": "display_data"
    },
    {
     "data": {
      "text/html": [
       "<style>\n",
       ".list-inline {list-style: none; margin:0; padding: 0}\n",
       ".list-inline>li {display: inline-block}\n",
       ".list-inline>li:not(:last-child)::after {content: \"\\00b7\"; padding: 0 .5ex}\n",
       "</style>\n",
       "<ol class=list-inline><li>'date'</li><li>'transactions'</li></ol>\n"
      ],
      "text/latex": [
       "\\begin{enumerate*}\n",
       "\\item 'date'\n",
       "\\item 'transactions'\n",
       "\\end{enumerate*}\n"
      ],
      "text/markdown": [
       "1. 'date'\n",
       "2. 'transactions'\n",
       "\n",
       "\n"
      ],
      "text/plain": [
       "[1] \"date\"         \"transactions\""
      ]
     },
     "metadata": {},
     "output_type": "display_data"
    },
    {
     "data": {
      "text/html": [
       "<table class=\"dataframe\">\n",
       "<caption>A data.frame: 6 × 2</caption>\n",
       "<thead>\n",
       "\t<tr><th></th><th scope=col>date</th><th scope=col>transactions</th></tr>\n",
       "\t<tr><th></th><th scope=col>&lt;date&gt;</th><th scope=col>&lt;int&gt;</th></tr>\n",
       "</thead>\n",
       "<tbody>\n",
       "\t<tr><th scope=row>1</th><td>2013-01-01</td><td> 770</td></tr>\n",
       "\t<tr><th scope=row>2</th><td>2013-01-02</td><td>2111</td></tr>\n",
       "\t<tr><th scope=row>3</th><td>2013-01-02</td><td>2358</td></tr>\n",
       "\t<tr><th scope=row>4</th><td>2013-01-02</td><td>3487</td></tr>\n",
       "\t<tr><th scope=row>5</th><td>2013-01-02</td><td>1922</td></tr>\n",
       "\t<tr><th scope=row>6</th><td>2013-01-02</td><td>1903</td></tr>\n",
       "</tbody>\n",
       "</table>\n"
      ],
      "text/latex": [
       "A data.frame: 6 × 2\n",
       "\\begin{tabular}{r|ll}\n",
       "  & date & transactions\\\\\n",
       "  & <date> & <int>\\\\\n",
       "\\hline\n",
       "\t1 & 2013-01-01 &  770\\\\\n",
       "\t2 & 2013-01-02 & 2111\\\\\n",
       "\t3 & 2013-01-02 & 2358\\\\\n",
       "\t4 & 2013-01-02 & 3487\\\\\n",
       "\t5 & 2013-01-02 & 1922\\\\\n",
       "\t6 & 2013-01-02 & 1903\\\\\n",
       "\\end{tabular}\n"
      ],
      "text/markdown": [
       "\n",
       "A data.frame: 6 × 2\n",
       "\n",
       "| <!--/--> | date &lt;date&gt; | transactions &lt;int&gt; |\n",
       "|---|---|---|\n",
       "| 1 | 2013-01-01 |  770 |\n",
       "| 2 | 2013-01-02 | 2111 |\n",
       "| 3 | 2013-01-02 | 2358 |\n",
       "| 4 | 2013-01-02 | 3487 |\n",
       "| 5 | 2013-01-02 | 1922 |\n",
       "| 6 | 2013-01-02 | 1903 |\n",
       "\n"
      ],
      "text/plain": [
       "  date       transactions\n",
       "1 2013-01-01  770        \n",
       "2 2013-01-02 2111        \n",
       "3 2013-01-02 2358        \n",
       "4 2013-01-02 3487        \n",
       "5 2013-01-02 1922        \n",
       "6 2013-01-02 1903        "
      ]
     },
     "metadata": {},
     "output_type": "display_data"
    }
   ],
   "source": [
    "Store_sales = read.csv(\"Data/store-forecasting/transactions.csv\")\n",
    "head(Store_sales)\n",
    "Store_sales = subset(Store_sales, select = -store_nbr)\n",
    "colnames(Store_sales)\n",
    "Store_sales = na.omit(Store_sales)\n",
    "Store_sales$date = as.Date(Store_sales$date)  # date was Charecter\n",
    "head(Store_sales)"
   ]
  },
  {
   "cell_type": "markdown",
   "metadata": {},
   "source": [
    "* Plotting directly"
   ]
  },
  {
   "cell_type": "code",
   "execution_count": 14,
   "metadata": {
    "vscode": {
     "languageId": "r"
    }
   },
   "outputs": [
    {
     "data": {
      "image/png": "[encoded data removed]",
      "text/plain": [
       "Plot with title \"Time Series\""
      ]
     },
     "metadata": {
      "image/png": {
       "height": 420,
       "width": 420
      }
     },
     "output_type": "display_data"
    }
   ],
   "source": [
    "plot(Store_sales, \n",
    "        type = \"l\",         # l for line plot\n",
    "        main = \"Time Series\", # Central Heading\n",
    "        col =\"Red\",\n",
    "        lwd = 2                 #Line Width\n",
    ")\n"
   ]
  },
  {
   "cell_type": "markdown",
   "metadata": {},
   "source": [
    "## Using Library Zoo\n"
   ]
  },
  {
   "cell_type": "code",
   "execution_count": 18,
   "metadata": {
    "vscode": {
     "languageId": "r"
    }
   },
   "outputs": [
    {
     "name": "stderr",
     "output_type": "stream",
     "text": [
      "Warning message in zoo(Store_sales$transactions, Store_sales$date):\n",
      "\"some methods for \"zoo\" objects do not work if the index entries in 'order.by' are not unique\"\n"
     ]
    },
    {
     "data": {
      "image/png": "[encoded data removed]",
      "text/plain": [
       "Plot with title \"Time Series Monthly\""
      ]
     },
     "metadata": {
      "image/png": {
       "height": 420,
       "width": 420
      }
     },
     "output_type": "display_data"
    }
   ],
   "source": [
    "library(zoo)\n",
    "WGP = zoo(Store_sales$transactions,Store_sales$date)\n",
    "WGP1 = aggregate(WGP , as.yearmon)\n",
    "par(mfrow = c(2,1))\n",
    "plot(Store_sales,  type = \"l\",    main = \"Time Series\", col =\"Red\",lwd = 2)\n",
    "plot(WGP1,  type = \"l\",    main = \"Time Series Monthly\", col =\"Red\",lwd = 2)\n"
   ]
  },
  {
   "cell_type": "markdown",
   "metadata": {},
   "source": [
    "* Barplot"
   ]
  },
  {
   "cell_type": "code",
   "execution_count": 20,
   "metadata": {
    "vscode": {
     "languageId": "r"
    }
   },
   "outputs": [
    {
     "data": {
      "image/png": "[encoded data removed]",
      "text/plain": [
       "Plot with title \"Transanction\""
      ]
     },
     "metadata": {
      "image/png": {
       "height": 420,
       "width": 420
      }
     },
     "output_type": "display_data"
    }
   ],
   "source": [
    "par(mfrow = c(1,1))\n",
    "barplot(WGP1 , ylab = \"Monthly\", xlab = \"Date\", col = \"Blue\", main = \"Transanction\", border = \"red\")"
   ]
  },
  {
   "cell_type": "code",
   "execution_count": 24,
   "metadata": {
    "vscode": {
     "languageId": "r"
    }
   },
   "outputs": [
    {
     "data": {
      "text/html": [
       "'fixed.acidity.volatile.acidity.citric.acid.residual.sugar.chlorides.free.sulfur.dioxide.total.sulfur.dioxide.density.pH.sulphates.alcohol.quality'"
      ],
      "text/latex": [
       "'fixed.acidity.volatile.acidity.citric.acid.residual.sugar.chlorides.free.sulfur.dioxide.total.sulfur.dioxide.density.pH.sulphates.alcohol.quality'"
      ],
      "text/markdown": [
       "'fixed.acidity.volatile.acidity.citric.acid.residual.sugar.chlorides.free.sulfur.dioxide.total.sulfur.dioxide.density.pH.sulphates.alcohol.quality'"
      ],
      "text/plain": [
       "[1] \"fixed.acidity.volatile.acidity.citric.acid.residual.sugar.chlorides.free.sulfur.dioxide.total.sulfur.dioxide.density.pH.sulphates.alcohol.quality\""
      ]
     },
     "metadata": {},
     "output_type": "display_data"
    },
    {
     "data": {
      "text/html": [
       "<table class=\"dataframe\">\n",
       "<caption>A data.frame: 6 × 1</caption>\n",
       "<thead>\n",
       "\t<tr><th></th><th scope=col>fixed.acidity.volatile.acidity.citric.acid.residual.sugar.chlorides.free.sulfur.dioxide.total.sulfur.dioxide.density.pH.sulphates.alcohol.quality</th></tr>\n",
       "\t<tr><th></th><th scope=col>&lt;chr&gt;</th></tr>\n",
       "</thead>\n",
       "<tbody>\n",
       "\t<tr><th scope=row>1</th><td>7.4;0.7;0;1.9;0.076;11;34;0.9978;3.51;0.56;9.4;5    </td></tr>\n",
       "\t<tr><th scope=row>2</th><td>7.8;0.88;0;2.6;0.098;25;67;0.9968;3.2;0.68;9.8;5    </td></tr>\n",
       "\t<tr><th scope=row>3</th><td>7.8;0.76;0.04;2.3;0.092;15;54;0.997;3.26;0.65;9.8;5 </td></tr>\n",
       "\t<tr><th scope=row>4</th><td>11.2;0.28;0.56;1.9;0.075;17;60;0.998;3.16;0.58;9.8;6</td></tr>\n",
       "\t<tr><th scope=row>5</th><td>7.4;0.7;0;1.9;0.076;11;34;0.9978;3.51;0.56;9.4;5    </td></tr>\n",
       "\t<tr><th scope=row>6</th><td>7.4;0.66;0;1.8;0.075;13;40;0.9978;3.51;0.56;9.4;5   </td></tr>\n",
       "</tbody>\n",
       "</table>\n"
      ],
      "text/latex": [
       "A data.frame: 6 × 1\n",
       "\\begin{tabular}{r|l}\n",
       "  & fixed.acidity.volatile.acidity.citric.acid.residual.sugar.chlorides.free.sulfur.dioxide.total.sulfur.dioxide.density.pH.sulphates.alcohol.quality\\\\\n",
       "  & <chr>\\\\\n",
       "\\hline\n",
       "\t1 & 7.4;0.7;0;1.9;0.076;11;34;0.9978;3.51;0.56;9.4;5    \\\\\n",
       "\t2 & 7.8;0.88;0;2.6;0.098;25;67;0.9968;3.2;0.68;9.8;5    \\\\\n",
       "\t3 & 7.8;0.76;0.04;2.3;0.092;15;54;0.997;3.26;0.65;9.8;5 \\\\\n",
       "\t4 & 11.2;0.28;0.56;1.9;0.075;17;60;0.998;3.16;0.58;9.8;6\\\\\n",
       "\t5 & 7.4;0.7;0;1.9;0.076;11;34;0.9978;3.51;0.56;9.4;5    \\\\\n",
       "\t6 & 7.4;0.66;0;1.8;0.075;13;40;0.9978;3.51;0.56;9.4;5   \\\\\n",
       "\\end{tabular}\n"
      ],
      "text/markdown": [
       "\n",
       "A data.frame: 6 × 1\n",
       "\n",
       "| <!--/--> | fixed.acidity.volatile.acidity.citric.acid.residual.sugar.chlorides.free.sulfur.dioxide.total.sulfur.dioxide.density.pH.sulphates.alcohol.quality &lt;chr&gt; |\n",
       "|---|---|\n",
       "| 1 | 7.4;0.7;0;1.9;0.076;11;34;0.9978;3.51;0.56;9.4;5     |\n",
       "| 2 | 7.8;0.88;0;2.6;0.098;25;67;0.9968;3.2;0.68;9.8;5     |\n",
       "| 3 | 7.8;0.76;0.04;2.3;0.092;15;54;0.997;3.26;0.65;9.8;5  |\n",
       "| 4 | 11.2;0.28;0.56;1.9;0.075;17;60;0.998;3.16;0.58;9.8;6 |\n",
       "| 5 | 7.4;0.7;0;1.9;0.076;11;34;0.9978;3.51;0.56;9.4;5     |\n",
       "| 6 | 7.4;0.66;0;1.8;0.075;13;40;0.9978;3.51;0.56;9.4;5    |\n",
       "\n"
      ],
      "text/plain": [
       "  fixed.acidity.volatile.acidity.citric.acid.residual.sugar.chlorides.free.sulfur.dioxide.total.sulfur.dioxide.density.pH.sulphates.alcohol.quality\n",
       "1 7.4;0.7;0;1.9;0.076;11;34;0.9978;3.51;0.56;9.4;5                                                                                                 \n",
       "2 7.8;0.88;0;2.6;0.098;25;67;0.9968;3.2;0.68;9.8;5                                                                                                 \n",
       "3 7.8;0.76;0.04;2.3;0.092;15;54;0.997;3.26;0.65;9.8;5                                                                                              \n",
       "4 11.2;0.28;0.56;1.9;0.075;17;60;0.998;3.16;0.58;9.8;6                                                                                             \n",
       "5 7.4;0.7;0;1.9;0.076;11;34;0.9978;3.51;0.56;9.4;5                                                                                                 \n",
       "6 7.4;0.66;0;1.8;0.075;13;40;0.9978;3.51;0.56;9.4;5                                                                                                "
      ]
     },
     "metadata": {},
     "output_type": "display_data"
    }
   ],
   "source": [
    "wine_quality = read.csv(\"week_1/winequality-red.csv\")\n",
    "colnames(wine_quality)\n",
    "head(wine_quality)"
   ]
  },
  {
   "cell_type": "code",
   "execution_count": null,
   "metadata": {
    "vscode": {
     "languageId": "r"
    }
   },
   "outputs": [],
   "source": []
  }
 ],
 "metadata": {
  "kernelspec": {
   "display_name": "R",
   "language": "R",
   "name": "ir"
  },
  "language_info": {
   "codemirror_mode": "r",
   "file_extension": ".r",
   "mimetype": "text/x-r-source",
   "name": "R",
   "pygments_lexer": "r",
   "version": "4.4.1"
  }
 },
 "nbformat": 4,
 "nbformat_minor": 2
}
