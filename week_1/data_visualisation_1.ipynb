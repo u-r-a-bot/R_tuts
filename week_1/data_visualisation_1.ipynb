{
 "cells": [
  {
   "cell_type": "markdown",
   "metadata": {},
   "source": [
    "## Setting up working Directory and Path"
   ]
  },
  {
   "cell_type": "code",
   "execution_count": 1,
   "metadata": {
    "vscode": {
     "languageId": "r"
    }
   },
   "outputs": [
    {
     "data": {
      "text/html": [
       "'C:/Users/death-star/Documents/R programs'"
      ],
      "text/latex": [
       "'C:/Users/death-star/Documents/R programs'"
      ],
      "text/markdown": [
       "'C:/Users/death-star/Documents/R programs'"
      ],
      "text/plain": [
       "[1] \"C:/Users/death-star/Documents/R programs\""
      ]
     },
     "metadata": {},
     "output_type": "display_data"
    }
   ],
   "source": [
    "home_dir = normalizePath(\"~\")\n",
    "relative_path = file.path(\"R programs\")\n",
    "full_path = file.path(home_dir, relative_path)\n",
    "setwd(full_path)\n",
    "getwd()"
   ]
  },
  {
   "cell_type": "markdown",
   "metadata": {},
   "source": [
    "## Data Visualization\n",
    "* Loading the transanctions DataFrame"
   ]
  },
  {
   "cell_type": "code",
   "execution_count": 13,
   "metadata": {
    "vscode": {
     "languageId": "r"
    }
   },
   "outputs": [
    {
     "data": {
      "text/html": [
       "<table class=\"dataframe\">\n",
       "<caption>A data.frame: 6 × 3</caption>\n",
       "<thead>\n",
       "\t<tr><th></th><th scope=col>date</th><th scope=col>store_nbr</th><th scope=col>transactions</th></tr>\n",
       "\t<tr><th></th><th scope=col>&lt;chr&gt;</th><th scope=col>&lt;int&gt;</th><th scope=col>&lt;int&gt;</th></tr>\n",
       "</thead>\n",
       "<tbody>\n",
       "\t<tr><th scope=row>1</th><td>2013-01-01</td><td>25</td><td> 770</td></tr>\n",
       "\t<tr><th scope=row>2</th><td>2013-01-02</td><td> 1</td><td>2111</td></tr>\n",
       "\t<tr><th scope=row>3</th><td>2013-01-02</td><td> 2</td><td>2358</td></tr>\n",
       "\t<tr><th scope=row>4</th><td>2013-01-02</td><td> 3</td><td>3487</td></tr>\n",
       "\t<tr><th scope=row>5</th><td>2013-01-02</td><td> 4</td><td>1922</td></tr>\n",
       "\t<tr><th scope=row>6</th><td>2013-01-02</td><td> 5</td><td>1903</td></tr>\n",
       "</tbody>\n",
       "</table>\n"
      ],
      "text/latex": [
       "A data.frame: 6 × 3\n",
       "\\begin{tabular}{r|lll}\n",
       "  & date & store\\_nbr & transactions\\\\\n",
       "  & <chr> & <int> & <int>\\\\\n",
       "\\hline\n",
       "\t1 & 2013-01-01 & 25 &  770\\\\\n",
       "\t2 & 2013-01-02 &  1 & 2111\\\\\n",
       "\t3 & 2013-01-02 &  2 & 2358\\\\\n",
       "\t4 & 2013-01-02 &  3 & 3487\\\\\n",
       "\t5 & 2013-01-02 &  4 & 1922\\\\\n",
       "\t6 & 2013-01-02 &  5 & 1903\\\\\n",
       "\\end{tabular}\n"
      ],
      "text/markdown": [
       "\n",
       "A data.frame: 6 × 3\n",
       "\n",
       "| <!--/--> | date &lt;chr&gt; | store_nbr &lt;int&gt; | transactions &lt;int&gt; |\n",
       "|---|---|---|---|\n",
       "| 1 | 2013-01-01 | 25 |  770 |\n",
       "| 2 | 2013-01-02 |  1 | 2111 |\n",
       "| 3 | 2013-01-02 |  2 | 2358 |\n",
       "| 4 | 2013-01-02 |  3 | 3487 |\n",
       "| 5 | 2013-01-02 |  4 | 1922 |\n",
       "| 6 | 2013-01-02 |  5 | 1903 |\n",
       "\n"
      ],
      "text/plain": [
       "  date       store_nbr transactions\n",
       "1 2013-01-01 25         770        \n",
       "2 2013-01-02  1        2111        \n",
       "3 2013-01-02  2        2358        \n",
       "4 2013-01-02  3        3487        \n",
       "5 2013-01-02  4        1922        \n",
       "6 2013-01-02  5        1903        "
      ]
     },
     "metadata": {},
     "output_type": "display_data"
    },
    {
     "data": {
      "text/html": [
       "<style>\n",
       ".list-inline {list-style: none; margin:0; padding: 0}\n",
       ".list-inline>li {display: inline-block}\n",
       ".list-inline>li:not(:last-child)::after {content: \"\\00b7\"; padding: 0 .5ex}\n",
       "</style>\n",
       "<ol class=list-inline><li>'date'</li><li>'transactions'</li></ol>\n"
      ],
      "text/latex": [
       "\\begin{enumerate*}\n",
       "\\item 'date'\n",
       "\\item 'transactions'\n",
       "\\end{enumerate*}\n"
      ],
      "text/markdown": [
       "1. 'date'\n",
       "2. 'transactions'\n",
       "\n",
       "\n"
      ],
      "text/plain": [
       "[1] \"date\"         \"transactions\""
      ]
     },
     "metadata": {},
     "output_type": "display_data"
    },
    {
     "data": {
      "text/html": [
       "<table class=\"dataframe\">\n",
       "<caption>A data.frame: 6 × 2</caption>\n",
       "<thead>\n",
       "\t<tr><th></th><th scope=col>date</th><th scope=col>transactions</th></tr>\n",
       "\t<tr><th></th><th scope=col>&lt;date&gt;</th><th scope=col>&lt;int&gt;</th></tr>\n",
       "</thead>\n",
       "<tbody>\n",
       "\t<tr><th scope=row>1</th><td>2013-01-01</td><td> 770</td></tr>\n",
       "\t<tr><th scope=row>2</th><td>2013-01-02</td><td>2111</td></tr>\n",
       "\t<tr><th scope=row>3</th><td>2013-01-02</td><td>2358</td></tr>\n",
       "\t<tr><th scope=row>4</th><td>2013-01-02</td><td>3487</td></tr>\n",
       "\t<tr><th scope=row>5</th><td>2013-01-02</td><td>1922</td></tr>\n",
       "\t<tr><th scope=row>6</th><td>2013-01-02</td><td>1903</td></tr>\n",
       "</tbody>\n",
       "</table>\n"
      ],
      "text/latex": [
       "A data.frame: 6 × 2\n",
       "\\begin{tabular}{r|ll}\n",
       "  & date & transactions\\\\\n",
       "  & <date> & <int>\\\\\n",
       "\\hline\n",
       "\t1 & 2013-01-01 &  770\\\\\n",
       "\t2 & 2013-01-02 & 2111\\\\\n",
       "\t3 & 2013-01-02 & 2358\\\\\n",
       "\t4 & 2013-01-02 & 3487\\\\\n",
       "\t5 & 2013-01-02 & 1922\\\\\n",
       "\t6 & 2013-01-02 & 1903\\\\\n",
       "\\end{tabular}\n"
      ],
      "text/markdown": [
       "\n",
       "A data.frame: 6 × 2\n",
       "\n",
       "| <!--/--> | date &lt;date&gt; | transactions &lt;int&gt; |\n",
       "|---|---|---|\n",
       "| 1 | 2013-01-01 |  770 |\n",
       "| 2 | 2013-01-02 | 2111 |\n",
       "| 3 | 2013-01-02 | 2358 |\n",
       "| 4 | 2013-01-02 | 3487 |\n",
       "| 5 | 2013-01-02 | 1922 |\n",
       "| 6 | 2013-01-02 | 1903 |\n",
       "\n"
      ],
      "text/plain": [
       "  date       transactions\n",
       "1 2013-01-01  770        \n",
       "2 2013-01-02 2111        \n",
       "3 2013-01-02 2358        \n",
       "4 2013-01-02 3487        \n",
       "5 2013-01-02 1922        \n",
       "6 2013-01-02 1903        "
      ]
     },
     "metadata": {},
     "output_type": "display_data"
    }
   ],
   "source": [
    "Store_sales = read.csv(\"Data/store-forecasting/transactions.csv\")\n",
    "head(Store_sales)\n",
    "Store_sales = subset(Store_sales, select = -store_nbr)\n",
    "colnames(Store_sales)\n",
    "Store_sales = na.omit(Store_sales)\n",
    "Store_sales$date = as.Date(Store_sales$date)  # date was Charecter\n",
    "head(Store_sales)"
   ]
  },
  {
   "cell_type": "markdown",
   "metadata": {},
   "source": [
    "* Plotting directly"
   ]
  },
  {
   "cell_type": "code",
   "execution_count": 14,
   "metadata": {
    "vscode": {
     "languageId": "r"
    }
   },
   "outputs": [
    {
     "data": {
      "image/png": "[encoded data removed]",
      "text/plain": [
       "Plot with title \"Time Series\""
      ]
     },
     "metadata": {
      "image/png": {
       "height": 420,
       "width": 420
      }
     },
     "output_type": "display_data"
    }
   ],
   "source": [
    "plot(Store_sales, \n",
    "        type = \"l\",         # l for line plot\n",
    "        main = \"Time Series\", # Central Heading\n",
    "        col =\"Red\",\n",
    "        lwd = 2                 #Line Width\n",
    ")\n"
   ]
  },
  {
   "cell_type": "code",
   "execution_count": null,
   "metadata": {
    "vscode": {
     "languageId": "r"
    }
   },
   "outputs": [],
   "source": []
  }
 ],
 "metadata": {
  "kernelspec": {
   "display_name": "R",
   "language": "R",
   "name": "ir"
  },
  "language_info": {
   "codemirror_mode": "r",
   "file_extension": ".r",
   "mimetype": "text/x-r-source",
   "name": "R",
   "pygments_lexer": "r",
   "version": "4.4.1"
  }
 },
 "nbformat": 4,
 "nbformat_minor": 2
}
