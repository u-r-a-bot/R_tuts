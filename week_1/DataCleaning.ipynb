{
 "cells": [
  {
   "cell_type": "markdown",
   "metadata": {},
   "source": [
    "## Importing library"
   ]
  },
  {
   "cell_type": "code",
   "execution_count": 1,
   "metadata": {
    "vscode": {
     "languageId": "r"
    }
   },
   "outputs": [
    {
     "name": "stderr",
     "output_type": "stream",
     "text": [
      "Loading required package: carData\n",
      "\n"
     ]
    }
   ],
   "source": [
    "library(car)"
   ]
  },
  {
   "cell_type": "code",
   "execution_count": 4,
   "metadata": {
    "vscode": {
     "languageId": "r"
    }
   },
   "outputs": [
    {
     "data": {
      "text/html": [
       "<style>\n",
       ".list-inline {list-style: none; margin:0; padding: 0}\n",
       ".list-inline>li {display: inline-block}\n",
       ".list-inline>li:not(:last-child)::after {content: \"\\00b7\"; padding: 0 .5ex}\n",
       "</style>\n",
       "<ol class=list-inline><li>1218</li><li>2</li></ol>\n"
      ],
      "text/latex": [
       "\\begin{enumerate*}\n",
       "\\item 1218\n",
       "\\item 2\n",
       "\\end{enumerate*}\n"
      ],
      "text/markdown": [
       "1. 1218\n",
       "2. 2\n",
       "\n",
       "\n"
      ],
      "text/plain": [
       "[1] 1218    2"
      ]
     },
     "metadata": {},
     "output_type": "display_data"
    },
    {
     "name": "stdout",
     "output_type": "stream",
     "text": [
      "1218 x 2 data.frame (1213 rows omitted)\n",
      "           date dcoilwtico\n",
      "            [c]        [n]\n",
      "1    2013-01-01         NA\n",
      "2    2013-01-02      93.14\n",
      "3    2013-01-03      92.97\n",
      ". . .                          \n",
      "1217 2017-08-30      45.96\n",
      "1218 2017-08-31      47.26\n"
     ]
    },
    {
     "data": {
      "text/html": [
       "<table class=\"dataframe\">\n",
       "<caption>A data.frame: 6 × 2</caption>\n",
       "<thead>\n",
       "\t<tr><th></th><th scope=col>date</th><th scope=col>dcoilwtico</th></tr>\n",
       "\t<tr><th></th><th scope=col>&lt;chr&gt;</th><th scope=col>&lt;dbl&gt;</th></tr>\n",
       "</thead>\n",
       "<tbody>\n",
       "\t<tr><th scope=row>1</th><td>2013-01-01</td><td>   NA</td></tr>\n",
       "\t<tr><th scope=row>2</th><td>2013-01-02</td><td>93.14</td></tr>\n",
       "\t<tr><th scope=row>3</th><td>2013-01-03</td><td>92.97</td></tr>\n",
       "\t<tr><th scope=row>4</th><td>2013-01-04</td><td>93.12</td></tr>\n",
       "\t<tr><th scope=row>5</th><td>2013-01-07</td><td>93.20</td></tr>\n",
       "\t<tr><th scope=row>6</th><td>2013-01-08</td><td>93.21</td></tr>\n",
       "</tbody>\n",
       "</table>\n"
      ],
      "text/latex": [
       "A data.frame: 6 × 2\n",
       "\\begin{tabular}{r|ll}\n",
       "  & date & dcoilwtico\\\\\n",
       "  & <chr> & <dbl>\\\\\n",
       "\\hline\n",
       "\t1 & 2013-01-01 &    NA\\\\\n",
       "\t2 & 2013-01-02 & 93.14\\\\\n",
       "\t3 & 2013-01-03 & 92.97\\\\\n",
       "\t4 & 2013-01-04 & 93.12\\\\\n",
       "\t5 & 2013-01-07 & 93.20\\\\\n",
       "\t6 & 2013-01-08 & 93.21\\\\\n",
       "\\end{tabular}\n"
      ],
      "text/markdown": [
       "\n",
       "A data.frame: 6 × 2\n",
       "\n",
       "| <!--/--> | date &lt;chr&gt; | dcoilwtico &lt;dbl&gt; |\n",
       "|---|---|---|\n",
       "| 1 | 2013-01-01 |    NA |\n",
       "| 2 | 2013-01-02 | 93.14 |\n",
       "| 3 | 2013-01-03 | 92.97 |\n",
       "| 4 | 2013-01-04 | 93.12 |\n",
       "| 5 | 2013-01-07 | 93.20 |\n",
       "| 6 | 2013-01-08 | 93.21 |\n",
       "\n"
      ],
      "text/plain": [
       "  date       dcoilwtico\n",
       "1 2013-01-01    NA     \n",
       "2 2013-01-02 93.14     \n",
       "3 2013-01-03 92.97     \n",
       "4 2013-01-04 93.12     \n",
       "5 2013-01-07 93.20     \n",
       "6 2013-01-08 93.21     "
      ]
     },
     "metadata": {},
     "output_type": "display_data"
    },
    {
     "data": {
      "text/html": [
       "<table class=\"dataframe\">\n",
       "<caption>A data.frame: 8 × 2</caption>\n",
       "<thead>\n",
       "\t<tr><th></th><th scope=col>date</th><th scope=col>dcoilwtico</th></tr>\n",
       "\t<tr><th></th><th scope=col>&lt;chr&gt;</th><th scope=col>&lt;dbl&gt;</th></tr>\n",
       "</thead>\n",
       "<tbody>\n",
       "\t<tr><th scope=row>1</th><td>2013-01-01</td><td>   NA</td></tr>\n",
       "\t<tr><th scope=row>2</th><td>2013-01-02</td><td>93.14</td></tr>\n",
       "\t<tr><th scope=row>3</th><td>2013-01-03</td><td>92.97</td></tr>\n",
       "\t<tr><th scope=row>4</th><td>2013-01-04</td><td>93.12</td></tr>\n",
       "\t<tr><th scope=row>5</th><td>2013-01-07</td><td>93.20</td></tr>\n",
       "\t<tr><th scope=row>6</th><td>2013-01-08</td><td>93.21</td></tr>\n",
       "\t<tr><th scope=row>7</th><td>2013-01-09</td><td>93.08</td></tr>\n",
       "\t<tr><th scope=row>8</th><td>2013-01-10</td><td>93.81</td></tr>\n",
       "</tbody>\n",
       "</table>\n"
      ],
      "text/latex": [
       "A data.frame: 8 × 2\n",
       "\\begin{tabular}{r|ll}\n",
       "  & date & dcoilwtico\\\\\n",
       "  & <chr> & <dbl>\\\\\n",
       "\\hline\n",
       "\t1 & 2013-01-01 &    NA\\\\\n",
       "\t2 & 2013-01-02 & 93.14\\\\\n",
       "\t3 & 2013-01-03 & 92.97\\\\\n",
       "\t4 & 2013-01-04 & 93.12\\\\\n",
       "\t5 & 2013-01-07 & 93.20\\\\\n",
       "\t6 & 2013-01-08 & 93.21\\\\\n",
       "\t7 & 2013-01-09 & 93.08\\\\\n",
       "\t8 & 2013-01-10 & 93.81\\\\\n",
       "\\end{tabular}\n"
      ],
      "text/markdown": [
       "\n",
       "A data.frame: 8 × 2\n",
       "\n",
       "| <!--/--> | date &lt;chr&gt; | dcoilwtico &lt;dbl&gt; |\n",
       "|---|---|---|\n",
       "| 1 | 2013-01-01 |    NA |\n",
       "| 2 | 2013-01-02 | 93.14 |\n",
       "| 3 | 2013-01-03 | 92.97 |\n",
       "| 4 | 2013-01-04 | 93.12 |\n",
       "| 5 | 2013-01-07 | 93.20 |\n",
       "| 6 | 2013-01-08 | 93.21 |\n",
       "| 7 | 2013-01-09 | 93.08 |\n",
       "| 8 | 2013-01-10 | 93.81 |\n",
       "\n"
      ],
      "text/plain": [
       "  date       dcoilwtico\n",
       "1 2013-01-01    NA     \n",
       "2 2013-01-02 93.14     \n",
       "3 2013-01-03 92.97     \n",
       "4 2013-01-04 93.12     \n",
       "5 2013-01-07 93.20     \n",
       "6 2013-01-08 93.21     \n",
       "7 2013-01-09 93.08     \n",
       "8 2013-01-10 93.81     "
      ]
     },
     "metadata": {},
     "output_type": "display_data"
    },
    {
     "data": {
      "text/html": [
       "<style>\n",
       ".list-inline {list-style: none; margin:0; padding: 0}\n",
       ".list-inline>li {display: inline-block}\n",
       ".list-inline>li:not(:last-child)::after {content: \"\\00b7\"; padding: 0 .5ex}\n",
       "</style>\n",
       "<ol class=list-inline><li>'date'</li><li>'dcoilwtico'</li></ol>\n"
      ],
      "text/latex": [
       "\\begin{enumerate*}\n",
       "\\item 'date'\n",
       "\\item 'dcoilwtico'\n",
       "\\end{enumerate*}\n"
      ],
      "text/markdown": [
       "1. 'date'\n",
       "2. 'dcoilwtico'\n",
       "\n",
       "\n"
      ],
      "text/plain": [
       "[1] \"date\"       \"dcoilwtico\""
      ]
     },
     "metadata": {},
     "output_type": "display_data"
    },
    {
     "data": {
      "text/html": [
       "<style>\n",
       ".list-inline {list-style: none; margin:0; padding: 0}\n",
       ".list-inline>li {display: inline-block}\n",
       ".list-inline>li:not(:last-child)::after {content: \"\\00b7\"; padding: 0 .5ex}\n",
       "</style>\n",
       "<ol class=list-inline><li>'date'</li><li>'dcoilwtico'</li></ol>\n"
      ],
      "text/latex": [
       "\\begin{enumerate*}\n",
       "\\item 'date'\n",
       "\\item 'dcoilwtico'\n",
       "\\end{enumerate*}\n"
      ],
      "text/markdown": [
       "1. 'date'\n",
       "2. 'dcoilwtico'\n",
       "\n",
       "\n"
      ],
      "text/plain": [
       "[1] \"date\"       \"dcoilwtico\""
      ]
     },
     "metadata": {},
     "output_type": "display_data"
    },
    {
     "data": {
      "text/html": [
       "FALSE"
      ],
      "text/latex": [
       "FALSE"
      ],
      "text/markdown": [
       "FALSE"
      ],
      "text/plain": [
       "[1] FALSE"
      ]
     },
     "metadata": {},
     "output_type": "display_data"
    },
    {
     "data": {
      "text/html": [
       "<style>\n",
       ".list-inline {list-style: none; margin:0; padding: 0}\n",
       ".list-inline>li {display: inline-block}\n",
       ".list-inline>li:not(:last-child)::after {content: \"\\00b7\"; padding: 0 .5ex}\n",
       "</style>\n",
       "<ol class=list-inline><li>FALSE</li><li>FALSE</li><li>FALSE</li><li>TRUE</li><li>TRUE</li><li>FALSE</li></ol>\n"
      ],
      "text/latex": [
       "\\begin{enumerate*}\n",
       "\\item FALSE\n",
       "\\item FALSE\n",
       "\\item FALSE\n",
       "\\item TRUE\n",
       "\\item TRUE\n",
       "\\item FALSE\n",
       "\\end{enumerate*}\n"
      ],
      "text/markdown": [
       "1. FALSE\n",
       "2. FALSE\n",
       "3. FALSE\n",
       "4. TRUE\n",
       "5. TRUE\n",
       "6. FALSE\n",
       "\n",
       "\n"
      ],
      "text/plain": [
       "[1] FALSE FALSE FALSE  TRUE  TRUE FALSE"
      ]
     },
     "metadata": {},
     "output_type": "display_data"
    },
    {
     "data": {
      "text/html": [
       "TRUE"
      ],
      "text/latex": [
       "TRUE"
      ],
      "text/markdown": [
       "TRUE"
      ],
      "text/plain": [
       "[1] TRUE"
      ]
     },
     "metadata": {},
     "output_type": "display_data"
    },
    {
     "data": {
      "text/html": [
       "TRUE"
      ],
      "text/latex": [
       "TRUE"
      ],
      "text/markdown": [
       "TRUE"
      ],
      "text/plain": [
       "[1] TRUE"
      ]
     },
     "metadata": {},
     "output_type": "display_data"
    }
   ],
   "source": [
    "setwd(\"C:/Users/Anil/Documents/R programs\")\n",
    "\n",
    "\n",
    "## For some NA values Opening OIL csv\n",
    "data = read.csv(\"Data/store-forecasting/oil.csv\")\n",
    "dim(data)\n",
    "\n",
    "brief(data)\n",
    "### head\n",
    "head(data)\n",
    "### Send more data using head .csv\n",
    "head(data, 8)\n",
    "\n",
    "### Checking Column names\n",
    "colnames(data)\n",
    "### Changing Columns names\n",
    "colnames(data)[2] = \"idk\"\n",
    "colnames(data)[1:2]  = c(\"date\", \"dcoilwtico\")\n",
    "colnames(data)\n",
    "### Cleaning Observations\n",
    "X = c(0,NA,2 ,3,4,-0.5)\n",
    "!is.na(NA) \n",
    "X>2 & !is.na(X)\n",
    "is.nan(0/0)\n",
    "is.infinite(1/0)\n",
    "\n",
    "\n",
    "data_1 = data\n",
    "data_1[1000,1] = NA\n",
    "data_1[1000,2] = NA"
   ]
  },
  {
   "cell_type": "markdown",
   "metadata": {},
   "source": [
    "* Summing all the NA obervation after creating em"
   ]
  },
  {
   "cell_type": "code",
   "execution_count": 3,
   "metadata": {
    "vscode": {
     "languageId": "r"
    }
   },
   "outputs": [
    {
     "data": {
      "text/html": [
       "45"
      ],
      "text/latex": [
       "45"
      ],
      "text/markdown": [
       "45"
      ],
      "text/plain": [
       "[1] 45"
      ]
     },
     "metadata": {},
     "output_type": "display_data"
    },
    {
     "data": {
      "text/html": [
       "43"
      ],
      "text/latex": [
       "43"
      ],
      "text/markdown": [
       "43"
      ],
      "text/plain": [
       "[1] 43"
      ]
     },
     "metadata": {},
     "output_type": "display_data"
    },
    {
     "data": {
      "text/html": [
       "0"
      ],
      "text/latex": [
       "0"
      ],
      "text/markdown": [
       "0"
      ],
      "text/plain": [
       "[1] 0"
      ]
     },
     "metadata": {},
     "output_type": "display_data"
    }
   ],
   "source": [
    "sum(is.na(data_1))\n",
    "### Checking vs originnal data\n",
    "sum(is.na(data))\n",
    "### replacing all the an observations with zero\n",
    "sum(is.na((na.omit(data_1))))"
   ]
  },
  {
   "cell_type": "code",
   "execution_count": 4,
   "metadata": {
    "vscode": {
     "languageId": "r"
    }
   },
   "outputs": [
    {
     "data": {
      "text/html": [
       "<table class=\"dataframe\">\n",
       "<caption>A data.frame: 6 × 4</caption>\n",
       "<thead>\n",
       "\t<tr><th></th><th scope=col>population</th><th scope=col>nonwhite</th><th scope=col>density</th><th scope=col>crime</th></tr>\n",
       "\t<tr><th></th><th scope=col>&lt;int&gt;</th><th scope=col>&lt;dbl&gt;</th><th scope=col>&lt;int&gt;</th><th scope=col>&lt;int&gt;</th></tr>\n",
       "</thead>\n",
       "<tbody>\n",
       "\t<tr><th scope=row>Akron</th><td> 675</td><td> 7.3</td><td> 746</td><td>2602</td></tr>\n",
       "\t<tr><th scope=row>Albany</th><td> 713</td><td> 2.6</td><td> 322</td><td>1388</td></tr>\n",
       "\t<tr><th scope=row>Albuquerque</th><td>  NA</td><td> 3.3</td><td>  NA</td><td>5018</td></tr>\n",
       "\t<tr><th scope=row>Allentown</th><td> 534</td><td> 0.8</td><td> 491</td><td>1182</td></tr>\n",
       "\t<tr><th scope=row>Anaheim</th><td>1261</td><td> 1.4</td><td>1612</td><td>3341</td></tr>\n",
       "\t<tr><th scope=row>Atlanta</th><td>1330</td><td>22.8</td><td> 770</td><td>2805</td></tr>\n",
       "</tbody>\n",
       "</table>\n"
      ],
      "text/latex": [
       "A data.frame: 6 × 4\n",
       "\\begin{tabular}{r|llll}\n",
       "  & population & nonwhite & density & crime\\\\\n",
       "  & <int> & <dbl> & <int> & <int>\\\\\n",
       "\\hline\n",
       "\tAkron &  675 &  7.3 &  746 & 2602\\\\\n",
       "\tAlbany &  713 &  2.6 &  322 & 1388\\\\\n",
       "\tAlbuquerque &   NA &  3.3 &   NA & 5018\\\\\n",
       "\tAllentown &  534 &  0.8 &  491 & 1182\\\\\n",
       "\tAnaheim & 1261 &  1.4 & 1612 & 3341\\\\\n",
       "\tAtlanta & 1330 & 22.8 &  770 & 2805\\\\\n",
       "\\end{tabular}\n"
      ],
      "text/markdown": [
       "\n",
       "A data.frame: 6 × 4\n",
       "\n",
       "| <!--/--> | population &lt;int&gt; | nonwhite &lt;dbl&gt; | density &lt;int&gt; | crime &lt;int&gt; |\n",
       "|---|---|---|---|---|\n",
       "| Akron |  675 |  7.3 |  746 | 2602 |\n",
       "| Albany |  713 |  2.6 |  322 | 1388 |\n",
       "| Albuquerque |   NA |  3.3 |   NA | 5018 |\n",
       "| Allentown |  534 |  0.8 |  491 | 1182 |\n",
       "| Anaheim | 1261 |  1.4 | 1612 | 3341 |\n",
       "| Atlanta | 1330 | 22.8 |  770 | 2805 |\n",
       "\n"
      ],
      "text/plain": [
       "            population nonwhite density crime\n",
       "Akron        675        7.3      746    2602 \n",
       "Albany       713        2.6      322    1388 \n",
       "Albuquerque   NA        3.3       NA    5018 \n",
       "Allentown    534        0.8      491    1182 \n",
       "Anaheim     1261        1.4     1612    3341 \n",
       "Atlanta     1330       22.8      770    2805 "
      ]
     },
     "metadata": {},
     "output_type": "display_data"
    }
   ],
   "source": [
    "head(Freedman)"
   ]
  },
  {
   "cell_type": "code",
   "execution_count": 7,
   "metadata": {
    "vscode": {
     "languageId": "r"
    }
   },
   "outputs": [
    {
     "data": {
      "text/html": [
       "<table class=\"dataframe\">\n",
       "<caption>A data.frame: 3 × 2</caption>\n",
       "<thead>\n",
       "\t<tr><th scope=col>a</th><th scope=col>b</th></tr>\n",
       "\t<tr><th scope=col>&lt;dbl&gt;</th><th scope=col>&lt;chr&gt;</th></tr>\n",
       "</thead>\n",
       "<tbody>\n",
       "\t<tr><td>NA</td><td>one  </td></tr>\n",
       "\t<tr><td> 1</td><td>NA   </td></tr>\n",
       "\t<tr><td> 2</td><td>three</td></tr>\n",
       "</tbody>\n",
       "</table>\n"
      ],
      "text/latex": [
       "A data.frame: 3 × 2\n",
       "\\begin{tabular}{ll}\n",
       " a & b\\\\\n",
       " <dbl> & <chr>\\\\\n",
       "\\hline\n",
       "\t NA & one  \\\\\n",
       "\t  1 & NA   \\\\\n",
       "\t  2 & three\\\\\n",
       "\\end{tabular}\n"
      ],
      "text/markdown": [
       "\n",
       "A data.frame: 3 × 2\n",
       "\n",
       "| a &lt;dbl&gt; | b &lt;chr&gt; |\n",
       "|---|---|\n",
       "| NA | one   |\n",
       "|  1 | NA    |\n",
       "|  2 | three |\n",
       "\n"
      ],
      "text/plain": [
       "  a  b    \n",
       "1 NA one  \n",
       "2  1 NA   \n",
       "3  2 three"
      ]
     },
     "metadata": {},
     "output_type": "display_data"
    },
    {
     "data": {
      "text/html": [
       "<table class=\"dataframe\">\n",
       "<caption>A data.frame: 2 × 2</caption>\n",
       "<thead>\n",
       "\t<tr><th></th><th scope=col>a</th><th scope=col>b</th></tr>\n",
       "\t<tr><th></th><th scope=col>&lt;dbl&gt;</th><th scope=col>&lt;chr&gt;</th></tr>\n",
       "</thead>\n",
       "<tbody>\n",
       "\t<tr><th scope=row>2</th><td>1</td><td>NA   </td></tr>\n",
       "\t<tr><th scope=row>3</th><td>2</td><td>three</td></tr>\n",
       "</tbody>\n",
       "</table>\n"
      ],
      "text/latex": [
       "A data.frame: 2 × 2\n",
       "\\begin{tabular}{r|ll}\n",
       "  & a & b\\\\\n",
       "  & <dbl> & <chr>\\\\\n",
       "\\hline\n",
       "\t2 & 1 & NA   \\\\\n",
       "\t3 & 2 & three\\\\\n",
       "\\end{tabular}\n"
      ],
      "text/markdown": [
       "\n",
       "A data.frame: 2 × 2\n",
       "\n",
       "| <!--/--> | a &lt;dbl&gt; | b &lt;chr&gt; |\n",
       "|---|---|---|\n",
       "| 2 | 1 | NA    |\n",
       "| 3 | 2 | three |\n",
       "\n"
      ],
      "text/plain": [
       "  a b    \n",
       "2 1 NA   \n",
       "3 2 three"
      ]
     },
     "metadata": {},
     "output_type": "display_data"
    },
    {
     "data": {
      "text/html": [
       "<table class=\"dataframe\">\n",
       "<caption>A data.frame: 2 × 2</caption>\n",
       "<thead>\n",
       "\t<tr><th></th><th scope=col>a</th><th scope=col>b</th></tr>\n",
       "\t<tr><th></th><th scope=col>&lt;dbl&gt;</th><th scope=col>&lt;chr&gt;</th></tr>\n",
       "</thead>\n",
       "<tbody>\n",
       "\t<tr><th scope=row>1</th><td>NA</td><td>one  </td></tr>\n",
       "\t<tr><th scope=row>3</th><td> 2</td><td>three</td></tr>\n",
       "</tbody>\n",
       "</table>\n"
      ],
      "text/latex": [
       "A data.frame: 2 × 2\n",
       "\\begin{tabular}{r|ll}\n",
       "  & a & b\\\\\n",
       "  & <dbl> & <chr>\\\\\n",
       "\\hline\n",
       "\t1 & NA & one  \\\\\n",
       "\t3 &  2 & three\\\\\n",
       "\\end{tabular}\n"
      ],
      "text/markdown": [
       "\n",
       "A data.frame: 2 × 2\n",
       "\n",
       "| <!--/--> | a &lt;dbl&gt; | b &lt;chr&gt; |\n",
       "|---|---|---|\n",
       "| 1 | NA | one   |\n",
       "| 3 |  2 | three |\n",
       "\n"
      ],
      "text/plain": [
       "  a  b    \n",
       "1 NA one  \n",
       "3  2 three"
      ]
     },
     "metadata": {},
     "output_type": "display_data"
    }
   ],
   "source": [
    "DF = data.frame(a = c(NA, 1, 2), b = c(\"one\", NA, \"three\"))\n",
    "DF\n",
    "subset(DF, !is.na(a))\n",
    "subset(DF, !is.na(b))\n",
    "subset(DF,complete.cases(DF))\n",
    "na.omit()"
   ]
  },
  {
   "cell_type": "code",
   "execution_count": 10,
   "metadata": {
    "vscode": {
     "languageId": "r"
    }
   },
   "outputs": [
    {
     "data": {
      "text/html": [
       "<table class=\"dataframe\">\n",
       "<caption>A data.frame: 6 × 4</caption>\n",
       "<thead>\n",
       "\t<tr><th></th><th scope=col>population</th><th scope=col>nonwhite</th><th scope=col>density</th><th scope=col>crime</th></tr>\n",
       "\t<tr><th></th><th scope=col>&lt;int&gt;</th><th scope=col>&lt;dbl&gt;</th><th scope=col>&lt;int&gt;</th><th scope=col>&lt;int&gt;</th></tr>\n",
       "</thead>\n",
       "<tbody>\n",
       "\t<tr><th scope=row>Akron</th><td> 675</td><td> 7.3</td><td> 746</td><td>2602</td></tr>\n",
       "\t<tr><th scope=row>Albany</th><td> 713</td><td> 2.6</td><td> 322</td><td>1388</td></tr>\n",
       "\t<tr><th scope=row>Albuquerque</th><td>  NA</td><td> 3.3</td><td>  NA</td><td>5018</td></tr>\n",
       "\t<tr><th scope=row>Allentown</th><td> 534</td><td> 0.8</td><td> 491</td><td>1182</td></tr>\n",
       "\t<tr><th scope=row>Anaheim</th><td>1261</td><td> 1.4</td><td>1612</td><td>3341</td></tr>\n",
       "\t<tr><th scope=row>Atlanta</th><td>1330</td><td>22.8</td><td> 770</td><td>2805</td></tr>\n",
       "</tbody>\n",
       "</table>\n"
      ],
      "text/latex": [
       "A data.frame: 6 × 4\n",
       "\\begin{tabular}{r|llll}\n",
       "  & population & nonwhite & density & crime\\\\\n",
       "  & <int> & <dbl> & <int> & <int>\\\\\n",
       "\\hline\n",
       "\tAkron &  675 &  7.3 &  746 & 2602\\\\\n",
       "\tAlbany &  713 &  2.6 &  322 & 1388\\\\\n",
       "\tAlbuquerque &   NA &  3.3 &   NA & 5018\\\\\n",
       "\tAllentown &  534 &  0.8 &  491 & 1182\\\\\n",
       "\tAnaheim & 1261 &  1.4 & 1612 & 3341\\\\\n",
       "\tAtlanta & 1330 & 22.8 &  770 & 2805\\\\\n",
       "\\end{tabular}\n"
      ],
      "text/markdown": [
       "\n",
       "A data.frame: 6 × 4\n",
       "\n",
       "| <!--/--> | population &lt;int&gt; | nonwhite &lt;dbl&gt; | density &lt;int&gt; | crime &lt;int&gt; |\n",
       "|---|---|---|---|---|\n",
       "| Akron |  675 |  7.3 |  746 | 2602 |\n",
       "| Albany |  713 |  2.6 |  322 | 1388 |\n",
       "| Albuquerque |   NA |  3.3 |   NA | 5018 |\n",
       "| Allentown |  534 |  0.8 |  491 | 1182 |\n",
       "| Anaheim | 1261 |  1.4 | 1612 | 3341 |\n",
       "| Atlanta | 1330 | 22.8 |  770 | 2805 |\n",
       "\n"
      ],
      "text/plain": [
       "            population nonwhite density crime\n",
       "Akron        675        7.3      746    2602 \n",
       "Albany       713        2.6      322    1388 \n",
       "Albuquerque   NA        3.3       NA    5018 \n",
       "Allentown    534        0.8      491    1182 \n",
       "Anaheim     1261        1.4     1612    3341 \n",
       "Atlanta     1330       22.8      770    2805 "
      ]
     },
     "metadata": {},
     "output_type": "display_data"
    },
    {
     "name": "stdout",
     "output_type": "stream",
     "text": [
      "'data.frame':\t110 obs. of  4 variables:\n",
      " $ population: int  675 713 NA 534 1261 1330 331 1981 315 305 ...\n",
      " $ nonwhite  : num  7.3 2.6 3.3 0.8 1.4 22.8 7 21.6 20.7 0.6 ...\n",
      " $ density   : int  746 322 NA 491 1612 770 41 877 240 147 ...\n",
      " $ crime     : int  2602 1388 5018 1182 3341 2805 3306 4256 2117 1063 ...\n"
     ]
    },
    {
     "data": {
      "text/plain": [
       "   population         nonwhite        density            crime     \n",
       " Min.   :  270.0   Min.   : 0.30   Min.   :   37.0   Min.   : 458  \n",
       " 1st Qu.:  398.8   1st Qu.: 3.40   1st Qu.:  266.5   1st Qu.:2067  \n",
       " Median :  664.0   Median : 7.20   Median :  412.0   Median :2698  \n",
       " Mean   : 1136.0   Mean   :10.80   Mean   :  765.7   Mean   :2714  \n",
       " 3rd Qu.: 1167.8   3rd Qu.:14.88   3rd Qu.:  773.2   3rd Qu.:3305  \n",
       " Max.   :11551.0   Max.   :64.30   Max.   :13087.0   Max.   :5441  \n",
       " NA's   :10                        NA's   :10                      "
      ]
     },
     "metadata": {},
     "output_type": "display_data"
    },
    {
     "name": "stderr",
     "output_type": "stream",
     "text": [
      "Warning message in rm(Freedman):\n",
      "\"object 'Freedman' not found\"\n"
     ]
    }
   ],
   "source": [
    "head(Freedman)\n",
    "str(Freedman)\n",
    "summary(Freedman)\n",
    "rm(Freedman)"
   ]
  },
  {
   "cell_type": "markdown",
   "metadata": {},
   "source": [
    "* Below is the example of median function throwing NA becoz of NA values being present"
   ]
  },
  {
   "cell_type": "code",
   "execution_count": 13,
   "metadata": {
    "vscode": {
     "languageId": "r"
    }
   },
   "outputs": [
    {
     "data": {
      "text/html": [
       "&lt;NA&gt;"
      ],
      "text/latex": [
       "<NA>"
      ],
      "text/markdown": [
       "&lt;NA&gt;"
      ],
      "text/plain": [
       "[1] NA"
      ]
     },
     "metadata": {},
     "output_type": "display_data"
    }
   ],
   "source": [
    "median(Freedman$density)"
   ]
  },
  {
   "cell_type": "markdown",
   "metadata": {},
   "source": [
    "* Treating the NA error by removing the na values"
   ]
  },
  {
   "cell_type": "code",
   "execution_count": null,
   "metadata": {
    "vscode": {
     "languageId": "r"
    }
   },
   "outputs": [],
   "source": [
    "median(Freedman)"
   ]
  }
 ],
 "metadata": {
  "kernelspec": {
   "display_name": "R",
   "language": "R",
   "name": "ir"
  },
  "language_info": {
   "codemirror_mode": "r",
   "file_extension": ".r",
   "mimetype": "text/x-r-source",
   "name": "R",
   "pygments_lexer": "r",
   "version": "4.4.1"
  }
 },
 "nbformat": 4,
 "nbformat_minor": 2
}
