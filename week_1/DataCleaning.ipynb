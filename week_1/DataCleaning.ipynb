{
 "cells": [
  {
   "cell_type": "markdown",
   "metadata": {},
   "source": [
    "## Importing library"
   ]
  },
  {
   "cell_type": "code",
   "execution_count": 1,
   "metadata": {
    "vscode": {
     "languageId": "r"
    }
   },
   "outputs": [
    {
     "name": "stderr",
     "output_type": "stream",
     "text": [
      "Loading required package: carData\n",
      "\n"
     ]
    }
   ],
   "source": [
    "library(car)"
   ]
  },
  {
   "cell_type": "code",
   "execution_count": 2,
   "metadata": {
    "vscode": {
     "languageId": "r"
    }
   },
   "outputs": [
    {
     "data": {
      "text/html": [
       "'C:\\\\Users\\\\Anil\\\\Documents/R programs'"
      ],
      "text/latex": [
       "'C:\\textbackslash{}\\textbackslash{}Users\\textbackslash{}\\textbackslash{}Anil\\textbackslash{}\\textbackslash{}Documents/R programs'"
      ],
      "text/markdown": [
       "'C:\\\\Users\\\\Anil\\\\Documents/R programs'"
      ],
      "text/plain": [
       "[1] \"C:\\\\Users\\\\Anil\\\\Documents/R programs\""
      ]
     },
     "metadata": {},
     "output_type": "display_data"
    }
   ],
   "source": [
    "home_dir = normalizePath(\"~\")\n",
    "relative_path = file.path(\"R programs\")\n",
    "full_path = file.path(home_dir, relative_path)\n",
    "full_path \n"
   ]
  },
  {
   "cell_type": "code",
   "execution_count": 3,
   "metadata": {
    "vscode": {
     "languageId": "r"
    }
   },
   "outputs": [
    {
     "data": {
      "text/html": [
       "<style>\n",
       ".list-inline {list-style: none; margin:0; padding: 0}\n",
       ".list-inline>li {display: inline-block}\n",
       ".list-inline>li:not(:last-child)::after {content: \"\\00b7\"; padding: 0 .5ex}\n",
       "</style>\n",
       "<ol class=list-inline><li>1218</li><li>2</li></ol>\n"
      ],
      "text/latex": [
       "\\begin{enumerate*}\n",
       "\\item 1218\n",
       "\\item 2\n",
       "\\end{enumerate*}\n"
      ],
      "text/markdown": [
       "1. 1218\n",
       "2. 2\n",
       "\n",
       "\n"
      ],
      "text/plain": [
       "[1] 1218    2"
      ]
     },
     "metadata": {},
     "output_type": "display_data"
    },
    {
     "name": "stdout",
     "output_type": "stream",
     "text": [
      "1218 x 2 data.frame (1213 rows omitted)\n",
      "           date dcoilwtico\n",
      "            [c]        [n]\n",
      "1    2013-01-01         NA\n",
      "2    2013-01-02      93.14\n",
      "3    2013-01-03      92.97\n",
      ". . .                          \n",
      "1217 2017-08-30      45.96\n",
      "1218 2017-08-31      47.26\n"
     ]
    },
    {
     "data": {
      "text/html": [
       "<table class=\"dataframe\">\n",
       "<caption>A data.frame: 6 × 2</caption>\n",
       "<thead>\n",
       "\t<tr><th></th><th scope=col>date</th><th scope=col>dcoilwtico</th></tr>\n",
       "\t<tr><th></th><th scope=col>&lt;chr&gt;</th><th scope=col>&lt;dbl&gt;</th></tr>\n",
       "</thead>\n",
       "<tbody>\n",
       "\t<tr><th scope=row>1</th><td>2013-01-01</td><td>   NA</td></tr>\n",
       "\t<tr><th scope=row>2</th><td>2013-01-02</td><td>93.14</td></tr>\n",
       "\t<tr><th scope=row>3</th><td>2013-01-03</td><td>92.97</td></tr>\n",
       "\t<tr><th scope=row>4</th><td>2013-01-04</td><td>93.12</td></tr>\n",
       "\t<tr><th scope=row>5</th><td>2013-01-07</td><td>93.20</td></tr>\n",
       "\t<tr><th scope=row>6</th><td>2013-01-08</td><td>93.21</td></tr>\n",
       "</tbody>\n",
       "</table>\n"
      ],
      "text/latex": [
       "A data.frame: 6 × 2\n",
       "\\begin{tabular}{r|ll}\n",
       "  & date & dcoilwtico\\\\\n",
       "  & <chr> & <dbl>\\\\\n",
       "\\hline\n",
       "\t1 & 2013-01-01 &    NA\\\\\n",
       "\t2 & 2013-01-02 & 93.14\\\\\n",
       "\t3 & 2013-01-03 & 92.97\\\\\n",
       "\t4 & 2013-01-04 & 93.12\\\\\n",
       "\t5 & 2013-01-07 & 93.20\\\\\n",
       "\t6 & 2013-01-08 & 93.21\\\\\n",
       "\\end{tabular}\n"
      ],
      "text/markdown": [
       "\n",
       "A data.frame: 6 × 2\n",
       "\n",
       "| <!--/--> | date &lt;chr&gt; | dcoilwtico &lt;dbl&gt; |\n",
       "|---|---|---|\n",
       "| 1 | 2013-01-01 |    NA |\n",
       "| 2 | 2013-01-02 | 93.14 |\n",
       "| 3 | 2013-01-03 | 92.97 |\n",
       "| 4 | 2013-01-04 | 93.12 |\n",
       "| 5 | 2013-01-07 | 93.20 |\n",
       "| 6 | 2013-01-08 | 93.21 |\n",
       "\n"
      ],
      "text/plain": [
       "  date       dcoilwtico\n",
       "1 2013-01-01    NA     \n",
       "2 2013-01-02 93.14     \n",
       "3 2013-01-03 92.97     \n",
       "4 2013-01-04 93.12     \n",
       "5 2013-01-07 93.20     \n",
       "6 2013-01-08 93.21     "
      ]
     },
     "metadata": {},
     "output_type": "display_data"
    },
    {
     "data": {
      "text/html": [
       "<table class=\"dataframe\">\n",
       "<caption>A data.frame: 8 × 2</caption>\n",
       "<thead>\n",
       "\t<tr><th></th><th scope=col>date</th><th scope=col>dcoilwtico</th></tr>\n",
       "\t<tr><th></th><th scope=col>&lt;chr&gt;</th><th scope=col>&lt;dbl&gt;</th></tr>\n",
       "</thead>\n",
       "<tbody>\n",
       "\t<tr><th scope=row>1</th><td>2013-01-01</td><td>   NA</td></tr>\n",
       "\t<tr><th scope=row>2</th><td>2013-01-02</td><td>93.14</td></tr>\n",
       "\t<tr><th scope=row>3</th><td>2013-01-03</td><td>92.97</td></tr>\n",
       "\t<tr><th scope=row>4</th><td>2013-01-04</td><td>93.12</td></tr>\n",
       "\t<tr><th scope=row>5</th><td>2013-01-07</td><td>93.20</td></tr>\n",
       "\t<tr><th scope=row>6</th><td>2013-01-08</td><td>93.21</td></tr>\n",
       "\t<tr><th scope=row>7</th><td>2013-01-09</td><td>93.08</td></tr>\n",
       "\t<tr><th scope=row>8</th><td>2013-01-10</td><td>93.81</td></tr>\n",
       "</tbody>\n",
       "</table>\n"
      ],
      "text/latex": [
       "A data.frame: 8 × 2\n",
       "\\begin{tabular}{r|ll}\n",
       "  & date & dcoilwtico\\\\\n",
       "  & <chr> & <dbl>\\\\\n",
       "\\hline\n",
       "\t1 & 2013-01-01 &    NA\\\\\n",
       "\t2 & 2013-01-02 & 93.14\\\\\n",
       "\t3 & 2013-01-03 & 92.97\\\\\n",
       "\t4 & 2013-01-04 & 93.12\\\\\n",
       "\t5 & 2013-01-07 & 93.20\\\\\n",
       "\t6 & 2013-01-08 & 93.21\\\\\n",
       "\t7 & 2013-01-09 & 93.08\\\\\n",
       "\t8 & 2013-01-10 & 93.81\\\\\n",
       "\\end{tabular}\n"
      ],
      "text/markdown": [
       "\n",
       "A data.frame: 8 × 2\n",
       "\n",
       "| <!--/--> | date &lt;chr&gt; | dcoilwtico &lt;dbl&gt; |\n",
       "|---|---|---|\n",
       "| 1 | 2013-01-01 |    NA |\n",
       "| 2 | 2013-01-02 | 93.14 |\n",
       "| 3 | 2013-01-03 | 92.97 |\n",
       "| 4 | 2013-01-04 | 93.12 |\n",
       "| 5 | 2013-01-07 | 93.20 |\n",
       "| 6 | 2013-01-08 | 93.21 |\n",
       "| 7 | 2013-01-09 | 93.08 |\n",
       "| 8 | 2013-01-10 | 93.81 |\n",
       "\n"
      ],
      "text/plain": [
       "  date       dcoilwtico\n",
       "1 2013-01-01    NA     \n",
       "2 2013-01-02 93.14     \n",
       "3 2013-01-03 92.97     \n",
       "4 2013-01-04 93.12     \n",
       "5 2013-01-07 93.20     \n",
       "6 2013-01-08 93.21     \n",
       "7 2013-01-09 93.08     \n",
       "8 2013-01-10 93.81     "
      ]
     },
     "metadata": {},
     "output_type": "display_data"
    },
    {
     "data": {
      "text/html": [
       "<style>\n",
       ".list-inline {list-style: none; margin:0; padding: 0}\n",
       ".list-inline>li {display: inline-block}\n",
       ".list-inline>li:not(:last-child)::after {content: \"\\00b7\"; padding: 0 .5ex}\n",
       "</style>\n",
       "<ol class=list-inline><li>'date'</li><li>'dcoilwtico'</li></ol>\n"
      ],
      "text/latex": [
       "\\begin{enumerate*}\n",
       "\\item 'date'\n",
       "\\item 'dcoilwtico'\n",
       "\\end{enumerate*}\n"
      ],
      "text/markdown": [
       "1. 'date'\n",
       "2. 'dcoilwtico'\n",
       "\n",
       "\n"
      ],
      "text/plain": [
       "[1] \"date\"       \"dcoilwtico\""
      ]
     },
     "metadata": {},
     "output_type": "display_data"
    },
    {
     "data": {
      "text/html": [
       "<style>\n",
       ".list-inline {list-style: none; margin:0; padding: 0}\n",
       ".list-inline>li {display: inline-block}\n",
       ".list-inline>li:not(:last-child)::after {content: \"\\00b7\"; padding: 0 .5ex}\n",
       "</style>\n",
       "<ol class=list-inline><li>'date'</li><li>'dcoilwtico'</li></ol>\n"
      ],
      "text/latex": [
       "\\begin{enumerate*}\n",
       "\\item 'date'\n",
       "\\item 'dcoilwtico'\n",
       "\\end{enumerate*}\n"
      ],
      "text/markdown": [
       "1. 'date'\n",
       "2. 'dcoilwtico'\n",
       "\n",
       "\n"
      ],
      "text/plain": [
       "[1] \"date\"       \"dcoilwtico\""
      ]
     },
     "metadata": {},
     "output_type": "display_data"
    },
    {
     "data": {
      "text/html": [
       "FALSE"
      ],
      "text/latex": [
       "FALSE"
      ],
      "text/markdown": [
       "FALSE"
      ],
      "text/plain": [
       "[1] FALSE"
      ]
     },
     "metadata": {},
     "output_type": "display_data"
    },
    {
     "data": {
      "text/html": [
       "<style>\n",
       ".list-inline {list-style: none; margin:0; padding: 0}\n",
       ".list-inline>li {display: inline-block}\n",
       ".list-inline>li:not(:last-child)::after {content: \"\\00b7\"; padding: 0 .5ex}\n",
       "</style>\n",
       "<ol class=list-inline><li>FALSE</li><li>FALSE</li><li>FALSE</li><li>TRUE</li><li>TRUE</li><li>FALSE</li></ol>\n"
      ],
      "text/latex": [
       "\\begin{enumerate*}\n",
       "\\item FALSE\n",
       "\\item FALSE\n",
       "\\item FALSE\n",
       "\\item TRUE\n",
       "\\item TRUE\n",
       "\\item FALSE\n",
       "\\end{enumerate*}\n"
      ],
      "text/markdown": [
       "1. FALSE\n",
       "2. FALSE\n",
       "3. FALSE\n",
       "4. TRUE\n",
       "5. TRUE\n",
       "6. FALSE\n",
       "\n",
       "\n"
      ],
      "text/plain": [
       "[1] FALSE FALSE FALSE  TRUE  TRUE FALSE"
      ]
     },
     "metadata": {},
     "output_type": "display_data"
    },
    {
     "data": {
      "text/html": [
       "TRUE"
      ],
      "text/latex": [
       "TRUE"
      ],
      "text/markdown": [
       "TRUE"
      ],
      "text/plain": [
       "[1] TRUE"
      ]
     },
     "metadata": {},
     "output_type": "display_data"
    },
    {
     "data": {
      "text/html": [
       "TRUE"
      ],
      "text/latex": [
       "TRUE"
      ],
      "text/markdown": [
       "TRUE"
      ],
      "text/plain": [
       "[1] TRUE"
      ]
     },
     "metadata": {},
     "output_type": "display_data"
    }
   ],
   "source": [
    "setwd(full_path)\n",
    "\n",
    "## For some NA values Opening OIL csv\n",
    "data = read.csv(\"Data/store-forecasting/oil.csv\")\n",
    "dim(data)\n",
    "\n",
    "brief(data)\n",
    "### head\n",
    "head(data)\n",
    "### Send more data using head .csv\n",
    "head(data, 8)\n",
    "\n",
    "### Checking Column names\n",
    "colnames(data)\n",
    "### Changing Columns names\n",
    "colnames(data)[2] = \"idk\"\n",
    "colnames(data)[1:2]  = c(\"date\", \"dcoilwtico\")\n",
    "colnames(data)\n",
    "### Cleaning Observations\n",
    "X = c(0,NA,2 ,3,4,-0.5)\n",
    "!is.na(NA) \n",
    "X>2 & !is.na(X)\n",
    "is.nan(0/0)\n",
    "is.infinite(1/0)\n",
    "\n",
    "\n",
    "data_1 = data\n",
    "data_1[1000,1] = NA\n",
    "data_1[1000,2] = NA"
   ]
  },
  {
   "cell_type": "markdown",
   "metadata": {},
   "source": [
    "* Summing all the NA obervation after creating em"
   ]
  },
  {
   "cell_type": "code",
   "execution_count": 4,
   "metadata": {
    "vscode": {
     "languageId": "r"
    }
   },
   "outputs": [
    {
     "data": {
      "text/html": [
       "45"
      ],
      "text/latex": [
       "45"
      ],
      "text/markdown": [
       "45"
      ],
      "text/plain": [
       "[1] 45"
      ]
     },
     "metadata": {},
     "output_type": "display_data"
    },
    {
     "data": {
      "text/html": [
       "43"
      ],
      "text/latex": [
       "43"
      ],
      "text/markdown": [
       "43"
      ],
      "text/plain": [
       "[1] 43"
      ]
     },
     "metadata": {},
     "output_type": "display_data"
    },
    {
     "data": {
      "text/html": [
       "0"
      ],
      "text/latex": [
       "0"
      ],
      "text/markdown": [
       "0"
      ],
      "text/plain": [
       "[1] 0"
      ]
     },
     "metadata": {},
     "output_type": "display_data"
    }
   ],
   "source": [
    "sum(is.na(data_1))\n",
    "### Checking vs originnal data\n",
    "sum(is.na(data))\n",
    "### replacing all the an observations with zero\n",
    "sum(is.na((na.omit(data_1))))"
   ]
  },
  {
   "cell_type": "code",
   "execution_count": 5,
   "metadata": {
    "vscode": {
     "languageId": "r"
    }
   },
   "outputs": [
    {
     "data": {
      "text/html": [
       "<table class=\"dataframe\">\n",
       "<caption>A data.frame: 6 × 4</caption>\n",
       "<thead>\n",
       "\t<tr><th></th><th scope=col>population</th><th scope=col>nonwhite</th><th scope=col>density</th><th scope=col>crime</th></tr>\n",
       "\t<tr><th></th><th scope=col>&lt;int&gt;</th><th scope=col>&lt;dbl&gt;</th><th scope=col>&lt;int&gt;</th><th scope=col>&lt;int&gt;</th></tr>\n",
       "</thead>\n",
       "<tbody>\n",
       "\t<tr><th scope=row>Akron</th><td> 675</td><td> 7.3</td><td> 746</td><td>2602</td></tr>\n",
       "\t<tr><th scope=row>Albany</th><td> 713</td><td> 2.6</td><td> 322</td><td>1388</td></tr>\n",
       "\t<tr><th scope=row>Albuquerque</th><td>  NA</td><td> 3.3</td><td>  NA</td><td>5018</td></tr>\n",
       "\t<tr><th scope=row>Allentown</th><td> 534</td><td> 0.8</td><td> 491</td><td>1182</td></tr>\n",
       "\t<tr><th scope=row>Anaheim</th><td>1261</td><td> 1.4</td><td>1612</td><td>3341</td></tr>\n",
       "\t<tr><th scope=row>Atlanta</th><td>1330</td><td>22.8</td><td> 770</td><td>2805</td></tr>\n",
       "</tbody>\n",
       "</table>\n"
      ],
      "text/latex": [
       "A data.frame: 6 × 4\n",
       "\\begin{tabular}{r|llll}\n",
       "  & population & nonwhite & density & crime\\\\\n",
       "  & <int> & <dbl> & <int> & <int>\\\\\n",
       "\\hline\n",
       "\tAkron &  675 &  7.3 &  746 & 2602\\\\\n",
       "\tAlbany &  713 &  2.6 &  322 & 1388\\\\\n",
       "\tAlbuquerque &   NA &  3.3 &   NA & 5018\\\\\n",
       "\tAllentown &  534 &  0.8 &  491 & 1182\\\\\n",
       "\tAnaheim & 1261 &  1.4 & 1612 & 3341\\\\\n",
       "\tAtlanta & 1330 & 22.8 &  770 & 2805\\\\\n",
       "\\end{tabular}\n"
      ],
      "text/markdown": [
       "\n",
       "A data.frame: 6 × 4\n",
       "\n",
       "| <!--/--> | population &lt;int&gt; | nonwhite &lt;dbl&gt; | density &lt;int&gt; | crime &lt;int&gt; |\n",
       "|---|---|---|---|---|\n",
       "| Akron |  675 |  7.3 |  746 | 2602 |\n",
       "| Albany |  713 |  2.6 |  322 | 1388 |\n",
       "| Albuquerque |   NA |  3.3 |   NA | 5018 |\n",
       "| Allentown |  534 |  0.8 |  491 | 1182 |\n",
       "| Anaheim | 1261 |  1.4 | 1612 | 3341 |\n",
       "| Atlanta | 1330 | 22.8 |  770 | 2805 |\n",
       "\n"
      ],
      "text/plain": [
       "            population nonwhite density crime\n",
       "Akron        675        7.3      746    2602 \n",
       "Albany       713        2.6      322    1388 \n",
       "Albuquerque   NA        3.3       NA    5018 \n",
       "Allentown    534        0.8      491    1182 \n",
       "Anaheim     1261        1.4     1612    3341 \n",
       "Atlanta     1330       22.8      770    2805 "
      ]
     },
     "metadata": {},
     "output_type": "display_data"
    }
   ],
   "source": [
    "head(Freedman)"
   ]
  },
  {
   "cell_type": "code",
   "execution_count": 8,
   "metadata": {
    "vscode": {
     "languageId": "r"
    }
   },
   "outputs": [
    {
     "data": {
      "text/html": [
       "<table class=\"dataframe\">\n",
       "<caption>A data.frame: 3 × 2</caption>\n",
       "<thead>\n",
       "\t<tr><th scope=col>a</th><th scope=col>b</th></tr>\n",
       "\t<tr><th scope=col>&lt;dbl&gt;</th><th scope=col>&lt;chr&gt;</th></tr>\n",
       "</thead>\n",
       "<tbody>\n",
       "\t<tr><td>NA</td><td>one  </td></tr>\n",
       "\t<tr><td> 1</td><td>NA   </td></tr>\n",
       "\t<tr><td> 2</td><td>three</td></tr>\n",
       "</tbody>\n",
       "</table>\n"
      ],
      "text/latex": [
       "A data.frame: 3 × 2\n",
       "\\begin{tabular}{ll}\n",
       " a & b\\\\\n",
       " <dbl> & <chr>\\\\\n",
       "\\hline\n",
       "\t NA & one  \\\\\n",
       "\t  1 & NA   \\\\\n",
       "\t  2 & three\\\\\n",
       "\\end{tabular}\n"
      ],
      "text/markdown": [
       "\n",
       "A data.frame: 3 × 2\n",
       "\n",
       "| a &lt;dbl&gt; | b &lt;chr&gt; |\n",
       "|---|---|\n",
       "| NA | one   |\n",
       "|  1 | NA    |\n",
       "|  2 | three |\n",
       "\n"
      ],
      "text/plain": [
       "  a  b    \n",
       "1 NA one  \n",
       "2  1 NA   \n",
       "3  2 three"
      ]
     },
     "metadata": {},
     "output_type": "display_data"
    },
    {
     "data": {
      "text/html": [
       "<table class=\"dataframe\">\n",
       "<caption>A data.frame: 2 × 2</caption>\n",
       "<thead>\n",
       "\t<tr><th></th><th scope=col>a</th><th scope=col>b</th></tr>\n",
       "\t<tr><th></th><th scope=col>&lt;dbl&gt;</th><th scope=col>&lt;chr&gt;</th></tr>\n",
       "</thead>\n",
       "<tbody>\n",
       "\t<tr><th scope=row>2</th><td>1</td><td>NA   </td></tr>\n",
       "\t<tr><th scope=row>3</th><td>2</td><td>three</td></tr>\n",
       "</tbody>\n",
       "</table>\n"
      ],
      "text/latex": [
       "A data.frame: 2 × 2\n",
       "\\begin{tabular}{r|ll}\n",
       "  & a & b\\\\\n",
       "  & <dbl> & <chr>\\\\\n",
       "\\hline\n",
       "\t2 & 1 & NA   \\\\\n",
       "\t3 & 2 & three\\\\\n",
       "\\end{tabular}\n"
      ],
      "text/markdown": [
       "\n",
       "A data.frame: 2 × 2\n",
       "\n",
       "| <!--/--> | a &lt;dbl&gt; | b &lt;chr&gt; |\n",
       "|---|---|---|\n",
       "| 2 | 1 | NA    |\n",
       "| 3 | 2 | three |\n",
       "\n"
      ],
      "text/plain": [
       "  a b    \n",
       "2 1 NA   \n",
       "3 2 three"
      ]
     },
     "metadata": {},
     "output_type": "display_data"
    },
    {
     "data": {
      "text/html": [
       "<table class=\"dataframe\">\n",
       "<caption>A data.frame: 2 × 2</caption>\n",
       "<thead>\n",
       "\t<tr><th></th><th scope=col>a</th><th scope=col>b</th></tr>\n",
       "\t<tr><th></th><th scope=col>&lt;dbl&gt;</th><th scope=col>&lt;chr&gt;</th></tr>\n",
       "</thead>\n",
       "<tbody>\n",
       "\t<tr><th scope=row>1</th><td>NA</td><td>one  </td></tr>\n",
       "\t<tr><th scope=row>3</th><td> 2</td><td>three</td></tr>\n",
       "</tbody>\n",
       "</table>\n"
      ],
      "text/latex": [
       "A data.frame: 2 × 2\n",
       "\\begin{tabular}{r|ll}\n",
       "  & a & b\\\\\n",
       "  & <dbl> & <chr>\\\\\n",
       "\\hline\n",
       "\t1 & NA & one  \\\\\n",
       "\t3 &  2 & three\\\\\n",
       "\\end{tabular}\n"
      ],
      "text/markdown": [
       "\n",
       "A data.frame: 2 × 2\n",
       "\n",
       "| <!--/--> | a &lt;dbl&gt; | b &lt;chr&gt; |\n",
       "|---|---|---|\n",
       "| 1 | NA | one   |\n",
       "| 3 |  2 | three |\n",
       "\n"
      ],
      "text/plain": [
       "  a  b    \n",
       "1 NA one  \n",
       "3  2 three"
      ]
     },
     "metadata": {},
     "output_type": "display_data"
    },
    {
     "data": {
      "text/html": [
       "<table class=\"dataframe\">\n",
       "<caption>A data.frame: 1 × 2</caption>\n",
       "<thead>\n",
       "\t<tr><th></th><th scope=col>a</th><th scope=col>b</th></tr>\n",
       "\t<tr><th></th><th scope=col>&lt;dbl&gt;</th><th scope=col>&lt;chr&gt;</th></tr>\n",
       "</thead>\n",
       "<tbody>\n",
       "\t<tr><th scope=row>3</th><td>2</td><td>three</td></tr>\n",
       "</tbody>\n",
       "</table>\n"
      ],
      "text/latex": [
       "A data.frame: 1 × 2\n",
       "\\begin{tabular}{r|ll}\n",
       "  & a & b\\\\\n",
       "  & <dbl> & <chr>\\\\\n",
       "\\hline\n",
       "\t3 & 2 & three\\\\\n",
       "\\end{tabular}\n"
      ],
      "text/markdown": [
       "\n",
       "A data.frame: 1 × 2\n",
       "\n",
       "| <!--/--> | a &lt;dbl&gt; | b &lt;chr&gt; |\n",
       "|---|---|---|\n",
       "| 3 | 2 | three |\n",
       "\n"
      ],
      "text/plain": [
       "  a b    \n",
       "3 2 three"
      ]
     },
     "metadata": {},
     "output_type": "display_data"
    },
    {
     "data": {
      "text/html": [
       "<table class=\"dataframe\">\n",
       "<caption>A data.frame: 1 × 2</caption>\n",
       "<thead>\n",
       "\t<tr><th></th><th scope=col>a</th><th scope=col>b</th></tr>\n",
       "\t<tr><th></th><th scope=col>&lt;dbl&gt;</th><th scope=col>&lt;chr&gt;</th></tr>\n",
       "</thead>\n",
       "<tbody>\n",
       "\t<tr><th scope=row>3</th><td>2</td><td>three</td></tr>\n",
       "</tbody>\n",
       "</table>\n"
      ],
      "text/latex": [
       "A data.frame: 1 × 2\n",
       "\\begin{tabular}{r|ll}\n",
       "  & a & b\\\\\n",
       "  & <dbl> & <chr>\\\\\n",
       "\\hline\n",
       "\t3 & 2 & three\\\\\n",
       "\\end{tabular}\n"
      ],
      "text/markdown": [
       "\n",
       "A data.frame: 1 × 2\n",
       "\n",
       "| <!--/--> | a &lt;dbl&gt; | b &lt;chr&gt; |\n",
       "|---|---|---|\n",
       "| 3 | 2 | three |\n",
       "\n"
      ],
      "text/plain": [
       "  a b    \n",
       "3 2 three"
      ]
     },
     "metadata": {},
     "output_type": "display_data"
    }
   ],
   "source": [
    "DF = data.frame(a = c(NA, 1, 2), b = c(\"one\", NA, \"three\"))\n",
    "DF\n",
    "subset(DF, !is.na(a))\n",
    "subset(DF, !is.na(b))\n",
    "subset(DF,complete.cases(DF))\n",
    "na.omit(DF)"
   ]
  },
  {
   "cell_type": "code",
   "execution_count": 10,
   "metadata": {
    "vscode": {
     "languageId": "r"
    }
   },
   "outputs": [
    {
     "data": {
      "text/html": [
       "<table class=\"dataframe\">\n",
       "<caption>A data.frame: 6 × 4</caption>\n",
       "<thead>\n",
       "\t<tr><th></th><th scope=col>population</th><th scope=col>nonwhite</th><th scope=col>density</th><th scope=col>crime</th></tr>\n",
       "\t<tr><th></th><th scope=col>&lt;int&gt;</th><th scope=col>&lt;dbl&gt;</th><th scope=col>&lt;int&gt;</th><th scope=col>&lt;int&gt;</th></tr>\n",
       "</thead>\n",
       "<tbody>\n",
       "\t<tr><th scope=row>Akron</th><td> 675</td><td> 7.3</td><td> 746</td><td>2602</td></tr>\n",
       "\t<tr><th scope=row>Albany</th><td> 713</td><td> 2.6</td><td> 322</td><td>1388</td></tr>\n",
       "\t<tr><th scope=row>Albuquerque</th><td>  NA</td><td> 3.3</td><td>  NA</td><td>5018</td></tr>\n",
       "\t<tr><th scope=row>Allentown</th><td> 534</td><td> 0.8</td><td> 491</td><td>1182</td></tr>\n",
       "\t<tr><th scope=row>Anaheim</th><td>1261</td><td> 1.4</td><td>1612</td><td>3341</td></tr>\n",
       "\t<tr><th scope=row>Atlanta</th><td>1330</td><td>22.8</td><td> 770</td><td>2805</td></tr>\n",
       "</tbody>\n",
       "</table>\n"
      ],
      "text/latex": [
       "A data.frame: 6 × 4\n",
       "\\begin{tabular}{r|llll}\n",
       "  & population & nonwhite & density & crime\\\\\n",
       "  & <int> & <dbl> & <int> & <int>\\\\\n",
       "\\hline\n",
       "\tAkron &  675 &  7.3 &  746 & 2602\\\\\n",
       "\tAlbany &  713 &  2.6 &  322 & 1388\\\\\n",
       "\tAlbuquerque &   NA &  3.3 &   NA & 5018\\\\\n",
       "\tAllentown &  534 &  0.8 &  491 & 1182\\\\\n",
       "\tAnaheim & 1261 &  1.4 & 1612 & 3341\\\\\n",
       "\tAtlanta & 1330 & 22.8 &  770 & 2805\\\\\n",
       "\\end{tabular}\n"
      ],
      "text/markdown": [
       "\n",
       "A data.frame: 6 × 4\n",
       "\n",
       "| <!--/--> | population &lt;int&gt; | nonwhite &lt;dbl&gt; | density &lt;int&gt; | crime &lt;int&gt; |\n",
       "|---|---|---|---|---|\n",
       "| Akron |  675 |  7.3 |  746 | 2602 |\n",
       "| Albany |  713 |  2.6 |  322 | 1388 |\n",
       "| Albuquerque |   NA |  3.3 |   NA | 5018 |\n",
       "| Allentown |  534 |  0.8 |  491 | 1182 |\n",
       "| Anaheim | 1261 |  1.4 | 1612 | 3341 |\n",
       "| Atlanta | 1330 | 22.8 |  770 | 2805 |\n",
       "\n"
      ],
      "text/plain": [
       "            population nonwhite density crime\n",
       "Akron        675        7.3      746    2602 \n",
       "Albany       713        2.6      322    1388 \n",
       "Albuquerque   NA        3.3       NA    5018 \n",
       "Allentown    534        0.8      491    1182 \n",
       "Anaheim     1261        1.4     1612    3341 \n",
       "Atlanta     1330       22.8      770    2805 "
      ]
     },
     "metadata": {},
     "output_type": "display_data"
    },
    {
     "name": "stdout",
     "output_type": "stream",
     "text": [
      "'data.frame':\t110 obs. of  4 variables:\n",
      " $ population: int  675 713 NA 534 1261 1330 331 1981 315 305 ...\n",
      " $ nonwhite  : num  7.3 2.6 3.3 0.8 1.4 22.8 7 21.6 20.7 0.6 ...\n",
      " $ density   : int  746 322 NA 491 1612 770 41 877 240 147 ...\n",
      " $ crime     : int  2602 1388 5018 1182 3341 2805 3306 4256 2117 1063 ...\n"
     ]
    },
    {
     "data": {
      "text/plain": [
       "   population         nonwhite        density            crime     \n",
       " Min.   :  270.0   Min.   : 0.30   Min.   :   37.0   Min.   : 458  \n",
       " 1st Qu.:  398.8   1st Qu.: 3.40   1st Qu.:  266.5   1st Qu.:2067  \n",
       " Median :  664.0   Median : 7.20   Median :  412.0   Median :2698  \n",
       " Mean   : 1136.0   Mean   :10.80   Mean   :  765.7   Mean   :2714  \n",
       " 3rd Qu.: 1167.8   3rd Qu.:14.88   3rd Qu.:  773.2   3rd Qu.:3305  \n",
       " Max.   :11551.0   Max.   :64.30   Max.   :13087.0   Max.   :5441  \n",
       " NA's   :10                        NA's   :10                      "
      ]
     },
     "metadata": {},
     "output_type": "display_data"
    }
   ],
   "source": [
    "head(Freedman)\n",
    "str(Freedman)\n",
    "summary(Freedman)"
   ]
  },
  {
   "cell_type": "markdown",
   "metadata": {},
   "source": [
    "* Below is the example of median function throwing NA becoz of NA values being present"
   ]
  },
  {
   "cell_type": "code",
   "execution_count": 12,
   "metadata": {
    "vscode": {
     "languageId": "r"
    }
   },
   "outputs": [
    {
     "data": {
      "text/html": [
       "&lt;NA&gt;"
      ],
      "text/latex": [
       "<NA>"
      ],
      "text/markdown": [
       "&lt;NA&gt;"
      ],
      "text/plain": [
       "[1] NA"
      ]
     },
     "metadata": {},
     "output_type": "display_data"
    }
   ],
   "source": [
    "median(Freedman$density)"
   ]
  },
  {
   "cell_type": "markdown",
   "metadata": {},
   "source": [
    "* Treating the NA error by removing the na values"
   ]
  },
  {
   "cell_type": "code",
   "execution_count": 14,
   "metadata": {
    "vscode": {
     "languageId": "r"
    }
   },
   "outputs": [
    {
     "data": {
      "text/html": [
       "412"
      ],
      "text/latex": [
       "412"
      ],
      "text/markdown": [
       "412"
      ],
      "text/plain": [
       "[1] 412"
      ]
     },
     "metadata": {},
     "output_type": "display_data"
    }
   ],
   "source": [
    "median(Freedman$density, na.rm = T)"
   ]
  },
  {
   "cell_type": "markdown",
   "metadata": {},
   "source": [
    "* Doing same with mean"
   ]
  },
  {
   "cell_type": "code",
   "execution_count": 15,
   "metadata": {
    "vscode": {
     "languageId": "r"
    }
   },
   "outputs": [
    {
     "data": {
      "text/html": [
       "&lt;NA&gt;"
      ],
      "text/latex": [
       "<NA>"
      ],
      "text/markdown": [
       "&lt;NA&gt;"
      ],
      "text/plain": [
       "[1] NA"
      ]
     },
     "metadata": {},
     "output_type": "display_data"
    },
    {
     "data": {
      "text/html": [
       "765.67"
      ],
      "text/latex": [
       "765.67"
      ],
      "text/markdown": [
       "765.67"
      ],
      "text/plain": [
       "[1] 765.67"
      ]
     },
     "metadata": {},
     "output_type": "display_data"
    }
   ],
   "source": [
    "mean(Freedman$density)\n",
    "mean(Freedman$density,na.rm = T)"
   ]
  },
  {
   "cell_type": "code",
   "execution_count": 16,
   "metadata": {
    "vscode": {
     "languageId": "r"
    }
   },
   "outputs": [
    {
     "data": {
      "text/plain": [
       "   population         nonwhite        density            crime     \n",
       " Min.   :  270.0   Min.   : 0.30   Min.   :   37.0   Min.   : 458  \n",
       " 1st Qu.:  398.8   1st Qu.: 3.40   1st Qu.:  266.5   1st Qu.:2100  \n",
       " Median :  664.0   Median : 7.30   Median :  412.0   Median :2762  \n",
       " Mean   : 1136.0   Mean   :10.66   Mean   :  765.7   Mean   :2733  \n",
       " 3rd Qu.: 1167.8   3rd Qu.:14.82   3rd Qu.:  773.2   3rd Qu.:3318  \n",
       " Max.   :11551.0   Max.   :64.30   Max.   :13087.0   Max.   :5441  "
      ]
     },
     "metadata": {},
     "output_type": "display_data"
    }
   ],
   "source": [
    "### Rows of Data are removed which means a obervation has NA in column the entire observartion is removed using na.omit\n",
    "Freedman.good = na.omit(Freedman)   \n",
    "summary(Freedman.good)"
   ]
  },
  {
   "cell_type": "code",
   "execution_count": 19,
   "metadata": {
    "vscode": {
     "languageId": "r"
    }
   },
   "outputs": [
    {
     "data": {
      "text/html": [
       "<table class=\"dataframe\">\n",
       "<caption>A data.frame: 10 × 4</caption>\n",
       "<thead>\n",
       "\t<tr><th></th><th scope=col>population</th><th scope=col>nonwhite</th><th scope=col>density</th><th scope=col>crime</th></tr>\n",
       "\t<tr><th></th><th scope=col>&lt;int&gt;</th><th scope=col>&lt;dbl&gt;</th><th scope=col>&lt;int&gt;</th><th scope=col>&lt;int&gt;</th></tr>\n",
       "</thead>\n",
       "<tbody>\n",
       "\t<tr><th scope=row>Albuquerque</th><td>NA</td><td> 3.3</td><td>NA</td><td>5018</td></tr>\n",
       "\t<tr><th scope=row>Charleston.SC</th><td>NA</td><td>38.5</td><td>NA</td><td>2482</td></tr>\n",
       "\t<tr><th scope=row>Charleston.W.VA</th><td>NA</td><td> 5.8</td><td>NA</td><td>1434</td></tr>\n",
       "\t<tr><th scope=row>Columbia</th><td>NA</td><td>29.0</td><td>NA</td><td>2884</td></tr>\n",
       "\t<tr><th scope=row>Des.Moines</th><td>NA</td><td> 4.1</td><td>NA</td><td>2415</td></tr>\n",
       "\t<tr><th scope=row>Erie</th><td>NA</td><td> 2.8</td><td>NA</td><td>1181</td></tr>\n",
       "\t<tr><th scope=row>Greenville</th><td>NA</td><td>16.3</td><td>NA</td><td>2602</td></tr>\n",
       "\t<tr><th scope=row>Huntington</th><td>NA</td><td> 3.0</td><td>NA</td><td>1413</td></tr>\n",
       "\t<tr><th scope=row>trenton</th><td>NA</td><td>12.9</td><td>NA</td><td>3098</td></tr>\n",
       "\t<tr><th scope=row>Tucson</th><td>NA</td><td> 6.3</td><td>NA</td><td>2705</td></tr>\n",
       "</tbody>\n",
       "</table>\n"
      ],
      "text/latex": [
       "A data.frame: 10 × 4\n",
       "\\begin{tabular}{r|llll}\n",
       "  & population & nonwhite & density & crime\\\\\n",
       "  & <int> & <dbl> & <int> & <int>\\\\\n",
       "\\hline\n",
       "\tAlbuquerque & NA &  3.3 & NA & 5018\\\\\n",
       "\tCharleston.SC & NA & 38.5 & NA & 2482\\\\\n",
       "\tCharleston.W.VA & NA &  5.8 & NA & 1434\\\\\n",
       "\tColumbia & NA & 29.0 & NA & 2884\\\\\n",
       "\tDes.Moines & NA &  4.1 & NA & 2415\\\\\n",
       "\tErie & NA &  2.8 & NA & 1181\\\\\n",
       "\tGreenville & NA & 16.3 & NA & 2602\\\\\n",
       "\tHuntington & NA &  3.0 & NA & 1413\\\\\n",
       "\ttrenton & NA & 12.9 & NA & 3098\\\\\n",
       "\tTucson & NA &  6.3 & NA & 2705\\\\\n",
       "\\end{tabular}\n"
      ],
      "text/markdown": [
       "\n",
       "A data.frame: 10 × 4\n",
       "\n",
       "| <!--/--> | population &lt;int&gt; | nonwhite &lt;dbl&gt; | density &lt;int&gt; | crime &lt;int&gt; |\n",
       "|---|---|---|---|---|\n",
       "| Albuquerque | NA |  3.3 | NA | 5018 |\n",
       "| Charleston.SC | NA | 38.5 | NA | 2482 |\n",
       "| Charleston.W.VA | NA |  5.8 | NA | 1434 |\n",
       "| Columbia | NA | 29.0 | NA | 2884 |\n",
       "| Des.Moines | NA |  4.1 | NA | 2415 |\n",
       "| Erie | NA |  2.8 | NA | 1181 |\n",
       "| Greenville | NA | 16.3 | NA | 2602 |\n",
       "| Huntington | NA |  3.0 | NA | 1413 |\n",
       "| trenton | NA | 12.9 | NA | 3098 |\n",
       "| Tucson | NA |  6.3 | NA | 2705 |\n",
       "\n"
      ],
      "text/plain": [
       "                population nonwhite density crime\n",
       "Albuquerque     NA          3.3     NA      5018 \n",
       "Charleston.SC   NA         38.5     NA      2482 \n",
       "Charleston.W.VA NA          5.8     NA      1434 \n",
       "Columbia        NA         29.0     NA      2884 \n",
       "Des.Moines      NA          4.1     NA      2415 \n",
       "Erie            NA          2.8     NA      1181 \n",
       "Greenville      NA         16.3     NA      2602 \n",
       "Huntington      NA          3.0     NA      1413 \n",
       "trenton         NA         12.9     NA      3098 \n",
       "Tucson          NA          6.3     NA      2705 "
      ]
     },
     "metadata": {},
     "output_type": "display_data"
    }
   ],
   "source": [
    "Freedman_notav = Freedman[!complete.cases(Freedman),]\n",
    "Freedman_notav"
   ]
  },
  {
   "cell_type": "markdown",
   "metadata": {},
   "source": [
    "### \"Using R\" Library"
   ]
  },
  {
   "cell_type": "code",
   "execution_count": 21,
   "metadata": {
    "vscode": {
     "languageId": "r"
    }
   },
   "outputs": [
    {
     "name": "stderr",
     "output_type": "stream",
     "text": [
      "Loading required package: MASS\n",
      "\n",
      "Loading required package: HistData\n",
      "\n",
      "Loading required package: Hmisc\n",
      "\n",
      "\n",
      "Attaching package: 'Hmisc'\n",
      "\n",
      "\n",
      "The following objects are masked from 'package:base':\n",
      "\n",
      "    format.pval, units\n",
      "\n",
      "\n"
     ]
    },
    {
     "data": {
      "text/plain": [
       "   Min. 1st Qu.  Median    Mean 3rd Qu.    Max. \n",
       "  110.0   165.0   190.0   505.4   999.0   999.0 "
      ]
     },
     "metadata": {},
     "output_type": "display_data"
    },
    {
     "data": {
      "text/html": [
       "<style>\n",
       ".list-inline {list-style: none; margin:0; padding: 0}\n",
       ".list-inline>li {display: inline-block}\n",
       ".list-inline>li:not(:last-child)::after {content: \"\\00b7\"; padding: 0 .5ex}\n",
       "</style>\n",
       "<ol class=list-inline><li>&lt;NA&gt;</li><li>&lt;NA&gt;</li></ol>\n"
      ],
      "text/latex": [
       "\\begin{enumerate*}\n",
       "\\item <NA>\n",
       "\\item <NA>\n",
       "\\end{enumerate*}\n"
      ],
      "text/markdown": [
       "1. &lt;NA&gt;\n",
       "2. &lt;NA&gt;\n",
       "\n",
       "\n"
      ],
      "text/plain": [
       "[1] NA NA"
      ]
     },
     "metadata": {},
     "output_type": "display_data"
    },
    {
     "data": {
      "text/plain": [
       "   Min. 1st Qu.  Median    Mean 3rd Qu.    Max.    NA's \n",
       "  110.0   155.0   170.0   171.2   185.0   260.0     499 "
      ]
     },
     "metadata": {},
     "output_type": "display_data"
    },
    {
     "data": {
      "text/html": [
       "<style>\n",
       ".list-inline {list-style: none; margin:0; padding: 0}\n",
       ".list-inline>li {display: inline-block}\n",
       ".list-inline>li:not(:last-child)::after {content: \"\\00b7\"; padding: 0 .5ex}\n",
       "</style>\n",
       "<ol class=list-inline><li>110</li><li>260</li></ol>\n"
      ],
      "text/latex": [
       "\\begin{enumerate*}\n",
       "\\item 110\n",
       "\\item 260\n",
       "\\end{enumerate*}\n"
      ],
      "text/markdown": [
       "1. 110\n",
       "2. 260\n",
       "\n",
       "\n"
      ],
      "text/plain": [
       "[1] 110 260"
      ]
     },
     "metadata": {},
     "output_type": "display_data"
    }
   ],
   "source": [
    "library(UsingR)\n",
    "x = babies$dwt\n",
    "summary(x)\n",
    "x[x==999]= NA\n",
    "range(x)\n",
    "summary(x)\n",
    "range(x, na.rm = T)"
   ]
  },
  {
   "cell_type": "markdown",
   "metadata": {},
   "source": [
    "### Remvoal of non unique values"
   ]
  },
  {
   "cell_type": "code",
   "execution_count": 26,
   "metadata": {
    "vscode": {
     "languageId": "r"
    }
   },
   "outputs": [
    {
     "data": {
      "text/html": [
       "<table class=\"dataframe\">\n",
       "<caption>A data.frame: 6 × 2</caption>\n",
       "<thead>\n",
       "\t<tr><th></th><th scope=col>date</th><th scope=col>dcoilwtico</th></tr>\n",
       "\t<tr><th></th><th scope=col>&lt;chr&gt;</th><th scope=col>&lt;dbl&gt;</th></tr>\n",
       "</thead>\n",
       "<tbody>\n",
       "\t<tr><th scope=row>1</th><td>2013-01-01</td><td>   NA</td></tr>\n",
       "\t<tr><th scope=row>2</th><td>2013-01-02</td><td>93.14</td></tr>\n",
       "\t<tr><th scope=row>3</th><td>2013-01-03</td><td>92.97</td></tr>\n",
       "\t<tr><th scope=row>4</th><td>2013-01-04</td><td>93.12</td></tr>\n",
       "\t<tr><th scope=row>5</th><td>2013-01-07</td><td>93.20</td></tr>\n",
       "\t<tr><th scope=row>6</th><td>2013-01-08</td><td>93.21</td></tr>\n",
       "</tbody>\n",
       "</table>\n"
      ],
      "text/latex": [
       "A data.frame: 6 × 2\n",
       "\\begin{tabular}{r|ll}\n",
       "  & date & dcoilwtico\\\\\n",
       "  & <chr> & <dbl>\\\\\n",
       "\\hline\n",
       "\t1 & 2013-01-01 &    NA\\\\\n",
       "\t2 & 2013-01-02 & 93.14\\\\\n",
       "\t3 & 2013-01-03 & 92.97\\\\\n",
       "\t4 & 2013-01-04 & 93.12\\\\\n",
       "\t5 & 2013-01-07 & 93.20\\\\\n",
       "\t6 & 2013-01-08 & 93.21\\\\\n",
       "\\end{tabular}\n"
      ],
      "text/markdown": [
       "\n",
       "A data.frame: 6 × 2\n",
       "\n",
       "| <!--/--> | date &lt;chr&gt; | dcoilwtico &lt;dbl&gt; |\n",
       "|---|---|---|\n",
       "| 1 | 2013-01-01 |    NA |\n",
       "| 2 | 2013-01-02 | 93.14 |\n",
       "| 3 | 2013-01-03 | 92.97 |\n",
       "| 4 | 2013-01-04 | 93.12 |\n",
       "| 5 | 2013-01-07 | 93.20 |\n",
       "| 6 | 2013-01-08 | 93.21 |\n",
       "\n"
      ],
      "text/plain": [
       "  date       dcoilwtico\n",
       "1 2013-01-01    NA     \n",
       "2 2013-01-02 93.14     \n",
       "3 2013-01-03 92.97     \n",
       "4 2013-01-04 93.12     \n",
       "5 2013-01-07 93.20     \n",
       "6 2013-01-08 93.21     "
      ]
     },
     "metadata": {},
     "output_type": "display_data"
    },
    {
     "data": {
      "text/html": [
       "<style>\n",
       ".list-inline {list-style: none; margin:0; padding: 0}\n",
       ".list-inline>li {display: inline-block}\n",
       ".list-inline>li:not(:last-child)::after {content: \"\\00b7\"; padding: 0 .5ex}\n",
       "</style>\n",
       "<ol class=list-inline><li>1218</li><li>2</li></ol>\n"
      ],
      "text/latex": [
       "\\begin{enumerate*}\n",
       "\\item 1218\n",
       "\\item 2\n",
       "\\end{enumerate*}\n"
      ],
      "text/markdown": [
       "1. 1218\n",
       "2. 2\n",
       "\n",
       "\n"
      ],
      "text/plain": [
       "[1] 1218    2"
      ]
     },
     "metadata": {},
     "output_type": "display_data"
    },
    {
     "data": {
      "text/html": [
       "<style>\n",
       ".list-inline {list-style: none; margin:0; padding: 0}\n",
       ".list-inline>li {display: inline-block}\n",
       ".list-inline>li:not(:last-child)::after {content: \"\\00b7\"; padding: 0 .5ex}\n",
       "</style>\n",
       "<ol class=list-inline><li>1718</li><li>2</li></ol>\n"
      ],
      "text/latex": [
       "\\begin{enumerate*}\n",
       "\\item 1718\n",
       "\\item 2\n",
       "\\end{enumerate*}\n"
      ],
      "text/markdown": [
       "1. 1718\n",
       "2. 2\n",
       "\n",
       "\n"
      ],
      "text/plain": [
       "[1] 1718    2"
      ]
     },
     "metadata": {},
     "output_type": "display_data"
    }
   ],
   "source": [
    "## Reusing the data created above (it hall all unique columns)\n",
    "head(data)\n",
    "data_2 =data\n",
    "dim(data_2)\n",
    "data_3  = rbind.data.frame(data_2, data[1:500, ])\n",
    "dim(data_3)"
   ]
  },
  {
   "cell_type": "code",
   "execution_count": 31,
   "metadata": {
    "vscode": {
     "languageId": "r"
    }
   },
   "outputs": [
    {
     "data": {
      "text/html": [
       "<style>\n",
       ".list-inline {list-style: none; margin:0; padding: 0}\n",
       ".list-inline>li {display: inline-block}\n",
       ".list-inline>li:not(:last-child)::after {content: \"\\00b7\"; padding: 0 .5ex}\n",
       "</style>\n",
       "<ol class=list-inline><li>1218</li><li>2</li></ol>\n"
      ],
      "text/latex": [
       "\\begin{enumerate*}\n",
       "\\item 1218\n",
       "\\item 2\n",
       "\\end{enumerate*}\n"
      ],
      "text/markdown": [
       "1. 1218\n",
       "2. 2\n",
       "\n",
       "\n"
      ],
      "text/plain": [
       "[1] 1218    2"
      ]
     },
     "metadata": {},
     "output_type": "display_data"
    }
   ],
   "source": [
    "data_4 = unique(data_3)\n",
    "dim(data_4) ## only unique values got copied"
   ]
  },
  {
   "cell_type": "markdown",
   "metadata": {},
   "source": [
    "## Handling DataFrames\n",
    "\n",
    "### Selection of Coumns and rows"
   ]
  },
  {
   "cell_type": "code",
   "execution_count": 32,
   "metadata": {
    "vscode": {
     "languageId": "r"
    }
   },
   "outputs": [
    {
     "data": {
      "text/html": [
       "<table class=\"dataframe\">\n",
       "<caption>A data.frame: 6 × 5</caption>\n",
       "<thead>\n",
       "\t<tr><th></th><th scope=col>Sepal.Length</th><th scope=col>Sepal.Width</th><th scope=col>Petal.Length</th><th scope=col>Petal.Width</th><th scope=col>Species</th></tr>\n",
       "\t<tr><th></th><th scope=col>&lt;dbl&gt;</th><th scope=col>&lt;dbl&gt;</th><th scope=col>&lt;dbl&gt;</th><th scope=col>&lt;dbl&gt;</th><th scope=col>&lt;fct&gt;</th></tr>\n",
       "</thead>\n",
       "<tbody>\n",
       "\t<tr><th scope=row>1</th><td>5.1</td><td>3.5</td><td>1.4</td><td>0.2</td><td>setosa</td></tr>\n",
       "\t<tr><th scope=row>2</th><td>4.9</td><td>3.0</td><td>1.4</td><td>0.2</td><td>setosa</td></tr>\n",
       "\t<tr><th scope=row>3</th><td>4.7</td><td>3.2</td><td>1.3</td><td>0.2</td><td>setosa</td></tr>\n",
       "\t<tr><th scope=row>4</th><td>4.6</td><td>3.1</td><td>1.5</td><td>0.2</td><td>setosa</td></tr>\n",
       "\t<tr><th scope=row>5</th><td>5.0</td><td>3.6</td><td>1.4</td><td>0.2</td><td>setosa</td></tr>\n",
       "\t<tr><th scope=row>6</th><td>5.4</td><td>3.9</td><td>1.7</td><td>0.4</td><td>setosa</td></tr>\n",
       "</tbody>\n",
       "</table>\n"
      ],
      "text/latex": [
       "A data.frame: 6 × 5\n",
       "\\begin{tabular}{r|lllll}\n",
       "  & Sepal.Length & Sepal.Width & Petal.Length & Petal.Width & Species\\\\\n",
       "  & <dbl> & <dbl> & <dbl> & <dbl> & <fct>\\\\\n",
       "\\hline\n",
       "\t1 & 5.1 & 3.5 & 1.4 & 0.2 & setosa\\\\\n",
       "\t2 & 4.9 & 3.0 & 1.4 & 0.2 & setosa\\\\\n",
       "\t3 & 4.7 & 3.2 & 1.3 & 0.2 & setosa\\\\\n",
       "\t4 & 4.6 & 3.1 & 1.5 & 0.2 & setosa\\\\\n",
       "\t5 & 5.0 & 3.6 & 1.4 & 0.2 & setosa\\\\\n",
       "\t6 & 5.4 & 3.9 & 1.7 & 0.4 & setosa\\\\\n",
       "\\end{tabular}\n"
      ],
      "text/markdown": [
       "\n",
       "A data.frame: 6 × 5\n",
       "\n",
       "| <!--/--> | Sepal.Length &lt;dbl&gt; | Sepal.Width &lt;dbl&gt; | Petal.Length &lt;dbl&gt; | Petal.Width &lt;dbl&gt; | Species &lt;fct&gt; |\n",
       "|---|---|---|---|---|---|\n",
       "| 1 | 5.1 | 3.5 | 1.4 | 0.2 | setosa |\n",
       "| 2 | 4.9 | 3.0 | 1.4 | 0.2 | setosa |\n",
       "| 3 | 4.7 | 3.2 | 1.3 | 0.2 | setosa |\n",
       "| 4 | 4.6 | 3.1 | 1.5 | 0.2 | setosa |\n",
       "| 5 | 5.0 | 3.6 | 1.4 | 0.2 | setosa |\n",
       "| 6 | 5.4 | 3.9 | 1.7 | 0.4 | setosa |\n",
       "\n"
      ],
      "text/plain": [
       "  Sepal.Length Sepal.Width Petal.Length Petal.Width Species\n",
       "1 5.1          3.5         1.4          0.2         setosa \n",
       "2 4.9          3.0         1.4          0.2         setosa \n",
       "3 4.7          3.2         1.3          0.2         setosa \n",
       "4 4.6          3.1         1.5          0.2         setosa \n",
       "5 5.0          3.6         1.4          0.2         setosa \n",
       "6 5.4          3.9         1.7          0.4         setosa "
      ]
     },
     "metadata": {},
     "output_type": "display_data"
    },
    {
     "data": {
      "text/html": [
       "<style>\n",
       ".list-inline {list-style: none; margin:0; padding: 0}\n",
       ".list-inline>li {display: inline-block}\n",
       ".list-inline>li:not(:last-child)::after {content: \"\\00b7\"; padding: 0 .5ex}\n",
       "</style>\n",
       "<ol class=list-inline><li>1.4</li><li>1.4</li><li>1.3</li><li>1.5</li><li>1.4</li><li>1.7</li><li>1.4</li><li>1.5</li><li>1.4</li><li>1.5</li><li>1.5</li><li>1.6</li><li>1.4</li><li>1.1</li><li>1.2</li><li>1.5</li><li>1.3</li><li>1.4</li><li>1.7</li><li>1.5</li><li>1.7</li><li>1.5</li><li>1</li><li>1.7</li><li>1.9</li><li>1.6</li><li>1.6</li><li>1.5</li><li>1.4</li><li>1.6</li><li>1.6</li><li>1.5</li><li>1.5</li><li>1.4</li><li>1.5</li><li>1.2</li><li>1.3</li><li>1.4</li><li>1.3</li><li>1.5</li><li>1.3</li><li>1.3</li><li>1.3</li><li>1.6</li><li>1.9</li><li>1.4</li><li>1.6</li><li>1.4</li><li>1.5</li><li>1.4</li><li>4.7</li><li>4.5</li><li>4.9</li><li>4</li><li>4.6</li><li>4.5</li><li>4.7</li><li>3.3</li><li>4.6</li><li>3.9</li><li>3.5</li><li>4.2</li><li>4</li><li>4.7</li><li>3.6</li><li>4.4</li><li>4.5</li><li>4.1</li><li>4.5</li><li>3.9</li><li>4.8</li><li>4</li><li>4.9</li><li>4.7</li><li>4.3</li><li>4.4</li><li>4.8</li><li>5</li><li>4.5</li><li>3.5</li><li>3.8</li><li>3.7</li><li>3.9</li><li>5.1</li><li>4.5</li><li>4.5</li><li>4.7</li><li>4.4</li><li>4.1</li><li>4</li><li>4.4</li><li>4.6</li><li>4</li><li>3.3</li><li>4.2</li><li>4.2</li><li>4.2</li><li>4.3</li><li>3</li><li>4.1</li><li>6</li><li>5.1</li><li>5.9</li><li>5.6</li><li>5.8</li><li>6.6</li><li>4.5</li><li>6.3</li><li>5.8</li><li>6.1</li><li>5.1</li><li>5.3</li><li>5.5</li><li>5</li><li>5.1</li><li>5.3</li><li>5.5</li><li>6.7</li><li>6.9</li><li>5</li><li>5.7</li><li>4.9</li><li>6.7</li><li>4.9</li><li>5.7</li><li>6</li><li>4.8</li><li>4.9</li><li>5.6</li><li>5.8</li><li>6.1</li><li>6.4</li><li>5.6</li><li>5.1</li><li>5.6</li><li>6.1</li><li>5.6</li><li>5.5</li><li>4.8</li><li>5.4</li><li>5.6</li><li>5.1</li><li>5.1</li><li>5.9</li><li>5.7</li><li>5.2</li><li>5</li><li>5.2</li><li>5.4</li><li>5.1</li></ol>\n"
      ],
      "text/latex": [
       "\\begin{enumerate*}\n",
       "\\item 1.4\n",
       "\\item 1.4\n",
       "\\item 1.3\n",
       "\\item 1.5\n",
       "\\item 1.4\n",
       "\\item 1.7\n",
       "\\item 1.4\n",
       "\\item 1.5\n",
       "\\item 1.4\n",
       "\\item 1.5\n",
       "\\item 1.5\n",
       "\\item 1.6\n",
       "\\item 1.4\n",
       "\\item 1.1\n",
       "\\item 1.2\n",
       "\\item 1.5\n",
       "\\item 1.3\n",
       "\\item 1.4\n",
       "\\item 1.7\n",
       "\\item 1.5\n",
       "\\item 1.7\n",
       "\\item 1.5\n",
       "\\item 1\n",
       "\\item 1.7\n",
       "\\item 1.9\n",
       "\\item 1.6\n",
       "\\item 1.6\n",
       "\\item 1.5\n",
       "\\item 1.4\n",
       "\\item 1.6\n",
       "\\item 1.6\n",
       "\\item 1.5\n",
       "\\item 1.5\n",
       "\\item 1.4\n",
       "\\item 1.5\n",
       "\\item 1.2\n",
       "\\item 1.3\n",
       "\\item 1.4\n",
       "\\item 1.3\n",
       "\\item 1.5\n",
       "\\item 1.3\n",
       "\\item 1.3\n",
       "\\item 1.3\n",
       "\\item 1.6\n",
       "\\item 1.9\n",
       "\\item 1.4\n",
       "\\item 1.6\n",
       "\\item 1.4\n",
       "\\item 1.5\n",
       "\\item 1.4\n",
       "\\item 4.7\n",
       "\\item 4.5\n",
       "\\item 4.9\n",
       "\\item 4\n",
       "\\item 4.6\n",
       "\\item 4.5\n",
       "\\item 4.7\n",
       "\\item 3.3\n",
       "\\item 4.6\n",
       "\\item 3.9\n",
       "\\item 3.5\n",
       "\\item 4.2\n",
       "\\item 4\n",
       "\\item 4.7\n",
       "\\item 3.6\n",
       "\\item 4.4\n",
       "\\item 4.5\n",
       "\\item 4.1\n",
       "\\item 4.5\n",
       "\\item 3.9\n",
       "\\item 4.8\n",
       "\\item 4\n",
       "\\item 4.9\n",
       "\\item 4.7\n",
       "\\item 4.3\n",
       "\\item 4.4\n",
       "\\item 4.8\n",
       "\\item 5\n",
       "\\item 4.5\n",
       "\\item 3.5\n",
       "\\item 3.8\n",
       "\\item 3.7\n",
       "\\item 3.9\n",
       "\\item 5.1\n",
       "\\item 4.5\n",
       "\\item 4.5\n",
       "\\item 4.7\n",
       "\\item 4.4\n",
       "\\item 4.1\n",
       "\\item 4\n",
       "\\item 4.4\n",
       "\\item 4.6\n",
       "\\item 4\n",
       "\\item 3.3\n",
       "\\item 4.2\n",
       "\\item 4.2\n",
       "\\item 4.2\n",
       "\\item 4.3\n",
       "\\item 3\n",
       "\\item 4.1\n",
       "\\item 6\n",
       "\\item 5.1\n",
       "\\item 5.9\n",
       "\\item 5.6\n",
       "\\item 5.8\n",
       "\\item 6.6\n",
       "\\item 4.5\n",
       "\\item 6.3\n",
       "\\item 5.8\n",
       "\\item 6.1\n",
       "\\item 5.1\n",
       "\\item 5.3\n",
       "\\item 5.5\n",
       "\\item 5\n",
       "\\item 5.1\n",
       "\\item 5.3\n",
       "\\item 5.5\n",
       "\\item 6.7\n",
       "\\item 6.9\n",
       "\\item 5\n",
       "\\item 5.7\n",
       "\\item 4.9\n",
       "\\item 6.7\n",
       "\\item 4.9\n",
       "\\item 5.7\n",
       "\\item 6\n",
       "\\item 4.8\n",
       "\\item 4.9\n",
       "\\item 5.6\n",
       "\\item 5.8\n",
       "\\item 6.1\n",
       "\\item 6.4\n",
       "\\item 5.6\n",
       "\\item 5.1\n",
       "\\item 5.6\n",
       "\\item 6.1\n",
       "\\item 5.6\n",
       "\\item 5.5\n",
       "\\item 4.8\n",
       "\\item 5.4\n",
       "\\item 5.6\n",
       "\\item 5.1\n",
       "\\item 5.1\n",
       "\\item 5.9\n",
       "\\item 5.7\n",
       "\\item 5.2\n",
       "\\item 5\n",
       "\\item 5.2\n",
       "\\item 5.4\n",
       "\\item 5.1\n",
       "\\end{enumerate*}\n"
      ],
      "text/markdown": [
       "1. 1.4\n",
       "2. 1.4\n",
       "3. 1.3\n",
       "4. 1.5\n",
       "5. 1.4\n",
       "6. 1.7\n",
       "7. 1.4\n",
       "8. 1.5\n",
       "9. 1.4\n",
       "10. 1.5\n",
       "11. 1.5\n",
       "12. 1.6\n",
       "13. 1.4\n",
       "14. 1.1\n",
       "15. 1.2\n",
       "16. 1.5\n",
       "17. 1.3\n",
       "18. 1.4\n",
       "19. 1.7\n",
       "20. 1.5\n",
       "21. 1.7\n",
       "22. 1.5\n",
       "23. 1\n",
       "24. 1.7\n",
       "25. 1.9\n",
       "26. 1.6\n",
       "27. 1.6\n",
       "28. 1.5\n",
       "29. 1.4\n",
       "30. 1.6\n",
       "31. 1.6\n",
       "32. 1.5\n",
       "33. 1.5\n",
       "34. 1.4\n",
       "35. 1.5\n",
       "36. 1.2\n",
       "37. 1.3\n",
       "38. 1.4\n",
       "39. 1.3\n",
       "40. 1.5\n",
       "41. 1.3\n",
       "42. 1.3\n",
       "43. 1.3\n",
       "44. 1.6\n",
       "45. 1.9\n",
       "46. 1.4\n",
       "47. 1.6\n",
       "48. 1.4\n",
       "49. 1.5\n",
       "50. 1.4\n",
       "51. 4.7\n",
       "52. 4.5\n",
       "53. 4.9\n",
       "54. 4\n",
       "55. 4.6\n",
       "56. 4.5\n",
       "57. 4.7\n",
       "58. 3.3\n",
       "59. 4.6\n",
       "60. 3.9\n",
       "61. 3.5\n",
       "62. 4.2\n",
       "63. 4\n",
       "64. 4.7\n",
       "65. 3.6\n",
       "66. 4.4\n",
       "67. 4.5\n",
       "68. 4.1\n",
       "69. 4.5\n",
       "70. 3.9\n",
       "71. 4.8\n",
       "72. 4\n",
       "73. 4.9\n",
       "74. 4.7\n",
       "75. 4.3\n",
       "76. 4.4\n",
       "77. 4.8\n",
       "78. 5\n",
       "79. 4.5\n",
       "80. 3.5\n",
       "81. 3.8\n",
       "82. 3.7\n",
       "83. 3.9\n",
       "84. 5.1\n",
       "85. 4.5\n",
       "86. 4.5\n",
       "87. 4.7\n",
       "88. 4.4\n",
       "89. 4.1\n",
       "90. 4\n",
       "91. 4.4\n",
       "92. 4.6\n",
       "93. 4\n",
       "94. 3.3\n",
       "95. 4.2\n",
       "96. 4.2\n",
       "97. 4.2\n",
       "98. 4.3\n",
       "99. 3\n",
       "100. 4.1\n",
       "101. 6\n",
       "102. 5.1\n",
       "103. 5.9\n",
       "104. 5.6\n",
       "105. 5.8\n",
       "106. 6.6\n",
       "107. 4.5\n",
       "108. 6.3\n",
       "109. 5.8\n",
       "110. 6.1\n",
       "111. 5.1\n",
       "112. 5.3\n",
       "113. 5.5\n",
       "114. 5\n",
       "115. 5.1\n",
       "116. 5.3\n",
       "117. 5.5\n",
       "118. 6.7\n",
       "119. 6.9\n",
       "120. 5\n",
       "121. 5.7\n",
       "122. 4.9\n",
       "123. 6.7\n",
       "124. 4.9\n",
       "125. 5.7\n",
       "126. 6\n",
       "127. 4.8\n",
       "128. 4.9\n",
       "129. 5.6\n",
       "130. 5.8\n",
       "131. 6.1\n",
       "132. 6.4\n",
       "133. 5.6\n",
       "134. 5.1\n",
       "135. 5.6\n",
       "136. 6.1\n",
       "137. 5.6\n",
       "138. 5.5\n",
       "139. 4.8\n",
       "140. 5.4\n",
       "141. 5.6\n",
       "142. 5.1\n",
       "143. 5.1\n",
       "144. 5.9\n",
       "145. 5.7\n",
       "146. 5.2\n",
       "147. 5\n",
       "148. 5.2\n",
       "149. 5.4\n",
       "150. 5.1\n",
       "\n",
       "\n"
      ],
      "text/plain": [
       "  [1] 1.4 1.4 1.3 1.5 1.4 1.7 1.4 1.5 1.4 1.5 1.5 1.6 1.4 1.1 1.2 1.5 1.3 1.4\n",
       " [19] 1.7 1.5 1.7 1.5 1.0 1.7 1.9 1.6 1.6 1.5 1.4 1.6 1.6 1.5 1.5 1.4 1.5 1.2\n",
       " [37] 1.3 1.4 1.3 1.5 1.3 1.3 1.3 1.6 1.9 1.4 1.6 1.4 1.5 1.4 4.7 4.5 4.9 4.0\n",
       " [55] 4.6 4.5 4.7 3.3 4.6 3.9 3.5 4.2 4.0 4.7 3.6 4.4 4.5 4.1 4.5 3.9 4.8 4.0\n",
       " [73] 4.9 4.7 4.3 4.4 4.8 5.0 4.5 3.5 3.8 3.7 3.9 5.1 4.5 4.5 4.7 4.4 4.1 4.0\n",
       " [91] 4.4 4.6 4.0 3.3 4.2 4.2 4.2 4.3 3.0 4.1 6.0 5.1 5.9 5.6 5.8 6.6 4.5 6.3\n",
       "[109] 5.8 6.1 5.1 5.3 5.5 5.0 5.1 5.3 5.5 6.7 6.9 5.0 5.7 4.9 6.7 4.9 5.7 6.0\n",
       "[127] 4.8 4.9 5.6 5.8 6.1 6.4 5.6 5.1 5.6 6.1 5.6 5.5 4.8 5.4 5.6 5.1 5.1 5.9\n",
       "[145] 5.7 5.2 5.0 5.2 5.4 5.1"
      ]
     },
     "metadata": {},
     "output_type": "display_data"
    },
    {
     "data": {
      "text/html": [
       "<style>\n",
       ".list-inline {list-style: none; margin:0; padding: 0}\n",
       ".list-inline>li {display: inline-block}\n",
       ".list-inline>li:not(:last-child)::after {content: \"\\00b7\"; padding: 0 .5ex}\n",
       "</style>\n",
       "<ol class=list-inline><li>1.4</li><li>1.4</li><li>1.3</li><li>1.5</li><li>1.4</li><li>1.7</li></ol>\n"
      ],
      "text/latex": [
       "\\begin{enumerate*}\n",
       "\\item 1.4\n",
       "\\item 1.4\n",
       "\\item 1.3\n",
       "\\item 1.5\n",
       "\\item 1.4\n",
       "\\item 1.7\n",
       "\\end{enumerate*}\n"
      ],
      "text/markdown": [
       "1. 1.4\n",
       "2. 1.4\n",
       "3. 1.3\n",
       "4. 1.5\n",
       "5. 1.4\n",
       "6. 1.7\n",
       "\n",
       "\n"
      ],
      "text/plain": [
       "[1] 1.4 1.4 1.3 1.5 1.4 1.7"
      ]
     },
     "metadata": {},
     "output_type": "display_data"
    }
   ],
   "source": [
    "head(iris)\n",
    "iris[,3]\n",
    "head(iris[,3])"
   ]
  },
  {
   "cell_type": "markdown",
   "metadata": {},
   "source": [
    "* Extracting specific columns (here  3 and 5)\n",
    "* Extracting specific rows\n",
    "* EXtract using column names"
   ]
  },
  {
   "cell_type": "code",
   "execution_count": 35,
   "metadata": {
    "vscode": {
     "languageId": "r"
    }
   },
   "outputs": [
    {
     "data": {
      "text/html": [
       "<table class=\"dataframe\">\n",
       "<caption>A data.frame: 6 × 2</caption>\n",
       "<thead>\n",
       "\t<tr><th></th><th scope=col>Petal.Length</th><th scope=col>Species</th></tr>\n",
       "\t<tr><th></th><th scope=col>&lt;dbl&gt;</th><th scope=col>&lt;fct&gt;</th></tr>\n",
       "</thead>\n",
       "<tbody>\n",
       "\t<tr><th scope=row>1</th><td>1.4</td><td>setosa</td></tr>\n",
       "\t<tr><th scope=row>2</th><td>1.4</td><td>setosa</td></tr>\n",
       "\t<tr><th scope=row>3</th><td>1.3</td><td>setosa</td></tr>\n",
       "\t<tr><th scope=row>4</th><td>1.5</td><td>setosa</td></tr>\n",
       "\t<tr><th scope=row>5</th><td>1.4</td><td>setosa</td></tr>\n",
       "\t<tr><th scope=row>6</th><td>1.7</td><td>setosa</td></tr>\n",
       "</tbody>\n",
       "</table>\n"
      ],
      "text/latex": [
       "A data.frame: 6 × 2\n",
       "\\begin{tabular}{r|ll}\n",
       "  & Petal.Length & Species\\\\\n",
       "  & <dbl> & <fct>\\\\\n",
       "\\hline\n",
       "\t1 & 1.4 & setosa\\\\\n",
       "\t2 & 1.4 & setosa\\\\\n",
       "\t3 & 1.3 & setosa\\\\\n",
       "\t4 & 1.5 & setosa\\\\\n",
       "\t5 & 1.4 & setosa\\\\\n",
       "\t6 & 1.7 & setosa\\\\\n",
       "\\end{tabular}\n"
      ],
      "text/markdown": [
       "\n",
       "A data.frame: 6 × 2\n",
       "\n",
       "| <!--/--> | Petal.Length &lt;dbl&gt; | Species &lt;fct&gt; |\n",
       "|---|---|---|\n",
       "| 1 | 1.4 | setosa |\n",
       "| 2 | 1.4 | setosa |\n",
       "| 3 | 1.3 | setosa |\n",
       "| 4 | 1.5 | setosa |\n",
       "| 5 | 1.4 | setosa |\n",
       "| 6 | 1.7 | setosa |\n",
       "\n"
      ],
      "text/plain": [
       "  Petal.Length Species\n",
       "1 1.4          setosa \n",
       "2 1.4          setosa \n",
       "3 1.3          setosa \n",
       "4 1.5          setosa \n",
       "5 1.4          setosa \n",
       "6 1.7          setosa "
      ]
     },
     "metadata": {},
     "output_type": "display_data"
    },
    {
     "data": {
      "text/html": [
       "<table class=\"dataframe\">\n",
       "<caption>A data.frame: 7 × 3</caption>\n",
       "<thead>\n",
       "\t<tr><th></th><th scope=col>Petal.Length</th><th scope=col>Petal.Width</th><th scope=col>Species</th></tr>\n",
       "\t<tr><th></th><th scope=col>&lt;dbl&gt;</th><th scope=col>&lt;dbl&gt;</th><th scope=col>&lt;fct&gt;</th></tr>\n",
       "</thead>\n",
       "<tbody>\n",
       "\t<tr><th scope=row>4</th><td>1.5</td><td>0.2</td><td>setosa</td></tr>\n",
       "\t<tr><th scope=row>5</th><td>1.4</td><td>0.2</td><td>setosa</td></tr>\n",
       "\t<tr><th scope=row>6</th><td>1.7</td><td>0.4</td><td>setosa</td></tr>\n",
       "\t<tr><th scope=row>7</th><td>1.4</td><td>0.3</td><td>setosa</td></tr>\n",
       "\t<tr><th scope=row>8</th><td>1.5</td><td>0.2</td><td>setosa</td></tr>\n",
       "\t<tr><th scope=row>9</th><td>1.4</td><td>0.2</td><td>setosa</td></tr>\n",
       "\t<tr><th scope=row>10</th><td>1.5</td><td>0.1</td><td>setosa</td></tr>\n",
       "</tbody>\n",
       "</table>\n"
      ],
      "text/latex": [
       "A data.frame: 7 × 3\n",
       "\\begin{tabular}{r|lll}\n",
       "  & Petal.Length & Petal.Width & Species\\\\\n",
       "  & <dbl> & <dbl> & <fct>\\\\\n",
       "\\hline\n",
       "\t4 & 1.5 & 0.2 & setosa\\\\\n",
       "\t5 & 1.4 & 0.2 & setosa\\\\\n",
       "\t6 & 1.7 & 0.4 & setosa\\\\\n",
       "\t7 & 1.4 & 0.3 & setosa\\\\\n",
       "\t8 & 1.5 & 0.2 & setosa\\\\\n",
       "\t9 & 1.4 & 0.2 & setosa\\\\\n",
       "\t10 & 1.5 & 0.1 & setosa\\\\\n",
       "\\end{tabular}\n"
      ],
      "text/markdown": [
       "\n",
       "A data.frame: 7 × 3\n",
       "\n",
       "| <!--/--> | Petal.Length &lt;dbl&gt; | Petal.Width &lt;dbl&gt; | Species &lt;fct&gt; |\n",
       "|---|---|---|---|\n",
       "| 4 | 1.5 | 0.2 | setosa |\n",
       "| 5 | 1.4 | 0.2 | setosa |\n",
       "| 6 | 1.7 | 0.4 | setosa |\n",
       "| 7 | 1.4 | 0.3 | setosa |\n",
       "| 8 | 1.5 | 0.2 | setosa |\n",
       "| 9 | 1.4 | 0.2 | setosa |\n",
       "| 10 | 1.5 | 0.1 | setosa |\n",
       "\n"
      ],
      "text/plain": [
       "   Petal.Length Petal.Width Species\n",
       "4  1.5          0.2         setosa \n",
       "5  1.4          0.2         setosa \n",
       "6  1.7          0.4         setosa \n",
       "7  1.4          0.3         setosa \n",
       "8  1.5          0.2         setosa \n",
       "9  1.4          0.2         setosa \n",
       "10 1.5          0.1         setosa "
      ]
     },
     "metadata": {},
     "output_type": "display_data"
    },
    {
     "data": {
      "text/html": [
       "<table class=\"dataframe\">\n",
       "<caption>A data.frame: 6 × 2</caption>\n",
       "<thead>\n",
       "\t<tr><th></th><th scope=col>Species</th><th scope=col>Petal.Length</th></tr>\n",
       "\t<tr><th></th><th scope=col>&lt;fct&gt;</th><th scope=col>&lt;dbl&gt;</th></tr>\n",
       "</thead>\n",
       "<tbody>\n",
       "\t<tr><th scope=row>1</th><td>setosa</td><td>1.4</td></tr>\n",
       "\t<tr><th scope=row>2</th><td>setosa</td><td>1.4</td></tr>\n",
       "\t<tr><th scope=row>3</th><td>setosa</td><td>1.3</td></tr>\n",
       "\t<tr><th scope=row>4</th><td>setosa</td><td>1.5</td></tr>\n",
       "\t<tr><th scope=row>5</th><td>setosa</td><td>1.4</td></tr>\n",
       "\t<tr><th scope=row>6</th><td>setosa</td><td>1.7</td></tr>\n",
       "</tbody>\n",
       "</table>\n"
      ],
      "text/latex": [
       "A data.frame: 6 × 2\n",
       "\\begin{tabular}{r|ll}\n",
       "  & Species & Petal.Length\\\\\n",
       "  & <fct> & <dbl>\\\\\n",
       "\\hline\n",
       "\t1 & setosa & 1.4\\\\\n",
       "\t2 & setosa & 1.4\\\\\n",
       "\t3 & setosa & 1.3\\\\\n",
       "\t4 & setosa & 1.5\\\\\n",
       "\t5 & setosa & 1.4\\\\\n",
       "\t6 & setosa & 1.7\\\\\n",
       "\\end{tabular}\n"
      ],
      "text/markdown": [
       "\n",
       "A data.frame: 6 × 2\n",
       "\n",
       "| <!--/--> | Species &lt;fct&gt; | Petal.Length &lt;dbl&gt; |\n",
       "|---|---|---|\n",
       "| 1 | setosa | 1.4 |\n",
       "| 2 | setosa | 1.4 |\n",
       "| 3 | setosa | 1.3 |\n",
       "| 4 | setosa | 1.5 |\n",
       "| 5 | setosa | 1.4 |\n",
       "| 6 | setosa | 1.7 |\n",
       "\n"
      ],
      "text/plain": [
       "  Species Petal.Length\n",
       "1 setosa  1.4         \n",
       "2 setosa  1.4         \n",
       "3 setosa  1.3         \n",
       "4 setosa  1.5         \n",
       "5 setosa  1.4         \n",
       "6 setosa  1.7         "
      ]
     },
     "metadata": {},
     "output_type": "display_data"
    }
   ],
   "source": [
    "head(iris[, c(3,5)])\n",
    "iris[c(4:10), c(3:5)]\n",
    "head(iris[, c(\"Species\", \"Petal.Length\")])"
   ]
  },
  {
   "cell_type": "markdown",
   "metadata": {},
   "source": [
    "### Creation of new variables in a DataFrame"
   ]
  },
  {
   "cell_type": "code",
   "execution_count": 36,
   "metadata": {
    "vscode": {
     "languageId": "r"
    }
   },
   "outputs": [
    {
     "data": {
      "text/html": [
       "<table class=\"dataframe\">\n",
       "<caption>A data.frame: 6 × 7</caption>\n",
       "<thead>\n",
       "\t<tr><th></th><th scope=col>Sepal.Length</th><th scope=col>Sepal.Width</th><th scope=col>Petal.Length</th><th scope=col>Petal.Width</th><th scope=col>Species</th><th scope=col>Petal.Ratio</th><th scope=col>Sepal.Ratio</th></tr>\n",
       "\t<tr><th></th><th scope=col>&lt;dbl&gt;</th><th scope=col>&lt;dbl&gt;</th><th scope=col>&lt;dbl&gt;</th><th scope=col>&lt;dbl&gt;</th><th scope=col>&lt;fct&gt;</th><th scope=col>&lt;dbl&gt;</th><th scope=col>&lt;dbl&gt;</th></tr>\n",
       "</thead>\n",
       "<tbody>\n",
       "\t<tr><th scope=row>1</th><td>5.1</td><td>3.5</td><td>1.4</td><td>0.2</td><td>setosa</td><td>7.00</td><td>1.457143</td></tr>\n",
       "\t<tr><th scope=row>2</th><td>4.9</td><td>3.0</td><td>1.4</td><td>0.2</td><td>setosa</td><td>7.00</td><td>1.633333</td></tr>\n",
       "\t<tr><th scope=row>3</th><td>4.7</td><td>3.2</td><td>1.3</td><td>0.2</td><td>setosa</td><td>6.50</td><td>1.468750</td></tr>\n",
       "\t<tr><th scope=row>4</th><td>4.6</td><td>3.1</td><td>1.5</td><td>0.2</td><td>setosa</td><td>7.50</td><td>1.483871</td></tr>\n",
       "\t<tr><th scope=row>5</th><td>5.0</td><td>3.6</td><td>1.4</td><td>0.2</td><td>setosa</td><td>7.00</td><td>1.388889</td></tr>\n",
       "\t<tr><th scope=row>6</th><td>5.4</td><td>3.9</td><td>1.7</td><td>0.4</td><td>setosa</td><td>4.25</td><td>1.384615</td></tr>\n",
       "</tbody>\n",
       "</table>\n"
      ],
      "text/latex": [
       "A data.frame: 6 × 7\n",
       "\\begin{tabular}{r|lllllll}\n",
       "  & Sepal.Length & Sepal.Width & Petal.Length & Petal.Width & Species & Petal.Ratio & Sepal.Ratio\\\\\n",
       "  & <dbl> & <dbl> & <dbl> & <dbl> & <fct> & <dbl> & <dbl>\\\\\n",
       "\\hline\n",
       "\t1 & 5.1 & 3.5 & 1.4 & 0.2 & setosa & 7.00 & 1.457143\\\\\n",
       "\t2 & 4.9 & 3.0 & 1.4 & 0.2 & setosa & 7.00 & 1.633333\\\\\n",
       "\t3 & 4.7 & 3.2 & 1.3 & 0.2 & setosa & 6.50 & 1.468750\\\\\n",
       "\t4 & 4.6 & 3.1 & 1.5 & 0.2 & setosa & 7.50 & 1.483871\\\\\n",
       "\t5 & 5.0 & 3.6 & 1.4 & 0.2 & setosa & 7.00 & 1.388889\\\\\n",
       "\t6 & 5.4 & 3.9 & 1.7 & 0.4 & setosa & 4.25 & 1.384615\\\\\n",
       "\\end{tabular}\n"
      ],
      "text/markdown": [
       "\n",
       "A data.frame: 6 × 7\n",
       "\n",
       "| <!--/--> | Sepal.Length &lt;dbl&gt; | Sepal.Width &lt;dbl&gt; | Petal.Length &lt;dbl&gt; | Petal.Width &lt;dbl&gt; | Species &lt;fct&gt; | Petal.Ratio &lt;dbl&gt; | Sepal.Ratio &lt;dbl&gt; |\n",
       "|---|---|---|---|---|---|---|---|\n",
       "| 1 | 5.1 | 3.5 | 1.4 | 0.2 | setosa | 7.00 | 1.457143 |\n",
       "| 2 | 4.9 | 3.0 | 1.4 | 0.2 | setosa | 7.00 | 1.633333 |\n",
       "| 3 | 4.7 | 3.2 | 1.3 | 0.2 | setosa | 6.50 | 1.468750 |\n",
       "| 4 | 4.6 | 3.1 | 1.5 | 0.2 | setosa | 7.50 | 1.483871 |\n",
       "| 5 | 5.0 | 3.6 | 1.4 | 0.2 | setosa | 7.00 | 1.388889 |\n",
       "| 6 | 5.4 | 3.9 | 1.7 | 0.4 | setosa | 4.25 | 1.384615 |\n",
       "\n"
      ],
      "text/plain": [
       "  Sepal.Length Sepal.Width Petal.Length Petal.Width Species Petal.Ratio\n",
       "1 5.1          3.5         1.4          0.2         setosa  7.00       \n",
       "2 4.9          3.0         1.4          0.2         setosa  7.00       \n",
       "3 4.7          3.2         1.3          0.2         setosa  6.50       \n",
       "4 4.6          3.1         1.5          0.2         setosa  7.50       \n",
       "5 5.0          3.6         1.4          0.2         setosa  7.00       \n",
       "6 5.4          3.9         1.7          0.4         setosa  4.25       \n",
       "  Sepal.Ratio\n",
       "1 1.457143   \n",
       "2 1.633333   \n",
       "3 1.468750   \n",
       "4 1.483871   \n",
       "5 1.388889   \n",
       "6 1.384615   "
      ]
     },
     "metadata": {},
     "output_type": "display_data"
    }
   ],
   "source": [
    "iris$Petal.Ratio = iris$Petal.Length / iris$Petal.Width\n",
    "iris$Sepal.Ratio = iris$Sepal.Length / iris$Sepal.Width\n",
    "head(iris)"
   ]
  },
  {
   "cell_type": "markdown",
   "metadata": {},
   "source": [
    "### Extracting Observations and summarizing them\n",
    "**Extracting**\n",
    "1. Direct Method\n",
    "2. Using subset\n",
    "\n",
    "**Summarizing**\n",
    "1. brief\n",
    "2. summary\n",
    "3. str    (means Structure)\n",
    "4. summarise (Requires Library:- dplyr)"
   ]
  },
  {
   "cell_type": "code",
   "execution_count": 40,
   "metadata": {
    "vscode": {
     "languageId": "r"
    }
   },
   "outputs": [
    {
     "data": {
      "text/html": [
       "<table class=\"dataframe\">\n",
       "<caption>A data.frame: 1 × 7</caption>\n",
       "<thead>\n",
       "\t<tr><th></th><th scope=col>Sepal.Length</th><th scope=col>Sepal.Width</th><th scope=col>Petal.Length</th><th scope=col>Petal.Width</th><th scope=col>Species</th><th scope=col>Petal.Ratio</th><th scope=col>Sepal.Ratio</th></tr>\n",
       "\t<tr><th></th><th scope=col>&lt;dbl&gt;</th><th scope=col>&lt;dbl&gt;</th><th scope=col>&lt;dbl&gt;</th><th scope=col>&lt;dbl&gt;</th><th scope=col>&lt;fct&gt;</th><th scope=col>&lt;dbl&gt;</th><th scope=col>&lt;dbl&gt;</th></tr>\n",
       "</thead>\n",
       "<tbody>\n",
       "\t<tr><th scope=row>44</th><td>5</td><td>3.5</td><td>1.6</td><td>0.6</td><td>setosa</td><td>2.666667</td><td>1.428571</td></tr>\n",
       "</tbody>\n",
       "</table>\n"
      ],
      "text/latex": [
       "A data.frame: 1 × 7\n",
       "\\begin{tabular}{r|lllllll}\n",
       "  & Sepal.Length & Sepal.Width & Petal.Length & Petal.Width & Species & Petal.Ratio & Sepal.Ratio\\\\\n",
       "  & <dbl> & <dbl> & <dbl> & <dbl> & <fct> & <dbl> & <dbl>\\\\\n",
       "\\hline\n",
       "\t44 & 5 & 3.5 & 1.6 & 0.6 & setosa & 2.666667 & 1.428571\\\\\n",
       "\\end{tabular}\n"
      ],
      "text/markdown": [
       "\n",
       "A data.frame: 1 × 7\n",
       "\n",
       "| <!--/--> | Sepal.Length &lt;dbl&gt; | Sepal.Width &lt;dbl&gt; | Petal.Length &lt;dbl&gt; | Petal.Width &lt;dbl&gt; | Species &lt;fct&gt; | Petal.Ratio &lt;dbl&gt; | Sepal.Ratio &lt;dbl&gt; |\n",
       "|---|---|---|---|---|---|---|---|\n",
       "| 44 | 5 | 3.5 | 1.6 | 0.6 | setosa | 2.666667 | 1.428571 |\n",
       "\n"
      ],
      "text/plain": [
       "   Sepal.Length Sepal.Width Petal.Length Petal.Width Species Petal.Ratio\n",
       "44 5            3.5         1.6          0.6         setosa  2.666667   \n",
       "   Sepal.Ratio\n",
       "44 1.428571   "
      ]
     },
     "metadata": {},
     "output_type": "display_data"
    },
    {
     "data": {
      "text/html": [
       "<table class=\"dataframe\">\n",
       "<caption>A data.frame: 1 × 7</caption>\n",
       "<thead>\n",
       "\t<tr><th></th><th scope=col>Sepal.Length</th><th scope=col>Sepal.Width</th><th scope=col>Petal.Length</th><th scope=col>Petal.Width</th><th scope=col>Species</th><th scope=col>Petal.Ratio</th><th scope=col>Sepal.Ratio</th></tr>\n",
       "\t<tr><th></th><th scope=col>&lt;dbl&gt;</th><th scope=col>&lt;dbl&gt;</th><th scope=col>&lt;dbl&gt;</th><th scope=col>&lt;dbl&gt;</th><th scope=col>&lt;fct&gt;</th><th scope=col>&lt;dbl&gt;</th><th scope=col>&lt;dbl&gt;</th></tr>\n",
       "</thead>\n",
       "<tbody>\n",
       "\t<tr><th scope=row>44</th><td>5</td><td>3.5</td><td>1.6</td><td>0.6</td><td>setosa</td><td>2.666667</td><td>1.428571</td></tr>\n",
       "</tbody>\n",
       "</table>\n"
      ],
      "text/latex": [
       "A data.frame: 1 × 7\n",
       "\\begin{tabular}{r|lllllll}\n",
       "  & Sepal.Length & Sepal.Width & Petal.Length & Petal.Width & Species & Petal.Ratio & Sepal.Ratio\\\\\n",
       "  & <dbl> & <dbl> & <dbl> & <dbl> & <fct> & <dbl> & <dbl>\\\\\n",
       "\\hline\n",
       "\t44 & 5 & 3.5 & 1.6 & 0.6 & setosa & 2.666667 & 1.428571\\\\\n",
       "\\end{tabular}\n"
      ],
      "text/markdown": [
       "\n",
       "A data.frame: 1 × 7\n",
       "\n",
       "| <!--/--> | Sepal.Length &lt;dbl&gt; | Sepal.Width &lt;dbl&gt; | Petal.Length &lt;dbl&gt; | Petal.Width &lt;dbl&gt; | Species &lt;fct&gt; | Petal.Ratio &lt;dbl&gt; | Sepal.Ratio &lt;dbl&gt; |\n",
       "|---|---|---|---|---|---|---|---|\n",
       "| 44 | 5 | 3.5 | 1.6 | 0.6 | setosa | 2.666667 | 1.428571 |\n",
       "\n"
      ],
      "text/plain": [
       "   Sepal.Length Sepal.Width Petal.Length Petal.Width Species Petal.Ratio\n",
       "44 5            3.5         1.6          0.6         setosa  2.666667   \n",
       "   Sepal.Ratio\n",
       "44 1.428571   "
      ]
     },
     "metadata": {},
     "output_type": "display_data"
    }
   ],
   "source": [
    "iris[iris$Petal.Width>0.5 & iris$Species== \"setosa\",]\n",
    "subset(iris,Petal.Width>0.5 & Species == \"setosa\")"
   ]
  },
  {
   "cell_type": "code",
   "execution_count": 44,
   "metadata": {
    "vscode": {
     "languageId": "r"
    }
   },
   "outputs": [
    {
     "name": "stderr",
     "output_type": "stream",
     "text": [
      "\n",
      "Attaching package: 'dplyr'\n",
      "\n",
      "\n",
      "The following objects are masked from 'package:Hmisc':\n",
      "\n",
      "    src, summarize\n",
      "\n",
      "\n",
      "The following object is masked from 'package:MASS':\n",
      "\n",
      "    select\n",
      "\n",
      "\n",
      "The following object is masked from 'package:car':\n",
      "\n",
      "    recode\n",
      "\n",
      "\n",
      "The following objects are masked from 'package:stats':\n",
      "\n",
      "    filter, lag\n",
      "\n",
      "\n",
      "The following objects are masked from 'package:base':\n",
      "\n",
      "    intersect, setdiff, setequal, union\n",
      "\n",
      "\n"
     ]
    },
    {
     "data": {
      "text/plain": [
       "  Sepal.Length    Sepal.Width     Petal.Length    Petal.Width   \n",
       " Min.   :4.300   Min.   :2.000   Min.   :1.000   Min.   :0.100  \n",
       " 1st Qu.:5.100   1st Qu.:2.800   1st Qu.:1.600   1st Qu.:0.300  \n",
       " Median :5.800   Median :3.000   Median :4.350   Median :1.300  \n",
       " Mean   :5.843   Mean   :3.057   Mean   :3.758   Mean   :1.199  \n",
       " 3rd Qu.:6.400   3rd Qu.:3.300   3rd Qu.:5.100   3rd Qu.:1.800  \n",
       " Max.   :7.900   Max.   :4.400   Max.   :6.900   Max.   :2.500  \n",
       "       Species    Petal.Ratio      Sepal.Ratio   \n",
       " setosa    :50   Min.   : 2.125   Min.   :1.268  \n",
       " versicolor:50   1st Qu.: 2.802   1st Qu.:1.546  \n",
       " virginica :50   Median : 3.300   Median :2.032  \n",
       "                 Mean   : 4.311   Mean   :1.954  \n",
       "                 3rd Qu.: 4.667   3rd Qu.:2.225  \n",
       "                 Max.   :15.000   Max.   :2.962  "
      ]
     },
     "metadata": {},
     "output_type": "display_data"
    },
    {
     "name": "stdout",
     "output_type": "stream",
     "text": [
      "'data.frame':\t150 obs. of  7 variables:\n",
      " $ Sepal.Length: num  5.1 4.9 4.7 4.6 5 5.4 4.6 5 4.4 4.9 ...\n",
      " $ Sepal.Width : num  3.5 3 3.2 3.1 3.6 3.9 3.4 3.4 2.9 3.1 ...\n",
      " $ Petal.Length: num  1.4 1.4 1.3 1.5 1.4 1.7 1.4 1.5 1.4 1.5 ...\n",
      " $ Petal.Width : num  0.2 0.2 0.2 0.2 0.2 0.4 0.3 0.2 0.2 0.1 ...\n",
      " $ Species     : Factor w/ 3 levels \"setosa\",\"versicolor\",..: 1 1 1 1 1 1 1 1 1 1 ...\n",
      " $ Petal.Ratio : num  7 7 6.5 7.5 7 ...\n",
      " $ Sepal.Ratio : num  1.46 1.63 1.47 1.48 1.39 ...\n",
      "150 x 7 data.frame (145 rows and 2 columns omitted)\n",
      "    Sepal.Length Sepal.Width Petal.Length . . . Petal.Ratio Sepal.Ratio\n",
      "             [n]         [n]          [n]               [n]         [n]\n",
      "1            5.1         3.5          1.4          7.000000    1.457143\n",
      "2            4.9         3.0          1.4          7.000000    1.633333\n",
      "3            4.7         3.2          1.3          6.500000    1.468750\n",
      ". . .                                                                       \n",
      "149          6.2         3.4          5.4          2.347826    1.823529\n",
      "150          5.9         3.0          5.1          2.833333    1.966667\n"
     ]
    },
    {
     "data": {
      "text/html": [
       "<table class=\"dataframe\">\n",
       "<caption>A data.frame: 1 × 4</caption>\n",
       "<thead>\n",
       "\t<tr><th scope=col>Petal.Length</th><th scope=col>Sepal.Length</th><th scope=col>Petal.Width</th><th scope=col>Sepal.width</th></tr>\n",
       "\t<tr><th scope=col>&lt;dbl&gt;</th><th scope=col>&lt;dbl&gt;</th><th scope=col>&lt;dbl&gt;</th><th scope=col>&lt;dbl&gt;</th></tr>\n",
       "</thead>\n",
       "<tbody>\n",
       "\t<tr><td>3.758</td><td>5.843333</td><td>1.199333</td><td>3.057333</td></tr>\n",
       "</tbody>\n",
       "</table>\n"
      ],
      "text/latex": [
       "A data.frame: 1 × 4\n",
       "\\begin{tabular}{llll}\n",
       " Petal.Length & Sepal.Length & Petal.Width & Sepal.width\\\\\n",
       " <dbl> & <dbl> & <dbl> & <dbl>\\\\\n",
       "\\hline\n",
       "\t 3.758 & 5.843333 & 1.199333 & 3.057333\\\\\n",
       "\\end{tabular}\n"
      ],
      "text/markdown": [
       "\n",
       "A data.frame: 1 × 4\n",
       "\n",
       "| Petal.Length &lt;dbl&gt; | Sepal.Length &lt;dbl&gt; | Petal.Width &lt;dbl&gt; | Sepal.width &lt;dbl&gt; |\n",
       "|---|---|---|---|\n",
       "| 3.758 | 5.843333 | 1.199333 | 3.057333 |\n",
       "\n"
      ],
      "text/plain": [
       "  Petal.Length Sepal.Length Petal.Width Sepal.width\n",
       "1 3.758        5.843333     1.199333    3.057333   "
      ]
     },
     "metadata": {},
     "output_type": "display_data"
    }
   ],
   "source": [
    "library(dplyr)\n",
    "summary(iris)\n",
    "str(iris)\n",
    "brief(iris)\n",
    "summarise(iris,Petal.Length =   mean(Petal.Length),\n",
    "            ,Sepal.Length =   mean(Sepal.Length)\n",
    "            ,Petal.Width = mean(Petal.Width)\n",
    "            ,Sepal.width =   mean(Sepal.Width))"
   ]
  },
  {
   "cell_type": "markdown",
   "metadata": {},
   "source": [
    "### Working with DataFrames"
   ]
  },
  {
   "cell_type": "code",
   "execution_count": 51,
   "metadata": {
    "vscode": {
     "languageId": "r"
    }
   },
   "outputs": [
    {
     "data": {
      "text/html": [
       "<style>\n",
       ".list-inline {list-style: none; margin:0; padding: 0}\n",
       ".list-inline>li {display: inline-block}\n",
       ".list-inline>li:not(:last-child)::after {content: \"\\00b7\"; padding: 0 .5ex}\n",
       "</style>\n",
       "<ol class=list-inline><li>200</li><li>5</li></ol>\n"
      ],
      "text/latex": [
       "\\begin{enumerate*}\n",
       "\\item 200\n",
       "\\item 5\n",
       "\\end{enumerate*}\n"
      ],
      "text/markdown": [
       "1. 200\n",
       "2. 5\n",
       "\n",
       "\n"
      ],
      "text/plain": [
       "[1] 200   5"
      ]
     },
     "metadata": {},
     "output_type": "display_data"
    },
    {
     "data": {
      "text/html": [
       "<table class=\"dataframe\">\n",
       "<caption>A data.frame: 6 × 5</caption>\n",
       "<thead>\n",
       "\t<tr><th></th><th scope=col>sex</th><th scope=col>weight</th><th scope=col>height</th><th scope=col>repwt</th><th scope=col>repht</th></tr>\n",
       "\t<tr><th></th><th scope=col>&lt;fct&gt;</th><th scope=col>&lt;int&gt;</th><th scope=col>&lt;int&gt;</th><th scope=col>&lt;int&gt;</th><th scope=col>&lt;int&gt;</th></tr>\n",
       "</thead>\n",
       "<tbody>\n",
       "\t<tr><th scope=row>1</th><td>M</td><td>77</td><td>182</td><td>77</td><td>180</td></tr>\n",
       "\t<tr><th scope=row>2</th><td>F</td><td>58</td><td>161</td><td>51</td><td>159</td></tr>\n",
       "\t<tr><th scope=row>3</th><td>F</td><td>53</td><td>161</td><td>54</td><td>158</td></tr>\n",
       "\t<tr><th scope=row>4</th><td>M</td><td>68</td><td>177</td><td>70</td><td>175</td></tr>\n",
       "\t<tr><th scope=row>5</th><td>F</td><td>59</td><td>157</td><td>59</td><td>155</td></tr>\n",
       "\t<tr><th scope=row>6</th><td>M</td><td>76</td><td>170</td><td>76</td><td>165</td></tr>\n",
       "</tbody>\n",
       "</table>\n"
      ],
      "text/latex": [
       "A data.frame: 6 × 5\n",
       "\\begin{tabular}{r|lllll}\n",
       "  & sex & weight & height & repwt & repht\\\\\n",
       "  & <fct> & <int> & <int> & <int> & <int>\\\\\n",
       "\\hline\n",
       "\t1 & M & 77 & 182 & 77 & 180\\\\\n",
       "\t2 & F & 58 & 161 & 51 & 159\\\\\n",
       "\t3 & F & 53 & 161 & 54 & 158\\\\\n",
       "\t4 & M & 68 & 177 & 70 & 175\\\\\n",
       "\t5 & F & 59 & 157 & 59 & 155\\\\\n",
       "\t6 & M & 76 & 170 & 76 & 165\\\\\n",
       "\\end{tabular}\n"
      ],
      "text/markdown": [
       "\n",
       "A data.frame: 6 × 5\n",
       "\n",
       "| <!--/--> | sex &lt;fct&gt; | weight &lt;int&gt; | height &lt;int&gt; | repwt &lt;int&gt; | repht &lt;int&gt; |\n",
       "|---|---|---|---|---|---|\n",
       "| 1 | M | 77 | 182 | 77 | 180 |\n",
       "| 2 | F | 58 | 161 | 51 | 159 |\n",
       "| 3 | F | 53 | 161 | 54 | 158 |\n",
       "| 4 | M | 68 | 177 | 70 | 175 |\n",
       "| 5 | F | 59 | 157 | 59 | 155 |\n",
       "| 6 | M | 76 | 170 | 76 | 165 |\n",
       "\n"
      ],
      "text/plain": [
       "  sex weight height repwt repht\n",
       "1 M   77     182    77    180  \n",
       "2 F   58     161    51    159  \n",
       "3 F   53     161    54    158  \n",
       "4 M   68     177    70    175  \n",
       "5 F   59     157    59    155  \n",
       "6 M   76     170    76    165  "
      ]
     },
     "metadata": {},
     "output_type": "display_data"
    },
    {
     "data": {
      "text/html": [
       "<style>\n",
       ".list-inline {list-style: none; margin:0; padding: 0}\n",
       ".list-inline>li {display: inline-block}\n",
       ".list-inline>li:not(:last-child)::after {content: \"\\00b7\"; padding: 0 .5ex}\n",
       "</style>\n",
       "<ol class=list-inline><li>200</li><li>5</li></ol>\n"
      ],
      "text/latex": [
       "\\begin{enumerate*}\n",
       "\\item 200\n",
       "\\item 5\n",
       "\\end{enumerate*}\n"
      ],
      "text/markdown": [
       "1. 200\n",
       "2. 5\n",
       "\n",
       "\n"
      ],
      "text/plain": [
       "[1] 200   5"
      ]
     },
     "metadata": {},
     "output_type": "display_data"
    },
    {
     "data": {
      "text/html": [
       "<table class=\"dataframe\">\n",
       "<caption>A data.frame: 6 × 5</caption>\n",
       "<thead>\n",
       "\t<tr><th></th><th scope=col>Gender</th><th scope=col>Wt</th><th scope=col>Ht</th><th scope=col>Repwt</th><th scope=col>Repht</th></tr>\n",
       "\t<tr><th></th><th scope=col>&lt;lgl&gt;</th><th scope=col>&lt;lgl&gt;</th><th scope=col>&lt;lgl&gt;</th><th scope=col>&lt;lgl&gt;</th><th scope=col>&lt;lgl&gt;</th></tr>\n",
       "</thead>\n",
       "<tbody>\n",
       "\t<tr><th scope=row>1</th><td>NA</td><td>NA</td><td>NA</td><td>NA</td><td>NA</td></tr>\n",
       "\t<tr><th scope=row>2</th><td>NA</td><td>NA</td><td>NA</td><td>NA</td><td>NA</td></tr>\n",
       "\t<tr><th scope=row>3</th><td>NA</td><td>NA</td><td>NA</td><td>NA</td><td>NA</td></tr>\n",
       "\t<tr><th scope=row>4</th><td>NA</td><td>NA</td><td>NA</td><td>NA</td><td>NA</td></tr>\n",
       "\t<tr><th scope=row>5</th><td>NA</td><td>NA</td><td>NA</td><td>NA</td><td>NA</td></tr>\n",
       "\t<tr><th scope=row>6</th><td>NA</td><td>NA</td><td>NA</td><td>NA</td><td>NA</td></tr>\n",
       "</tbody>\n",
       "</table>\n"
      ],
      "text/latex": [
       "A data.frame: 6 × 5\n",
       "\\begin{tabular}{r|lllll}\n",
       "  & Gender & Wt & Ht & Repwt & Repht\\\\\n",
       "  & <lgl> & <lgl> & <lgl> & <lgl> & <lgl>\\\\\n",
       "\\hline\n",
       "\t1 & NA & NA & NA & NA & NA\\\\\n",
       "\t2 & NA & NA & NA & NA & NA\\\\\n",
       "\t3 & NA & NA & NA & NA & NA\\\\\n",
       "\t4 & NA & NA & NA & NA & NA\\\\\n",
       "\t5 & NA & NA & NA & NA & NA\\\\\n",
       "\t6 & NA & NA & NA & NA & NA\\\\\n",
       "\\end{tabular}\n"
      ],
      "text/markdown": [
       "\n",
       "A data.frame: 6 × 5\n",
       "\n",
       "| <!--/--> | Gender &lt;lgl&gt; | Wt &lt;lgl&gt; | Ht &lt;lgl&gt; | Repwt &lt;lgl&gt; | Repht &lt;lgl&gt; |\n",
       "|---|---|---|---|---|---|\n",
       "| 1 | NA | NA | NA | NA | NA |\n",
       "| 2 | NA | NA | NA | NA | NA |\n",
       "| 3 | NA | NA | NA | NA | NA |\n",
       "| 4 | NA | NA | NA | NA | NA |\n",
       "| 5 | NA | NA | NA | NA | NA |\n",
       "| 6 | NA | NA | NA | NA | NA |\n",
       "\n"
      ],
      "text/plain": [
       "  Gender Wt Ht Repwt Repht\n",
       "1 NA     NA NA NA    NA   \n",
       "2 NA     NA NA NA    NA   \n",
       "3 NA     NA NA NA    NA   \n",
       "4 NA     NA NA NA    NA   \n",
       "5 NA     NA NA NA    NA   \n",
       "6 NA     NA NA NA    NA   "
      ]
     },
     "metadata": {},
     "output_type": "display_data"
    }
   ],
   "source": [
    "library(car)\n",
    "dim(Davis)\n",
    "head(Davis)\n",
    "output = data.frame(matrix(nrow = dim(Davis)[1], ncol = dim(Davis)[2]))\n",
    "colnames(output) = c(\"Gender\", \"Wt\", \"Ht\", \"Repwt\", \"Repht\")\n",
    "dim(output)\n",
    "head(output)"
   ]
  },
  {
   "cell_type": "code",
   "execution_count": 52,
   "metadata": {
    "vscode": {
     "languageId": "r"
    }
   },
   "outputs": [
    {
     "data": {
      "text/html": [
       "<table class=\"dataframe\">\n",
       "<caption>A data.frame: 6 × 5</caption>\n",
       "<thead>\n",
       "\t<tr><th></th><th scope=col>Gender</th><th scope=col>Wt</th><th scope=col>Ht</th><th scope=col>Repwt</th><th scope=col>Repht</th></tr>\n",
       "\t<tr><th></th><th scope=col>&lt;fct&gt;</th><th scope=col>&lt;int&gt;</th><th scope=col>&lt;int&gt;</th><th scope=col>&lt;int&gt;</th><th scope=col>&lt;int&gt;</th></tr>\n",
       "</thead>\n",
       "<tbody>\n",
       "\t<tr><th scope=row>1</th><td>M</td><td>77</td><td>182</td><td>77</td><td>180</td></tr>\n",
       "\t<tr><th scope=row>2</th><td>F</td><td>58</td><td>161</td><td>51</td><td>159</td></tr>\n",
       "\t<tr><th scope=row>3</th><td>F</td><td>53</td><td>161</td><td>54</td><td>158</td></tr>\n",
       "\t<tr><th scope=row>4</th><td>M</td><td>68</td><td>177</td><td>70</td><td>175</td></tr>\n",
       "\t<tr><th scope=row>5</th><td>F</td><td>59</td><td>157</td><td>59</td><td>155</td></tr>\n",
       "\t<tr><th scope=row>6</th><td>M</td><td>76</td><td>170</td><td>76</td><td>165</td></tr>\n",
       "</tbody>\n",
       "</table>\n"
      ],
      "text/latex": [
       "A data.frame: 6 × 5\n",
       "\\begin{tabular}{r|lllll}\n",
       "  & Gender & Wt & Ht & Repwt & Repht\\\\\n",
       "  & <fct> & <int> & <int> & <int> & <int>\\\\\n",
       "\\hline\n",
       "\t1 & M & 77 & 182 & 77 & 180\\\\\n",
       "\t2 & F & 58 & 161 & 51 & 159\\\\\n",
       "\t3 & F & 53 & 161 & 54 & 158\\\\\n",
       "\t4 & M & 68 & 177 & 70 & 175\\\\\n",
       "\t5 & F & 59 & 157 & 59 & 155\\\\\n",
       "\t6 & M & 76 & 170 & 76 & 165\\\\\n",
       "\\end{tabular}\n"
      ],
      "text/markdown": [
       "\n",
       "A data.frame: 6 × 5\n",
       "\n",
       "| <!--/--> | Gender &lt;fct&gt; | Wt &lt;int&gt; | Ht &lt;int&gt; | Repwt &lt;int&gt; | Repht &lt;int&gt; |\n",
       "|---|---|---|---|---|---|\n",
       "| 1 | M | 77 | 182 | 77 | 180 |\n",
       "| 2 | F | 58 | 161 | 51 | 159 |\n",
       "| 3 | F | 53 | 161 | 54 | 158 |\n",
       "| 4 | M | 68 | 177 | 70 | 175 |\n",
       "| 5 | F | 59 | 157 | 59 | 155 |\n",
       "| 6 | M | 76 | 170 | 76 | 165 |\n",
       "\n"
      ],
      "text/plain": [
       "  Gender Wt Ht  Repwt Repht\n",
       "1 M      77 182 77    180  \n",
       "2 F      58 161 51    159  \n",
       "3 F      53 161 54    158  \n",
       "4 M      68 177 70    175  \n",
       "5 F      59 157 59    155  \n",
       "6 M      76 170 76    165  "
      ]
     },
     "metadata": {},
     "output_type": "display_data"
    }
   ],
   "source": [
    "output$Gender = Davis$sex\n",
    "output$Wt  = Davis$weight\n",
    "output$Ht = Davis$height\n",
    "output$Repwt = Davis$repwt\n",
    "output$Repht = Davis$repht \n",
    "head(output)"
   ]
  },
  {
   "cell_type": "markdown",
   "metadata": {},
   "source": [
    "### Working with *Factor* Variables"
   ]
  },
  {
   "cell_type": "code",
   "execution_count": null,
   "metadata": {
    "vscode": {
     "languageId": "r"
    }
   },
   "outputs": [],
   "source": []
  }
 ],
 "metadata": {
  "kernelspec": {
   "display_name": "R",
   "language": "R",
   "name": "ir"
  },
  "language_info": {
   "codemirror_mode": "r",
   "file_extension": ".r",
   "mimetype": "text/x-r-source",
   "name": "R",
   "pygments_lexer": "r",
   "version": "4.4.1"
  }
 },
 "nbformat": 4,
 "nbformat_minor": 2
}
