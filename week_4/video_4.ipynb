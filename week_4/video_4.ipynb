{
 "cells": [
  {
   "cell_type": "markdown",
   "metadata": {},
   "source": [
    "## Setting Up"
   ]
  },
  {
   "cell_type": "code",
   "execution_count": 10,
   "metadata": {
    "vscode": {
     "languageId": "r"
    }
   },
   "outputs": [
    {
     "data": {
      "text/html": [
       "'C:/Users/death-star/Documents/R programs'"
      ],
      "text/latex": [
       "'C:/Users/death-star/Documents/R programs'"
      ],
      "text/markdown": [
       "'C:/Users/death-star/Documents/R programs'"
      ],
      "text/plain": [
       "[1] \"C:/Users/death-star/Documents/R programs\""
      ]
     },
     "metadata": {},
     "output_type": "display_data"
    }
   ],
   "source": [
    "home_dir = normalizePath(\"~\")\n",
    "relative_path = file.path(\"R programs\")\n",
    "full_path = file.path(home_dir, relative_path)\n",
    "setwd(full_path)\n",
    "getwd()"
   ]
  },
  {
   "cell_type": "markdown",
   "metadata": {},
   "source": [
    "## Loading The dataset"
   ]
  },
  {
   "cell_type": "code",
   "execution_count": 11,
   "metadata": {
    "vscode": {
     "languageId": "r"
    }
   },
   "outputs": [
    {
     "data": {
      "text/html": [
       "<style>\n",
       ".list-inline {list-style: none; margin:0; padding: 0}\n",
       ".list-inline>li {display: inline-block}\n",
       ".list-inline>li:not(:last-child)::after {content: \"\\00b7\"; padding: 0 .5ex}\n",
       "</style>\n",
       "<ol class=list-inline><li>'Patient.ID'</li><li>'Age'</li><li>'Sex'</li><li>'Cholesterol'</li><li>'Blood.Pressure'</li><li>'Heart.Rate'</li><li>'Diabetes'</li><li>'Family.History'</li><li>'Smoking'</li><li>'Obesity'</li><li>'Alcohol.Consumption'</li><li>'Exercise.Hours.Per.Week'</li><li>'Diet'</li><li>'Previous.Heart.Problems'</li><li>'Medication.Use'</li><li>'Stress.Level'</li><li>'Sedentary.Hours.Per.Day'</li><li>'Income'</li><li>'BMI'</li><li>'Triglycerides'</li><li>'Physical.Activity.Days.Per.Week'</li><li>'Sleep.Hours.Per.Day'</li><li>'Country'</li><li>'Continent'</li><li>'Hemisphere'</li><li>'Heart.Attack.Risk'</li></ol>\n"
      ],
      "text/latex": [
       "\\begin{enumerate*}\n",
       "\\item 'Patient.ID'\n",
       "\\item 'Age'\n",
       "\\item 'Sex'\n",
       "\\item 'Cholesterol'\n",
       "\\item 'Blood.Pressure'\n",
       "\\item 'Heart.Rate'\n",
       "\\item 'Diabetes'\n",
       "\\item 'Family.History'\n",
       "\\item 'Smoking'\n",
       "\\item 'Obesity'\n",
       "\\item 'Alcohol.Consumption'\n",
       "\\item 'Exercise.Hours.Per.Week'\n",
       "\\item 'Diet'\n",
       "\\item 'Previous.Heart.Problems'\n",
       "\\item 'Medication.Use'\n",
       "\\item 'Stress.Level'\n",
       "\\item 'Sedentary.Hours.Per.Day'\n",
       "\\item 'Income'\n",
       "\\item 'BMI'\n",
       "\\item 'Triglycerides'\n",
       "\\item 'Physical.Activity.Days.Per.Week'\n",
       "\\item 'Sleep.Hours.Per.Day'\n",
       "\\item 'Country'\n",
       "\\item 'Continent'\n",
       "\\item 'Hemisphere'\n",
       "\\item 'Heart.Attack.Risk'\n",
       "\\end{enumerate*}\n"
      ],
      "text/markdown": [
       "1. 'Patient.ID'\n",
       "2. 'Age'\n",
       "3. 'Sex'\n",
       "4. 'Cholesterol'\n",
       "5. 'Blood.Pressure'\n",
       "6. 'Heart.Rate'\n",
       "7. 'Diabetes'\n",
       "8. 'Family.History'\n",
       "9. 'Smoking'\n",
       "10. 'Obesity'\n",
       "11. 'Alcohol.Consumption'\n",
       "12. 'Exercise.Hours.Per.Week'\n",
       "13. 'Diet'\n",
       "14. 'Previous.Heart.Problems'\n",
       "15. 'Medication.Use'\n",
       "16. 'Stress.Level'\n",
       "17. 'Sedentary.Hours.Per.Day'\n",
       "18. 'Income'\n",
       "19. 'BMI'\n",
       "20. 'Triglycerides'\n",
       "21. 'Physical.Activity.Days.Per.Week'\n",
       "22. 'Sleep.Hours.Per.Day'\n",
       "23. 'Country'\n",
       "24. 'Continent'\n",
       "25. 'Hemisphere'\n",
       "26. 'Heart.Attack.Risk'\n",
       "\n",
       "\n"
      ],
      "text/plain": [
       " [1] \"Patient.ID\"                      \"Age\"                            \n",
       " [3] \"Sex\"                             \"Cholesterol\"                    \n",
       " [5] \"Blood.Pressure\"                  \"Heart.Rate\"                     \n",
       " [7] \"Diabetes\"                        \"Family.History\"                 \n",
       " [9] \"Smoking\"                         \"Obesity\"                        \n",
       "[11] \"Alcohol.Consumption\"             \"Exercise.Hours.Per.Week\"        \n",
       "[13] \"Diet\"                            \"Previous.Heart.Problems\"        \n",
       "[15] \"Medication.Use\"                  \"Stress.Level\"                   \n",
       "[17] \"Sedentary.Hours.Per.Day\"         \"Income\"                         \n",
       "[19] \"BMI\"                             \"Triglycerides\"                  \n",
       "[21] \"Physical.Activity.Days.Per.Week\" \"Sleep.Hours.Per.Day\"            \n",
       "[23] \"Country\"                         \"Continent\"                      \n",
       "[25] \"Hemisphere\"                      \"Heart.Attack.Risk\"              "
      ]
     },
     "metadata": {},
     "output_type": "display_data"
    },
    {
     "data": {
      "text/html": [
       "<table class=\"dataframe\">\n",
       "<caption>A data.frame: 6 × 26</caption>\n",
       "<thead>\n",
       "\t<tr><th></th><th scope=col>Patient.ID</th><th scope=col>Age</th><th scope=col>Sex</th><th scope=col>Cholesterol</th><th scope=col>Blood.Pressure</th><th scope=col>Heart.Rate</th><th scope=col>Diabetes</th><th scope=col>Family.History</th><th scope=col>Smoking</th><th scope=col>Obesity</th><th scope=col>⋯</th><th scope=col>Sedentary.Hours.Per.Day</th><th scope=col>Income</th><th scope=col>BMI</th><th scope=col>Triglycerides</th><th scope=col>Physical.Activity.Days.Per.Week</th><th scope=col>Sleep.Hours.Per.Day</th><th scope=col>Country</th><th scope=col>Continent</th><th scope=col>Hemisphere</th><th scope=col>Heart.Attack.Risk</th></tr>\n",
       "\t<tr><th></th><th scope=col>&lt;chr&gt;</th><th scope=col>&lt;int&gt;</th><th scope=col>&lt;chr&gt;</th><th scope=col>&lt;int&gt;</th><th scope=col>&lt;chr&gt;</th><th scope=col>&lt;int&gt;</th><th scope=col>&lt;int&gt;</th><th scope=col>&lt;int&gt;</th><th scope=col>&lt;int&gt;</th><th scope=col>&lt;int&gt;</th><th scope=col>⋯</th><th scope=col>&lt;dbl&gt;</th><th scope=col>&lt;int&gt;</th><th scope=col>&lt;dbl&gt;</th><th scope=col>&lt;int&gt;</th><th scope=col>&lt;int&gt;</th><th scope=col>&lt;int&gt;</th><th scope=col>&lt;chr&gt;</th><th scope=col>&lt;chr&gt;</th><th scope=col>&lt;chr&gt;</th><th scope=col>&lt;int&gt;</th></tr>\n",
       "</thead>\n",
       "<tbody>\n",
       "\t<tr><th scope=row>1</th><td>BMW7812</td><td>67</td><td>Male  </td><td>208</td><td>158/88 </td><td>72</td><td>0</td><td>0</td><td>1</td><td>0</td><td>⋯</td><td>6.615001</td><td>261404</td><td>31.25123</td><td>286</td><td>0</td><td> 6</td><td>Argentina</td><td>South America</td><td>Southern Hemisphere</td><td>0</td></tr>\n",
       "\t<tr><th scope=row>2</th><td>CZE1114</td><td>21</td><td>Male  </td><td>389</td><td>165/93 </td><td>98</td><td>1</td><td>1</td><td>1</td><td>1</td><td>⋯</td><td>4.963459</td><td>285768</td><td>27.19497</td><td>235</td><td>1</td><td> 7</td><td>Canada   </td><td>North America</td><td>Northern Hemisphere</td><td>0</td></tr>\n",
       "\t<tr><th scope=row>3</th><td>BNI9906</td><td>21</td><td>Female</td><td>324</td><td>174/99 </td><td>72</td><td>1</td><td>0</td><td>0</td><td>0</td><td>⋯</td><td>9.463426</td><td>235282</td><td>28.17657</td><td>587</td><td>4</td><td> 4</td><td>France   </td><td>Europe       </td><td>Northern Hemisphere</td><td>0</td></tr>\n",
       "\t<tr><th scope=row>4</th><td>JLN3497</td><td>84</td><td>Male  </td><td>383</td><td>163/100</td><td>73</td><td>1</td><td>1</td><td>1</td><td>0</td><td>⋯</td><td>7.648981</td><td>125640</td><td>36.46470</td><td>378</td><td>3</td><td> 4</td><td>Canada   </td><td>North America</td><td>Northern Hemisphere</td><td>0</td></tr>\n",
       "\t<tr><th scope=row>5</th><td>GFO8847</td><td>66</td><td>Male  </td><td>318</td><td>91/88  </td><td>93</td><td>1</td><td>1</td><td>1</td><td>1</td><td>⋯</td><td>1.514821</td><td>160555</td><td>21.80914</td><td>231</td><td>1</td><td> 5</td><td>Thailand </td><td>Asia         </td><td>Northern Hemisphere</td><td>0</td></tr>\n",
       "\t<tr><th scope=row>6</th><td>ZOO7941</td><td>54</td><td>Female</td><td>297</td><td>172/86 </td><td>48</td><td>1</td><td>1</td><td>1</td><td>0</td><td>⋯</td><td>7.798752</td><td>241339</td><td>20.14684</td><td>795</td><td>5</td><td>10</td><td>Germany  </td><td>Europe       </td><td>Northern Hemisphere</td><td>1</td></tr>\n",
       "</tbody>\n",
       "</table>\n"
      ],
      "text/latex": [
       "A data.frame: 6 × 26\n",
       "\\begin{tabular}{r|lllllllllllllllllllll}\n",
       "  & Patient.ID & Age & Sex & Cholesterol & Blood.Pressure & Heart.Rate & Diabetes & Family.History & Smoking & Obesity & ⋯ & Sedentary.Hours.Per.Day & Income & BMI & Triglycerides & Physical.Activity.Days.Per.Week & Sleep.Hours.Per.Day & Country & Continent & Hemisphere & Heart.Attack.Risk\\\\\n",
       "  & <chr> & <int> & <chr> & <int> & <chr> & <int> & <int> & <int> & <int> & <int> & ⋯ & <dbl> & <int> & <dbl> & <int> & <int> & <int> & <chr> & <chr> & <chr> & <int>\\\\\n",
       "\\hline\n",
       "\t1 & BMW7812 & 67 & Male   & 208 & 158/88  & 72 & 0 & 0 & 1 & 0 & ⋯ & 6.615001 & 261404 & 31.25123 & 286 & 0 &  6 & Argentina & South America & Southern Hemisphere & 0\\\\\n",
       "\t2 & CZE1114 & 21 & Male   & 389 & 165/93  & 98 & 1 & 1 & 1 & 1 & ⋯ & 4.963459 & 285768 & 27.19497 & 235 & 1 &  7 & Canada    & North America & Northern Hemisphere & 0\\\\\n",
       "\t3 & BNI9906 & 21 & Female & 324 & 174/99  & 72 & 1 & 0 & 0 & 0 & ⋯ & 9.463426 & 235282 & 28.17657 & 587 & 4 &  4 & France    & Europe        & Northern Hemisphere & 0\\\\\n",
       "\t4 & JLN3497 & 84 & Male   & 383 & 163/100 & 73 & 1 & 1 & 1 & 0 & ⋯ & 7.648981 & 125640 & 36.46470 & 378 & 3 &  4 & Canada    & North America & Northern Hemisphere & 0\\\\\n",
       "\t5 & GFO8847 & 66 & Male   & 318 & 91/88   & 93 & 1 & 1 & 1 & 1 & ⋯ & 1.514821 & 160555 & 21.80914 & 231 & 1 &  5 & Thailand  & Asia          & Northern Hemisphere & 0\\\\\n",
       "\t6 & ZOO7941 & 54 & Female & 297 & 172/86  & 48 & 1 & 1 & 1 & 0 & ⋯ & 7.798752 & 241339 & 20.14684 & 795 & 5 & 10 & Germany   & Europe        & Northern Hemisphere & 1\\\\\n",
       "\\end{tabular}\n"
      ],
      "text/markdown": [
       "\n",
       "A data.frame: 6 × 26\n",
       "\n",
       "| <!--/--> | Patient.ID &lt;chr&gt; | Age &lt;int&gt; | Sex &lt;chr&gt; | Cholesterol &lt;int&gt; | Blood.Pressure &lt;chr&gt; | Heart.Rate &lt;int&gt; | Diabetes &lt;int&gt; | Family.History &lt;int&gt; | Smoking &lt;int&gt; | Obesity &lt;int&gt; | ⋯ ⋯ | Sedentary.Hours.Per.Day &lt;dbl&gt; | Income &lt;int&gt; | BMI &lt;dbl&gt; | Triglycerides &lt;int&gt; | Physical.Activity.Days.Per.Week &lt;int&gt; | Sleep.Hours.Per.Day &lt;int&gt; | Country &lt;chr&gt; | Continent &lt;chr&gt; | Hemisphere &lt;chr&gt; | Heart.Attack.Risk &lt;int&gt; |\n",
       "|---|---|---|---|---|---|---|---|---|---|---|---|---|---|---|---|---|---|---|---|---|---|\n",
       "| 1 | BMW7812 | 67 | Male   | 208 | 158/88  | 72 | 0 | 0 | 1 | 0 | ⋯ | 6.615001 | 261404 | 31.25123 | 286 | 0 |  6 | Argentina | South America | Southern Hemisphere | 0 |\n",
       "| 2 | CZE1114 | 21 | Male   | 389 | 165/93  | 98 | 1 | 1 | 1 | 1 | ⋯ | 4.963459 | 285768 | 27.19497 | 235 | 1 |  7 | Canada    | North America | Northern Hemisphere | 0 |\n",
       "| 3 | BNI9906 | 21 | Female | 324 | 174/99  | 72 | 1 | 0 | 0 | 0 | ⋯ | 9.463426 | 235282 | 28.17657 | 587 | 4 |  4 | France    | Europe        | Northern Hemisphere | 0 |\n",
       "| 4 | JLN3497 | 84 | Male   | 383 | 163/100 | 73 | 1 | 1 | 1 | 0 | ⋯ | 7.648981 | 125640 | 36.46470 | 378 | 3 |  4 | Canada    | North America | Northern Hemisphere | 0 |\n",
       "| 5 | GFO8847 | 66 | Male   | 318 | 91/88   | 93 | 1 | 1 | 1 | 1 | ⋯ | 1.514821 | 160555 | 21.80914 | 231 | 1 |  5 | Thailand  | Asia          | Northern Hemisphere | 0 |\n",
       "| 6 | ZOO7941 | 54 | Female | 297 | 172/86  | 48 | 1 | 1 | 1 | 0 | ⋯ | 7.798752 | 241339 | 20.14684 | 795 | 5 | 10 | Germany   | Europe        | Northern Hemisphere | 1 |\n",
       "\n"
      ],
      "text/plain": [
       "  Patient.ID Age Sex    Cholesterol Blood.Pressure Heart.Rate Diabetes\n",
       "1 BMW7812    67  Male   208         158/88         72         0       \n",
       "2 CZE1114    21  Male   389         165/93         98         1       \n",
       "3 BNI9906    21  Female 324         174/99         72         1       \n",
       "4 JLN3497    84  Male   383         163/100        73         1       \n",
       "5 GFO8847    66  Male   318         91/88          93         1       \n",
       "6 ZOO7941    54  Female 297         172/86         48         1       \n",
       "  Family.History Smoking Obesity ⋯ Sedentary.Hours.Per.Day Income BMI     \n",
       "1 0              1       0       ⋯ 6.615001                261404 31.25123\n",
       "2 1              1       1       ⋯ 4.963459                285768 27.19497\n",
       "3 0              0       0       ⋯ 9.463426                235282 28.17657\n",
       "4 1              1       0       ⋯ 7.648981                125640 36.46470\n",
       "5 1              1       1       ⋯ 1.514821                160555 21.80914\n",
       "6 1              1       0       ⋯ 7.798752                241339 20.14684\n",
       "  Triglycerides Physical.Activity.Days.Per.Week Sleep.Hours.Per.Day Country  \n",
       "1 286           0                                6                  Argentina\n",
       "2 235           1                                7                  Canada   \n",
       "3 587           4                                4                  France   \n",
       "4 378           3                                4                  Canada   \n",
       "5 231           1                                5                  Thailand \n",
       "6 795           5                               10                  Germany  \n",
       "  Continent     Hemisphere          Heart.Attack.Risk\n",
       "1 South America Southern Hemisphere 0                \n",
       "2 North America Northern Hemisphere 0                \n",
       "3 Europe        Northern Hemisphere 0                \n",
       "4 North America Northern Hemisphere 0                \n",
       "5 Asia          Northern Hemisphere 0                \n",
       "6 Europe        Northern Hemisphere 1                "
      ]
     },
     "metadata": {},
     "output_type": "display_data"
    }
   ],
   "source": [
    "data = read.csv(\"week_4/heart_attack_dataset.csv\")\n",
    "colnames(data)\n",
    "head(data)"
   ]
  },
  {
   "cell_type": "code",
   "execution_count": 14,
   "metadata": {
    "vscode": {
     "languageId": "r"
    }
   },
   "outputs": [],
   "source": [
    "Pre = sample(data$Cholesterol, 50,replace = T)\n",
    "Post = sample(data$Cholesterol,50,replace = T)"
   ]
  },
  {
   "cell_type": "markdown",
   "metadata": {},
   "source": [
    "## Hypothesis testing \n",
    "### Need Library BSDA"
   ]
  },
  {
   "cell_type": "code",
   "execution_count": 15,
   "metadata": {
    "vscode": {
     "languageId": "r"
    }
   },
   "outputs": [
    {
     "data": {
      "text/plain": [
       "\n",
       "\tOne-sample z-Test\n",
       "\n",
       "data:  Pre\n",
       "z = 21.957, p-value < 2.2e-16\n",
       "alternative hypothesis: true mean is not equal to 4.5\n",
       "95 percent confidence interval:\n",
       " 233.1863 278.0137\n",
       "sample estimates:\n",
       "mean of x \n",
       "    255.6 \n"
      ]
     },
     "metadata": {},
     "output_type": "display_data"
    }
   ],
   "source": [
    "library(\"BSDA\")\n",
    "z.test(Pre, mu =4.5,alternative=\"two.sided\", conf.level = 0.95, sigma.x= sd(data$Cholesterol))\n"
   ]
  },
  {
   "cell_type": "code",
   "execution_count": 17,
   "metadata": {
    "vscode": {
     "languageId": "r"
    }
   },
   "outputs": [
    {
     "data": {
      "text/html": [
       "-1.95996398454005"
      ],
      "text/latex": [
       "-1.95996398454005"
      ],
      "text/markdown": [
       "-1.95996398454005"
      ],
      "text/plain": [
       "[1] -1.959964"
      ]
     },
     "metadata": {},
     "output_type": "display_data"
    }
   ],
   "source": [
    "qnorm(p=0.05/2, lower.tail = T)\n",
    "\n",
    "## The value is lower than the Z-value hence we can reject the null Hypothesis. Also p-value very small compare to level of significance(0.05)"
   ]
  },
  {
   "cell_type": "code",
   "execution_count": 19,
   "metadata": {
    "vscode": {
     "languageId": "r"
    }
   },
   "outputs": [
    {
     "data": {
      "text/plain": [
       "\n",
       "\tOne-sample z-Test\n",
       "\n",
       "data:  Pre\n",
       "z = 21.957, p-value < 2.2e-16\n",
       "alternative hypothesis: true mean is greater than 4.5\n",
       "95 percent confidence interval:\n",
       " 236.7898       NA\n",
       "sample estimates:\n",
       "mean of x \n",
       "    255.6 \n"
      ]
     },
     "metadata": {},
     "output_type": "display_data"
    }
   ],
   "source": [
    "z.test(Pre , mu = 4.5,alternative = 'greater', conf.level = 0.95, sigma.x = sd(data$Cholesterol))"
   ]
  },
  {
   "cell_type": "code",
   "execution_count": 23,
   "metadata": {
    "vscode": {
     "languageId": "r"
    }
   },
   "outputs": [
    {
     "data": {
      "text/plain": [
       "\n",
       "\tOne-sample z-Test\n",
       "\n",
       "data:  Pre\n",
       "z = NA, p-value = NA\n",
       "alternative hypothesis: true mean is less than 4.5\n",
       "95 percent confidence interval:\n",
       " NA NA\n",
       "sample estimates:\n",
       "mean of x \n",
       "    255.6 \n"
      ]
     },
     "metadata": {},
     "output_type": "display_data"
    },
    {
     "data": {
      "text/html": [
       "-1.64485362695147"
      ],
      "text/latex": [
       "-1.64485362695147"
      ],
      "text/markdown": [
       "-1.64485362695147"
      ],
      "text/plain": [
       "[1] -1.644854"
      ]
     },
     "metadata": {},
     "output_type": "display_data"
    }
   ],
   "source": [
    "z.test(Pre , mu = 4.5,alternative = 'less', conf.level = 0.95, sigma.x = sd(data$Cholestrol))\n",
    "qnorm(p=0.05,lower.tail = T)"
   ]
  },
  {
   "cell_type": "code",
   "execution_count": 24,
   "metadata": {
    "vscode": {
     "languageId": "r"
    }
   },
   "outputs": [
    {
     "data": {
      "text/html": [
       "259.877211000799"
      ],
      "text/latex": [
       "259.877211000799"
      ],
      "text/markdown": [
       "259.877211000799"
      ],
      "text/plain": [
       "[1] 259.8772"
      ]
     },
     "metadata": {},
     "output_type": "display_data"
    }
   ],
   "source": [
    "mean(data$Cholesterol)"
   ]
  },
  {
   "cell_type": "markdown",
   "metadata": {},
   "source": [
    "## Using T-test for Hypothesis testing"
   ]
  },
  {
   "cell_type": "code",
   "execution_count": 26,
   "metadata": {
    "vscode": {
     "languageId": "r"
    }
   },
   "outputs": [
    {
     "data": {
      "text/plain": [
       "\n",
       "\tOne Sample t-test\n",
       "\n",
       "data:  Pre\n",
       "t = 23.448, df = 49, p-value < 2.2e-16\n",
       "alternative hypothesis: true mean is not equal to 4.5\n",
       "95 percent confidence interval:\n",
       " 234.0798 277.1202\n",
       "sample estimates:\n",
       "mean of x \n",
       "    255.6 \n"
      ]
     },
     "metadata": {},
     "output_type": "display_data"
    },
    {
     "data": {
      "text/html": [
       "-2.00957523712924"
      ],
      "text/latex": [
       "-2.00957523712924"
      ],
      "text/markdown": [
       "-2.00957523712924"
      ],
      "text/plain": [
       "[1] -2.009575"
      ]
     },
     "metadata": {},
     "output_type": "display_data"
    }
   ],
   "source": [
    "t.test(Pre , mu = 4.5 , alternative = \"two.sided\", conf.level = 0.95)\n",
    "DOF=length(Pre) - 1\n",
    "qt(p =0.05/2 , df= DOF, lower.tail = T)\n",
    "## the sample side is of length greater than 30 wich is generally not suited for t-test\n",
    "## comparing the t=23.448 to qt value for two sided the value of t is large compared to the qt value we do not reject population mean is not 4.5"
   ]
  },
  {
   "cell_type": "markdown",
   "metadata": {},
   "source": [
    "### Now doing the Post sample data"
   ]
  },
  {
   "cell_type": "code",
   "execution_count": 28,
   "metadata": {
    "vscode": {
     "languageId": "r"
    }
   },
   "outputs": [
    {
     "data": {
      "text/plain": [
       "\n",
       "\tOne-sample z-Test\n",
       "\n",
       "data:  Post\n",
       "z = 22.426, p-value < 2.2e-16\n",
       "alternative hypothesis: true mean is not equal to 4.5\n",
       "95 percent confidence interval:\n",
       " 238.5463 283.3737\n",
       "sample estimates:\n",
       "mean of x \n",
       "   260.96 \n"
      ]
     },
     "metadata": {},
     "output_type": "display_data"
    },
    {
     "data": {
      "text/html": [
       "1.95996398454005"
      ],
      "text/latex": [
       "1.95996398454005"
      ],
      "text/markdown": [
       "1.95996398454005"
      ],
      "text/plain": [
       "[1] 1.959964"
      ]
     },
     "metadata": {},
     "output_type": "display_data"
    }
   ],
   "source": [
    "z.test(Post, mu = 4.5, alternative = \"two.sided\", conf.level = 0.95, sigma.x = sd(data$Cholesterol))\n",
    "qnorm(p= 0.05/2, lower.tail = F)"
   ]
  },
  {
   "cell_type": "code",
   "execution_count": 29,
   "metadata": {
    "vscode": {
     "languageId": "r"
    }
   },
   "outputs": [
    {
     "data": {
      "text/plain": [
       "\n",
       "\tOne-sample z-Test\n",
       "\n",
       "data:  Post\n",
       "z = 22.426, p-value < 2.2e-16\n",
       "alternative hypothesis: true mean is greater than 4.5\n",
       "95 percent confidence interval:\n",
       " 242.1498       NA\n",
       "sample estimates:\n",
       "mean of x \n",
       "   260.96 \n"
      ]
     },
     "metadata": {},
     "output_type": "display_data"
    },
    {
     "data": {
      "text/html": [
       "259.877211000799"
      ],
      "text/latex": [
       "259.877211000799"
      ],
      "text/markdown": [
       "259.877211000799"
      ],
      "text/plain": [
       "[1] 259.8772"
      ]
     },
     "metadata": {},
     "output_type": "display_data"
    }
   ],
   "source": [
    "z.test(Post, mu = 4.5, alternative = \"greater\", conf.level = 0.95, sigma.x = sd(data$Cholesterol))\n",
    "mean(data$Cholesterol)"
   ]
  },
  {
   "cell_type": "markdown",
   "metadata": {},
   "source": [
    "## Performing Two Sample test"
   ]
  },
  {
   "cell_type": "code",
   "execution_count": 32,
   "metadata": {
    "vscode": {
     "languageId": "r"
    }
   },
   "outputs": [
    {
     "data": {
      "text/plain": [
       "\n",
       "\tTwo-sample z-Test\n",
       "\n",
       "data:  Pre and Post\n",
       "z = -0.33142, p-value = 0.7403\n",
       "alternative hypothesis: true difference in means is not equal to 0\n",
       "95 percent confidence interval:\n",
       " -37.05782  26.33782\n",
       "sample estimates:\n",
       "mean of x mean of y \n",
       "   255.60    260.96 \n"
      ]
     },
     "metadata": {},
     "output_type": "display_data"
    }
   ],
   "source": [
    "z.test(Pre, Post , alternative = \"two.sided\", conf.level = 0.95, sigma.x = sd(data$Cholesterol),sigma.y = sd(data$Cholesterol))"
   ]
  },
  {
   "cell_type": "code",
   "execution_count": 33,
   "metadata": {
    "vscode": {
     "languageId": "r"
    }
   },
   "outputs": [
    {
     "data": {
      "text/plain": [
       "\n",
       "\tTwo-sample z-Test\n",
       "\n",
       "data:  Pre and Post\n",
       "z = -0.33142, p-value = 0.6298\n",
       "alternative hypothesis: true difference in means is greater than 0\n",
       "95 percent confidence interval:\n",
       " -31.96165        NA\n",
       "sample estimates:\n",
       "mean of x mean of y \n",
       "   255.60    260.96 \n"
      ]
     },
     "metadata": {},
     "output_type": "display_data"
    }
   ],
   "source": [
    "z.test(Pre, Post , alternative = \"greater\", conf.level = 0.95, sigma.x = sd(data$Cholesterol),sigma.y = sd(data$Cholesterol))"
   ]
  },
  {
   "cell_type": "code",
   "execution_count": 34,
   "metadata": {
    "vscode": {
     "languageId": "r"
    }
   },
   "outputs": [
    {
     "data": {
      "text/plain": [
       "\n",
       "\tTwo-sample z-Test\n",
       "\n",
       "data:  Pre and Post\n",
       "z = -0.33142, p-value = 0.3702\n",
       "alternative hypothesis: true difference in means is less than 0\n",
       "95 percent confidence interval:\n",
       "       NA 21.24165\n",
       "sample estimates:\n",
       "mean of x mean of y \n",
       "   255.60    260.96 \n"
      ]
     },
     "metadata": {},
     "output_type": "display_data"
    }
   ],
   "source": [
    "z.test(Pre, Post , alternative = \"less\", conf.level = 0.95, sigma.x = sd(data$Cholesterol),sigma.y = sd(data$Cholesterol))"
   ]
  },
  {
   "cell_type": "markdown",
   "metadata": {},
   "source": [
    "### Performing t-test"
   ]
  },
  {
   "cell_type": "code",
   "execution_count": 35,
   "metadata": {
    "vscode": {
     "languageId": "r"
    }
   },
   "outputs": [
    {
     "data": {
      "text/plain": [
       "\n",
       "\tWelch Two Sample t-test\n",
       "\n",
       "data:  Pre and Post\n",
       "t = -0.34338, df = 97.664, p-value = 0.7321\n",
       "alternative hypothesis: true difference in means is not equal to 0\n",
       "95 percent confidence interval:\n",
       " -36.33807  25.61807\n",
       "sample estimates:\n",
       "mean of x mean of y \n",
       "   255.60    260.96 \n"
      ]
     },
     "metadata": {},
     "output_type": "display_data"
    },
    {
     "data": {
      "text/plain": [
       "\n",
       "\tWelch Two Sample t-test\n",
       "\n",
       "data:  Pre and Post\n",
       "t = -0.34338, df = 97.664, p-value = 0.634\n",
       "alternative hypothesis: true difference in means is greater than 0\n",
       "95 percent confidence interval:\n",
       " -31.28139       Inf\n",
       "sample estimates:\n",
       "mean of x mean of y \n",
       "   255.60    260.96 \n"
      ]
     },
     "metadata": {},
     "output_type": "display_data"
    }
   ],
   "source": [
    "t.test(Pre, Post,alternative = \"two.sided\", conf.level = 0.95)\n",
    "t.test(Pre, Post,alternative = \"greater\", conf.level = 0.95)"
   ]
  },
  {
   "cell_type": "markdown",
   "metadata": {},
   "source": [
    "## Pre Sample data with single sample tests"
   ]
  },
  {
   "cell_type": "code",
   "execution_count": 36,
   "metadata": {
    "vscode": {
     "languageId": "r"
    }
   },
   "outputs": [
    {
     "data": {
      "text/plain": [
       "\n",
       "\t1-sample proportions test with continuity correction\n",
       "\n",
       "data:  sum(Pre_Bino) out of 50, null probability 0.5\n",
       "X-squared = 7.22, df = 1, p-value = 0.00721\n",
       "alternative hypothesis: true p is not equal to 0.5\n",
       "95 percent confidence interval:\n",
       " 0.1828562 0.4478340\n",
       "sample estimates:\n",
       "  p \n",
       "0.3 \n"
      ]
     },
     "metadata": {},
     "output_type": "display_data"
    }
   ],
   "source": [
    "Pre_Bino= ifelse(Pre<300,0,1)\n",
    "prop.test(sum(Pre_Bino), 50, conf.level = 0.95, alternative = 'two.sided')"
   ]
  },
  {
   "cell_type": "code",
   "execution_count": 37,
   "metadata": {
    "vscode": {
     "languageId": "r"
    }
   },
   "outputs": [
    {
     "data": {
      "text/html": [
       "3.84145882069412"
      ],
      "text/latex": [
       "3.84145882069412"
      ],
      "text/markdown": [
       "3.84145882069412"
      ],
      "text/plain": [
       "[1] 3.841459"
      ]
     },
     "metadata": {},
     "output_type": "display_data"
    }
   ],
   "source": [
    "qchisq(0.95,1)"
   ]
  },
  {
   "cell_type": "code",
   "execution_count": 38,
   "metadata": {
    "vscode": {
     "languageId": "r"
    }
   },
   "outputs": [
    {
     "data": {
      "text/plain": [
       "\n",
       "\t1-sample proportions test with continuity correction\n",
       "\n",
       "data:  sum(Pre_Bino) out of 50, null probability 0.5\n",
       "X-squared = 7.22, df = 1, p-value = 0.9964\n",
       "alternative hypothesis: true p is greater than 0.5\n",
       "95 percent confidence interval:\n",
       " 0.1974083 1.0000000\n",
       "sample estimates:\n",
       "  p \n",
       "0.3 \n"
      ]
     },
     "metadata": {},
     "output_type": "display_data"
    }
   ],
   "source": [
    "prop.test(sum(Pre_Bino),50,conf.level = 0.95,alternative = 'greater')"
   ]
  },
  {
   "cell_type": "code",
   "execution_count": 40,
   "metadata": {
    "vscode": {
     "languageId": "r"
    }
   },
   "outputs": [
    {
     "data": {
      "text/plain": [
       "\n",
       "\t1-sample proportions test with continuity correction\n",
       "\n",
       "data:  sum(Pre_Bino) out of 50, null probability 0.5\n",
       "X-squared = 7.22, df = 1, p-value = 0.003605\n",
       "alternative hypothesis: true p is less than 0.5\n",
       "95 percent confidence interval:\n",
       " 0.0000000 0.4249925\n",
       "sample estimates:\n",
       "  p \n",
       "0.3 \n"
      ]
     },
     "metadata": {},
     "output_type": "display_data"
    },
    {
     "data": {
      "text/html": [
       "2.70554345409542"
      ],
      "text/latex": [
       "2.70554345409542"
      ],
      "text/markdown": [
       "2.70554345409542"
      ],
      "text/plain": [
       "[1] 2.705543"
      ]
     },
     "metadata": {},
     "output_type": "display_data"
    }
   ],
   "source": [
    "prop.test(sum(Pre_Bino),50,conf.level = 0.95,alternative = 'less')\n",
    "qchisq(0.90,1)"
   ]
  },
  {
   "cell_type": "code",
   "execution_count": 41,
   "metadata": {
    "vscode": {
     "languageId": "r"
    }
   },
   "outputs": [
    {
     "data": {
      "text/html": [
       "8.763"
      ],
      "text/latex": [
       "8.763"
      ],
      "text/markdown": [
       "8.763"
      ],
      "text/plain": [
       "[1] 8.763"
      ]
     },
     "metadata": {},
     "output_type": "display_data"
    }
   ],
   "source": [
    "Pre_Bino_population= ifelse(data$Cholesterol<4.5,0,1)\n",
    "sum(Pre_Bino_population)/1000"
   ]
  },
  {
   "cell_type": "code",
   "execution_count": null,
   "metadata": {
    "vscode": {
     "languageId": "r"
    }
   },
   "outputs": [],
   "source": []
  }
 ],
 "metadata": {
  "kernelspec": {
   "display_name": "R",
   "language": "R",
   "name": "ir"
  },
  "language_info": {
   "codemirror_mode": "r",
   "file_extension": ".r",
   "mimetype": "text/x-r-source",
   "name": "R",
   "pygments_lexer": "r",
   "version": "4.4.1"
  }
 },
 "nbformat": 4,
 "nbformat_minor": 2
}
